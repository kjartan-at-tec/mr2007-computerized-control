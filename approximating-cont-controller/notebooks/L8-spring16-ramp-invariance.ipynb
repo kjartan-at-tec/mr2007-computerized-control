{
 "cells": [
  {
   "cell_type": "code",
   "execution_count": 25,
   "metadata": {
    "collapsed": true
   },
   "outputs": [],
   "source": [
    "import numpy as np\n",
    "import sympy as sy\n",
    "import control.matlab as cm"
   ]
  },
  {
   "cell_type": "code",
   "execution_count": 18,
   "metadata": {
    "collapsed": true
   },
   "outputs": [],
   "source": [
    "s,z = sy.symbols('s,z', real=False)\n",
    "h,t = sy.symbols('h,t', real=True, positive=True)"
   ]
  },
  {
   "cell_type": "code",
   "execution_count": 9,
   "metadata": {
    "collapsed": true
   },
   "outputs": [],
   "source": [
    "G = (s+1)/(s+2)\n",
    "Ya = sy.apart(G/s**2)"
   ]
  },
  {
   "cell_type": "code",
   "execution_count": 15,
   "metadata": {
    "collapsed": false
   },
   "outputs": [
    {
     "name": "stdout",
     "output_type": "stream",
     "text": [
      "         -2⋅t\n",
      "t   1   ℯ    \n",
      "─ + ─ - ─────\n",
      "2   4     4  \n",
      "None\n",
      "\\frac{t}{2} + \\frac{1}{4} - \\frac{1}{4 e^{2 t}}\n"
     ]
    }
   ],
   "source": [
    "ya = sy.inverse_laplace_transform(Ya, s, t)\n",
    "print sy.pretty_print(ya)\n",
    "print sy.latex(ya)"
   ]
  },
  {
   "cell_type": "code",
   "execution_count": 19,
   "metadata": {
    "collapsed": false
   },
   "outputs": [],
   "source": [
    "num= 2*h*(z-sy.exp(-2*h)) + (z-1)*(z-sy.exp(-2*h)) - (z-1)**2"
   ]
  },
  {
   "cell_type": "code",
   "execution_count": 24,
   "metadata": {
    "collapsed": false
   },
   "outputs": [
    {
     "name": "stdout",
     "output_type": "stream",
     "text": [
      "- \\frac{2 h}{e^{2 h}} + z \\left(2 h + 1 - e^{- 2 h}\\right) - 1 + e^{- 2 h}\n",
      "       -2⋅h     ⎛           -2⋅h⎞        -2⋅h\n",
      "- 2⋅h⋅ℯ     + z⋅⎝2⋅h + 1 - ℯ    ⎠ - 1 + ℯ    \n",
      "None\n"
     ]
    }
   ],
   "source": [
    "print sy.latex(sy.collect(sy.simplify(num), z))\n",
    "print sy.pretty_print(sy.collect(sy.simplify(num), z))\n"
   ]
  },
  {
   "cell_type": "code",
   "execution_count": 26,
   "metadata": {
    "collapsed": true
   },
   "outputs": [],
   "source": [
    "cm.c2d??"
   ]
  },
  {
   "cell_type": "code",
   "execution_count": null,
   "metadata": {
    "collapsed": true
   },
   "outputs": [],
   "source": []
  }
 ],
 "metadata": {
  "kernelspec": {
   "display_name": "Python 2",
   "language": "python",
   "name": "python2"
  },
  "language_info": {
   "codemirror_mode": {
    "name": "ipython",
    "version": 2
   },
   "file_extension": ".py",
   "mimetype": "text/x-python",
   "name": "python",
   "nbconvert_exporter": "python",
   "pygments_lexer": "ipython2",
   "version": "2.7.11"
  }
 },
 "nbformat": 4,
 "nbformat_minor": 0
}
