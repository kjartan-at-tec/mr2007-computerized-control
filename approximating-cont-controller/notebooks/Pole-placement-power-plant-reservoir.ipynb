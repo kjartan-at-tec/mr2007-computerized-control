{
 "cells": [
  {
   "cell_type": "markdown",
   "metadata": {},
   "source": [
    "# Example of pole placement for control of power-plant reservoir\n",
    "We have plant model\n",
    "$$ H(z) = \\frac{1}{z(z-1)} $$\n",
    "and controller\n",
    "$$ F_b(z) = \\frac{s_0z + s_1}{z + r_1} $$\n",
    "Want closed-loop poles in $z=0.9$ and observer poles in the origin.\n",
    "### Diophantine equation\n",
    "\\begin{align}\n",
    "  z(z-1)(z+r_1) + s_0z + s_1 &= z(z-0.9)^2\\\\\n",
    "  z^3 - (1-r_1)z^2 + (s_0-r_1)z + s_1 &= z^3 - 1.8z^2 + 0.81z\n",
    "\\end{align}\n",
    "Resulting equations when setting coefficients equal\n",
    "\\begin{align}\n",
    "  1 - r_ 1 &= 1.8 \\quad \\Rightarrow \\quad r_1 = -0.8\\\\\n",
    "  s_0-r_1 &= 0.81 \\quad \\Rightarrow \\quad s_0 = 0.01\\\\\n",
    "  s_1 &= 0\n",
    "\\end{align}\n",
    "\n",
    "### Feedforward part of controller\n",
    "$$T(z) = t_0A_o(z) = t_0z$$\n",
    "$$ G_c(z) = \\frac{T(z)B(z)}{A_o(z)A_c(z)} = \\frac{t_0 B(z)}{A_c(z)}, \\quad \\text{want}\\, G_c(1)=1$$\n",
    "$$t_0 = \\frac{A_c(1)}{B(1)} = \\frac{(1-0.9)^2}{1} = 0.01$$\n",
    "\n"
   ]
  },
  {
   "cell_type": "code",
   "execution_count": 2,
   "metadata": {},
   "outputs": [],
   "source": [
    "import numpy as np\n",
    "import matplotlib.pyplot as plt\n",
    "import sympy as sy\n",
    "import control.matlab as cm"
   ]
  },
  {
   "cell_type": "markdown",
   "metadata": {},
   "source": [
    "## Symbolic solution"
   ]
  },
  {
   "cell_type": "code",
   "execution_count": 3,
   "metadata": {},
   "outputs": [],
   "source": [
    "sy.init_printing()\n",
    "aa, alphaa, hh, r1, s0, s1 = sy.symbols('a, alpha, h, r1, s0, s1', \n",
    "                                        real=True, positive=True)\n",
    "zz = sy.symbols('z', real=False)"
   ]
  },
  {
   "cell_type": "code",
   "execution_count": 5,
   "metadata": {},
   "outputs": [
    {
     "data": {
      "image/png": "[encoded data removed]",
      "text/latex": [
       "$$\\operatorname{Poly}{\\left( s_{1} + z^{3} + z^{2} \\left(r_{1} - 1\\right) + z \\left(- r_{1} + s_{0}\\right), z, domain=\\mathbb{Z}\\left[r_{1}, s_{0}, s_{1}\\right] \\right)}$$"
      ],
      "text/plain": [
       "Poly(z**3 + (r1 - 1)*z**2 + (-r1 + s0)*z + s1, z, domain='ZZ[r1,s0,s1]')"
      ]
     },
     "execution_count": 5,
     "metadata": {},
     "output_type": "execute_result"
    }
   ],
   "source": [
    "A = zz*(zz-1)\n",
    "B = 1\n",
    "R = zz+r1\n",
    "S = s0*zz + s1\n",
    "LHS = sy.Poly(A*R + B*S, zz)\n",
    "LHS"
   ]
  },
  {
   "cell_type": "code",
   "execution_count": 16,
   "metadata": {},
   "outputs": [
    {
     "data": {
      "image/png": "[encoded data removed]",
      "text/latex": [
       "$$\\left [ 2 \\alpha + r_{1} - 1, \\quad - \\alpha^{2} - r_{1} + s_{0}, \\quad s_{1}\\right ]$$"
      ],
      "text/plain": [
       "⎡                 2              ⎤\n",
       "⎣2⋅α + r₁ - 1, - α  - r₁ + s₀, s₁⎦"
      ]
     },
     "execution_count": 16,
     "metadata": {},
     "output_type": "execute_result"
    }
   ],
   "source": [
    "RHS = sy.Poly(zz*(zz-alphaa)**2, zz)\n",
    "Dioph = LHS-RHS\n",
    "coeffs = Dioph.coeffs()\n",
    "coeffs"
   ]
  },
  {
   "cell_type": "code",
   "execution_count": 18,
   "metadata": {},
   "outputs": [
    {
     "data": {
      "image/png": "[encoded data removed]",
      "text/latex": [
       "$$\\left \\{ r_{1} : - 2 \\alpha + 1, \\quad s_{0} : \\alpha^{2} - 2 \\alpha + 1\\right \\}$$"
      ],
      "text/plain": [
       "⎧                   2          ⎫\n",
       "⎨r₁: -2⋅α + 1, s₀: α  - 2⋅α + 1⎬\n",
       "⎩                              ⎭"
      ]
     },
     "execution_count": 18,
     "metadata": {},
     "output_type": "execute_result"
    }
   ],
   "source": [
    "sol = sy.solve(coeffs, [r1, s0])\n",
    "sol"
   ]
  },
  {
   "cell_type": "code",
   "execution_count": 21,
   "metadata": {},
   "outputs": [
    {
     "data": {
      "image/png": "[encoded data removed]",
      "text/latex": [
       "$$-0.8$$"
      ],
      "text/plain": [
       "-0.800000000000000"
      ]
     },
     "execution_count": 21,
     "metadata": {},
     "output_type": "execute_result"
    }
   ],
   "source": [
    "sol[r1].subs({alphaa: 0.9})"
   ]
  },
  {
   "cell_type": "code",
   "execution_count": 22,
   "metadata": {},
   "outputs": [
    {
     "data": {
      "image/png": "[encoded data removed]",
      "text/latex": [
       "$$0.01$$"
      ],
      "text/plain": [
       "0.0100000000000000"
      ]
     },
     "execution_count": 22,
     "metadata": {},
     "output_type": "execute_result"
    }
   ],
   "source": [
    "sol[s0].subs({alphaa: 0.9})"
   ]
  },
  {
   "cell_type": "markdown",
   "metadata": {},
   "source": []
  },
  {
   "cell_type": "markdown",
   "metadata": {},
   "source": [
    "## Numerical solution"
   ]
  },
  {
   "cell_type": "code",
   "execution_count": 25,
   "metadata": {},
   "outputs": [
    {
     "data": {
      "text/plain": [
       "\n",
       "0.01 z\n",
       "-------\n",
       "z - 0.8\n",
       "\n",
       "dt = 0.1"
      ]
     },
     "execution_count": 25,
     "metadata": {},
     "output_type": "execute_result"
    }
   ],
   "source": [
    "# Plant\n",
    "a = 1\n",
    "b = 1\n",
    "h = 0.1\n",
    "H = cm.tf([b], [1, -a,0 ], h)\n",
    "\n",
    "# Desired closed-loop pole\n",
    "alpha = 0.9\n",
    "\n",
    "# Controller parameters\n",
    "r_1 = -2*alpha +1 \n",
    "s_0 = -2*alpha+1 +alpha**2\n",
    "Fb = cm.tf([s_0, 0], [1, r_1], h)\n",
    "Fb"
   ]
  },
  {
   "cell_type": "code",
   "execution_count": 31,
   "metadata": {},
   "outputs": [],
   "source": [
    "t0 = (1-alpha)**2/1\n",
    "Ff = cm.tf([t0, 0], [1, r_1], h)"
   ]
  },
  {
   "cell_type": "code",
   "execution_count": 33,
   "metadata": {},
   "outputs": [
    {
     "name": "stdout",
     "output_type": "stream",
     "text": [
      "2 states have been removed from the model\n"
     ]
    },
    {
     "data": {
      "text/plain": [
       "array([0.9+4.59345062e-08j, 0.9-4.59345062e-08j])"
      ]
     },
     "execution_count": 33,
     "metadata": {},
     "output_type": "execute_result"
    }
   ],
   "source": [
    "# Check calculations\n",
    "Hc = cm.minreal(Ff*cm.feedback(H, Fb))\n",
    "cm.pole(Hc)"
   ]
  },
  {
   "cell_type": "code",
   "execution_count": 34,
   "metadata": {},
   "outputs": [],
   "source": [
    "Hcv = cm.feedback(1, H*Fb)\n",
    "Hcn = cm.feedback(H*Fb, 1)"
   ]
  },
  {
   "cell_type": "code",
   "execution_count": 35,
   "metadata": {},
   "outputs": [
    {
     "data": {
      "image/png": "[encoded data removed]",
      "text/plain": [
       "<Figure size 432x288 with 1 Axes>"
      ]
     },
     "metadata": {},
     "output_type": "display_data"
    }
   ],
   "source": [
    "br, res = cm.rlocus(Fb*H)\n",
    "plt.plot(np.real(br), np.imag(br))\n",
    "plt.xlim((0,1.2))\n",
    "plt.ylim((-1.2,1.2));"
   ]
  },
  {
   "cell_type": "code",
   "execution_count": 39,
   "metadata": {},
   "outputs": [
    {
     "data": {
      "image/png": "[encoded data removed]",
      "text/plain": [
       "<Figure size 432x288 with 1 Axes>"
      ]
     },
     "metadata": {},
     "output_type": "display_data"
    }
   ],
   "source": [
    "y, t = cm.step(Hc)\n",
    "tt = h*np.arange(len(y))\n",
    "plt.stem(tt[:50], y[:50]);"
   ]
  },
  {
   "cell_type": "code",
   "execution_count": 38,
   "metadata": {},
   "outputs": [
    {
     "data": {
      "image/png": "[encoded data removed]",
      "text/plain": [
       "<Figure size 432x288 with 2 Axes>"
      ]
     },
     "metadata": {},
     "output_type": "display_data"
    }
   ],
   "source": [
    "cm.bode(Hcv, Hcn);"
   ]
  },
  {
   "cell_type": "code",
   "execution_count": null,
   "metadata": {},
   "outputs": [],
   "source": []
  }
 ],
 "metadata": {
  "kernelspec": {
   "display_name": "Python 3",
   "language": "python",
   "name": "python3"
  },
  "language_info": {
   "codemirror_mode": {
    "name": "ipython",
    "version": 3
   },
   "file_extension": ".py",
   "mimetype": "text/x-python",
   "name": "python",
   "nbconvert_exporter": "python",
   "pygments_lexer": "ipython3",
   "version": "3.5.2"
  }
 },
 "nbformat": 4,
 "nbformat_minor": 2
}
