{
 "cells": [
  {
   "cell_type": "code",
   "execution_count": 3,
   "metadata": {},
   "outputs": [],
   "source": [
    "import numpy as np\n",
    "import scipy.io as sio\n",
    "import matplotlib.pyplot as plt\n",
    "import control.matlab as cm\n",
    "%matplotlib notebook"
   ]
  },
  {
   "cell_type": "code",
   "execution_count": 4,
   "metadata": {},
   "outputs": [
    {
     "data": {
      "text/plain": [
       "(array([[0.        ],\n",
       "        [0.119     ],\n",
       "        [0.388493  ],\n",
       "        [0.67605197],\n",
       "        [0.87639321],\n",
       "        [0.94139148],\n",
       "        [0.88248907],\n",
       "        [0.75163245],\n",
       "        [0.61284057],\n",
       "        [0.51673093],\n",
       "        [0.486178  ],\n",
       "        [0.51531347],\n",
       "        [0.57884641],\n",
       "        [0.64583045],\n",
       "        [0.69193215],\n",
       "        [0.70628242],\n",
       "        [0.69188023],\n",
       "        [0.66103715],\n",
       "        [0.6287114 ],\n",
       "        [0.60659981],\n",
       "        [0.59986534],\n",
       "        [0.60698018],\n",
       "        [0.62195193],\n",
       "        [0.63755091],\n",
       "        [0.64815504],\n",
       "        [0.65131267]]), array([ 0,  1,  2,  3,  4,  5,  6,  7,  8,  9, 10]))"
      ]
     },
     "execution_count": 4,
     "metadata": {},
     "output_type": "execute_result"
    }
   ],
   "source": [
    "h = 0.4\n",
    "H = cm.tf([0.068, 0.059], [1, -1.516, 0.644], h)\n",
    "Fp = 1.75\n",
    "Gc = cm.feedback(H*Fp, 1)\n",
    "cm.step(Gc)"
   ]
  },
  {
   "cell_type": "code",
   "execution_count": null,
   "metadata": {},
   "outputs": [],
   "source": []
  }
 ],
 "metadata": {
  "kernelspec": {
   "display_name": "Python 3",
   "language": "python",
   "name": "python3"
  },
  "language_info": {
   "codemirror_mode": {
    "name": "ipython",
    "version": 3
   },
   "file_extension": ".py",
   "mimetype": "text/x-python",
   "name": "python",
   "nbconvert_exporter": "python",
   "pygments_lexer": "ipython3",
   "version": "3.5.2"
  }
 },
 "nbformat": 4,
 "nbformat_minor": 2
}
