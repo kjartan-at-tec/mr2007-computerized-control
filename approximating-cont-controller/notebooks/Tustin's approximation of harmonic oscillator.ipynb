{
 "cells": [
  {
   "cell_type": "markdown",
   "metadata": {},
   "source": [
    "# Tustin's approximation, harmonic oscillator\n",
    "\n",
    "Write the approximation as\n",
    "$$ F_d(z) = F(s')|_{s'=g\\frac{z-1}{z+1}}, \\quad g > 0 $$\n",
    "clearly for the standard Tustin's approximation we have  $g = \\frac{2}{h}$.\n",
    "\n",
    "Apply the approximation to the system\n",
    "$$F(s) = \\frac{\\omega_n^2}{s^2 + \\omega_n^2} = \\frac{\\omega_n^2}{(s + i\\omega_n)(s -i\\omega_n)}$$\n",
    "\n",
    "**Determine the poles. What is the angle (argument) of the discrete-time poles?**\n"
   ]
  },
  {
   "cell_type": "markdown",
   "metadata": {},
   "source": [
    "\\begin{align}\n",
    "F(z) &= \\frac{\\omega_n^2}{(g\\frac{z-1}{z+1})^2 + \\omega_n^2}\\\\\n",
    "     &= \\frac{\\omega_n^2}{(g\\frac{z-1}{z+1})^2 + \\omega_n^2}\\\\\n",
    "     &= \\frac{\\omega_n^2(z+1)^2}{g^2(z^2 -2z + 1) + \\omega_n^2(z^2 + 2z + 1)}\\\\\n",
    "     &= \\frac{\\omega_n^2(z+1)^2}{(g^2+\\omega_n^2)z^2 + 2(\\omega_n^2 -g^2)z + (g^2 + \\omega_n^2)}\n",
    "     &= = \\frac{ \\frac{\\omega_n^2}{g^2 + \\omega_n^2}(z+1)^2}{z^2 + 2\\frac{\\omega_n^2 - g^2}{\\omega_n^2 + g^2}z + 1}\n",
    "\\end{align}\n",
    "The denominator has the form of the characteristic polynomial for two poles on the unit circle. Note that \n",
    "$$ (z+\\cos\\theta + i\\sin\\theta)(z+\\cos\\theta -i\\sin\\theta) = z^2 + 2\\cos\\theta z + 1. $$\n",
    "So the two poles of $F(z)$ are on the unit circle with argument given by the solution $\\theta$ to \n",
    "$$ 2\\cos\\theta = 2\\frac{\\omega_n^2 -g^2}{\\omega_n^2 + g^2}$$\n",
    "$$ \\cos\\theta = \\frac{\\omega_n^2 -g^2}{\\omega_n^2 + g^2} $$"
   ]
  },
  {
   "cell_type": "markdown",
   "metadata": {},
   "source": [
    "To find the imaginary part of the poles, use $\\sin^2\\theta = 1 - \\cos^2\\theta$.\n",
    "$$ \\sin\\theta = \\sqrt{1 - \\cos^2\\theta} = \\sqrt{1 - \\frac{(\\omega_n^2 - g^2)^2}{(\\omega_n^2 + g^2)^2}}$$"
   ]
  },
  {
   "cell_type": "code",
   "execution_count": null,
   "metadata": {},
   "outputs": [],
   "source": []
  },
  {
   "cell_type": "code",
   "execution_count": 2,
   "metadata": {},
   "outputs": [],
   "source": [
    "import numpy as np\n",
    "import sympy as sy\n",
    "import control.matlab as cm\n",
    "sy.init_printing() "
   ]
  },
  {
   "cell_type": "code",
   "execution_count": 3,
   "metadata": {},
   "outputs": [],
   "source": [
    "s, z = sy.symbols('s,z', real=False)\n",
    "wn,h,g = sy.symbols('omega_n, h,g', real=True, positive=True)"
   ]
  },
  {
   "cell_type": "code",
   "execution_count": 4,
   "metadata": {},
   "outputs": [
    {
     "data": {
      "image/png": "[encoded data removed]",
      "text/latex": [
       "$$\\frac{\\omega_{n}^{2}}{\\omega_{n}^{2} + s^{2}}$$"
      ],
      "text/plain": [
       "      2  \n",
       "   ω_n   \n",
       "─────────\n",
       "   2    2\n",
       "ω_n  + s "
      ]
     },
     "execution_count": 4,
     "metadata": {},
     "output_type": "execute_result"
    }
   ],
   "source": [
    "F = wn**2/(s**2 + wn**2)\n",
    "F"
   ]
  },
  {
   "cell_type": "code",
   "execution_count": 8,
   "metadata": {},
   "outputs": [
    {
     "data": {
      "image/png": "[encoded data removed]",
      "text/latex": [
       "$$\\frac{\\omega_{n}^{2} \\left(z + 1\\right)^{2}}{g^{2} \\left(z - 1\\right)^{2} + \\omega_{n}^{2} \\left(z + 1\\right)^{2}}$$"
      ],
      "text/plain": [
       "          2        2       \n",
       "       ω_n ⋅(z + 1)        \n",
       "───────────────────────────\n",
       " 2        2      2        2\n",
       "g ⋅(z - 1)  + ω_n ⋅(z + 1) "
      ]
     },
     "execution_count": 8,
     "metadata": {},
     "output_type": "execute_result"
    }
   ],
   "source": [
    "Fd = sy.simplify(F.subs({s:g*(z-1)/(z+1)}))\n",
    "Fd"
   ]
  },
  {
   "cell_type": "code",
   "execution_count": 9,
   "metadata": {},
   "outputs": [
    {
     "data": {
      "image/png": "[encoded data removed]",
      "text/latex": [
       "$$g^{2} \\left(z - 1\\right)^{2} + \\omega_{n}^{2} \\left(z + 1\\right)^{2}$$"
      ],
      "text/plain": [
       " 2        2      2        2\n",
       "g ⋅(z - 1)  + ω_n ⋅(z + 1) "
      ]
     },
     "execution_count": 9,
     "metadata": {},
     "output_type": "execute_result"
    }
   ],
   "source": [
    "(num, den) = sy.fraction(Fd)\n",
    "den"
   ]
  },
  {
   "cell_type": "code",
   "execution_count": 18,
   "metadata": {},
   "outputs": [
    {
     "data": {
      "image/png": "[encoded data removed]",
      "text/latex": [
       "$$\\frac{1}{g^{2} + \\omega_{n}^{2}} \\left(2 i g \\omega_{n} + \\left(g - \\omega_{n}\\right) \\left(g + \\omega_{n}\\right)\\right)$$"
      ],
      "text/plain": [
       "2⋅ⅈ⋅g⋅ω_n + (g - ω_n)⋅(g + ω_n)\n",
       "───────────────────────────────\n",
       "            2      2           \n",
       "           g  + ω_n            "
      ]
     },
     "execution_count": 18,
     "metadata": {},
     "output_type": "execute_result"
    }
   ],
   "source": [
    "(p1,p2) = sy.solve(den,z)\n",
    "p2"
   ]
  },
  {
   "cell_type": "code",
   "execution_count": 19,
   "metadata": {},
   "outputs": [
    {
     "data": {
      "image/png": "[encoded data removed]",
      "text/latex": [
       "$$\\frac{2 g \\omega_{n}}{\\left(g - \\omega_{n}\\right) \\left(g + \\omega_{n}\\right)}$$"
      ],
      "text/plain": [
       "      2⋅g⋅ω_n      \n",
       "───────────────────\n",
       "(g - ω_n)⋅(g + ω_n)"
      ]
     },
     "execution_count": 19,
     "metadata": {},
     "output_type": "execute_result"
    }
   ],
   "source": [
    "(p2real, p2im) = p2.as_real_imag()\n",
    "sy.simplify(p2im/p2real)"
   ]
  },
  {
   "cell_type": "code",
   "execution_count": 20,
   "metadata": {},
   "outputs": [
    {
     "data": {
      "image/png": "[encoded data removed]",
      "text/latex": [
       "$$\\arg{\\left (2 i g \\omega_{n} + \\left(g - \\omega_{n}\\right) \\left(g + \\omega_{n}\\right) \\right )}$$"
      ],
      "text/plain": [
       "arg(2⋅ⅈ⋅g⋅ω_n + (g - ω_n)⋅(g + ω_n))"
      ]
     },
     "execution_count": 20,
     "metadata": {},
     "output_type": "execute_result"
    }
   ],
   "source": [
    "sy.arg(p2)"
   ]
  },
  {
   "cell_type": "code",
   "execution_count": 22,
   "metadata": {},
   "outputs": [
    {
     "data": {
      "image/png": "[encoded data removed]",
      "text/latex": [
       "$$1$$"
      ],
      "text/plain": [
       "1"
      ]
     },
     "execution_count": 22,
     "metadata": {},
     "output_type": "execute_result"
    }
   ],
   "source": [
    "sy.simplify(p2real**2 + p2im**2)"
   ]
  },
  {
   "cell_type": "code",
   "execution_count": 30,
   "metadata": {},
   "outputs": [
    {
     "data": {
      "image/png": "[encoded data removed]",
      "text/latex": [
       "$$\\left [ \\frac{\\omega_{n} \\left(1 - \\frac{1}{\\left\\lvert{\\cos{\\left (h \\omega_{n} \\right )}}\\right\\rvert}\\right)}{\\tan{\\left (h \\omega_{n} \\right )}}, \\quad \\frac{\\omega_{n} \\left(1 + \\frac{1}{\\left\\lvert{\\cos{\\left (h \\omega_{n} \\right )}}\\right\\rvert}\\right)}{\\tan{\\left (h \\omega_{n} \\right )}}\\right ]$$"
      ],
      "text/plain": [
       "⎡    ⎛         1      ⎞      ⎛         1      ⎞⎤\n",
       "⎢ω_n⋅⎜1 - ────────────⎟  ω_n⋅⎜1 + ────────────⎟⎥\n",
       "⎢    ⎝    │cos(h⋅ω_n)│⎠      ⎝    │cos(h⋅ω_n)│⎠⎥\n",
       "⎢──────────────────────, ──────────────────────⎥\n",
       "⎣      tan(h⋅ω_n)              tan(h⋅ω_n)      ⎦"
      ]
     },
     "execution_count": 30,
     "metadata": {},
     "output_type": "execute_result"
    }
   ],
   "source": [
    "tanwnh = sy.tan(wn*h)\n",
    "sy.trigsimp(sy.solve(p2im/p2real - tanwnh, g))"
   ]
  },
  {
   "cell_type": "markdown",
   "metadata": {},
   "source": [
    "Note that \n",
    "$$ \\tan(\\frac{\\omega_n h}{2}) = \\frac{\\sin(\\omega_n h)}{1 + \\cos(\\omega_n h)} $$\n",
    "and so\n",
    "$$ \\frac{\\omega_n (1 + \\frac{1}{\\cos(\\omega_n h)})}{\\tan(\\omega_n h)} = \\frac{\\omega_n (1 + \\frac{1}{\\cos(\\omega_n h)})}{\\frac{\\sin(\\omega_n h)}{\\cos (\\omega_n h)}}\n",
    "= \\frac{\\omega_n}{\\tan(\\omega_n h)} $$"
   ]
  },
  {
   "cell_type": "code",
   "execution_count": null,
   "metadata": {},
   "outputs": [],
   "source": []
  }
 ],
 "metadata": {
  "kernelspec": {
   "display_name": "Python 3",
   "language": "python",
   "name": "python3"
  },
  "language_info": {
   "codemirror_mode": {
    "name": "ipython",
    "version": 3
   },
   "file_extension": ".py",
   "mimetype": "text/x-python",
   "name": "python",
   "nbconvert_exporter": "python",
   "pygments_lexer": "ipython3",
   "version": "3.5.2"
  }
 },
 "nbformat": 4,
 "nbformat_minor": 2
}
