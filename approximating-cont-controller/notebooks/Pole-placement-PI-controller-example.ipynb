{
 "cells": [
  {
   "cell_type": "markdown",
   "metadata": {},
   "source": [
    "# Example of pole placement with discrete PI controller\n",
    "We have stable first-order plant model\n",
    "$$ H(z) = \\frac{b}{z-a} $$\n",
    "and discrete-time PI controller\n",
    "$$ F(z) = K_c \\left( 1 + \\frac{h/T_i}{z-1} \\right) = K_c \\frac{z-1+h/T_i}{z-1}. $$\n",
    "We want to find controller parameters $K_c$ and $T_i$ such that the closed-loop system has two poles in $z = \\alpha$.\n",
    "### Characteristic equation\n",
    "\\begin{align}\n",
    "  1 + H(z)F_{PI}(z) &= 0\\\\\n",
    "  (z-1)(z-a) + K_c b (z - 1 + h/T_i) &= 0\n",
    "\\end{align}\n",
    "### Characteristic polynomial\n",
    "$$\\underbrace{(z-1)(z-a) + K_c b (z - 1 + h/T_i)}_{\\text{parameterized}} = \\underbrace{(z-\\alpha)^2}_{\\text{desired}} $$\n",
    "$$ z^2 - (1+a -K_cb)z + K_cb(h/T_i - 1)+a = z^2 -2\\alpha z + \\alpha^2 $$\n",
    "\\begin{align}\n",
    "  1 + a - K_c b &= 2\\alpha \\quad \\Rightarrow \\quad K_c = \\frac{1+a-2\\alpha}{b}\\\\\n",
    "  K_cb(h/T_i - 1) + a &= \\alpha^2 \\quad \\Rightarrow \\quad \\frac{1}{T_i} = \\frac{1}{h}\\left(1 + \\frac{\\alpha^2-a}{K_c b}\\right) = \\frac{1}{h} \\left( \\frac{(\\alpha-1)^2}{1 + a - 2\\alpha}\\right) \n",
    "\\end{align}\n"
   ]
  },
  {
   "cell_type": "code",
   "execution_count": 32,
   "metadata": {},
   "outputs": [],
   "source": [
    "import numpy as np\n",
    "import matplotlib.pyplot as plt\n",
    "import sympy as sy\n",
    "import control.matlab as cm"
   ]
  },
  {
   "cell_type": "markdown",
   "metadata": {},
   "source": [
    "## Symbolic solution"
   ]
  },
  {
   "cell_type": "code",
   "execution_count": 35,
   "metadata": {},
   "outputs": [],
   "source": [
    "sy.init_printing()\n",
    "aa, alphaa, hh, bb, KK, TT = sy.symbols('a, alpha, h, b, Kc, Ti', \n",
    "                                        real=True, positive=True)\n",
    "zz = sy.symbols('z', real=False)"
   ]
  },
  {
   "cell_type": "code",
   "execution_count": 40,
   "metadata": {},
   "outputs": [
    {
     "data": {
      "image/png": "[encoded data removed]",
      "text/latex": [
       "$$\\operatorname{Poly}{\\left( z^{2} + z \\left(Kc b - a - 1\\right) + \\frac{1}{Ti} \\left(- Kc Ti b + Kc b h + Ti a\\right), z, domain=\\mathbb{Z}\\left(a, b, h, Kc, Ti\\right) \\right)}$$"
      ],
      "text/plain": [
       "Poly(z**2 + (Kc*b - a - 1)*z + (-Kc*Ti*b + Kc*b*h + Ti*a)/Ti, z, domain='ZZ(a,\n",
       "b,h,Kc,Ti)')"
      ]
     },
     "execution_count": 40,
     "metadata": {},
     "output_type": "execute_result"
    }
   ],
   "source": [
    "A = zz-aa\n",
    "B = bb\n",
    "R = zz-1\n",
    "S = KK*(zz-1+hh/TT)\n",
    "LHS = sy.Poly(A*R + B*S, zz)\n",
    "LHS"
   ]
  },
  {
   "cell_type": "code",
   "execution_count": 43,
   "metadata": {},
   "outputs": [
    {
     "data": {
      "image/png": "[encoded data removed]",
      "text/latex": [
       "$$\\left [ Kc b - a + 2 \\alpha - 1, \\quad \\frac{1}{Ti} \\left(- Kc Ti b + Kc b h + Ti a - Ti \\alpha^{2}\\right)\\right ]$$"
      ],
      "text/plain": [
       "⎡                                                   2⎤\n",
       "⎢                    -Kc⋅Ti⋅b + Kc⋅b⋅h + Ti⋅a - Ti⋅α ⎥\n",
       "⎢Kc⋅b - a + 2⋅α - 1, ────────────────────────────────⎥\n",
       "⎣                                   Ti               ⎦"
      ]
     },
     "execution_count": 43,
     "metadata": {},
     "output_type": "execute_result"
    }
   ],
   "source": [
    "RHS = sy.Poly((zz-alphaa)**2, zz)\n",
    "Dioph = LHS-RHS\n",
    "coeffs = Dioph.coeffs()\n",
    "coeffs"
   ]
  },
  {
   "cell_type": "code",
   "execution_count": 44,
   "metadata": {},
   "outputs": [
    {
     "data": {
      "image/png": "[encoded data removed]",
      "text/latex": [
       "$$\\left [ \\left ( \\frac{1}{b} \\left(a - 2 \\alpha + 1\\right), \\quad \\frac{h}{\\left(\\alpha - 1\\right)^{2}} \\left(a - 2 \\alpha + 1\\right)\\right )\\right ]$$"
      ],
      "text/plain": [
       "⎡⎛a - 2⋅α + 1  h⋅(a - 2⋅α + 1)⎞⎤\n",
       "⎢⎜───────────, ───────────────⎟⎥\n",
       "⎢⎜     b                  2   ⎟⎥\n",
       "⎣⎝                 (α - 1)    ⎠⎦"
      ]
     },
     "execution_count": 44,
     "metadata": {},
     "output_type": "execute_result"
    }
   ],
   "source": [
    "sol = sy.solve(coeffs, [KK, TT])\n",
    "sol"
   ]
  },
  {
   "cell_type": "markdown",
   "metadata": {},
   "source": [
    "## Numerical solution"
   ]
  },
  {
   "cell_type": "code",
   "execution_count": 45,
   "metadata": {},
   "outputs": [
    {
     "data": {
      "text/plain": [
       "\n",
       "0.3 z - 0.26\n",
       "------------\n",
       "    z - 1\n",
       "\n",
       "dt = 0.1"
      ]
     },
     "execution_count": 45,
     "metadata": {},
     "output_type": "execute_result"
    }
   ],
   "source": [
    "# Plant\n",
    "a = 0.9\n",
    "b = 1\n",
    "h = 0.1\n",
    "H = cm.tf([b], [1, -a], h)\n",
    "\n",
    "# Desired closed-loop pole\n",
    "alpha = 0.8\n",
    "\n",
    "# Controller parameters\n",
    "Kc = (1+a-2*alpha)/b\n",
    "Ti = h*(1+a-2*alpha)/(alpha-1)**2\n",
    "F = Kc*cm.tf([1, -1+h/Ti], [1, -1], h)\n",
    "F"
   ]
  },
  {
   "cell_type": "code",
   "execution_count": 46,
   "metadata": {},
   "outputs": [
    {
     "data": {
      "text/plain": [
       "array([0.8+1.65261872e-08j, 0.8-1.65261872e-08j])"
      ]
     },
     "execution_count": 46,
     "metadata": {},
     "output_type": "execute_result"
    }
   ],
   "source": [
    "# Check calculations\n",
    "Hc = cm.feedback(F*H, 1)\n",
    "cm.pole(Hc)"
   ]
  },
  {
   "cell_type": "code",
   "execution_count": 51,
   "metadata": {},
   "outputs": [
    {
     "data": {
      "image/png": "[encoded data removed]",
      "text/plain": [
       "<Figure size 432x288 with 1 Axes>"
      ]
     },
     "metadata": {},
     "output_type": "display_data"
    }
   ],
   "source": [
    "br, res = cm.rlocus(F*H)\n",
    "plt.plot(np.real(br1), np.imag(br1))\n",
    "plt.xlim((0,1.2))\n",
    "plt.ylim((-1.2,1.2));"
   ]
  },
  {
   "cell_type": "code",
   "execution_count": 59,
   "metadata": {},
   "outputs": [
    {
     "data": {
      "image/png": "[encoded data removed]",
      "text/plain": [
       "<Figure size 432x288 with 1 Axes>"
      ]
     },
     "metadata": {},
     "output_type": "display_data"
    }
   ],
   "source": [
    "y, t = cm.step(Hc)\n",
    "tt = h*np.arange(len(y))\n",
    "plt.stem(tt[:30], y[:30]);"
   ]
  },
  {
   "cell_type": "code",
   "execution_count": null,
   "metadata": {},
   "outputs": [],
   "source": []
  }
 ],
 "metadata": {
  "kernelspec": {
   "display_name": "Python 3",
   "language": "python",
   "name": "python3"
  },
  "language_info": {
   "codemirror_mode": {
    "name": "ipython",
    "version": 3
   },
   "file_extension": ".py",
   "mimetype": "text/x-python",
   "name": "python",
   "nbconvert_exporter": "python",
   "pygments_lexer": "ipython3",
   "version": "3.5.2"
  }
 },
 "nbformat": 4,
 "nbformat_minor": 2
}
