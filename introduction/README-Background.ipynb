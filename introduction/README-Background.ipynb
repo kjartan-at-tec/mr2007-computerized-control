{
 "cells": [
  {
   "cell_type": "markdown",
   "metadata": {},
   "source": [
    "# Background\n",
    "This part of the course material covers important material that you should be familiar with from earlier courses. It points out knowledge that will be useful in the course.\n",
    "\n",
    "## Notebooks\n",
    "Notebooks are interactive! You can follow along, try things, and solve some simple exercises.\n",
    "1. [Continuous-time PID control](notebooks/Continuous-PID.ipynb) Test your intuition on how to set the parameters of a PID controller.\n",
    "\n",
    "## Good to watch\n",
    "- [Control Lectures by Brian Douglas](https://www.youtube.com/user/ControlLectures) Videos on many different control topics. Very well made and extremely well explained! \n",
    "\n",
    "## Good to read\n",
    "- [Aerostudents notes on Control theory](http://aerostudents.com/thirdyear/controlTheory.php) Notes by students for students."
   ]
  },
  {
   "cell_type": "code",
   "execution_count": null,
   "metadata": {
    "collapsed": true
   },
   "outputs": [],
   "source": []
  }
 ],
 "metadata": {
  "kernelspec": {
   "display_name": "Python 2",
   "language": "python",
   "name": "python2"
  },
  "language_info": {
   "codemirror_mode": {
    "name": "ipython",
    "version": 2
   },
   "file_extension": ".py",
   "mimetype": "text/x-python",
   "name": "python",
   "nbconvert_exporter": "python",
   "pygments_lexer": "ipython2",
   "version": "2.7.12"
  }
 },
 "nbformat": 4,
 "nbformat_minor": 1
}
