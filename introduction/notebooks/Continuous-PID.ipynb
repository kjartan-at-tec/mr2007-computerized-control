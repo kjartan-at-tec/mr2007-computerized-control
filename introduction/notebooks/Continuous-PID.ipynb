{
 "cells": [
  {
   "cell_type": "markdown",
   "metadata": {},
   "source": [
    "# Tuning the parameters of a PID controller \n",
    "In this notebook you can test your intuition for how to adjust the parameters of a PID controller.\n",
    "\n",
    "Start by watching [this excellent video](https://www.youtube.com/watch?v=XfAt6hNV8XM).\n"
   ]
  },
  {
   "cell_type": "markdown",
   "metadata": {},
   "source": [
    "## Blockdiagram\n",
    "We consider the model used in the video: Velocity control of a car. The plant model describes how the velocity of the car responds to the position of the accelerator (the gas pedal). In addition to the signal from the accelerator, there are also unknown forces such as wind resistance and gravity when the car is going uphill or downhill. These forces are represented by a disturbance signal entering at the input to the system. \n",
    "\n",
    "<!--- ![Block diagram of cruise control system](cruise-control-pid-block.svg) -->\n",
    "<img src=\"cruise-control-pid-block.svg\" alt=\"Block diagram of cruise control system\" width=\"900\">\n",
    "\n",
    "## The PID controller\n",
    "The PID-controller is on so-called *parallel form*\n",
    "\\begin{equation}\n",
    "F(s) = K_p + \\frac{K_i}{s} + K_d s.\n",
    "\\end{equation}\n",
    "\n",
    "## The closed-loop system from the reference signal to the output\n",
    "The model is linear and hence the principle of superposition holds. This mean that we can look at the response to the reference signal and the response to the disturbance signal separately. Setting $$d=0,$$ we get a closed-loop response given by\n",
    "\\begin{equation}\n",
    "Y(s) = \\frac{\\frac{1}{s(s+1)}F(s)}{1 + \\frac{1}{s(s+1)}F(s)}R(s).\n",
    "\\end{equation}\n",
    "\n",
    "## The closed-loop system from disturbance to the output\n",
    "Setting $$r=0,$$ the reponse to the disturbance is given by \n",
    "\\begin{equation}\n",
    "Y(s) = \\frac{\\frac{1}{s(s + 1)}}{1 + \\frac{1}{s(s+1)}F(s)}D(s)\n",
    "\\end{equation}\n",
    "\n",
    "## The full closed-loop system\n",
    "We can find the response to a combination of input signals $r$ and $d$ by summation:\n",
    "\\begin{equation}\n",
    "Y(s) = \\frac{\\frac{1}{s(s+1)}F(s)}{1 + \\frac{1}{s(s+1)}F(s)}R(s) + \\frac{\\frac{1}{s(s + 1)}}{1 + \\frac{1}{s(s+1)}F(s)}D(s)\n",
    "\\end{equation}\n",
    "\n"
   ]
  },
  {
   "cell_type": "code",
   "execution_count": 1,
   "metadata": {},
   "outputs": [],
   "source": [
    "# Uncomment and run the commands in this cell if a packages is missing\n",
    "!pip install slycot\n",
    "!pip install control"
   ]
  },
  {
   "cell_type": "code",
   "execution_count": 3,
   "metadata": {},
   "outputs": [],
   "source": [
    "%matplotlib widget\n",
    "import ipywidgets as widgets\n",
    "import matplotlib.pyplot as plt\n",
    "import numpy as np\n",
    "import control.matlab as cm"
   ]
  },
  {
   "cell_type": "markdown",
   "metadata": {},
   "source": [
    "## Step response\n",
    "Below you can manipulate the $K_p$, $K_i$ and $K_d$ parameters of the PID-controller, and see a time-response of the system. At time $t_1=1$ there is a unit step in the reference signal, and at time $t_2=10$ yhere is a negative step in the disturbance signal. Note that since we scaled time using the time constant of the system, the time is not measured in seconds but in the length of time constant. So to get $t_2$ in seconds you will have to multiply with the time constant\n",
    "\\begin{equation}\n",
    "t_2 = 5 T = 5 \\frac{1}{\\omega}\n",
    "\\end{equation}\n",
    "where $\\omega$ has unit $1/s$ or $Hz$. "
   ]
  },
  {
   "cell_type": "code",
   "execution_count": 14,
   "metadata": {},
   "outputs": [
    {
     "name": "stdout",
     "output_type": "stream",
     "text": [
      "\n",
      "   1\n",
      "-------\n",
      "s^2 + s\n",
      "\n"
     ]
    },
    {
     "data": {
      "application/vnd.jupyter.widget-view+json": {
       "model_id": "1572032cb4d949c6ae6f56df3eecf651",
       "version_major": 2,
       "version_minor": 0
      },
      "text/plain": [
       "FigureCanvasNbAgg()"
      ]
     },
     "metadata": {},
     "output_type": "display_data"
    },
    {
     "data": {
      "application/vnd.jupyter.widget-view+json": {
       "model_id": "e6038a9c62c24ef9bea539d4a9ffb9f8",
       "version_major": 2,
       "version_minor": 0
      },
      "text/plain": [
       "interactive(children=(FloatSlider(value=1.0, description='Kp', max=10.0, step=0.2), FloatSlider(value=0.0, des…"
      ]
     },
     "metadata": {},
     "output_type": "display_data"
    }
   ],
   "source": [
    "G1 = cm.tf([1.], [1, 1.])\n",
    "Gint = cm.tf([1], [1, 0])\n",
    "G = Gint*G1\n",
    "print(G)\n",
    "N = 600\n",
    "t_end = 30\n",
    "t = np.linspace(0, t_end, N)  \n",
    "\n",
    "# The reference signal\n",
    "r = np.zeros(N)\n",
    "r[int(N/t_end):] = 1.0\n",
    "\n",
    "# The disturbance signal\n",
    "d = np.zeros(N)\n",
    "d[int(N/t_end)*10:] = -1.0\n",
    "\n",
    "# set up plot\n",
    "fig, ax = plt.subplots(figsize=(8, 3))\n",
    "#ax.set_ylim([-.1, 4])\n",
    "ax.grid(True)\n",
    " \n",
    "def sim_PID(G, Kp, Ki, Kd, r,d,t):\n",
    "    \"\"\"\n",
    "    Returns the simulated response of the closed-loop system with a \n",
    "    PID controller.\n",
    "    \"\"\"\n",
    "    F = cm.tf([Kd, Kp, Ki], [1.0, 0])\n",
    "    Gr = cm.feedback(G*F,1)\n",
    "    Gd = cm.feedback(G,F)\n",
    "    yr = cm.lsim(Gr, r, t)\n",
    "    yd = cm.lsim(Gd, d, t)\n",
    "    return (yr, yd)\n",
    "    \n",
    " \n",
    "@widgets.interact(Kp=(0, 10, .2), Ki=(0, 8, .2), Kd=(0, 8, .2))\n",
    "def update(Kp = 1.0, Ki=0, Kd=0):\n",
    "    \"\"\"Remove old lines from plot and plot new one\"\"\"\n",
    "    [l.remove() for l in ax.lines]\n",
    "    yr, yd = sim_PID(G, Kp, Ki, Kd, r,d,t)\n",
    "    ax.plot(yr[1], yr[0]+yd[0], color='C0')\n",
    "    #ax.plot(yd[1], yd[0], color='C1')\n",
    "\n"
   ]
  },
  {
   "cell_type": "markdown",
   "metadata": {},
   "source": [
    "### Exercise\n",
    "Try to find PID parameters that give \n",
    "1. about 10% overshoot, \n",
    "2. settling time of about 4,\n",
    "3. negligable stationary error at $t=14$ (4 after onset of constant disturbance) "
   ]
  },
  {
   "cell_type": "markdown",
   "metadata": {},
   "source": [
    "## Ramp response\n",
    "A negative unit ramp disturbance starts at time $t_1=0$. "
   ]
  },
  {
   "cell_type": "code",
   "execution_count": 18,
   "metadata": {
    "scrolled": false
   },
   "outputs": [
    {
     "data": {
      "application/vnd.jupyter.widget-view+json": {
       "model_id": "e7a0c55730e144a5b3b388a37cdbb0cc",
       "version_major": 2,
       "version_minor": 0
      },
      "text/plain": [
       "FigureCanvasNbAgg()"
      ]
     },
     "metadata": {},
     "output_type": "display_data"
    },
    {
     "data": {
      "application/vnd.jupyter.widget-view+json": {
       "model_id": "527865ed5ccf44c5b693cf22570e35d0",
       "version_major": 2,
       "version_minor": 0
      },
      "text/plain": [
       "interactive(children=(FloatSlider(value=1.0, description='Kp', max=10.0, step=0.2), FloatSlider(value=1.0, des…"
      ]
     },
     "metadata": {},
     "output_type": "display_data"
    }
   ],
   "source": [
    "\n",
    "# The reference signal\n",
    "dramp = np.linspace(0, t_end, N)\n",
    "rr = np.zeros(N)\n",
    "\n",
    "# set up plot\n",
    "fig, ax = plt.subplots(figsize=(8, 3))\n",
    "#ax.set_ylim([-.1, 4])\n",
    "ax.grid(True)\n",
    " \n",
    "\n",
    "@widgets.interact(Kp=(0, 10, .2), Ki=(0, 8, .2), Kd=(0, 8, .2))\n",
    "def update(Kp = 1.0, Ki=1, Kd=0):\n",
    "    \"\"\"Remove old lines from plot and plot new one\"\"\"\n",
    "    [l.remove() for l in ax.lines]\n",
    "    yr, yd = sim_PID(G, Kp, Ki, Kd, rr,dramp,t)\n",
    "    ax.plot(yr[1], yr[0]+yd[0], color='C0')\n",
    "    #ax.plot(yd[1], yd[0], color='C1')\n",
    "\n"
   ]
  },
  {
   "cell_type": "markdown",
   "metadata": {},
   "source": [
    "### Exercise\n",
    "Why does the error in the ramp response keep growing although the controller contains an integrating term?"
   ]
  },
  {
   "cell_type": "markdown",
   "metadata": {},
   "source": [
    "## Further reading\n",
    "- [Documentation for the Python Control Systems library](https://python-control.readthedocs.io/en/0.8.3/)\n",
    "- [PID control on Wikipedia](https://en.wikipedia.org/wiki/PID_controller)\n"
   ]
  },
  {
   "cell_type": "code",
   "execution_count": null,
   "metadata": {
    "collapsed": true
   },
   "outputs": [],
   "source": []
  }
 ],
 "metadata": {
  "kernelspec": {
   "display_name": "Python 3",
   "language": "python",
   "name": "python3"
  },
  "language_info": {
   "codemirror_mode": {
    "name": "ipython",
    "version": 3
   },
   "file_extension": ".py",
   "mimetype": "text/x-python",
   "name": "python",
   "nbconvert_exporter": "python",
   "pygments_lexer": "ipython3",
   "version": "3.5.2"
  },
  "widgets": {
   "state": {
    "1b2ed83e-6d3b-46b1-9b7f-c926cb06a6cf": {
     "views": [
      {
       "cell_index": 5
      }
     ]
    },
    "261d1415-f214-4d4b-9987-76e6a5f628a7": {
     "views": [
      {
       "cell_index": 5
      }
     ]
    },
    "529c2129-5bb2-4ce4-b138-e83745ecf462": {
     "views": [
      {
       "cell_index": 5
      }
     ]
    },
    "8dfa8207-959e-4913-8c3b-0404676238c8": {
     "views": [
      {
       "cell_index": 5
      }
     ]
    },
    "b941a181-ebd2-4fb1-bba1-c6d2698da8d5": {
     "views": [
      {
       "cell_index": 5
      }
     ]
    },
    "eb2d48e7-436c-4fb0-9b5e-e619e354f33d": {
     "views": [
      {
       "cell_index": 5
      }
     ]
    },
    "ec43bd67-9d2d-47b7-ac10-1f84d819fcb7": {
     "views": [
      {
       "cell_index": 5
      }
     ]
    }
   },
   "version": "1.2.0"
  }
 },
 "nbformat": 4,
 "nbformat_minor": 1
}
