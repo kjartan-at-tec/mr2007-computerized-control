{
 "cells": [
  {
   "cell_type": "code",
   "execution_count": 1,
   "metadata": {
    "collapsed": true
   },
   "outputs": [],
   "source": [
    "import numpy as np\n",
    "import sympy as sp"
   ]
  },
  {
   "cell_type": "code",
   "execution_count": 26,
   "metadata": {
    "collapsed": false
   },
   "outputs": [
    {
     "data": {
      "text/plain": [
       "Matrix([\n",
       "[1/a + b*c/(a**2*(d - b*c/a)), -b/(a*(d - b*c/a))],\n",
       "[          -c/(a*(d - b*c/a)),      1/(d - b*c/a)]])"
      ]
     },
     "execution_count": 26,
     "metadata": {},
     "output_type": "execute_result"
    }
   ],
   "source": [
    "a,b,c,d = sp.symbols('a, b, c, d')\n",
    "w = sp.symbols('w')\n",
    "s = sp.symbols('s')\n",
    "h = sp.symbols('h')\n",
    "A = sp.Matrix([[0, w], [-w, 0]])\n",
    "I2 = sp.Matrix([[1, 0], [0, 1]])\n",
    "B = sp.Matrix([[a,b],[c,d]])\n",
    "B.inv()"
   ]
  },
  {
   "cell_type": "code",
   "execution_count": 21,
   "metadata": {
    "collapsed": false
   },
   "outputs": [
    {
     "data": {
      "text/plain": [
       "Matrix([\n",
       "[s, -w],\n",
       "[w,  s]])"
      ]
     },
     "execution_count": 21,
     "metadata": {},
     "output_type": "execute_result"
    }
   ],
   "source": [
    "As = (s*I2-A)\n",
    "As"
   ]
  },
  {
   "cell_type": "code",
   "execution_count": 22,
   "metadata": {
    "collapsed": false
   },
   "outputs": [
    {
     "name": "stdout",
     "output_type": "stream",
     "text": [
      "⎡          2                ⎤\n",
      "⎢1        w           w     ⎥\n",
      "⎢─ - ───────────  ──────────⎥\n",
      "⎢s      ⎛     2⎞    ⎛     2⎞⎥\n",
      "⎢     2 ⎜    w ⎟    ⎜    w ⎟⎥\n",
      "⎢    s ⋅⎜s + ──⎟  s⋅⎜s + ──⎟⎥\n",
      "⎢       ⎝    s ⎠    ⎝    s ⎠⎥\n",
      "⎢                           ⎥\n",
      "⎢     -w              1     ⎥\n",
      "⎢  ──────────       ──────  ⎥\n",
      "⎢    ⎛     2⎞            2  ⎥\n",
      "⎢    ⎜    w ⎟           w   ⎥\n",
      "⎢  s⋅⎜s + ──⎟       s + ──  ⎥\n",
      "⎣    ⎝    s ⎠           s   ⎦\n"
     ]
    }
   ],
   "source": [
    "Asinv = As.inv()\n",
    "sp.pretty_print(Asinv)"
   ]
  },
  {
   "cell_type": "code",
   "execution_count": 18,
   "metadata": {
    "collapsed": false
   },
   "outputs": [],
   "source": [
    "sp.LaplaceTransform?"
   ]
  },
  {
   "cell_type": "code",
   "execution_count": 6,
   "metadata": {
    "collapsed": false
   },
   "outputs": [
    {
     "data": {
      "text/plain": [
       "Matrix([\n",
       "[   0, -w**3],\n",
       "[w**3,     0]])"
      ]
     },
     "execution_count": 6,
     "metadata": {},
     "output_type": "execute_result"
    }
   ],
   "source": [
    "A*A*A"
   ]
  },
  {
   "cell_type": "code",
   "execution_count": null,
   "metadata": {
    "collapsed": true
   },
   "outputs": [],
   "source": [
    "As ="
   ]
  }
 ],
 "metadata": {
  "kernelspec": {
   "display_name": "Python 2",
   "language": "python",
   "name": "python2"
  },
  "language_info": {
   "codemirror_mode": {
    "name": "ipython",
    "version": 2
   },
   "file_extension": ".py",
   "mimetype": "text/x-python",
   "name": "python",
   "nbconvert_exporter": "python",
   "pygments_lexer": "ipython2",
   "version": "2.7.6"
  }
 },
 "nbformat": 4,
 "nbformat_minor": 0
}
