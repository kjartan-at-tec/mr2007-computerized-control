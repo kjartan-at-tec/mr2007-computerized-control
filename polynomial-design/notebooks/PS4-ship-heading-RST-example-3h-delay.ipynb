{
 "cells": [
  {
   "cell_type": "code",
   "execution_count": 1,
   "metadata": {
    "collapsed": true
   },
   "outputs": [],
   "source": [
    "import numpy as np\n",
    "import sympy as sy\n",
    "from sympy import I, exp\n",
    "from sympy.utilities.codegen import codegen"
   ]
  },
  {
   "cell_type": "code",
   "execution_count": 12,
   "metadata": {
    "collapsed": false
   },
   "outputs": [],
   "source": [
    "z = sy.symbols(\"z\", real=False)\n",
    "r1,r2,r3, r4, r5, s0,s1, s2,s3, s4, s5 = sy.symbols(\"r1,r2,r3,r4, r5, s0,s1,s2,s3,s4, s5\", real=True)\n",
    "a, h = sy.symbols(\"a, h\", real=True)"
   ]
  },
  {
   "cell_type": "code",
   "execution_count": 25,
   "metadata": {
    "collapsed": false
   },
   "outputs": [
    {
     "name": "stdout",
     "output_type": "stream",
     "text": [
      "Poly(1.0*z**5 - 2.22140275816017*z**4 + 1.22140275816017*z**3, z, domain='RR')\n",
      "Poly(0.0214027581601699*z + 0.022877793471864, z, domain='RR')\n",
      "Poly(z**4 - 4*a*z**3 + 6*a**2*z**2 - 4*a**3*z + a**4, z, domain='ZZ[a]')\n",
      "Poly(1.0*z**5 - 0.8*z**4 + 0.16*z**3, z, domain='RR')\n"
     ]
    }
   ],
   "source": [
    "pd1 = 0.4\n",
    "pd2 = pd1\n",
    "hh = 0.2\n",
    "aa = 0\n",
    "# Will need characteristic polynomial of order 9, since in the left hand side the order of \n",
    "# the polynomial will be n_A + n_R = 5+4 = 9. R and S will then have 4+5=9 unknowns \n",
    "Ac = sy.poly(z**3*(z - pd1)*(z-pd2), z ) \n",
    "#Ao = sy.poly(((z-a)**4).subs(a, aa), z )\n",
    "Ao = sy.poly(((z-a)**4), z )\n",
    "Acl = Ac*Ao\n",
    "\n",
    "# Assume anti-aliasing filter corresponding to a delay of two sample periods + extra delay of 1 sample period\n",
    "A = sy.poly( (z**3*(z-1)*(z-exp(h))).subs(h,hh), z )\n",
    "B = sy.poly( ((-1+exp(h)-h)*z + 1-(1-h)*exp(h)).subs(h,hh), z)\n",
    "\n",
    "print A\n",
    "print B\n",
    "print Ao\n",
    "print Ac"
   ]
  },
  {
   "cell_type": "code",
   "execution_count": 26,
   "metadata": {
    "collapsed": false
   },
   "outputs": [
    {
     "name": "stdout",
     "output_type": "stream",
     "text": [
      "Poly(1.0*z**9 + (1.0*r1 - 2.22140275816017)*z**8 + (-2.22140275816017*r1 + 1.0*r2 + 1.22140275816017)*z**7 + (1.22140275816017*r1 - 2.22140275816017*r2 + 1.0*r3)*z**6 + (1.22140275816017*r2 - 2.22140275816017*r3 + 1.0*r4 + 0.0214027581601699*s0)*z**5 + (1.22140275816017*r3 - 2.22140275816017*r4 + 0.022877793471864*s0 + 0.0214027581601699*s1)*z**4 + (1.22140275816017*r4 + 0.022877793471864*s1 + 0.0214027581601699*s2)*z**3 + (0.022877793471864*s2 + 0.0214027581601699*s3)*z**2 + (0.022877793471864*s3 + 0.0214027581601699*s4)*z + 0.022877793471864*s4, z, domain='RR[r1,r2,r3,r4,s0,s1,s2,s3,s4]')\n",
      "Poly(1.0*z**9 + (-4.0*a - 0.8)*z**8 + (6.0*a**2 + 3.2*a + 0.16)*z**7 + (-4.0*a**3 - 4.8*a**2 - 0.64*a)*z**6 + (1.0*a**4 + 3.2*a**3 + 0.96*a**2)*z**5 + (-0.8*a**4 - 0.64*a**3)*z**4 + 0.16*a**4*z**3, z, domain='RR[a]')\n"
     ]
    }
   ],
   "source": [
    "R = sy.poly(z**4 + r1*z**3 + r2*z**2 + r3*z**1 + r4, z)\n",
    "S = sy.poly(s0*z**4 + s1*z**3 + s2*z**2 + s3*z**1 + s4, z)\n",
    "print A*R+B*S\n",
    "print Acl\n",
    "\n",
    "dioph=(A*R+B*S-Acl).all_coeffs()"
   ]
  },
  {
   "cell_type": "code",
   "execution_count": 27,
   "metadata": {
    "collapsed": false
   },
   "outputs": [
    {
     "name": "stdout",
     "output_type": "stream",
     "text": [
      "{s3: 0.0, s4: 0.0, r4: 0.455360670818637*a**4 - 2.32869913240506*a**3 + 5.38239533770142*a**2 - 5.12669902254084*a + 1.75143708540282, s0: 25.447156161159*a**4 - 156.844826966403*a**3 + 336.13593650405*a**2 - 306.22482671798*a + 101.635942011644, r3: -4.0*a**3 + 8.52841654896102*a**2 - 8.38442099709322*a + 2.92018873285642, s2: 0.0, s1: -17.3171761421304*a**4 + 124.324906890288*a**3 - 287.356056389879*a**2 + 273.704906641866*a - 93.5059619926153, r1: -4.0*a + 1.42140275816017, r2: 6.0*a**2 - 5.68561103264068*a + 2.0961052492733}\n"
     ]
    }
   ],
   "source": [
    "sol=sy.solve(dioph, (r1,r2, r3, r4, r5, s0,s1,s2, s3, s4, s5))\n",
    "print sol"
   ]
  },
  {
   "cell_type": "code",
   "execution_count": 24,
   "metadata": {
    "collapsed": false,
    "scrolled": true
   },
   "outputs": [
    {
     "name": "stdout",
     "output_type": "stream",
     "text": [
      "11\n",
      "[1.00000000000000, 1.0*r1 - 2.22140275816017, -2.22140275816017*r1 + 1.0*r2 + 0.22140275816017, 1.22140275816017*r1 - 2.22140275816017*r2 + 1.0*r3 + 0.8, 1.22140275816017*r2 - 2.22140275816017*r3 + 1.0*r4 + 0.0214027581601699*s0 - 0.16, 1.22140275816017*r3 - 2.22140275816017*r4 + 1.0*r5 + 0.022877793471864*s0 + 0.0214027581601699*s1, 1.22140275816017*r4 - 2.22140275816017*r5 + 0.022877793471864*s1 + 0.0214027581601699*s2, 1.22140275816017*r5 + 0.022877793471864*s2 + 0.0214027581601699*s3, 0.022877793471864*s3 + 0.0214027581601699*s4, 0.022877793471864*s4 + 0.0214027581601699*s5, 0.022877793471864*s5]\n"
     ]
    }
   ],
   "source": [
    "print len(dioph)\n",
    "print dioph"
   ]
  },
  {
   "cell_type": "code",
   "execution_count": 28,
   "metadata": {
    "collapsed": false
   },
   "outputs": [],
   "source": [
    "# Reorganize solution expression for matlab code generation\n",
    "sol_expr = ('RST_example_aliasing', [sol[r1], sol[r2], sol[r3], sol[r4], sol[s0], sol[s1], sol[s2], sol[s3], sol[s4], Ac.subs(z, 1)/B.subs(z,1), a])  "
   ]
  },
  {
   "cell_type": "code",
   "execution_count": 29,
   "metadata": {
    "collapsed": false
   },
   "outputs": [],
   "source": [
    "# Export to matlab code\n",
    "[(m_name, m_code)] = codegen(sol_expr, 'octave')"
   ]
  },
  {
   "cell_type": "code",
   "execution_count": 30,
   "metadata": {
    "collapsed": false
   },
   "outputs": [
    {
     "name": "stdout",
     "output_type": "stream",
     "text": [
      "function [out1, out2, out3, out4, out5, out6, out7, out8, out9, out10, out11] = RST_example_aliasing(a)\n",
      "  %RST_EXAMPLE_ALIASING  Autogenerated by sympy\n",
      "  %   Code generated with sympy 0.7.6\n",
      "  %\n",
      "  %   See http://www.sympy.org/ for more information.\n",
      "  %\n",
      "  %   This file is part of 'project'\n",
      "\n",
      "  out1 = -4.0*a + 1.42140275816017;\n",
      "  out2 = 6.0*a.^2 - 5.68561103264068*a + 2.0961052492733;\n",
      "  out3 = -4.0*a.^3 + 8.52841654896102*a.^2 - 8.38442099709322*a + 2.92018873285642;\n",
      "  out4 = 0.455360670818637*a.^4 - 2.32869913240506*a.^3 + 5.38239533770142*a.^2 - 5.12669902254084*a + 1.75143708540282;\n",
      "  out5 = 25.447156161159*a.^4 - 156.844826966403*a.^3 + 336.13593650405*a.^2 - 306.22482671798*a + 101.635942011644;\n",
      "  out6 = -17.3171761421304*a.^4 + 124.324906890288*a.^3 - 287.356056389879*a.^2 + 273.704906641866*a - 93.5059619926153;\n",
      "  out7 = 0.0;\n",
      "  out8 = 0.0;\n",
      "  out9 = 0.0;\n",
      "  out10 = 8.1299800190286;\n",
      "  out11 = a;\n",
      "\n",
      "end\n",
      "\n"
     ]
    }
   ],
   "source": [
    "print m_code\n",
    "with open(\"/home/kjartan/Dropbox/undervisning/tec/MR2007/matlab/PS4_ship_heading_RST_example_aliasing_3h.m\", \"w\") as text_file:\n",
    "    text_file.write(m_code)"
   ]
  },
  {
   "cell_type": "code",
   "execution_count": 20,
   "metadata": {
    "collapsed": false
   },
   "outputs": [
    {
     "data": {
      "text/plain": [
       "-a**3 + 3*a**2*z - 3*a*z**2 + z**3"
      ]
     },
     "execution_count": 20,
     "metadata": {},
     "output_type": "execute_result"
    }
   ],
   "source": [
    "sy.expand((z-a)**3)"
   ]
  },
  {
   "cell_type": "code",
   "execution_count": null,
   "metadata": {
    "collapsed": true
   },
   "outputs": [],
   "source": []
  }
 ],
 "metadata": {
  "kernelspec": {
   "display_name": "Python 2",
   "language": "python",
   "name": "python2"
  },
  "language_info": {
   "codemirror_mode": {
    "name": "ipython",
    "version": 2
   },
   "file_extension": ".py",
   "mimetype": "text/x-python",
   "name": "python",
   "nbconvert_exporter": "python",
   "pygments_lexer": "ipython2",
   "version": "2.7.6"
  }
 },
 "nbformat": 4,
 "nbformat_minor": 0
}
