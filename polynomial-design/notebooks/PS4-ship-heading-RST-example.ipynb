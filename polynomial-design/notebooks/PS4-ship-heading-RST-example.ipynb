{
 "cells": [
  {
   "cell_type": "code",
   "execution_count": 1,
   "metadata": {
    "collapsed": true
   },
   "outputs": [],
   "source": [
    "import numpy as np\n",
    "import sympy as sy\n",
    "from sympy import I, exp\n",
    "from sympy.utilities.codegen import codegen"
   ]
  },
  {
   "cell_type": "code",
   "execution_count": 2,
   "metadata": {
    "collapsed": false
   },
   "outputs": [],
   "source": [
    "z = sy.symbols(\"z\", real=False)\n",
    "r1,r2,r3, s0,s1, s2,s3 = sy.symbols(\"r1,r2,r3, s0,s1,s2,s3\", real=True)\n",
    "a, h = sy.symbols(\"a, h\", real=True)"
   ]
  },
  {
   "cell_type": "code",
   "execution_count": 81,
   "metadata": {
    "collapsed": false
   },
   "outputs": [
    {
     "name": "stdout",
     "output_type": "stream",
     "text": [
      "0.449328964117\n",
      "Poly(1.0*z**4 - 2.22140275816017*z**3 + 1.22140275816017*z**2, z, domain='RR')\n",
      "Poly(0.0214027581601699*z + 0.022877793471864, z, domain='RR')\n",
      "Poly(z**3 - 3*a*z**2 + 3*a**2*z - a**3, z, domain='ZZ[a]')\n",
      "Poly(1.0*z**4 - 1.79731585646889*z**3 + 1.21137910796793*z**2 - 0.36287181315765*z + 0.0407622039783662, z, domain='RR')\n"
     ]
    }
   ],
   "source": [
    "hh = 0.2\n",
    "pcont = -4\n",
    "pd1 = np.exp(hh*pcont)\n",
    "#Ac = sy.poly(z**2*(z - pd1)*(z-pd2), z ) \n",
    "Ac = sy.poly((z - pd1)**4, z ) \n",
    "Ao = sy.poly((z-a)**3, z )\n",
    "Acl = Ac*Ao\n",
    "\n",
    "# Assume anti-aliasing filter corresponding to a delay of two sample periods\n",
    "A = sy.poly( (z**2*(z-1)*(z-exp(h))).subs(h,hh), z )\n",
    "B = sy.poly( ((-1+exp(h)-h)*z + 1-(1-h)*exp(h)).subs(h,hh), z)\n",
    "print pd1\n",
    "print A\n",
    "print B\n",
    "print Ao\n",
    "print Ac"
   ]
  },
  {
   "cell_type": "code",
   "execution_count": 82,
   "metadata": {
    "collapsed": false
   },
   "outputs": [
    {
     "name": "stdout",
     "output_type": "stream",
     "text": [
      "Poly(1.0*z**7 + (1.0*r1 - 2.22140275816017)*z**6 + (-2.22140275816017*r1 + 1.0*r2 + 1.22140275816017)*z**5 + (1.22140275816017*r1 - 2.22140275816017*r2 + 1.0*r3 + 0.0214027581601699*s0)*z**4 + (1.22140275816017*r2 - 2.22140275816017*r3 + 0.022877793471864*s0 + 0.0214027581601699*s1)*z**3 + (1.22140275816017*r3 + 0.022877793471864*s1 + 0.0214027581601699*s2)*z**2 + (0.022877793471864*s2 + 0.0214027581601699*s3)*z + 0.022877793471864*s3, z, domain='RR[r1,r2,r3,s0,s1,s2,s3]')\n",
      "Poly(1.0*z**7 + (-3.0*a - 1.79731585646889)*z**6 + (3.0*a**2 + 5.39194756940666*a + 1.21137910796793)*z**5 + (-1.0*a**3 - 5.39194756940666*a**2 - 3.6341373239038*a - 0.36287181315765)*z**4 + (1.79731585646889*a**3 + 3.6341373239038*a**2 + 1.08861543947295*a + 0.0407622039783662)*z**3 + (-1.21137910796793*a**3 - 1.08861543947295*a**2 - 0.122286611935099*a)*z**2 + (0.36287181315765*a**3 + 0.122286611935099*a**2)*z - 0.0407622039783662*a**3, z, domain='RR[a]')\n"
     ]
    }
   ],
   "source": [
    "R = sy.poly(z**3 + r1*z**2+r2*z+r3, z)\n",
    "S = sy.poly(s0*z**3 + s1*z**2 + s2*z + s3, z)\n",
    "print A*R+B*S\n",
    "print Acl\n",
    "\n",
    "dioph=(A*R+B*S-Acl).all_coeffs()"
   ]
  },
  {
   "cell_type": "code",
   "execution_count": 83,
   "metadata": {
    "collapsed": false
   },
   "outputs": [
    {
     "name": "stdout",
     "output_type": "stream",
     "text": [
      "{s3: -1.78173668839598*a**3, s0: -0.869546949487873*a**3 + 56.6553501855205*a**2 - 70.0836348720752*a + 30.6100629635936, r3: -0.981389296931198*a**3 + 0.0596799465734188*a**2 - 1.29614940062047*a + 0.534452974786953, s2: 3.82121721355068e-29*a**2*(4.58706499600301e+29*a + 1.39882392611259e+29), s1: -16.9535027365645*a**3 - 55.7707162945703*a**2 + 63.853790915937*a - 28.5334483115476, r1: -3.0*a + 0.424086901691283, r2: 3.0*a**2 - 1.27226070507385*a + 0.932044162924379}\n"
     ]
    }
   ],
   "source": [
    "sol=sy.solve(dioph, (r1,r2, r3, s0,s1,s2, s3))\n",
    "print sol"
   ]
  },
  {
   "cell_type": "code",
   "execution_count": 84,
   "metadata": {
    "collapsed": false
   },
   "outputs": [
    {
     "data": {
      "text/plain": [
       "7"
      ]
     },
     "execution_count": 84,
     "metadata": {},
     "output_type": "execute_result"
    }
   ],
   "source": [
    "len(dioph)"
   ]
  },
  {
   "cell_type": "code",
   "execution_count": 85,
   "metadata": {
    "collapsed": false
   },
   "outputs": [],
   "source": [
    "# Reorganize solution expression for matlab code generation\n",
    "sol_expr = ('PS4_ship_heading_RST_example_aliasing', [sol[r1], sol[r2], sol[r3], sol[s0], sol[s1], sol[s2], sol[s3], Ac.subs(z, 1)/B.subs(z,1), a])  "
   ]
  },
  {
   "cell_type": "code",
   "execution_count": 86,
   "metadata": {
    "collapsed": false
   },
   "outputs": [],
   "source": [
    "# Export to matlab code\n",
    "[(m_name, m_code)] = codegen(sol_expr, 'octave')"
   ]
  },
  {
   "cell_type": "code",
   "execution_count": 87,
   "metadata": {
    "collapsed": false
   },
   "outputs": [
    {
     "name": "stdout",
     "output_type": "stream",
     "text": [
      "function [out1, out2, out3, out4, out5, out6, out7, out8, out9] = PS4_ship_heading_RST_example_aliasing(a)\n",
      "  %PS4_SHIP_HEADING_RST_EXAMPLE_ALIASING  Autogenerated by sympy\n",
      "  %   Code generated with sympy 0.7.6\n",
      "  %\n",
      "  %   See http://www.sympy.org/ for more information.\n",
      "  %\n",
      "  %   This file is part of 'project'\n",
      "\n",
      "  out1 = -3.0*a + 0.424086901691283;\n",
      "  out2 = 3.0*a.^2 - 1.27226070507385*a + 0.932044162924379;\n",
      "  out3 = -0.981389296931198*a.^3 + 0.0596799465734188*a.^2 - 1.29614940062047*a + 0.534452974786953;\n",
      "  out4 = -0.869546949487873*a.^3 + 56.6553501855205*a.^2 - 70.0836348720752*a + 30.6100629635936;\n",
      "  out5 = -16.9535027365645*a.^3 - 55.7707162945703*a.^2 + 63.853790915937*a - 28.5334483115476;\n",
      "  out6 = 3.82121721355068e-29*a.^2.*(4.58706499600301e+29*a + 1.39882392611259e+29);\n",
      "  out7 = -1.78173668839598*a.^3;\n",
      "  out8 = 2.07661465204603;\n",
      "  out9 = a;\n",
      "\n",
      "end\n",
      "\n"
     ]
    }
   ],
   "source": [
    "print m_code\n",
    "with open(\"/home/kjartan/Dropbox/undervisning/tec/MR2007/matlab/PS4_ship_heading_RST_example_aliasing.m\", \"w\") as text_file:\n",
    "    text_file.write(m_code)"
   ]
  },
  {
   "cell_type": "code",
   "execution_count": 91,
   "metadata": {
    "collapsed": false
   },
   "outputs": [
    {
     "data": {
      "text/plain": [
       "0.0919536423197624"
      ]
     },
     "execution_count": 91,
     "metadata": {},
     "output_type": "execute_result"
    }
   ],
   "source": [
    "Ac.subs(z, 1)"
   ]
  },
  {
   "cell_type": "code",
   "execution_count": 92,
   "metadata": {
    "collapsed": false
   },
   "outputs": [
    {
     "data": {
      "text/plain": [
       "0.09150625000000003"
      ]
     },
     "execution_count": 92,
     "metadata": {},
     "output_type": "execute_result"
    }
   ],
   "source": [
    "(1-0.45)**4"
   ]
  },
  {
   "cell_type": "code",
   "execution_count": 94,
   "metadata": {
    "collapsed": false
   },
   "outputs": [
    {
     "data": {
      "text/plain": [
       "0.0442805516320339"
      ]
     },
     "execution_count": 94,
     "metadata": {},
     "output_type": "execute_result"
    }
   ],
   "source": [
    "B.subs(z,1)"
   ]
  },
  {
   "cell_type": "code",
   "execution_count": null,
   "metadata": {
    "collapsed": true
   },
   "outputs": [],
   "source": []
  }
 ],
 "metadata": {
  "kernelspec": {
   "display_name": "Python 2",
   "language": "python",
   "name": "python2"
  },
  "language_info": {
   "codemirror_mode": {
    "name": "ipython",
    "version": 2
   },
   "file_extension": ".py",
   "mimetype": "text/x-python",
   "name": "python",
   "nbconvert_exporter": "python",
   "pygments_lexer": "ipython2",
   "version": "2.7.6"
  }
 },
 "nbformat": 4,
 "nbformat_minor": 0
}
