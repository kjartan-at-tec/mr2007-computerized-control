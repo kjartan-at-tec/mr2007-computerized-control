{
 "cells": [
  {
   "cell_type": "code",
   "execution_count": 2,
   "metadata": {
    "collapsed": true
   },
   "outputs": [],
   "source": [
    "import numpy as np\n",
    "import sympy as sy\n",
    "import control.matlab as cm"
   ]
  },
  {
   "cell_type": "code",
   "execution_count": 22,
   "metadata": {
    "collapsed": false
   },
   "outputs": [
    {
     "name": "stdout",
     "output_type": "stream",
     "text": [
      "z**3 - 1.2*z**2 + 0.57*z - 0.1\n",
      "z**2*(a*z - a + z**2 - z)\n"
     ]
    }
   ],
   "source": [
    "z = sy.symbols('z', real=False)\n",
    "hh,r1,r2,s0,s1,s2,s3, aa = sy.symbols('h,r1,r2, s0,s1,s2,s3, a')\n",
    "\n",
    "Bp = 1+aa\n",
    "Ap = z+aa\n",
    "\n",
    "pd1 = 0.4\n",
    "pd2 = 0.4 + 1j*0.3\n",
    "pd3 = np.conjugate(pd2)\n",
    "Ac1 = sy.simplify( sy.expand( (z-pd2)*(z-pd3) ) )\n",
    "Ac = sy.simplify( sy.expand( (z-pd1)*Ac1 ) )  # Desired closed loop poles\n",
    "print Ac\n",
    "\n",
    "print sy.simplify( sy.expand( Ap * z*z*(z-1) ) )\n"
   ]
  },
  {
   "cell_type": "code",
   "execution_count": 23,
   "metadata": {
    "collapsed": false
   },
   "outputs": [
    {
     "name": "stdout",
     "output_type": "stream",
     "text": [
      "0.200000000000000\n",
      "z - 0.8\n"
     ]
    }
   ],
   "source": [
    "Bp = Bp.subs(aa, -0.8)\n",
    "Ap = Ap.subs(aa, -0.8)\n",
    "print Bp\n",
    "print Ap"
   ]
  },
  {
   "cell_type": "code",
   "execution_count": 33,
   "metadata": {
    "collapsed": false
   },
   "outputs": [
    {
     "name": "stdout",
     "output_type": "stream",
     "text": [
      "0.2 s_{2} z + 0.2 s_{3} + z^{6} + z^{5} \\left(r_{1} - 1.8\\right) + z^{4} \\left(- 1.8 r_{1} + r_{2} + 0.8\\right) + z^{3} \\left(0.8 r_{1} - 1.8 r_{2} + 0.2 s_{0}\\right) + z^{2} \\left(0.8 r_{2} + 0.2 s_{1}\\right)\n",
      "z^{6} - 1.8 z^{5} + 1.41 z^{4} - 0.594 z^{3} + 0.138 z^{2} - 0.01656 z + 0.0008\n",
      "[1.0*r1 + 2.22044604925031e-16, -1.8*r1 + 1.0*r2 - 0.61, 0.8*r1 - 1.8*r2 + 0.2*s0 + 0.594, 0.8*r2 + 0.2*s1 - 0.138, 0.2*s2 + 0.01656, 0.2*s3 - 0.0008]\n",
      "z**3 - 0.6*z**2 + 0.12*z - 0.008\n"
     ]
    }
   ],
   "source": [
    "\n",
    "Rp = (z-1)*(z**2+r1*z + r2)\n",
    "Sp = s0*z**3 + s1*z**2 + s2*z + s3\n",
    "Ao = (z-0.2)**3\n",
    "\n",
    "diophLHS = sy.simplify( sy.collect( sy.expand( Ap *z**2 * Rp) + Bp*Sp, z ) ) \n",
    "diophRHS = sy.simplify( sy.collect( sy.expand( Ac * Ao), z) ) \n",
    "diophEq = sy.poly( sy.simplify( sy.expand( diophLHS - diophRHS ) ), z )\n",
    "dioph=diophEq.all_coeffs()\n",
    "print sy.latex(diophLHS)\n",
    "print sy.latex(diophRHS)\n",
    "print dioph\n",
    "print sy.expand(Ao)"
   ]
  },
  {
   "cell_type": "code",
   "execution_count": 27,
   "metadata": {
    "collapsed": false
   },
   "outputs": [
    {
     "name": "stdout",
     "output_type": "stream",
     "text": [
      "-2.22044604925031e-16\n",
      "0.610000000000000\n",
      "2.52000000000000\n",
      "-1.75000000000000\n",
      "-0.0828000000000000\n",
      "1.35000000000000\n"
     ]
    }
   ],
   "source": [
    "sol=sy.solve(dioph, (r1,r2, s0,s1,s2))\n",
    "print sol[r1]\n",
    "print sol[r2]\n",
    "print sol[s0]\n",
    "print sol[s1]\n",
    "print sol[s2]\n",
    "\n",
    "t0 = Ac.evalf(subs={z:1})/Bp.evalf(subs={z:1,})\n",
    "print t0"
   ]
  },
  {
   "cell_type": "code",
   "execution_count": null,
   "metadata": {
    "collapsed": true
   },
   "outputs": [],
   "source": []
  }
 ],
 "metadata": {
  "kernelspec": {
   "display_name": "Python 2",
   "language": "python",
   "name": "python2"
  },
  "language_info": {
   "codemirror_mode": {
    "name": "ipython",
    "version": 2
   },
   "file_extension": ".py",
   "mimetype": "text/x-python",
   "name": "python",
   "nbconvert_exporter": "python",
   "pygments_lexer": "ipython2",
   "version": "2.7.13"
  }
 },
 "nbformat": 4,
 "nbformat_minor": 0
}
