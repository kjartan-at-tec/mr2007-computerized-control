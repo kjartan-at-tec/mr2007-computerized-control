{
 "cells": [
  {
   "cell_type": "code",
   "execution_count": 1,
   "metadata": {
    "collapsed": true
   },
   "outputs": [],
   "source": [
    "import numpy as np\n",
    "import sympy as sy\n",
    "from sympy import I, exp\n",
    "from sympy.utilities.codegen import codegen"
   ]
  },
  {
   "cell_type": "code",
   "execution_count": 2,
   "metadata": {
    "collapsed": false
   },
   "outputs": [],
   "source": [
    "z = sy.symbols(\"z\", real=False)\n",
    "wn, zeta, a,h,r1,r2,r3, s0,s1, s2,s3 = sy.symbols(\"wn, zeta,a,h,r1,r2,r3, s0,s1,s2,s3\", real=True)"
   ]
  },
  {
   "cell_type": "code",
   "execution_count": 5,
   "metadata": {
    "collapsed": false
   },
   "outputs": [
    {
     "name": "stdout",
     "output_type": "stream",
     "text": [
      "Poly(z**3 - 3*exp(-0.14*a)*z**2 + 3*exp(-0.28*a)*z - exp(-0.42*a), z, domain='ZZ(exp(0.14*a))')\n",
      "Poly(1.0*z**4 - 1.45274391357953*z**3 + 0.571257370977114*z**2, z, domain='RR')\n"
     ]
    }
   ],
   "source": [
    "pc1 = -wn*zeta + I*wn*sy.sqrt(1-zeta**2)\n",
    "pc2 = -wn*zeta - I*wn*sy.sqrt(1-zeta**2)\n",
    "hn = 0.14\n",
    "rd = exp(-wn*zeta*h)\n",
    "argd = wn*sy.sqrt(1-zeta**2)*h\n",
    "reald = rd*sy.cos(argd)\n",
    "imd = rd*sy.sin(argd)\n",
    "Ac = sy.poly( ((z**2 - 2*reald*z + rd**2)*z**2).subs(h,hn).subs(wn, 2*np.sqrt(2)).subs(zeta, 0.707), z ) \n",
    "ad = sy.exp(-a*h).subs(h,hn)\n",
    "Ao = sy.poly( ((z-ad)**3).subs(h, hn), z )\n",
    "Acl = Ac*Ao\n",
    "\n",
    "# Assume anti-aliasing filter corresponding to a delay of two sample periods\n",
    "A = sy.poly( ((z-1)*(z-exp(-2*h))*z**2).subs(h,hn), z )\n",
    "B = sy.poly( ((-1+h+exp(-2*h))*z + 1-(1+h)*exp(-2*h)).subs(h,hn), z)\n",
    "\n",
    "print Ao\n",
    "print Ac"
   ]
  },
  {
   "cell_type": "code",
   "execution_count": 4,
   "metadata": {
    "collapsed": false
   },
   "outputs": [
    {
     "name": "stdout",
     "output_type": "stream",
     "text": [
      "Poly(-0.104216258544275*z + 0.138406534740473, z, domain='RR')\n",
      "Poly(1.0*z**4 - 1.75578374145573*z**3 + 0.755783741455725*z**2, z, domain='RR')\n"
     ]
    }
   ],
   "source": [
    "print B\n",
    "print A"
   ]
  },
  {
   "cell_type": "code",
   "execution_count": 6,
   "metadata": {
    "collapsed": false
   },
   "outputs": [
    {
     "name": "stdout",
     "output_type": "stream",
     "text": [
      "Poly(1.0*z**7 + (1.0*r1 - 1.75578374145573)*z**6 + (-1.75578374145573*r1 + 1.0*r2 + 0.755783741455725)*z**5 + (0.755783741455725*r1 - 1.75578374145573*r2 + 1.0*r3 - 0.104216258544275*s0)*z**4 + (0.755783741455725*r2 - 1.75578374145573*r3 + 0.138406534740473*s0 - 0.104216258544275*s1)*z**3 + (0.755783741455725*r3 + 0.138406534740473*s1 - 0.104216258544275*s2)*z**2 + (0.138406534740473*s2 - 0.104216258544275*s3)*z + 0.138406534740473*s3, z, domain='RR[r1,r2,r3,s0,s1,s2,s3]')\n",
      "Poly(1.0*z**7 + 1.0*(-1.45274391357953*exp(0.14*a) - 3.0)*exp(-0.14*a)*z**6 + 1.0*(4.35823174073858*exp(0.14*a) + 0.571257370977114*exp(0.28*a) + 3.0)*exp(-0.28*a)*z**5 + 1.0*(-4.35823174073858*exp(0.14*a) - 1.71377211293134*exp(0.28*a) - 1.0)*exp(-0.42*a)*z**4 + 1.0*(1.71377211293134*exp(0.14*a) + 1.45274391357953)*exp(-0.42*a)*z**3 - 0.571257370977114*exp(-0.42*a)*z**2, z, domain='RR(exp(0.14*a))')\n"
     ]
    }
   ],
   "source": [
    "R = sy.poly(z**3 + r1*z**2+r2*z+r3, z)\n",
    "S = sy.poly(s0*z**3 + s1*z**2 + s2*z + s3, z)\n",
    "print A*R+B*S\n",
    "print Acl\n",
    "\n",
    "dioph=(A*R+B*S-Acl).all_coeffs()"
   ]
  },
  {
   "cell_type": "code",
   "execution_count": 7,
   "metadata": {
    "collapsed": false
   },
   "outputs": [
    {
     "name": "stdout",
     "output_type": "stream",
     "text": [
      "{s3: 0.0, s0: -11.1379297663082*exp(-0.42*a) + 35.6524726341564*exp(-0.28*a) - 37.3444331011921*exp(-0.14*a) + 12.8743964377876, r3: -2.16075336817355*exp(-0.42*a) + 4.62468678941254*exp(-0.28*a) - 4.93453519222313*exp(-0.14*a) + 1.72290452579443, s2: 0.0, s1: 7.67163845244122*exp(-0.42*a) - 25.253598692555*exp(-0.28*a) + 26.9455591595906*exp(-0.14*a) - 9.40810512392042, r1: -3.0*exp(-0.14*a) + 0.303039827876199, r2: 3.0*exp(-0.28*a) - 0.90911948362861*exp(-0.14*a) + 0.347546032319962}\n"
     ]
    }
   ],
   "source": [
    "sol=sy.solve(dioph, (r1,r2, r3, s0,s1,s2, s3))\n",
    "print sol"
   ]
  },
  {
   "cell_type": "code",
   "execution_count": 8,
   "metadata": {
    "collapsed": false
   },
   "outputs": [],
   "source": [
    "# Reorganize solution expression for matlab code generation\n",
    "sol_expr = ('RST_example_aliasing', [sol[r1], sol[r2], sol[r3], sol[s0], sol[s1], sol[s2], sol[s3], Ac.subs(z, 1)/B.subs(z,1), ad])  "
   ]
  },
  {
   "cell_type": "code",
   "execution_count": 9,
   "metadata": {
    "collapsed": false
   },
   "outputs": [],
   "source": [
    "# Export to matlab code\n",
    "[(m_name, m_code)] = codegen(sol_expr, 'octave')"
   ]
  },
  {
   "cell_type": "code",
   "execution_count": 10,
   "metadata": {
    "collapsed": false
   },
   "outputs": [
    {
     "name": "stdout",
     "output_type": "stream",
     "text": [
      "function [out1, out2, out3, out4, out5, out6, out7, out8, out9] = RST_example_aliasing(a)\n",
      "  %RST_EXAMPLE_ALIASING  Autogenerated by sympy\n",
      "  %   Code generated with sympy 0.7.6\n",
      "  %\n",
      "  %   See http://www.sympy.org/ for more information.\n",
      "  %\n",
      "  %   This file is part of 'project'\n",
      "\n",
      "  out1 = -3.0*exp(-0.14*a) + 0.303039827876199;\n",
      "  out2 = 3.0*exp(-0.28*a) - 0.90911948362861*exp(-0.14*a) + 0.347546032319962;\n",
      "  out3 = -2.16075336817355*exp(-0.42*a) + 4.62468678941254*exp(-0.28*a) - 4.93453519222313*exp(-0.14*a) + 1.72290452579443;\n",
      "  out4 = -11.1379297663082*exp(-0.42*a) + 35.6524726341564*exp(-0.28*a) - 37.3444331011921*exp(-0.14*a) + 12.8743964377876;\n",
      "  out5 = 7.67163845244122*exp(-0.42*a) - 25.253598692555*exp(-0.28*a) + 26.9455591595906*exp(-0.14*a) - 9.40810512392042;\n",
      "  out6 = 0.0;\n",
      "  out7 = 0.0;\n",
      "  out8 = 3.46629131386677;\n",
      "  out9 = exp(-0.14*a);\n",
      "\n",
      "end\n",
      "\n"
     ]
    }
   ],
   "source": [
    "print m_code\n",
    "with open(\"/home/kjartan/Dropbox/undervisning/tec/MR2007/matlab/RST_example_aliasing.m\", \"w\") as text_file:\n",
    "    text_file.write(m_code)"
   ]
  }
 ],
 "metadata": {
  "kernelspec": {
   "display_name": "Python 2",
   "language": "python",
   "name": "python2"
  },
  "language_info": {
   "codemirror_mode": {
    "name": "ipython",
    "version": 2
   },
   "file_extension": ".py",
   "mimetype": "text/x-python",
   "name": "python",
   "nbconvert_exporter": "python",
   "pygments_lexer": "ipython2",
   "version": "2.7.6"
  }
 },
 "nbformat": 4,
 "nbformat_minor": 0
}
