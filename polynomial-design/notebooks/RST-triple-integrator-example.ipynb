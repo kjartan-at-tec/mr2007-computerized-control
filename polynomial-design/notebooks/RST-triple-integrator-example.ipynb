{
 "cells": [
  {
   "cell_type": "code",
   "execution_count": 3,
   "metadata": {
    "collapsed": true
   },
   "outputs": [],
   "source": [
    "import numpy as np\n",
    "import sympy as sy\n",
    "from sympy.utilities.codegen import codegen\n",
    "import control.matlab as cm\n",
    "import re\n",
    "import matplotlib.pyplot as plt\n",
    "from scipy import signal\n",
    "sy.init_printing()"
   ]
  },
  {
   "cell_type": "code",
   "execution_count": 16,
   "metadata": {},
   "outputs": [
    {
     "name": "stdout",
     "output_type": "stream",
     "text": [
      "[2.0*a + 1.0*r1 + 0.166666666666667*s0 - 0.6, -1.0*a**2 - 4.8*a - 3.0*r1 + 1.0*r2 + 0.666666666666667*s0 + 0.166666666666667*s1 + 1.08, 2.4*a**2 + 3.84*a + 3.0*r1 - 3.0*r2 + 0.166666666666667*s0 + 0.666666666666667*s1 + 0.166666666666667*s2 - 0.488, -1.92*a**2 - 1.024*a - 1.0*r1 + 3.0*r2 + 0.166666666666667*s1 + 0.666666666666667*s2, 0.512*a**2 - 1.0*r2 + 0.166666666666667*s2]\n",
      "Poly(1.0*z**5 + (-2.0*a - 2.4)*z**4 + (1.0*a**2 + 4.8*a + 1.92)*z**3 + (-2.4*a**2 - 3.84*a - 0.512)*z**2 + (1.92*a**2 + 1.024*a)*z - 0.512*a**2, z, domain='RR[a]')\n",
      "Poly(z**5 + (r1 - 3)*z**4 + (-3*r1 + r2 + 3)*z**3 + (3*r1 - 3*r2 - 1)*z**2 + (-r1 + 3*r2)*z - r2, z, domain='ZZ[r1,r2]')\n",
      "Poly(1.0*z**3 - 2.4*z**2 + 1.92*z - 0.512, z, domain='RR')\n",
      "Poly(z**5 + (r1 - 3)*z**4 + (-3*r1 + r2 + 3)*z**3 + (3*r1 - 3*r2 - 1)*z**2 + (-r1 + 3*r2)*z - r2, z, domain='ZZ[r1,r2]')\n",
      "Poly(1.0*z**5 + (1.0*r1 + 0.166666666666667*s0 - 3.0)*z**4 + (-3.0*r1 + 1.0*r2 + 0.666666666666667*s0 + 0.166666666666667*s1 + 3.0)*z**3 + (3.0*r1 - 3.0*r2 + 0.166666666666667*s0 + 0.666666666666667*s1 + 0.166666666666667*s2 - 1.0)*z**2 + (-1.0*r1 + 3.0*r2 + 0.166666666666667*s1 + 0.666666666666667*s2)*z - 1.0*r2 + 0.166666666666667*s2, z, domain='RR[r1,r2,s0,s1,s2]')\n"
     ]
    }
   ],
   "source": [
    "z = sy.symbols('z', real=False)\n",
    "r1,r2,s0,s1,s2 = sy.symbols('r1,r2,s0,s1,s2', real=True)\n",
    "hh,a = sy.symbols('h,a', real=True, positive=True)\n",
    "\n",
    "\n",
    "# The plant\n",
    "Bp = sy.poly(1./6*(z**2 + 4*z + 1), z)\n",
    "Ap = sy.poly( sy.expand((z-1)**3), z)\n",
    "\n",
    "# The desired characteristic polynomial\n",
    "aa = 0.1\n",
    "Ac = sy.poly( sy.expand((z-0.8)**3), z)\n",
    "Ao = sy.poly(sy.expand((z-a)**2), z)\n",
    "Acl = Ac*Ao\n",
    "\n",
    "Rp = sy.poly(z**2+r1*z+r2, z)\n",
    "Sp = sy.poly(s0*z**2 + s1*z + s2, z)\n",
    "dioph=(Ap*Rp + Bp*Sp - Acl).all_coeffs()\n",
    "print dioph\n",
    "print Acl\n",
    "print Ap*Rp\n",
    "print Ac\n",
    "print Ap*Rp\n",
    "print Ap*Rp + Bp*Sp"
   ]
  },
  {
   "cell_type": "code",
   "execution_count": 17,
   "metadata": {},
   "outputs": [
    {
     "name": "stdout",
     "output_type": "stream",
     "text": [
      "r_1 = 0.299367\n",
      "r_2 = 0.089313\n",
      "s_0 = 0.603800\n",
      "s_1 = -1.102480\n",
      "s_1 = -1.102480\n"
     ]
    }
   ],
   "source": [
    "sol = sy.solve(dioph, (r1,r2,s0,s1,s2))\n",
    "print 'r_1 = %f' % sol[r1].subs(a, aa)\n",
    "print 'r_2 = %f' % sol[r2].subs(a, aa)\n",
    "print 's_0 = %f' % sol[s0].subs(a, aa)\n",
    "print 's_1 = %f' % sol[s1].subs(a, aa)\n",
    "print 's_1 = %f' % sol[s1].subs(a, aa)"
   ]
  },
  {
   "cell_type": "code",
   "execution_count": 18,
   "metadata": {},
   "outputs": [
    {
     "data": {
      "text/plain": [
       "array([ 0.29885336,  0.29885336])"
      ]
     },
     "execution_count": 18,
     "metadata": {},
     "output_type": "execute_result"
    }
   ],
   "source": [
    "# Check stability of the feedback controller\n",
    "np.abs(np.roots([1, sol[r1].subs(a, aa), sol[r2].subs(a, aa) ]))"
   ]
  },
  {
   "cell_type": "code",
   "execution_count": 19,
   "metadata": {},
   "outputs": [
    {
     "name": "stdout",
     "output_type": "stream",
     "text": [
      "t_0 = 0.008000\n"
     ]
    }
   ],
   "source": [
    "t0 = Ac.evalf(subs={z:1})/Bp.evalf(subs={z:1,})\n",
    "print 't_0 = %f' % t0\n",
    "R = Rp.subs(sol)\n",
    "S = Sp.subs(sol)\n",
    "T = t0*Ao\n"
   ]
  },
  {
   "cell_type": "code",
   "execution_count": null,
   "metadata": {
    "collapsed": true
   },
   "outputs": [],
   "source": []
  },
  {
   "cell_type": "code",
   "execution_count": 8,
   "metadata": {},
   "outputs": [
    {
     "data": {
      "text/plain": [
       "3.2"
      ]
     },
     "execution_count": 8,
     "metadata": {},
     "output_type": "execute_result"
    }
   ],
   "source": [
    "1.0/0.3125"
   ]
  },
  {
   "cell_type": "markdown",
   "metadata": {},
   "source": []
  },
  {
   "cell_type": "code",
   "execution_count": 53,
   "metadata": {},
   "outputs": [
    {
     "name": "stdout",
     "output_type": "stream",
     "text": [
      "[ 1.   -0.7  -0.08  0.  ]\n",
      "[ 1.  -0.7  0.   0. ]\n",
      "<type 'numpy.float64'>\n",
      "\n",
      "   1\n",
      "-------\n",
      "s + 0.5\n",
      "\n"
     ]
    }
   ],
   "source": [
    "num = sy.list2numpy((Ap*R).all_coeffs(), dtype=np.float64)\n",
    "den = sy.list2numpy((Ac*Ao).all_coeffs(), dtype=np.float64)\n",
    "print num\n",
    "print den\n",
    "print type(num[0])\n",
    "#Hd = cm.tf(num[:-1], den[:-1], -1)\n",
    "Hd = cm.tf([1], [1, 0.5])\n",
    "print Hd\n",
    "ystep, t = cm.step(Hd, np.arange(30))\n",
    "plt.figure()\n",
    "plt.plot(t, ystep)\n",
    "plt.show()"
   ]
  },
  {
   "cell_type": "code",
   "execution_count": 45,
   "metadata": {
    "collapsed": true
   },
   "outputs": [],
   "source": [
    "# Reorganize solution expression for matlab code generation\n",
    "sol_expr = ('RST_DC_lab', [Bp.all_coeffs()[0], Bp.all_coeffs()[1],\n",
    "                           Ap.all_coeffs()[1], Ap.all_coeffs()[2],\n",
    "                           sol[r1], sol[s0], sol[s1], A2p.subs(z, 1)/Bp.subs(z,1), h,np.exp(h*po1) ])  "
   ]
  },
  {
   "cell_type": "code",
   "execution_count": 46,
   "metadata": {
    "collapsed": true
   },
   "outputs": [],
   "source": [
    "# Export to matlab code\n",
    "[(m_name, m_code)] = codegen(sol_expr, 'octave')"
   ]
  },
  {
   "cell_type": "code",
   "execution_count": 47,
   "metadata": {},
   "outputs": [
    {
     "name": "stdout",
     "output_type": "stream",
     "text": [
      "% function [b0, b1, a1, a2, r1, s0, s1, t0, h, b00] = RST_DC_lab()\n",
      "  %RST_DC_LAB  Autogenerated by sympy\n",
      "  %   Code generated with sympy 0.7.6.1\n",
      "  %\n",
      "  %   See http://www.sympy.org/ for more information.\n",
      "  %\n",
      "  %   This file is part of 'project'\n",
      "\n",
      "  b0 = 0.0905485642505141;\n",
      "  b1 = 0.0860565404440641;\n",
      "  a1 = -1.85841144421398;\n",
      "  a2 = 0.858411444213975;\n",
      "  r1 = -0.632898354797954;\n",
      "  s0 = 0.37929607879435;\n",
      "  s1 = -0.324459627611956;\n",
      "  t0 = 0.37087688639506;\n",
      "  h = 0.04;\n",
      "  b00 = 0.852143788966211;\n",
      "\n",
      "\n",
      "\n"
     ]
    }
   ],
   "source": [
    "m_code = m_code.replace(\"out1\", \"b0\").replace(\"out2\", \"b1\").replace(\"out3\", \"a1\").replace(\"out4\", \"a2\")\n",
    "m_code = m_code.replace(\"out5\", \"r1\").replace(\"out6\", \"s0\").replace(\"out7\", \"s1\").replace(\"out8\", \"t0\")\n",
    "m_code = m_code.replace(\"out9\", \"h\").replace(\"out10\", \"obsPole\")\n",
    "m_code = m_code.replace(\"function \", \"% function \")\n",
    "m_code = m_code.replace(\"end\", \"\")\n",
    "print m_code\n",
    "with open(\"/home/kjartan/Dropbox/undervisning/tec/MR2007/labs/dc_rst_design.m\", \"w\") as text_file:\n",
    "    text_file.write(m_code)"
   ]
  },
  {
   "cell_type": "code",
   "execution_count": 40,
   "metadata": {
    "collapsed": true
   },
   "outputs": [],
   "source": [
    "cm.step?"
   ]
  },
  {
   "cell_type": "code",
   "execution_count": 10,
   "metadata": {},
   "outputs": [
    {
     "name": "stdout",
     "output_type": "stream",
     "text": [
      "\n",
      "  0.09055 z + 0.08606\n",
      "----------------------\n",
      "z^2 - 1.858 z + 0.8584\n",
      "\n",
      "dt = 0.04\n",
      "\n",
      "\n",
      "  0.09055 z + 0.08606\n",
      "----------------------\n",
      "z^2 - 1.858 z + 0.8584\n",
      "\n",
      "dt = 0.04\n",
      "\n"
     ]
    }
   ],
   "source": [
    "\n",
    "G = Km * cm.tf([1], [tau, 1, 0])\n",
    "Gd = Km * cm.tf([tau*(hpt-1+np.exp(-hpt)), tau*(1-(1+hpt)*np.exp(-hpt))], [1, -(1+np.exp(-hpt)), np.exp(-hpt)], h)\n",
    "Gd2 = cm.c2d(G, h)\n",
    "print Gd\n",
    "print Gd2"
   ]
  },
  {
   "cell_type": "code",
   "execution_count": 33,
   "metadata": {},
   "outputs": [
    {
     "name": "stdout",
     "output_type": "stream",
     "text": [
      "Poly(z**2 - 1.58555290309441*z - (-0.792776451547206 + 0.168974310731771*I)*(0.792776451547206 + 0.168974310731771*I), z, domain='EX')\n",
      "0.0714939167206446\n",
      "Poly(0.00133942860759726*z + 0.00124712240506047, z, domain='RR')\n",
      "0.00258655101265772\n"
     ]
    }
   ],
   "source": [
    "print A2p\n",
    "print A2p.evalf(subs={z:1})\n",
    "print Bp\n",
    "print Bp.evalf(subs={z:1})\n"
   ]
  },
  {
   "cell_type": "code",
   "execution_count": 4,
   "metadata": {},
   "outputs": [
    {
     "data": {
      "text/plain": [
       "0.042426406871192847"
      ]
     },
     "execution_count": 4,
     "metadata": {},
     "output_type": "execute_result"
    }
   ],
   "source": [
    "0.3/(5*np.sqrt(2))"
   ]
  },
  {
   "cell_type": "code",
   "execution_count": 6,
   "metadata": {},
   "outputs": [
    {
     "data": {
      "text/plain": [
       "0.16897431073177133"
      ]
     },
     "execution_count": 6,
     "metadata": {},
     "output_type": "execute_result"
    }
   ],
   "source": [
    "np.exp(-0.21)*np.sin(0.21)"
   ]
  },
  {
   "cell_type": "code",
   "execution_count": 7,
   "metadata": {},
   "outputs": [
    {
     "data": {
      "text/plain": [
       "0.65704681981505675"
      ]
     },
     "execution_count": 7,
     "metadata": {},
     "output_type": "execute_result"
    }
   ],
   "source": [
    "np.exp(0.03*(-14))"
   ]
  },
  {
   "cell_type": "code",
   "execution_count": 42,
   "metadata": {},
   "outputs": [
    {
     "data": {
      "text/plain": [
       "31.182799999999997"
      ]
     },
     "execution_count": 42,
     "metadata": {},
     "output_type": "execute_result"
    }
   ],
   "source": [
    " 0.746*41.8\n"
   ]
  },
  {
   "cell_type": "code",
   "execution_count": null,
   "metadata": {
    "collapsed": true
   },
   "outputs": [],
   "source": []
  }
 ],
 "metadata": {
  "kernelspec": {
   "display_name": "Python 2",
   "language": "python",
   "name": "python2"
  },
  "language_info": {
   "codemirror_mode": {
    "name": "ipython",
    "version": 2
   },
   "file_extension": ".py",
   "mimetype": "text/x-python",
   "name": "python",
   "nbconvert_exporter": "python",
   "pygments_lexer": "ipython2",
   "version": "2.7.13"
  }
 },
 "nbformat": 4,
 "nbformat_minor": 1
}
