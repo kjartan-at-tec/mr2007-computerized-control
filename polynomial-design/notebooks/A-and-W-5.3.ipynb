{
 "cells": [
  {
   "cell_type": "markdown",
   "metadata": {},
   "source": [
    "# Incremental control example\n",
    "Åström & Wittenmark Problem 5.3\n",
    "\n",
    "We have plant model\n",
    "$$ H(z) = \\frac{z+0.7}{z^2 - 1.8z + 0.81} $$\n",
    "and controller\n",
    "$$ F_b(z) = \\frac{s_0z^2 + s_1z + s_2}{(z-1)(z + r_1)} $$\n",
    "Want closed-loop characteristic polynomial $A_c(z) = z^2 - 1.5z + 0.7$ and observer poles in the range $0<\\alpha<a$.\n",
    "### Diophantine equation\n",
    "$$  (z^2 - 1.8z + 0.81)(z-1)(z+r_1) + (z+0.7)(s_0z^2 + s_1z + s_2) = (z-\\alpha)^2(z^2-1.5z+0.7) $$\n",
    "\\begin{align}\n",
    "(z^2 - 1.8z + 0.81)(z^2 +(r_1-1)z - r_1) + s_0z^3 + s_1z^2 + s_2z + 0.7s_0z^2 + 0.7s_1z + 0.7s_2 &= \\\\ \\qquad\\qquad\\qquad\\qquad\\qquad\\qquad (z^2 -2\\alpha z + \\alpha^2)(z^2 - 1.5z + 0.7)\\\\\n",
    "(z^4 - 1.8z^3 + 0.81z^2 + (r_1-1)z^3 - 1.8(r_1-1)z^2 + 0.81(r_1-1)z - r_1z^2 + 1.8r_1z - 0.81r_1 + \\\\\n",
    "\\qquad\\qquad\\qquad s_0z^3 + s_1z^2 + s_2z + 0.7s_0z^2 + 0.7s_1z + 0.7s_2 = \\\\\n",
    "\\qquad\\qquad\\qquad\\qquad\\qquad\\qquad z^4 - 2\\alpha z^3 + \\alpha^2 z^2 -1.5z^3 + 3\\alpha z^2 - 1.5\\alpha^2 z + 0.7z^2 - 1.4\\alpha z + 0.7\\alpha^2\n",
    "\\end{align}"
   ]
  },
  {
   "cell_type": "markdown",
   "metadata": {},
   "source": [
    "Resulting equations when setting coefficients equal\n",
    "\\begin{align}\n",
    "\\begin{cases} z^3: & r_1 + s_0 = 1.8 + 1 -1.5 -2\\alpha\\\\\n",
    "              z^2: & -2.8 r_1 + 0.7s_0 + s_1 = -0.81 -1.8 +0.7 + \\alpha^2 + 3\\alpha\\\\\n",
    "              z^1: &  2.61r_1 + 0.7s_1 + s_2 = 0.81 -1.5\\alpha^2 - 1.4\\alpha\\\\\n",
    "              z^0: & -0.81r_1 + 0.7s_2 = 0.7\\alpha^2  \\end{cases}\n",
    "\\end{align}\n",
    "\n",
    "### Feedforward part of controller\n",
    "$$T(z) = t_0A_o(z) = t_0(z-\\alpha)^2$$\n",
    "$$ G_c(z) = \\frac{T(z)B(z)}{A_o(z)A_c(z)} = \\frac{t_0 B(z)}{A_c(z)}, \\quad \\text{want}\\, G_c(1)=1$$\n",
    "$$t_0 = \\frac{A_c(1)}{B(1)} = \\frac{1 - 1.5+0.7}{1+0.7} = \\frac{2}{17}$$"
   ]
  },
  {
   "cell_type": "code",
   "execution_count": null,
   "metadata": {},
   "outputs": [],
   "source": [
    "import numpy as np\n",
    "import matplotlib.pyplot as plt\n",
    "import sympy as sy\n",
    "import control.matlab as cm\n",
    "import ipywidgets as widgets\n",
    "%matplotlib widget"
   ]
  },
  {
   "cell_type": "markdown",
   "metadata": {},
   "source": [
    "## Symbolic solution"
   ]
  },
  {
   "cell_type": "code",
   "execution_count": null,
   "metadata": {},
   "outputs": [],
   "source": [
    "sy.init_printing()\n",
    "alphaa, hh, r1, s0, s1,s2 = sy.symbols('alpha, h, r1, s0, s1,s2', \n",
    "                                        real=True)\n",
    "zz = sy.symbols('z', real=False)"
   ]
  },
  {
   "cell_type": "code",
   "execution_count": null,
   "metadata": {},
   "outputs": [],
   "source": [
    "A = zz**2 - 1.8*zz + 0.81\n",
    "B = zz+0.7\n",
    "R = (zz-1)*(zz+r1)\n",
    "S = s0*zz**2 + s1*zz + s2\n",
    "LHS = sy.Poly(A*R + B*S, zz)\n",
    "LHS"
   ]
  },
  {
   "cell_type": "code",
   "execution_count": null,
   "metadata": {},
   "outputs": [],
   "source": [
    "RHS = sy.Poly((zz-alphaa)**2*(zz**2 - 1.5*zz + 0.7), zz)\n",
    "Dioph = LHS-RHS\n",
    "coeffs = Dioph.all_coeffs()\n",
    "coeffs"
   ]
  },
  {
   "cell_type": "code",
   "execution_count": null,
   "metadata": {},
   "outputs": [],
   "source": [
    "sol=sy.solve(coeffs, [r1,s0, s1,s2]);"
   ]
  },
  {
   "cell_type": "markdown",
   "metadata": {},
   "source": [
    "## Effect of observer pole"
   ]
  },
  {
   "cell_type": "code",
   "execution_count": null,
   "metadata": {},
   "outputs": [],
   "source": [
    "h = 1\n",
    "# The plant\n",
    "H = cm.tf([1, 0.7], [1, -1.8, 0.81], h)\n",
    "\n",
    "\n",
    "# set up plot\n",
    "fig, ax = plt.subplots(figsize=(8, 4))\n",
    "#ax.set_ylim([-.1, 4])\n",
    "ax.grid(True)\n",
    "\n",
    "def bode_S_T_and_Gc(alpha):\n",
    "    \"\"\"\n",
    "    Returns the bode plot data for S and T given observer pole\n",
    "    \"\"\"\n",
    "    r1n = float(sol[r1].subs({alphaa: alpha}))\n",
    "    s0n = float(sol[s0].subs({alphaa: alpha}))\n",
    "    s1n = float(sol[s1].subs({alphaa: alpha}))\n",
    "    s2n = float(sol[s2].subs({alphaa: alpha}))\n",
    "    \n",
    "    B = [1, 0.7]\n",
    "    Ac = [1, -1.5, 0.7]\n",
    "    Rp = np.convolve([1, r1n],[1,-1])\n",
    "    Fb = cm.tf([s0n, s1n, s2n], Rp , h)\n",
    "    Ff = np.sum(Ac)/np.sum(B) * cm.tf(np.convolve([1, -alpha], [1, -alpha]), Rp, h)\n",
    "                    \n",
    "    #Gc = cm.minreal(Ff * cm.feedback(H, Fb))\n",
    "    Gc = Ff * cm.feedback(H, Fb)\n",
    "    Ss = cm.feedback(1, H*Fb)\n",
    "    Ts = cm.feedback(H*Fb, 1)\n",
    "\n",
    "    Gcbode = cm.bode(Gc, omega_limits=[0.01, 3], Plot=False)\n",
    "    Sbode = cm.bode(Ss, omega_limits=[0.01, 3], Plot=False)\n",
    "    Tbode = cm.bode(Ts, omega_limits=[0.01,3], Plot=False)\n",
    "    \n",
    "    return (Sbode, Tbode, Gcbode)\n",
    "    \n",
    "\n",
    "@widgets.interact(alpha=(0, 0.9, 0.02))\n",
    "def update(alpha = 0.4):\n",
    "    \"\"\"Remove old lines from plot and plot new one\"\"\"\n",
    "    [l.remove() for l in ax.lines]\n",
    "    [l.remove() for l in ax.lines]\n",
    "    Sb, Tb, Gb = bode_S_T_and_Gc(alpha)\n",
    "    sh = ax.loglog(Sb[2], Sb[0], color='C0', label='Ss')\n",
    "    th = ax.loglog(Tb[2], Tb[0], color='C1', label='Ts')\n",
    "    gh = ax.loglog(Gb[2], Gb[0], color='C2', label='Gc')\n",
    "    ax.legend(loc='lower center')\n",
    "    "
   ]
  },
  {
   "cell_type": "code",
   "execution_count": null,
   "metadata": {},
   "outputs": [],
   "source": [
    "h = 1\n",
    "# The plant\n",
    "H = cm.tf([1, 0.7], [1, -1.8, 0.81], h)\n",
    "\n",
    "\n",
    "# set up plot\n",
    "fig, ax = plt.subplots(3,1,figsize=(8, 6), sharex=True )\n",
    "ax[0].set_ylabel('Resp to pert')\n",
    "ax[1].set_ylabel('Resp to noise')\n",
    "ax[2].set_ylabel('Resp to setpoint')\n",
    "def step_S_T_and_Gc(alpha):\n",
    "    \"\"\"\n",
    "    Returns the bode plot data for S and T given observer pole\n",
    "    \"\"\"\n",
    "    r1n = float(sol[r1].subs({alphaa: alpha}))\n",
    "    s0n = float(sol[s0].subs({alphaa: alpha}))\n",
    "    s1n = float(sol[s1].subs({alphaa: alpha}))\n",
    "    s2n = float(sol[s2].subs({alphaa: alpha}))\n",
    "    \n",
    "    B = [1, 0.7]\n",
    "    Ac = [1, -1.5, 0.7]\n",
    "    Rp = np.convolve([1, r1n],[1,-1])\n",
    "    Fb = cm.tf([s0n, s1n, s2n], Rp , h)\n",
    "    Ff = np.sum(Ac)/np.sum(B) * cm.tf(np.convolve([1, -alpha], [1, -alpha]), Rp, h)\n",
    "                    \n",
    "    #Gc = cm.minreal(Ff * cm.feedback(H, Fb))\n",
    "    Gc = Ff * cm.feedback(H, Fb)\n",
    "    Ss = cm.feedback(1, H*Fb)\n",
    "    Ts = cm.feedback(H*Fb, 1)\n",
    "\n",
    "    NN = 50\n",
    "    uu = np.ones(NN)\n",
    "    uu[24:] = 0\n",
    "    tt = np.arange(NN)\n",
    "    Gcstep = cm.lsim(Gc, uu, tt)\n",
    "    Sstep = cm.lsim(Ss, uu, tt)\n",
    "    Tstep = cm.lsim(Ts, uu, tt)\n",
    "    \n",
    "    return (Sstep, Tstep, Gcstep)\n",
    "    \n",
    "\n",
    "@widgets.interact(alpha=(0, 0.9, 0.02))\n",
    "def update(alpha = 0.4):\n",
    "    \"\"\"Remove old lines from plot and plot new one\"\"\"\n",
    "    [[l.remove() for l in ax_.lines] for ax_ in ax]\n",
    "    [[l.remove() for l in ax_.lines] for ax_ in ax]\n",
    "    Sb, Tb, Gb = step_S_T_and_Gc(alpha)\n",
    "    sh = ax[0].stem(Sb[1], Sb[0], markerfmt='C0o', label='Ss')\n",
    "    th = ax[1].stem(Tb[0], markerfmt='C1o', label='Ts')\n",
    "    gh = ax[2].stem(Gb[0], markerfmt='C2o', label='Gc')\n",
    "    "
   ]
  },
  {
   "cell_type": "code",
   "execution_count": null,
   "metadata": {},
   "outputs": [],
   "source": [
    "?plt.subplots"
   ]
  },
  {
   "cell_type": "code",
   "execution_count": null,
   "metadata": {},
   "outputs": [],
   "source": []
  }
 ],
 "metadata": {
  "kernelspec": {
   "display_name": "Python 3",
   "language": "python",
   "name": "python3"
  },
  "language_info": {
   "codemirror_mode": {
    "name": "ipython",
    "version": 3
   },
   "file_extension": ".py",
   "mimetype": "text/x-python",
   "name": "python",
   "nbconvert_exporter": "python",
   "pygments_lexer": "ipython3",
   "version": "3.5.2"
  }
 },
 "nbformat": 4,
 "nbformat_minor": 2
}
