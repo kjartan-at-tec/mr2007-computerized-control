{
 "cells": [
  {
   "cell_type": "code",
   "execution_count": 1,
   "metadata": {},
   "outputs": [],
   "source": [
    "import numpy as np\n",
    "import sympy as sy\n",
    "from sympy.utilities.codegen import codegen\n",
    "import control.matlab as cm\n",
    "import re\n",
    "import matplotlib.pyplot as plt\n",
    "from scipy import signal"
   ]
  },
  {
   "cell_type": "markdown",
   "metadata": {},
   "source": [
    "# Designing RST controller for the harmonic oscillator"
   ]
  },
  {
   "cell_type": "markdown",
   "metadata": {},
   "source": [
    "## The plant model"
   ]
  },
  {
   "cell_type": "code",
   "execution_count": 2,
   "metadata": {},
   "outputs": [
    {
     "data": {
      "text/plain": [
       "array([array([ 1.,  1.]), array([ 1.])], dtype=object)"
      ]
     },
     "execution_count": 2,
     "metadata": {},
     "output_type": "execute_result"
    },
    {
     "data": {
      "image/png": "[encoded data removed]",
      "text/plain": [
       "<Figure size 432x288 with 1 Axes>"
      ]
     },
     "metadata": {},
     "output_type": "display_data"
    }
   ],
   "source": [
    "z = sy.symbols('z', real=False)\n",
    "# The plant model\n",
    "wh = np.pi/6;\n",
    "cwh = np.cos(wh);\n",
    "b1 = 1-cwh;\n",
    "b2 = b1;\n",
    "a1 = -2*cwh;\n",
    "a2 = 1;\n",
    "Bp = sy.poly(b1*z + b2, z)\n",
    "Ap = sy.poly( z**2 + a1*z + a2, z)\n",
    "\n",
    "# Poles and zeros\n",
    "H = cm.tf([0, b1, b2], [1, a1, a2], 1)\n",
    "pz = cm.pzmap(H)\n",
    "np.abs(pz)"
   ]
  },
  {
   "cell_type": "markdown",
   "metadata": {},
   "source": [
    "## Desired poles"
   ]
  },
  {
   "cell_type": "code",
   "execution_count": 3,
   "metadata": {},
   "outputs": [],
   "source": [
    "p1 = 0.6\n",
    "p2 = p1\n",
    "Ac = sy.poly((z-p1)*(z-p2), z)\n",
    "Ao = sy.poly(z, z)"
   ]
  },
  {
   "cell_type": "markdown",
   "metadata": {},
   "source": [
    "## Define and solve Diophantine equation"
   ]
  },
  {
   "cell_type": "code",
   "execution_count": 4,
   "metadata": {},
   "outputs": [
    {
     "name": "stdout",
     "output_type": "stream",
     "text": [
      "[1.0*r1 + 0.133974596215561*s0 - 0.532050807568877, -1.73205080756888*r1 + 0.133974596215561*s0 + 0.133974596215561*s1 + 0.64, 1.0*r1 + 0.133974596215561*s1]\n",
      "Poly(1.0*z**3 - 1.2*z**2 + 0.36*z, z, domain='RR')\n",
      "Poly(1.0*z**3 + (1.0*r1 - 1.73205080756888)*z**2 + (-1.73205080756888*r1 + 1.0)*z + 1.0*r1, z, domain='RR[r1]')\n",
      "Poly(1.0*z**2 - 1.2*z + 0.36, z, domain='RR')\n",
      "Poly(1.0*z**3 + (1.0*r1 - 1.73205080756888)*z**2 + (-1.73205080756888*r1 + 1.0)*z + 1.0*r1, z, domain='RR[r1]')\n",
      "Poly(1.0*z**3 + (1.0*r1 + 0.133974596215561*s0 - 1.73205080756888)*z**2 + (-1.73205080756888*r1 + 0.133974596215561*s0 + 0.133974596215561*s1 + 1.0)*z + 1.0*r1 + 0.133974596215561*s1, z, domain='RR[r1,s0,s1]')\n"
     ]
    }
   ],
   "source": [
    "r1,s0,s1, s2 = sy.symbols('r1,s0,s1, s2', real=True)\n",
    "\n",
    "# Right hand side\n",
    "Acl = Ac*Ao\n",
    "\n",
    "# Left hand side\n",
    "Rp = sy.poly(z+r1, z)\n",
    "Sp = sy.poly(s0*z + s1, z)\n",
    "dioph=(Ap*Rp+Bp*Sp-Acl).all_coeffs()\n",
    "print(dioph)\n",
    "print(Acl)\n",
    "print(Ap*Rp)\n",
    "print(Ac)\n",
    "print(Ap*Rp)\n",
    "print(Ap*Rp + Bp*Sp)"
   ]
  },
  {
   "cell_type": "code",
   "execution_count": 5,
   "metadata": {},
   "outputs": [
    {
     "name": "stdout",
     "output_type": "stream",
     "text": [
      "r_1 = 0.314050\n",
      "s_0 = 1.627180\n",
      "s_1 = -2.344102\n",
      "t_0 = 0.597128\n",
      "0.597128129211021⋅Poly(z, z, domain='ZZ')⋅Poly(0.133974596215561*z + 0.1339745\n",
      "──────────────────────────────────────────────────────────────────────────────\n",
      "                           Poly(1.0*z**3 - 1.2*z**2 + 0.36*z, z, domain='RR') \n",
      "\n",
      "96215561, z, domain='RR')\n",
      "─────────────────────────\n",
      "                         \n",
      "              0.477702503368817              \n",
      "─────────────────────────────────────────────\n",
      "Poly(1.0*z**2 - 1.2*z + 0.36, z, domain='RR')\n",
      "1.00000000000000\n",
      "Poly(1.0*z**3 - 1.2*z**2 + 0.360000000000001*z, z, domain='RR')\n"
     ]
    }
   ],
   "source": [
    "sol = sy.solve(dioph, (r1,s0,s1))\n",
    "print('r_1 = %f' % sol[r1])\n",
    "print('s_0 = %f' % sol[s0])\n",
    "print('s_1 = %f' % sol[s1])\n",
    "\n",
    "t0 = Ac.evalf(subs={z:1})/Bp.evalf(subs={z:1,})\n",
    "print('t_0 = %f' % t0)\n",
    "\n",
    "R = Rp.subs(sol)\n",
    "S = Sp.subs(sol)\n",
    "T = t0*Ao\n",
    "\n",
    "Hc = T*Bp/(Ac*Ao)\n",
    "Hcc = t0*0.8/Ac\n",
    "sy.pretty_print(sy.expand(Hc))\n",
    "sy.pretty_print(sy.expand(Hcc))\n",
    "sy.pretty_print(Hc.evalf(subs={z:1}))\n",
    "\n",
    "sy.pretty_print(sy.simplify(Ap*R + Bp*S))"
   ]
  },
  {
   "cell_type": "code",
   "execution_count": 6,
   "metadata": {},
   "outputs": [
    {
     "data": {
      "text/plain": [
       "3.2"
      ]
     },
     "execution_count": 6,
     "metadata": {},
     "output_type": "execute_result"
    }
   ],
   "source": [
    "1.0/0.3125"
   ]
  },
  {
   "cell_type": "markdown",
   "metadata": {},
   "source": []
  },
  {
   "cell_type": "code",
   "execution_count": 7,
   "metadata": {},
   "outputs": [
    {
     "name": "stdout",
     "output_type": "stream",
     "text": [
      "[ 1.         -1.41800074  0.45604933  0.31405007]\n",
      "[ 1.   -1.2   0.36  0.  ]\n",
      "<class 'numpy.float64'>\n",
      "\n",
      "z^2 - 1.418 z + 0.456\n",
      "---------------------\n",
      "  z^2 - 1.2 z + 0.36\n",
      "\n"
     ]
    },
    {
     "ename": "ValueError",
     "evalue": "negative dimensions are not allowed",
     "output_type": "error",
     "traceback": [
      "\u001b[0;31m---------------------------------------------------------------------------\u001b[0m",
      "\u001b[0;31mValueError\u001b[0m                                Traceback (most recent call last)",
      "\u001b[0;32m<ipython-input-7-a08e99876f6c>\u001b[0m in \u001b[0;36m<module>\u001b[0;34m()\u001b[0m\n\u001b[1;32m      6\u001b[0m \u001b[0mHd\u001b[0m \u001b[0;34m=\u001b[0m \u001b[0mcm\u001b[0m\u001b[0;34m.\u001b[0m\u001b[0mtf\u001b[0m\u001b[0;34m(\u001b[0m\u001b[0mnum\u001b[0m\u001b[0;34m[\u001b[0m\u001b[0;34m:\u001b[0m\u001b[0;34m-\u001b[0m\u001b[0;36m1\u001b[0m\u001b[0;34m]\u001b[0m\u001b[0;34m,\u001b[0m \u001b[0mden\u001b[0m\u001b[0;34m[\u001b[0m\u001b[0;34m:\u001b[0m\u001b[0;34m-\u001b[0m\u001b[0;36m1\u001b[0m\u001b[0;34m]\u001b[0m\u001b[0;34m,\u001b[0m \u001b[0;34m-\u001b[0m\u001b[0;36m1\u001b[0m\u001b[0;34m)\u001b[0m\u001b[0;34m\u001b[0m\u001b[0m\n\u001b[1;32m      7\u001b[0m \u001b[0mprint\u001b[0m\u001b[0;34m(\u001b[0m\u001b[0mHd\u001b[0m\u001b[0;34m)\u001b[0m\u001b[0;34m\u001b[0m\u001b[0m\n\u001b[0;32m----> 8\u001b[0;31m \u001b[0mystep\u001b[0m\u001b[0;34m,\u001b[0m \u001b[0mt\u001b[0m \u001b[0;34m=\u001b[0m \u001b[0mcm\u001b[0m\u001b[0;34m.\u001b[0m\u001b[0mstep\u001b[0m\u001b[0;34m(\u001b[0m\u001b[0mHd\u001b[0m\u001b[0;34m)\u001b[0m\u001b[0;34m\u001b[0m\u001b[0m\n\u001b[0m\u001b[1;32m      9\u001b[0m \u001b[0mplt\u001b[0m\u001b[0;34m.\u001b[0m\u001b[0mfigure\u001b[0m\u001b[0;34m(\u001b[0m\u001b[0;34m)\u001b[0m\u001b[0;34m\u001b[0m\u001b[0m\n\u001b[1;32m     10\u001b[0m \u001b[0mplt\u001b[0m\u001b[0;34m.\u001b[0m\u001b[0mplot\u001b[0m\u001b[0;34m(\u001b[0m\u001b[0mt\u001b[0m\u001b[0;34m,\u001b[0m \u001b[0mystep\u001b[0m\u001b[0;34m)\u001b[0m\u001b[0;34m\u001b[0m\u001b[0m\n",
      "\u001b[0;32m~/.local/lib/python3.5/site-packages/control/matlab/timeresp.py\u001b[0m in \u001b[0;36mstep\u001b[0;34m(sys, T, X0, input, output, return_x)\u001b[0m\n\u001b[1;32m     60\u001b[0m \u001b[0;34m\u001b[0m\u001b[0m\n\u001b[1;32m     61\u001b[0m     T, yout, xout = step_response(sys, T, X0, input, output,\n\u001b[0;32m---> 62\u001b[0;31m                                   transpose = True, return_x=True)\n\u001b[0m\u001b[1;32m     63\u001b[0m \u001b[0;34m\u001b[0m\u001b[0m\n\u001b[1;32m     64\u001b[0m     \u001b[0;32mif\u001b[0m \u001b[0mreturn_x\u001b[0m\u001b[0;34m:\u001b[0m\u001b[0;34m\u001b[0m\u001b[0m\n",
      "\u001b[0;32m~/.local/lib/python3.5/site-packages/control/timeresp.py\u001b[0m in \u001b[0;36mstep_response\u001b[0;34m(sys, T, X0, input, output, transpose, return_x)\u001b[0m\n\u001b[1;32m    426\u001b[0m \u001b[0;34m\u001b[0m\u001b[0m\n\u001b[1;32m    427\u001b[0m     T, yout, xout = forced_response(sys, T, U, X0,\n\u001b[0;32m--> 428\u001b[0;31m                                      transpose=transpose)\n\u001b[0m\u001b[1;32m    429\u001b[0m \u001b[0;34m\u001b[0m\u001b[0m\n\u001b[1;32m    430\u001b[0m     \u001b[0;32mif\u001b[0m \u001b[0mreturn_x\u001b[0m\u001b[0;34m:\u001b[0m\u001b[0;34m\u001b[0m\u001b[0m\n",
      "\u001b[0;32m~/.local/lib/python3.5/site-packages/control/timeresp.py\u001b[0m in \u001b[0;36mforced_response\u001b[0;34m(sys, T, U, X0, transpose)\u001b[0m\n\u001b[1;32m    323\u001b[0m         \u001b[0;31m# Discrete time simulation using signal processing toolbox\u001b[0m\u001b[0;34m\u001b[0m\u001b[0;34m\u001b[0m\u001b[0m\n\u001b[1;32m    324\u001b[0m         \u001b[0mdsys\u001b[0m \u001b[0;34m=\u001b[0m \u001b[0;34m(\u001b[0m\u001b[0mA\u001b[0m\u001b[0;34m,\u001b[0m \u001b[0mB\u001b[0m\u001b[0;34m,\u001b[0m \u001b[0mC\u001b[0m\u001b[0;34m,\u001b[0m \u001b[0mD\u001b[0m\u001b[0;34m,\u001b[0m \u001b[0msys\u001b[0m\u001b[0;34m.\u001b[0m\u001b[0mdt\u001b[0m\u001b[0;34m)\u001b[0m\u001b[0;34m\u001b[0m\u001b[0m\n\u001b[0;32m--> 325\u001b[0;31m         \u001b[0mtout\u001b[0m\u001b[0;34m,\u001b[0m \u001b[0myout\u001b[0m\u001b[0;34m,\u001b[0m \u001b[0mxout\u001b[0m \u001b[0;34m=\u001b[0m \u001b[0msp\u001b[0m\u001b[0;34m.\u001b[0m\u001b[0msignal\u001b[0m\u001b[0;34m.\u001b[0m\u001b[0mdlsim\u001b[0m\u001b[0;34m(\u001b[0m\u001b[0mdsys\u001b[0m\u001b[0;34m,\u001b[0m \u001b[0mU\u001b[0m\u001b[0;34m,\u001b[0m \u001b[0mT\u001b[0m\u001b[0;34m,\u001b[0m \u001b[0mX0\u001b[0m\u001b[0;34m)\u001b[0m\u001b[0;34m\u001b[0m\u001b[0m\n\u001b[0m\u001b[1;32m    326\u001b[0m \u001b[0;34m\u001b[0m\u001b[0m\n\u001b[1;32m    327\u001b[0m         \u001b[0;31m# Transpose the output and state vectors to match local convention\u001b[0m\u001b[0;34m\u001b[0m\u001b[0;34m\u001b[0m\u001b[0m\n",
      "\u001b[0;32m/usr/lib/python3/dist-packages/scipy/signal/dltisys.py\u001b[0m in \u001b[0;36mdlsim\u001b[0;34m(system, u, t, x0)\u001b[0m\n\u001b[1;32m    101\u001b[0m \u001b[0;34m\u001b[0m\u001b[0m\n\u001b[1;32m    102\u001b[0m     \u001b[0;31m# Pre-build output arrays\u001b[0m\u001b[0;34m\u001b[0m\u001b[0;34m\u001b[0m\u001b[0m\n\u001b[0;32m--> 103\u001b[0;31m     \u001b[0mxout\u001b[0m \u001b[0;34m=\u001b[0m \u001b[0mnp\u001b[0m\u001b[0;34m.\u001b[0m\u001b[0mzeros\u001b[0m\u001b[0;34m(\u001b[0m\u001b[0;34m(\u001b[0m\u001b[0mout_samples\u001b[0m\u001b[0;34m,\u001b[0m \u001b[0mA\u001b[0m\u001b[0;34m.\u001b[0m\u001b[0mshape\u001b[0m\u001b[0;34m[\u001b[0m\u001b[0;36m0\u001b[0m\u001b[0;34m]\u001b[0m\u001b[0;34m)\u001b[0m\u001b[0;34m)\u001b[0m\u001b[0;34m\u001b[0m\u001b[0m\n\u001b[0m\u001b[1;32m    104\u001b[0m     \u001b[0myout\u001b[0m \u001b[0;34m=\u001b[0m \u001b[0mnp\u001b[0m\u001b[0;34m.\u001b[0m\u001b[0mzeros\u001b[0m\u001b[0;34m(\u001b[0m\u001b[0;34m(\u001b[0m\u001b[0mout_samples\u001b[0m\u001b[0;34m,\u001b[0m \u001b[0mC\u001b[0m\u001b[0;34m.\u001b[0m\u001b[0mshape\u001b[0m\u001b[0;34m[\u001b[0m\u001b[0;36m0\u001b[0m\u001b[0;34m]\u001b[0m\u001b[0;34m)\u001b[0m\u001b[0;34m)\u001b[0m\u001b[0;34m\u001b[0m\u001b[0m\n\u001b[1;32m    105\u001b[0m     \u001b[0mtout\u001b[0m \u001b[0;34m=\u001b[0m \u001b[0mnp\u001b[0m\u001b[0;34m.\u001b[0m\u001b[0mlinspace\u001b[0m\u001b[0;34m(\u001b[0m\u001b[0;36m0.0\u001b[0m\u001b[0;34m,\u001b[0m \u001b[0mstoptime\u001b[0m\u001b[0;34m,\u001b[0m \u001b[0mnum\u001b[0m\u001b[0;34m=\u001b[0m\u001b[0mout_samples\u001b[0m\u001b[0;34m)\u001b[0m\u001b[0;34m\u001b[0m\u001b[0m\n",
      "\u001b[0;31mValueError\u001b[0m: negative dimensions are not allowed"
     ]
    }
   ],
   "source": [
    "num = sy.list2numpy((Ap*R).all_coeffs(), dtype=np.float64)\n",
    "den = sy.list2numpy((Ac*Ao).all_coeffs(), dtype=np.float64)\n",
    "print(num)\n",
    "print(den)\n",
    "print(type(num[0]))\n",
    "Hd = cm.tf(num[:-1], den[:-1], -1)\n",
    "print(Hd)\n",
    "ystep, t = cm.step(Hd)\n",
    "plt.figure()\n",
    "plt.plot(t, ystep)\n",
    "plt.show()"
   ]
  },
  {
   "cell_type": "markdown",
   "metadata": {},
   "source": [
    "## Design with incremental controller"
   ]
  },
  {
   "cell_type": "code",
   "execution_count": 10,
   "metadata": {},
   "outputs": [
    {
     "name": "stdout",
     "output_type": "stream",
     "text": [
      "(-0.399253848109+0.463647609001j) 0.61186006616 -0.652524768636 0.294133912009\n"
     ]
    }
   ],
   "source": [
    "# The observer poles: Should be twice as fast as the closed-loop poles\n",
    "# and critically damped\n",
    "p1 = 0.6 + 1j*0.3;\n",
    "p2 = 0.6 - 1j*0.3;\n",
    "lambda1 = np.log(p1)\n",
    "omegan = np.abs(lambda1)\n",
    "zeta = np.real(lambda1) / omegan\n",
    "po1 = np.exp(-2*omegan)\n",
    "print(lambda1, omegan, zeta, po1)"
   ]
  },
  {
   "cell_type": "code",
   "execution_count": 11,
   "metadata": {},
   "outputs": [
    {
     "name": "stdout",
     "output_type": "stream",
     "text": [
      "[1.0*r1 + 0.133974596215561*s0 - 0.943782983551129, -2.73205080756888*r1 + 0.133974596215561*s0 + 0.133974596215561*s1 + 1.48961466055394, 2.73205080756888*r1 + 0.133974596215561*s1 + 0.133974596215561*s2 - 0.63146176935964, -1.0*r1 + 0.133974596215561*s2 - 0.0389316411871399]\n",
      "Poly(1.0*z**4 - 1.78826782401775*z**3 + (-1.0*(-0.6 + 0.3*I)*(0.6 + 0.3*I) + 0.792436147014943)*z**2 + (0.588267824017749*(-0.6 + 0.3*I)*(0.6 + 0.3*I) - 0.103817709832373)*z - 0.0865147581936442*(-0.6 + 0.3*I)*(0.6 + 0.3*I), z, domain='EX')\n",
      "Poly(1.0*z**4 + (1.0*r1 - 2.73205080756888)*z**3 + (-2.73205080756888*r1 + 2.73205080756888)*z**2 + (2.73205080756888*r1 - 1.0)*z - 1.0*r1, z, domain='RR[r1]')\n",
      "Poly(z**2 - 1.2*z - (-0.6 + 0.3*I)*(0.6 + 0.3*I), z, domain='EX')\n",
      "Poly(1.0*z**4 + (1.0*r1 - 2.73205080756888)*z**3 + (-2.73205080756888*r1 + 2.73205080756888)*z**2 + (2.73205080756888*r1 - 1.0)*z - 1.0*r1, z, domain='RR[r1]')\n",
      "Poly(1.0*z**4 + (1.0*r1 + 0.133974596215561*s0 - 2.73205080756888)*z**3 + (-2.73205080756888*r1 + 0.133974596215561*s0 + 0.133974596215561*s1 + 2.73205080756888)*z**2 + (2.73205080756888*r1 + 0.133974596215561*s1 + 0.133974596215561*s2 - 1.0)*z - 1.0*r1 + 0.133974596215561*s2, z, domain='RR[r1,s0,s1,s2]')\n"
     ]
    }
   ],
   "source": [
    "r1,s0,s1,s2 = sy.symbols('r1,s0,s1,s2', real=True)\n",
    "\n",
    "# Right hand side\n",
    "Ac = sy.poly((z-p1)*(z-p2), z)\n",
    "\n",
    "#Ao = sy.poly(z**2, z)\n",
    "Ao = sy.poly((z-po1)**2, z)\n",
    "Acl = Ac*Ao\n",
    "\n",
    "# Left hand side\n",
    "Rp = sy.poly((z-1)*(z+r1), z)\n",
    "Sp = sy.poly(s0*z**2 + s1*z + s2, z)\n",
    "dioph=(Ap*Rp+Bp*Sp-Acl).all_coeffs()\n",
    "print(dioph)\n",
    "print(Acl)\n",
    "print(Ap*Rp)\n",
    "print(Ac)\n",
    "print(Ap*Rp)\n",
    "print(Ap*Rp + Bp*Sp)"
   ]
  },
  {
   "cell_type": "code",
   "execution_count": 13,
   "metadata": {},
   "outputs": [
    {
     "data": {
      "text/plain": [
       "{r1: 0.405397451468340,\n",
       " s0: 4.01856431958595,\n",
       " s1: -6.87021109946348,\n",
       " s2: 3.31651749814247}"
      ]
     },
     "execution_count": 13,
     "metadata": {},
     "output_type": "execute_result"
    }
   ],
   "source": [
    "sol = sy.solve(dioph, (r1,s0,s1, s2))\n",
    "sol"
   ]
  },
  {
   "cell_type": "code",
   "execution_count": 14,
   "metadata": {},
   "outputs": [
    {
     "name": "stdout",
     "output_type": "stream",
     "text": [
      "r_1 = 0.405397\n",
      "s_0 = 4.018564\n",
      "s_1 = -6.870211\n",
      "s_2 = 3.316517\n",
      "t_0 = 0.933013\n",
      "0.93301270189222⋅Poly(0.133974596215561*z + 0.133974596215561, z, domain='RR')\n",
      "──────────────────────────────────────────────────────────────────────────────\n",
      "                Poly(1.0*z**4 - 1.78826782401775*z**3 + 1.24243614701494*z**2 \n",
      "\n",
      "⋅Poly(1.0*z**2 - 0.588267824017749*z + 0.0865147581936442, z, domain='RR')\n",
      "──────────────────────────────────────────────────────────────────────────\n",
      "- 0.36853823064036*z + 0.0389316411871399, z, domain='RR')                \n",
      "              0.746410161513776              \n",
      "─────────────────────────────────────────────\n",
      "Poly(1.0*z**2 - 1.2*z + 0.45, z, domain='RR')\n",
      "1.00000000000000\n",
      "Poly(1.0*z**4 - 1.78826782401775*z**3 + 1.24243614701494*z**2 - 0.368538230640\n",
      "362*z + 0.0389316411871409, z, domain='RR')\n"
     ]
    }
   ],
   "source": [
    "print('r_1 = %f' % sol[r1])\n",
    "print('s_0 = %f' % sol[s0])\n",
    "print('s_1 = %f' % sol[s1])\n",
    "print('s_2 = %f' % sol[s2])\n",
    "\n",
    "t0 = Ac.evalf(subs={z:1})/Bp.evalf(subs={z:1,})\n",
    "print('t_0 = %f' % t0)\n",
    "\n",
    "R = Rp.subs(sol)\n",
    "S = Sp.subs(sol)\n",
    "T = t0*Ao\n",
    "\n",
    "Hc = T*Bp/(Ac*Ao)\n",
    "Hcc = t0*0.8/Ac\n",
    "sy.pretty_print(sy.expand(Hc))\n",
    "sy.pretty_print(sy.expand(Hcc))\n",
    "sy.pretty_print(Hc.evalf(subs={z:1}))\n",
    "\n",
    "sy.pretty_print(sy.simplify(Ap*R + Bp*S))"
   ]
  },
  {
   "cell_type": "code",
   "execution_count": null,
   "metadata": {},
   "outputs": [],
   "source": [
    "# Reorganize solution expression for matlab code generation\n",
    "sol_expr = ('RST_DC_lab', [Bp.all_coeffs()[0], Bp.all_coeffs()[1],\n",
    "                           Ap.all_coeffs()[1], Ap.all_coeffs()[2],\n",
    "                           sol[r1], sol[s0], sol[s1], A2p.subs(z, 1)/Bp.subs(z,1), h,np.exp(h*po1) ])  "
   ]
  },
  {
   "cell_type": "code",
   "execution_count": null,
   "metadata": {},
   "outputs": [],
   "source": [
    "# Export to matlab code\n",
    "[(m_name, m_code)] = codegen(sol_expr, 'octave')"
   ]
  },
  {
   "cell_type": "code",
   "execution_count": null,
   "metadata": {},
   "outputs": [],
   "source": [
    "m_code = m_code.replace(\"out1\", \"b0\").replace(\"out2\", \"b1\").replace(\"out3\", \"a1\").replace(\"out4\", \"a2\")\n",
    "m_code = m_code.replace(\"out5\", \"r1\").replace(\"out6\", \"s0\").replace(\"out7\", \"s1\").replace(\"out8\", \"t0\")\n",
    "m_code = m_code.replace(\"out9\", \"h\").replace(\"out10\", \"obsPole\")\n",
    "m_code = m_code.replace(\"function \", \"% function \")\n",
    "m_code = m_code.replace(\"end\", \"\")\n",
    "print m_code\n",
    "with open(\"/home/kjartan/Dropbox/undervisning/tec/MR2007/labs/dc_rst_design.m\", \"w\") as text_file:\n",
    "    text_file.write(m_code)"
   ]
  },
  {
   "cell_type": "code",
   "execution_count": null,
   "metadata": {},
   "outputs": [],
   "source": [
    "cm.step?"
   ]
  },
  {
   "cell_type": "code",
   "execution_count": null,
   "metadata": {},
   "outputs": [],
   "source": [
    "\n",
    "G = Km * cm.tf([1], [tau, 1, 0])\n",
    "Gd = Km * cm.tf([tau*(hpt-1+np.exp(-hpt)), tau*(1-(1+hpt)*np.exp(-hpt))], [1, -(1+np.exp(-hpt)), np.exp(-hpt)], h)\n",
    "Gd2 = cm.c2d(G, h)\n",
    "print Gd\n",
    "print Gd2"
   ]
  },
  {
   "cell_type": "code",
   "execution_count": null,
   "metadata": {},
   "outputs": [],
   "source": [
    "print A2p\n",
    "print A2p.evalf(subs={z:1})\n",
    "print Bp\n",
    "print Bp.evalf(subs={z:1})\n"
   ]
  },
  {
   "cell_type": "code",
   "execution_count": null,
   "metadata": {},
   "outputs": [],
   "source": [
    "0.3/(5*np.sqrt(2))"
   ]
  },
  {
   "cell_type": "code",
   "execution_count": null,
   "metadata": {},
   "outputs": [],
   "source": [
    "np.exp(-0.21)*np.sin(0.21)"
   ]
  },
  {
   "cell_type": "code",
   "execution_count": null,
   "metadata": {},
   "outputs": [],
   "source": [
    "np.exp(0.03*(-14))"
   ]
  },
  {
   "cell_type": "code",
   "execution_count": null,
   "metadata": {},
   "outputs": [],
   "source": [
    " 0.746*41.8\n"
   ]
  },
  {
   "cell_type": "code",
   "execution_count": null,
   "metadata": {},
   "outputs": [],
   "source": []
  }
 ],
 "metadata": {
  "kernelspec": {
   "display_name": "Python 3",
   "language": "python",
   "name": "python3"
  },
  "language_info": {
   "codemirror_mode": {
    "name": "ipython",
    "version": 3
   },
   "file_extension": ".py",
   "mimetype": "text/x-python",
   "name": "python",
   "nbconvert_exporter": "python",
   "pygments_lexer": "ipython3",
   "version": "3.5.2"
  }
 },
 "nbformat": 4,
 "nbformat_minor": 1
}
