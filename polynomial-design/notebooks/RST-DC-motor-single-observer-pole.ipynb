{
 "cells": [
  {
   "cell_type": "markdown",
   "metadata": {},
   "source": [
    "# RST design for a DC-motor \n",
    "From HW3 2017 spring semester\n",
    "\n",
    "## Plant model\n",
    "  Zero-order-hold sampling of the DC-motor with transfer function\n",
    "  $$ G(s) = \\frac{1}{s(2s+1)} $$\n",
    "  gives a discrete-time system with pulse transfer function \n",
    "  \\begin{equation}\n",
    "  G_d(z) = \\frac{B(z)}{A(z)}= \\frac{2\\big(\\frac{h}{2}-1+\\mathrm{e}^{-\\frac{h}{2}}\\big)z + 2\\big(1-\\mathrm{e}^{-\\frac{h}{2}}-\\frac{h}{2}\\mathrm{e}^{-\\frac{h}{2}}\\big)}{(z-1)\\big(z-\\mathrm{e}^{-\\frac{h}{2}}\\big)}.\n",
    "  \\end{equation}"
   ]
  },
  {
   "cell_type": "code",
   "execution_count": 1,
   "metadata": {},
   "outputs": [],
   "source": [
    "import numpy as np\n",
    "import sympy as sy\n",
    "from sympy.utilities.codegen import codegen\n",
    "import control.matlab as cm\n",
    "import re\n",
    "import matplotlib.pyplot as plt\n",
    "from scipy import signal"
   ]
  },
  {
   "cell_type": "code",
   "execution_count": 2,
   "metadata": {},
   "outputs": [
    {
     "name": "stdout",
     "output_type": "stream",
     "text": [
      "-1.0*h*exp(-0.5*h) + z*(h + 2*exp(-0.5*h) - 2) - 2*exp(-0.5*h) + 2\n",
      "(z - 1)*(z - exp(-0.5*h))\n"
     ]
    }
   ],
   "source": [
    "z = sy.symbols('z', real=False)\n",
    "r1,s0,s1 = sy.symbols('r1,s0,s1', real=True)\n",
    "hh = sy.symbols('h', real=True, positive=True)\n",
    "\n",
    "Bp = 2*(0.5*hh - 1 + sy.exp(-0.5*hh))*z + 2*(1-sy.exp(-0.5*hh) - 0.5*hh*sy.exp(-0.5*hh))\n",
    "Ap = (z-sy.exp(-0.5*hh))*(z-1)\n",
    "print(Bp)\n",
    "print(Ap)"
   ]
  },
  {
   "cell_type": "markdown",
   "metadata": {},
   "source": [
    "## Determine sampling period and desired closed loop poles\n",
    "   In a continuous-time description of the desired closed-loop system we want the system to have two dominating poles at\n",
    "   $$ -5 \\pm i5. $$\n",
    "   In addition to the two dominating poles, we want a third pole at\n",
    "   $$ a=-20 $$\n",
    "   to be able to control the response to disturbances. Determine a suitable sampling period $h$, and determine the poles (and characteristic polynomial) of the desired discrete-time closed-loop system.\n",
    "   \n",
    "### Solution\n",
    "   Since we have dominating complex-conjugated poles, the sampling period should be such that\n",
    "   $$ h\\omega_n = 0.1 -- 0.6. $$\n",
    "   Choose $$h = \\frac{0.3}{\\omega_n} = \\frac{0.3}{\\sqrt{5^2+5^2}} = \\frac{0.3}{5\\sqrt{2}} \\approx 0.04. $$\n",
    "   We get the discrete-time poles\n",
    "   \\begin{align*}\n",
    "   p_{d_1} &= \\exp{0.04(-5+i5)} = \\exp(-0.2) \\exp(i0.2) = 0.81\\big(\\cos(0.21) + i\\sin(0.21)\\big) \\approx 0.80 + i0.16\\\\\n",
    "   p_{d_2} &= p_{d_1}^* = 0.80 - i0.16\\\\\n",
    "   p_{d_3} &= \\exp(ah) = \\exp(-20\\cdot 0.04) = 0.45.\n",
    "   \\end{align*}\n"
   ]
  },
  {
   "cell_type": "code",
   "execution_count": 3,
   "metadata": {},
   "outputs": [
    {
     "name": "stdout",
     "output_type": "stream",
     "text": [
      "0.000397346613510541*z + 0.000394706454219282\n",
      "(z - 1)*(z - 0.980198673306755)\n"
     ]
    }
   ],
   "source": [
    "Ap = sy.simplify(Ap.subs(hh, 0.04))\n",
    "Bp = sy.simplify(Bp.subs(hh, 0.04))\n",
    "print(Bp)\n",
    "print(Ap)"
   ]
  },
  {
   "cell_type": "markdown",
   "metadata": {},
   "source": [
    "## Design a 2-DoF controller\n",
    "   Assume a structure of the controller as given in figure \\ref{fig:2dof}. The controller is given by \n",
    "   $$ R(q)u = -S(q)y + T(q)u_c. $$\n",
    "   With the plant-model\n",
    "   $$ A(q)y = B(q)u$$\n",
    "   we get the following difference equation for the closed-loop system\n",
    "   $$ \\big( A(q)R(q) + B(q)S(q) \\big) y = B(q)T(q) u_c. $$\n",
    "   Assume a suitable order (as low as possible) of the controller polynomials $R(q)$ and $S(q)$ and solve the diophantine equation \n",
    "   $$ A(q)R(q) + B(q)S(q)  = Ac(q) $$\n",
    "   for $R$ and $S$. \n",
    "\n",
    "   Solve the equations for arbitrary $a$: Use a symbol $a$ in your calculations so that you can easily recalculate your controller for a different value of $a$. "
   ]
  },
  {
   "cell_type": "code",
   "execution_count": 4,
   "metadata": {},
   "outputs": [
    {
     "name": "stdout",
     "output_type": "stream",
     "text": [
      "\\operatorname{Poly}{\\left( - 0.6656 aa + 1.0 z^{3} + z^{2} \\left(- 1.0 aa - 1.6\\right) + z \\left(1.6 aa + 0.6656\\right), z, domain=\\mathbb{R}\\left[aa\\right] \\right)}\n",
      "[1.0*aa + 1.0*r1 + 0.000397346613510541*s0 - 0.380198673306755, -1.6*aa - 1.98019867330676*r1 + 0.000394706454219282*s0 + 0.000397346613510541*s1 + 0.314598673306755, 0.6656*aa + 0.980198673306755*r1 + 0.000394706454219282*s1]\n",
      "(-aa + z)*(z**2 - 1.6*z + 0.6656)\n",
      "(r1 + z)*(z - 1)*(z - 0.980198673306755)\n",
      "z**2 - 1.6*z + 0.6656\n",
      "(r1 + z)*(z - 1)*(z - 0.980198673306755)\n",
      "Poly(1.0*z**3 + (1.0*r1 + 0.000397346613510541*s0 - 1.98019867330676)*z**2 + (-1.98019867330676*r1 + 0.000394706454219282*s0 + 0.000397346613510541*s1 + 0.980198673306755)*z + 0.980198673306755*r1 + 0.000394706454219282*s1, z, domain='RR[r1,s0,s1]')\n"
     ]
    }
   ],
   "source": [
    "z = sy.symbols('z', real=False)\n",
    "r1,s0,s1,aa = sy.symbols('r1,s0,s1,aa', real=True)\n",
    "\n",
    "Ac = z**2 - z*(0.8*2) + (0.8**2 + 0.16**2)\n",
    "Ao = z-aa\n",
    "Acl = Ac*Ao\n",
    "\n",
    "Rp = z+r1\n",
    "Sp = s0*z + s1\n",
    "RHS = sy.simplify(sy.expand(Acl))\n",
    "diopheq =sy.poly(Ap*Rp+Bp*Sp-Acl, z)\n",
    "dioph = diopheq.all_coeffs()\n",
    "print(sy.latex(sy.poly(RHS, z)))\n",
    "print(dioph)\n",
    "print(Acl)\n",
    "print(Ap*Rp)\n",
    "print(Ac)\n",
    "print(Ap*Rp)\n",
    "print(sy.poly(sy.simplify(sy.expand(Ap*Rp + Bp*Sp)), z))"
   ]
  },
  {
   "cell_type": "code",
   "execution_count": 5,
   "metadata": {},
   "outputs": [],
   "source": [
    "sol = sy.solve(dioph, (r1,s0,s1))"
   ]
  },
  {
   "cell_type": "code",
   "execution_count": 6,
   "metadata": {},
   "outputs": [
    {
     "name": "stdout",
     "output_type": "stream",
     "text": [
      "-0.0693289641172\n",
      "-0.3144\n",
      "0.404526342588\n",
      "-0.299073358516\n"
     ]
    }
   ],
   "source": [
    "print (-np.exp(-20*0.04) + 0.38)\n",
    "print (- 0.98 + 0.6656)\n",
    "print (1.6*np.exp(-20*0.04) - 0.98 + 0.6656)\n",
    "print (-0.6656*np.exp(-20*0.04))\n"
   ]
  },
  {
   "cell_type": "code",
   "execution_count": 7,
   "metadata": {},
   "outputs": [
    {
     "data": {
      "text/plain": [
       "-0.195457575341184"
      ]
     },
     "execution_count": 7,
     "metadata": {},
     "output_type": "execute_result"
    }
   ],
   "source": [
    "sol[r1].subs(aa, np.exp(-20*0.04))"
   ]
  },
  {
   "cell_type": "code",
   "execution_count": 8,
   "metadata": {},
   "outputs": [
    {
     "name": "stdout",
     "output_type": "stream",
     "text": [
      "r_1 = -0.195458\n",
      "s_0 = 317.927170\n",
      "s_1 = -272.319090\n",
      "t_0 = 82.822733\n",
      "                                                                              \n",
      "                    - -0.0329093326044447⋅aa⋅z                                \n",
      "- ──────────────────────────────────────────────────────────────── - ─────────\n",
      "        2                              3              2                    2  \n",
      "  - aa⋅z  + 1.6⋅aa⋅z - - -0.6656⋅aa + z  - -1.6⋅(-1)⋅z  + 0.6656⋅z   - aa⋅z  +\n",
      "\n",
      "                                                                              \n",
      "          - -0.0326906673955553⋅aa                                            \n",
      "─────────────────────────────────────────────────────── + ────────────────────\n",
      "                            3              2                    2             \n",
      " 1.6⋅aa⋅z - - -0.6656⋅aa + z  - -1.6⋅(-1)⋅z  + 0.6656⋅z   - aa⋅z  + 1.6⋅aa⋅z -\n",
      "\n",
      "                     2                                                        \n",
      " 0.0329093326044447⋅z                                                0.0326906\n",
      "──────────────────────────────────────────── + ───────────────────────────────\n",
      "                 3              2                    2                        \n",
      " - -0.6656⋅aa + z  - -1.6⋅(-1)⋅z  + 0.6656⋅z   - aa⋅z  + 1.6⋅aa⋅z - - -0.6656⋅\n",
      "\n",
      "                                 \n",
      "673955553⋅z                      \n",
      "─────────────────────────────────\n",
      "      3              2           \n",
      "aa + z  - -1.6⋅(-1)⋅z  + 0.6656⋅z\n",
      "     66.2581866520861    \n",
      "─────────────────────────\n",
      " 2                       \n",
      "z  - -1.6⋅(-1)⋅z + 0.6656\n",
      "(--82.8227333151076⋅(-1)⋅aa + 82.8227333151076⋅z)⋅(0.000397346613510541⋅z + 0.\n",
      "──────────────────────────────────────────────────────────────────────────────\n",
      "                                        ⎛ 2                       ⎞           \n",
      "                              (-aa + z)⋅⎝z  - -1.6⋅(-1)⋅z + 0.6656⎠           \n",
      "\n",
      "000394706454219282)\n",
      "───────────────────\n",
      "                   \n",
      "                   \n",
      "             2                                  3              2              \n",
      "- - -1.0⋅aa⋅z  + 1.6⋅aa⋅z - - -0.6656⋅aa + 1.0⋅z  - -1.6⋅(-1)⋅z  + 0.665600000\n",
      "\n",
      "        \n",
      "000001⋅z\n"
     ]
    }
   ],
   "source": [
    "print('r_1 = %f' % sol[r1].subs(aa, np.exp(-20*0.04)))\n",
    "print('s_0 = %f' % sol[s0].subs(aa, np.exp(-20*0.04)))\n",
    "print('s_1 = %f' % sol[s1].subs(aa, np.exp(-20*0.04)))\n",
    "\n",
    "t0 = Ac.evalf(subs={z:1})/Bp.evalf(subs={z:1,})\n",
    "print('t_0 = %f' % t0)\n",
    "\n",
    "R = Rp.subs(sol)\n",
    "S = Sp.subs(sol)\n",
    "T = t0*Ao\n",
    "\n",
    "Hc = T*Bp/(Ac*Ao)\n",
    "Hcc = t0*0.8/Ac\n",
    "sy.pretty_print(sy.expand(Hc))\n",
    "sy.pretty_print(sy.expand(Hcc))\n",
    "sy.pretty_print(Hc.evalf(subs={z:1}))\n",
    "\n",
    "sy.pretty_print(sy.simplify(Ap*R + Bp*S))"
   ]
  },
  {
   "cell_type": "code",
   "execution_count": 9,
   "metadata": {},
   "outputs": [
    {
     "data": {
      "text/plain": [
       "2j"
      ]
     },
     "execution_count": 9,
     "metadata": {},
     "output_type": "execute_result"
    }
   ],
   "source": [
    "0 + 2*1j"
   ]
  },
  {
   "cell_type": "code",
   "execution_count": 10,
   "metadata": {},
   "outputs": [
    {
     "data": {
      "text/plain": [
       "[1.00000000000000, -1.40000000000000, 0.345600000000000, 0.133120000000000]"
      ]
     },
     "execution_count": 10,
     "metadata": {},
     "output_type": "execute_result"
    }
   ],
   "source": [
    "sy.Poly((Ac*Ao).subs(aa, -0.2), z).all_coeffs()"
   ]
  },
  {
   "cell_type": "code",
   "execution_count": 11,
   "metadata": {},
   "outputs": [
    {
     "data": {
      "image/png": "[encoded data removed]",
      "text/plain": [
       "<Figure size 432x288 with 1 Axes>"
      ]
     },
     "metadata": {},
     "output_type": "display_data"
    }
   ],
   "source": [
    "def my_bode(num, den, h=1.0):\n",
    "    n = len(den)-1\n",
    "    m = len(num)-1\n",
    "    w = np.linspace(0.01, np.pi, 400);\n",
    "    z = np.exp(1j*w);\n",
    "    dd = den[-1]\n",
    "    nd = num[-1]\n",
    "    for i in range(n):\n",
    "        dd += den[i]*np.power(z, n-i)\n",
    "    for i in range(m):\n",
    "        nd += num[i]*np.power(z, m-i)\n",
    "    return nd/dd,w\n",
    "def bodeplots(a, aa, Ap, R, Ac, Ao):\n",
    "    numS = sy.list2numpy(sy.Poly((Ap*R).subs(aa, a), z).all_coeffs(), \n",
    "                        dtype=np.float64)\n",
    "    numT = sy.list2numpy(sy.Poly((Bp*S).subs(aa, a), z).all_coeffs(), \n",
    "                        dtype=np.float64)\n",
    "    den = sy.list2numpy(sy.Poly((Ac*Ao).subs(aa, a), z).all_coeffs(), \n",
    "                        dtype=np.float64)\n",
    "    \n",
    "    qS, wS = my_bode(numS, den)\n",
    "    qT, wT = my_bode(numT, den)\n",
    "    plt.figure()\n",
    "    plt.loglog(wS, np.abs(qS))\n",
    "    plt.loglog(wT, np.abs(qT))\n",
    "    plt.ylim((0.001, 10))\n",
    "    plt.legend(('Ss', 'Tt'))\n",
    "    #cm.bode([Ss, Tt])\n",
    "bodeplots(-0.009, aa, Ap, R, Ac, Ao)\n"
   ]
  },
  {
   "cell_type": "code",
   "execution_count": 12,
   "metadata": {},
   "outputs": [],
   "source": [
    "from ipywidgets import interact, interactive, fixed, interact_manual\n",
    "import ipywidgets as widgets\n",
    "from functools import partial"
   ]
  },
  {
   "cell_type": "code",
   "execution_count": 13,
   "metadata": {},
   "outputs": [
    {
     "data": {
      "application/vnd.jupyter.widget-view+json": {
       "model_id": "5db455aee50845748840476d1904319c",
       "version_major": 2,
       "version_minor": 0
      },
      "text/plain": [
       "interactive(children=(FloatSlider(value=0.5, description='a', max=1.0), Output()), _dom_classes=('widget-inter…"
      ]
     },
     "metadata": {},
     "output_type": "display_data"
    },
    {
     "data": {
      "text/plain": [
       "<function __main__.bodeplots(a, aa, Ap, R, Ac, Ao)>"
      ]
     },
     "execution_count": 13,
     "metadata": {},
     "output_type": "execute_result"
    }
   ],
   "source": [
    "interact(bodeplots, a=(0.0, 1.0), aa=fixed(aa), Ap=fixed(Ap), R=fixed(R), Ac=fixed(Ac),\n",
    "        Ao=fixed(Ao))"
   ]
  },
  {
   "cell_type": "code",
   "execution_count": null,
   "metadata": {},
   "outputs": [],
   "source": [
    "# Reorganize solution expression for matlab code generation\n",
    "sol_expr = ('RST_DC_lab', [Bp.all_coeffs()[0], Bp.all_coeffs()[1],\n",
    "                           Ap.all_coeffs()[1], Ap.all_coeffs()[2],\n",
    "                           sol[r1], sol[s0], sol[s1], A2p.subs(z, 1)/Bp.subs(z,1), h,np.exp(h*po1) ])  "
   ]
  },
  {
   "cell_type": "code",
   "execution_count": null,
   "metadata": {},
   "outputs": [],
   "source": [
    "# Export to matlab code\n",
    "[(m_name, m_code)] = codegen(sol_expr, 'octave')"
   ]
  },
  {
   "cell_type": "code",
   "execution_count": null,
   "metadata": {},
   "outputs": [],
   "source": [
    "m_code = m_code.replace(\"out1\", \"b0\").replace(\"out2\", \"b1\").replace(\"out3\", \"a1\").replace(\"out4\", \"a2\")\n",
    "m_code = m_code.replace(\"out5\", \"r1\").replace(\"out6\", \"s0\").replace(\"out7\", \"s1\").replace(\"out8\", \"t0\")\n",
    "m_code = m_code.replace(\"out9\", \"h\").replace(\"out10\", \"obsPole\")\n",
    "m_code = m_code.replace(\"function \", \"% function \")\n",
    "m_code = m_code.replace(\"end\", \"\")\n",
    "print m_code\n",
    "with open(\"/home/kjartan/Dropbox/undervisning/tec/MR2007/labs/dc_rst_design.m\", \"w\") as text_file:\n",
    "    text_file.write(m_code)"
   ]
  },
  {
   "cell_type": "code",
   "execution_count": null,
   "metadata": {},
   "outputs": [],
   "source": [
    "cm.step?"
   ]
  },
  {
   "cell_type": "code",
   "execution_count": null,
   "metadata": {},
   "outputs": [],
   "source": [
    "\n",
    "G = Km * cm.tf([1], [tau, 1, 0])\n",
    "Gd = Km * cm.tf([tau*(hpt-1+np.exp(-hpt)), tau*(1-(1+hpt)*np.exp(-hpt))], [1, -(1+np.exp(-hpt)), np.exp(-hpt)], h)\n",
    "Gd2 = cm.c2d(G, h)\n",
    "print Gd\n",
    "print Gd2"
   ]
  },
  {
   "cell_type": "code",
   "execution_count": null,
   "metadata": {},
   "outputs": [],
   "source": [
    "print A2p\n",
    "print A2p.evalf(subs={z:1})\n",
    "print Bp\n",
    "print Bp.evalf(subs={z:1})\n"
   ]
  },
  {
   "cell_type": "code",
   "execution_count": null,
   "metadata": {},
   "outputs": [],
   "source": [
    "0.3/(5*np.sqrt(2))"
   ]
  },
  {
   "cell_type": "code",
   "execution_count": null,
   "metadata": {},
   "outputs": [],
   "source": [
    "np.exp(-0.21)*np.sin(0.21)"
   ]
  },
  {
   "cell_type": "code",
   "execution_count": null,
   "metadata": {},
   "outputs": [],
   "source": [
    "np.exp(0.03*(-14))"
   ]
  },
  {
   "cell_type": "code",
   "execution_count": null,
   "metadata": {},
   "outputs": [],
   "source": [
    " 0.746*41.8\n"
   ]
  },
  {
   "cell_type": "code",
   "execution_count": null,
   "metadata": {
    "collapsed": true
   },
   "outputs": [],
   "source": []
  }
 ],
 "metadata": {
  "kernelspec": {
   "display_name": "Python 3",
   "language": "python",
   "name": "python3"
  },
  "language_info": {
   "codemirror_mode": {
    "name": "ipython",
    "version": 3
   },
   "file_extension": ".py",
   "mimetype": "text/x-python",
   "name": "python",
   "nbconvert_exporter": "python",
   "pygments_lexer": "ipython3",
   "version": "3.5.2"
  }
 },
 "nbformat": 4,
 "nbformat_minor": 1
}
