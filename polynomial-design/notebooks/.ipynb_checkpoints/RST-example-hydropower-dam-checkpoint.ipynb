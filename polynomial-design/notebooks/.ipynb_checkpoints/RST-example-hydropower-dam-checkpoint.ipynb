{
 "cells": [
  {
   "cell_type": "markdown",
   "metadata": {},
   "source": [
    "# Control of a hydropower dam\n",
    "Consider a hydropower plant with a dam. We want to control the flow through the dam gates in order to keep the amount of water at a desired level. \n",
    "<p><img  src=\"hydropowerdam-wikipedia.png\" alt=\"Hydro power from Wikipedia\" width=\"400\"></p>\n",
    "The system is a typical integrator, and is given by the difference equation\n",
    "$$ y(k+1) = y(k) + b_uu(k) - b_vv(k), $$\n",
    "where $x$ is the deviation of the water level from a reference level, $u$ is the change in the flow through the dam gates. A positive value of $u$ corresponds to less flow through the gates, relative to an operating point. The flow $v$ corresponds to changes in the flow in (from river) or out (through power plant). \n",
    "The pulse transfer function of the dam is thus $$H(z) = \\frac{b_u}{z-1}.$$\n",
    "We want to control the system using a two-degree-of-freedom controller, including an anti-aliasing filter modelled as a delay of one sampling period. This gives the block diagram <p><img src=\"2dof-block-integrator.png\" alt=\"Block diagram\" width=\"700\"></p>\n",
    "The desired closed-loop system from the command signal $u_c$ to the output $y$ should have poles in $z=0.7$, and any observer poles should be chosen faster than the closed-loop poles, say in $z=0.5$."
   ]
  },
  {
   "cell_type": "markdown",
   "metadata": {},
   "source": [
    "## The closed-loop pulse-transfer functions\n",
    "With $F_b(z) = \\frac{S(z)}{R(z)}$ and $F_f(z) = \\frac{T(z)}{R(z)}$, and using Mason's rule, we get that the closed-loop pulse-transfer function from command signal $u_c$ to output $y$ becomes\n",
    "$$G_c(z) = \\frac{\\frac{T(z)}{R(z)}\\frac{b_u}{z-1}}{1 + \\frac{S(z)}{R(z)} \\frac{b_u}{(z-1)z}} = \\frac{b_uzT(z)}{z(z-1)R(z) + b_uS(z)}.$$\n",
    "The closed-loop transfer function from disturbance to output becomes\n",
    "$$G_{cv}(z) = \\frac{\\frac{b_v}{z-1}}{1 + \\frac{S(z)}{R(z)} \\frac{b_u}{(z-1)z}} = \\frac{b_vzR(z)}{z(z-1)R(z) + b_uS(z)}.$$"
   ]
  },
  {
   "cell_type": "markdown",
   "metadata": {},
   "source": [
    "## The Diophantine equation\n",
    "The diophantine equation becomes\n",
    "$$z(z-1)R(z) + b_uS(z) = A_c(z)A_o(z)$$ We want to find the smallest order controller that can satisfy the Diophantine equation. Since the feedback controller is given by \n",
    "$$ F_b(z) = \\frac{s_0z^n + s_1z^{n-1} + \\cdots + s_n}{z^n + r_1z^{n-1} + \\cdots + r_n}$$ and has $2\\deg R + 1$ unknown parameters, and since we should choose the order of the Diphantine equation to be the same as the number of unknown parameters, we get \n",
    "$$ \\deg \\big((z(z-1)R(z) + b_uS(z)\\big) = \\deg R + 2 = 2\\deg R + 1 \\quad \\Rightarrow \\quad \\deg R = n = 1.$$"
   ]
  },
  {
   "cell_type": "markdown",
   "metadata": {},
   "source": [
    "The Diophantine equation thus becomes\n",
    "$$ z(z-1)(z+r_1) + b_u(s_0z+s_1) = (z-0.7)^2(z-0.5), $$\n",
    "where $A_o(z) = z-0.5$ is the observer polynomial. Working out the expressions on both sides gives\n",
    "$$ z^3-(1-r_1)z^2 -r_1 z + b_us_0z + b_us_1 = (z^2 - 1.4z + 0.49)(z-0.5)$$\n",
    "$$ z^3 -(1-r_1)z^2 +(b_us_0-r_1)z + b_us_1 = z^3 - (1.4+0.5)z^2 + (0.49+0.7)z -0.245$$\n",
    "From the Diophantine equation we get the following equations in the unknowns\n",
    "\\begin{align}\n",
    "z^2: &\\quad 1-r_1 = 1.9\\\\\n",
    "z^1: &\\quad b_us_0 - r_1 = 1.19\\\\\n",
    "z^0: &\\quad b_us_1 = -0.245\n",
    "\\end{align}\n",
    "This is a linear system of equations in the unknown, and can be solved in many different ways. Here we see that with simple substitution we find\n",
    "\\begin{align}\n",
    "r_1 &= 1-1.9 = -0.9\\\\\n",
    "s_0 &= \\frac{1}{b_u}(1.19+r_1) = \\frac{0.29}{b_u}\\\\\n",
    "s_1 &= -\\frac{0.245}{b_u}\n",
    "\\end{align}"
   ]
  },
  {
   "cell_type": "markdown",
   "metadata": {},
   "source": [
    "## The feedforward \n",
    "We set $T(z) = t_0A_o(z)$ which gives the closed-loop pulse-transfer function\n",
    "$$G_c(z) = \\frac{b_uzT(z)}{z(z-1)R(z) + b_uS(z)}= \\frac{b_ut_0zA_o(z)}{A_c(z)A_o(z)} = \\frac{b_u t_0z}{A_c(z)}$$\n",
    "In order for this pulse-transfer function to have unit DC-gain (static gain) we must have $G_c(1) = 1$, or \n",
    "$$ \\frac{b_ut_0}{A_c(1)} = 1. $$\n",
    "The solution is \n",
    "$$ t_0 = \\frac{A_c(1)}{b_u} = \\frac{(1-0.7)^2}{b_u} = \\frac{0.3^2}{b_u}. $$"
   ]
  },
  {
   "cell_type": "markdown",
   "metadata": {},
   "source": [
    "## Verify by symbolic computer algebra"
   ]
  },
  {
   "cell_type": "code",
   "execution_count": 1,
   "metadata": {},
   "outputs": [],
   "source": [
    "import numpy as np\n",
    "import sympy as sy"
   ]
  },
  {
   "cell_type": "code",
   "execution_count": 2,
   "metadata": {},
   "outputs": [],
   "source": [
    "z = sy.symbols('z', real=False)\n",
    "bu,r1,s0,s1 = sy.symbols('bu,r1,s0,s1', real=True)\n",
    "pc,po = sy.symbols('pc,po', real=True) # Closed-loop pole and observer pole"
   ]
  },
  {
   "cell_type": "code",
   "execution_count": 17,
   "metadata": {},
   "outputs": [],
   "source": [
    "# The polynomials\n",
    "Ap = sy.Poly(z*(z-1), z)\n",
    "Bp = sy.Poly(bu,z)\n",
    "Rp = sy.Poly(z+r1, z)\n",
    "Sp = sy.Poly(s0*z+s1, z)\n",
    "Ac = sy.Poly((z-pc)**2, z)\n",
    "Ao = sy.Poly(z-po, z)"
   ]
  },
  {
   "cell_type": "code",
   "execution_count": 18,
   "metadata": {},
   "outputs": [
    {
     "name": "stdout",
     "output_type": "stream",
     "text": [
      "r_1 = -2*pc - po + 1\n",
      "s_0 = (pc**2 + 2*pc*po - 2*pc - po + 1)/bu\n",
      "s_1 = -pc**2*po/bu\n"
     ]
    }
   ],
   "source": [
    "# The diophantine eqn\n",
    "dioph = Ap*Rp + Bp*Sp - Ac*Ao\n",
    "# Form system of eqs from coefficients, then solve\n",
    "dioph_coeffs = dioph.all_coeffs()\n",
    "\n",
    "# Solve for r1, s0 and s1, \n",
    "sol = sy.solve(dioph_coeffs, (r1,s0,s1))\n",
    "print('r_1 = %s' % sol[r1])\n",
    "print('s_0 = %s' % sol[s0])\n",
    "print('s_1 = %s' % sol[s1])"
   ]
  },
  {
   "cell_type": "code",
   "execution_count": 19,
   "metadata": {},
   "outputs": [
    {
     "name": "stdout",
     "output_type": "stream",
     "text": [
      "r_1 = -0.900000000000000\n",
      "s_0 = 0.29/bu\n",
      "s_1 = -0.245/bu\n"
     ]
    }
   ],
   "source": [
    "# Substitute values for the desired closed-loop pole and observer pole\n",
    "substitutions = [(pc, 0.7), (po, 0.5)]\n",
    "print('r_1 = %s' % sol[r1].subs(substitutions))\n",
    "print('s_0 = %s' % sol[s0].subs(substitutions))\n",
    "print('s_1 = %s' % sol[s1].subs(substitutions))"
   ]
  },
  {
   "cell_type": "code",
   "execution_count": 20,
   "metadata": {},
   "outputs": [
    {
     "name": "stdout",
     "output_type": "stream",
     "text": [
      "t_0 = (pc**2 - 2*pc + 1)/bu\n",
      "t_0 = 0.0900000000000001/bu\n"
     ]
    }
   ],
   "source": [
    "# The forward controller\n",
    "t0 = (Ac.eval(1)/Bp.eval(1))\n",
    "print('t_0 = %s' % t0)\n",
    "print('t_0 = %s' % t0.subs(substitutions))"
   ]
  },
  {
   "cell_type": "markdown",
   "metadata": {},
   "source": [
    "## Requirements on the closed-loop poles and observer poles in order to obtain stable controller\n",
    "Notice the solution for the controller denominator\n",
    "$$ R(z) = z+r_1 = z -2p_c -p_o + 1, $$\n",
    "where $0\\ge p_c<1$ is the desired closed-loop pole and $0 \\ge p_o<1$ is the observer pole. Sketch in the $(p_c, p_o)$-plane the region which will give a stable controller $F_b(z) = \\frac{S(z)}{R(z)}$!"
   ]
  },
  {
   "cell_type": "markdown",
   "metadata": {},
   "source": [
    "## Simulate a particular case\n",
    "Let $b_u=1$, $p_c = p_o = \\frac{2}{3}$. Analyze the closed-loop system by simulation"
   ]
  },
  {
   "cell_type": "code",
   "execution_count": 30,
   "metadata": {},
   "outputs": [],
   "source": [
    "import control\n",
    "import control.matlab as cm\n",
    "import matplotlib.pyplot as plt"
   ]
  },
  {
   "cell_type": "code",
   "execution_count": 33,
   "metadata": {},
   "outputs": [
    {
     "name": "stdout",
     "output_type": "stream",
     "text": [
      "1 states have been removed from the model\n"
     ]
    }
   ],
   "source": [
    "sbs = [(bu, 1), (pc, 2.0/3.0), (po, 2.0/3.0)]\n",
    "Rcoeffs = [1, float(sol[r1].subs(sbs))]\n",
    "Scoeffs = [float(sol[s0].subs(sbs)), float(sol[s1].subs(sbs))]\n",
    "Tcoeffs = float(t0.subs(sbs))*np.array([1, float(pc.subs(sbs))])\n",
    "Acoeffs = [1, -1]\n",
    "\n",
    "H = cm.tf(float(bu.subs(sbs)), Acoeffs, 1)\n",
    "Ff = cm.tf(Tcoeffs, Rcoeffs, 1)\n",
    "Fb = cm.tf(Scoeffs, Rcoeffs, 1)\n",
    "Haa = cm.tf(1, [1, 0], 1) # The delay due to the anti-aliasing filter\n",
    "Gc = cm.minreal(Ff*cm.feedback(H, Haa*Fb ))\n",
    "Gcv = cm.feedback(H, Haa*Fb)\n",
    "\n",
    "# Pulse trf fcn from command signal to control signal\n",
    "Gcu = Ff*cm.feedback(1, H*Haa*Fb)"
   ]
  },
  {
   "cell_type": "code",
   "execution_count": 38,
   "metadata": {},
   "outputs": [
    {
     "data": {
      "text/plain": [
       "(array([ 1.]), array([ 0.88888889]))"
      ]
     },
     "execution_count": 38,
     "metadata": {},
     "output_type": "execute_result"
    },
    {
     "data": {
      "image/png": "[encoded data removed]",
      "text/plain": [
       "<Figure size 432x288 with 1 Axes>"
      ]
     },
     "metadata": {},
     "output_type": "display_data"
    }
   ],
   "source": [
    "cm.pzmap(Fb)"
   ]
  },
  {
   "cell_type": "code",
   "execution_count": 32,
   "metadata": {},
   "outputs": [
    {
     "ename": "ImportError",
     "evalue": "No module named 'numpy.core._multiarray_umath'",
     "output_type": "error",
     "traceback": [
      "\u001b[0;31m---------------------------------------------------------------------------\u001b[0m",
      "\u001b[0;31mImportError\u001b[0m                               Traceback (most recent call last)",
      "\u001b[0;31mImportError\u001b[0m: No module named 'numpy.core._multiarray_umath'"
     ]
    },
    {
     "data": {
      "text/plain": [
       "Text(0.5,1,'Output')"
      ]
     },
     "execution_count": 32,
     "metadata": {},
     "output_type": "execute_result"
    },
    {
     "data": {
      "image/png": "[encoded data removed]",
      "text/plain": [
       "<Figure size 1008x288 with 1 Axes>"
      ]
     },
     "metadata": {},
     "output_type": "display_data"
    }
   ],
   "source": [
    "tvec = np.arange(40)\n",
    "(t1, y1) = control.step_response(Gc,tvec)\n",
    "plt.figure(figsize=(14,4))\n",
    "plt.step(t1, y1[0])\n",
    "plt.xlabel('k')\n",
    "plt.ylabel('y')\n",
    "plt.title('Output')"
   ]
  },
  {
   "cell_type": "code",
   "execution_count": 40,
   "metadata": {},
   "outputs": [
    {
     "ename": "ImportError",
     "evalue": "No module named 'numpy.core._multiarray_umath'",
     "output_type": "error",
     "traceback": [
      "\u001b[0;31m---------------------------------------------------------------------------\u001b[0m",
      "\u001b[0;31mImportError\u001b[0m                               Traceback (most recent call last)",
      "\u001b[0;31mImportError\u001b[0m: No module named 'numpy.core._multiarray_umath'"
     ]
    },
    {
     "data": {
      "text/plain": [
       "Text(0.5,1,'Output')"
      ]
     },
     "execution_count": 40,
     "metadata": {},
     "output_type": "execute_result"
    },
    {
     "data": {
      "image/png": "[encoded data removed]",
      "text/plain": [
       "<Figure size 1008x288 with 1 Axes>"
      ]
     },
     "metadata": {},
     "output_type": "display_data"
    }
   ],
   "source": [
    "(t1, y1) = control.step_response(Gcv,tvec)\n",
    "plt.figure(figsize=(14,4))\n",
    "plt.step(t1, y1[0])\n",
    "plt.xlabel('k')\n",
    "plt.ylabel('y')\n",
    "plt.title('Output')"
   ]
  },
  {
   "cell_type": "code",
   "execution_count": null,
   "metadata": {},
   "outputs": [],
   "source": []
  }
 ],
 "metadata": {
  "kernelspec": {
   "display_name": "Python 3",
   "language": "python",
   "name": "python3"
  },
  "language_info": {
   "codemirror_mode": {
    "name": "ipython",
    "version": 3
   },
   "file_extension": ".py",
   "mimetype": "text/x-python",
   "name": "python",
   "nbconvert_exporter": "python",
   "pygments_lexer": "ipython3",
   "version": "3.5.2"
  }
 },
 "nbformat": 4,
 "nbformat_minor": 1
}
