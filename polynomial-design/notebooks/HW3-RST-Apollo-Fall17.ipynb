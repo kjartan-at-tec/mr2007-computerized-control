{
 "cells": [
  {
   "cell_type": "code",
   "execution_count": 4,
   "metadata": {
    "collapsed": true
   },
   "outputs": [],
   "source": [
    "import numpy as np\n",
    "import sympy as sy\n",
    "import control.matlab as cm\n",
    "sy.init_printing()"
   ]
  },
  {
   "cell_type": "code",
   "execution_count": 17,
   "metadata": {},
   "outputs": [],
   "source": [
    "h = 0.14 # Sampling period\n",
    "z = sy.symbols('z', real=False)\n",
    "r1,r2, s0,s1,s2 = sy.symbols('r1,r2,s0,s1,s2', real=True) # Second order controller\n",
    "pc1 = -1-1j\n",
    "pc2 = np.conjugate(pc1)\n",
    "pc3 = -1\n",
    "pd1 = np.exp(h*pc1)\n",
    "pd2 = np.exp(h*pc2)\n",
    "pd3 = np.exp(h*pc3)\n",
    "\n",
    "# The desired closed-loop poles\n",
    "Ac = sy.poly(sy.simplify((z-pd1)*(z-pd2))*(z-pd3), z)\n",
    "Ao = sy.poly(z**2, z)\n",
    "\n",
    "# The plant\n",
    "Bp = sy.poly(h**3/6.0 * (z**2 + 4*z + 1), z)\n",
    "Ap = sy.poly((z-1)**3, z)\n",
    "\n",
    "# The controller\n",
    "Rp = sy.poly(z**2 + r1*z + r2, z)\n",
    "Sp = sy.poly(s0*z**2 + s1*z + s2, z)\n",
    "LHS = Ap*Rp + Bp*Sp\n",
    "RHS = Ac*Ao\n",
    "dioph=(LHS-RHS).all_coeffs()"
   ]
  },
  {
   "cell_type": "code",
   "execution_count": 18,
   "metadata": {},
   "outputs": [
    {
     "data": {
      "image/png": "[encoded data removed]",
      "text/latex": [
       "$$1.0 z^{2} - 1.72170486226218 z + 0.755783741455725$$"
      ],
      "text/plain": [
       "     2                                         \n",
       "1.0⋅z  - 1.72170486226218⋅z + 0.755783741455725"
      ]
     },
     "execution_count": 18,
     "metadata": {},
     "output_type": "execute_result"
    }
   ],
   "source": [
    "sy.simplify((z-pd1)*(z-pd2))"
   ]
  },
  {
   "cell_type": "code",
   "execution_count": 19,
   "metadata": {},
   "outputs": [
    {
     "data": {
      "image/png": "[encoded data removed]",
      "text/latex": [
       "$$\\left [ 1.0, \\quad -2.59106309766098, \\quad 2.25256204238952, \\quad -0.657046819815057, \\quad 0.0, \\quad 0.0\\right ]$$"
      ],
      "text/plain": [
       "[1.0, -2.59106309766098, 2.25256204238952, -0.657046819815057, 0.0, 0.0]"
      ]
     },
     "execution_count": 19,
     "metadata": {},
     "output_type": "execute_result"
    }
   ],
   "source": [
    "RHS.all_coeffs()"
   ]
  },
  {
   "cell_type": "code",
   "execution_count": 7,
   "metadata": {},
   "outputs": [
    {
     "data": {
      "image/png": "[encoded data removed]",
      "text/latex": [
       "$$\\left [ 1.0, \\quad 1.0 r_{1} + 0.000457333333333333 s_{0} - 3.0, \\quad - 3.0 r_{1} + 1.0 r_{2} + 0.00182933333333333 s_{0} + 0.000457333333333333 s_{1} + 3.0, \\quad 3.0 r_{1} - 3.0 r_{2} + 0.000457333333333333 s_{0} + 0.00182933333333333 s_{1} + 0.000457333333333333 s_{2} - 1.0, \\quad - 1.0 r_{1} + 3.0 r_{2} + 0.000457333333333333 s_{1} + 0.00182933333333333 s_{2}, \\quad - 1.0 r_{2} + 0.000457333333333333 s_{2}\\right ]$$"
      ],
      "text/plain": [
       "[1.0, 1.0⋅r₁ + 0.000457333333333333⋅s₀ - 3.0, -3.0⋅r₁ + 1.0⋅r₂ + 0.00182933333\n",
       "333333⋅s₀ + 0.000457333333333333⋅s₁ + 3.0, 3.0⋅r₁ - 3.0⋅r₂ + 0.000457333333333\n",
       "333⋅s₀ + 0.00182933333333333⋅s₁ + 0.000457333333333333⋅s₂ - 1.0, -1.0⋅r₁ + 3.0\n",
       "⋅r₂ + 0.000457333333333333⋅s₁ + 0.00182933333333333⋅s₂, -1.0⋅r₂ + 0.0004573333\n",
       "33333333⋅s₂]"
      ]
     },
     "execution_count": 7,
     "metadata": {},
     "output_type": "execute_result"
    }
   ],
   "source": []
  },
  {
   "cell_type": "code",
   "execution_count": 20,
   "metadata": {},
   "outputs": [
    {
     "name": "stdout",
     "output_type": "stream",
     "text": [
      "0.329165114241075\n",
      "0.0680324802533507\n",
      "174.428108085880\n",
      "-321.564681193252\n",
      "148.759067609367\n",
      "1.62249450199559\n"
     ]
    }
   ],
   "source": [
    "sol=sy.solve(dioph, (r1,r2,s0,s1, s2))\n",
    "print sol[r1]\n",
    "print sol[r2]\n",
    "print sol[s0]\n",
    "print sol[s1]\n",
    "print sol[s2]\n",
    "\n",
    "t0 = Ac.evalf(subs={z:1})/Bp.evalf(subs={z:1,})\n",
    "print t0"
   ]
  },
  {
   "cell_type": "code",
   "execution_count": 32,
   "metadata": {},
   "outputs": [
    {
     "data": {
      "text/plain": [
       "sympy.core.numbers.Float"
      ]
     },
     "execution_count": 32,
     "metadata": {},
     "output_type": "execute_result"
    }
   ],
   "source": [
    "type(t0)"
   ]
  },
  {
   "cell_type": "code",
   "execution_count": 34,
   "metadata": {},
   "outputs": [
    {
     "data": {
      "text/plain": [
       "array([  8.69358235e-01 +0.00000000e+00j,\n",
       "         8.60852431e-01 +1.21312956e-01j,\n",
       "         8.60852431e-01 -1.21312956e-01j,\n",
       "        -1.64582557e-01 +2.02348862e-01j,\n",
       "        -1.64582557e-01 -2.02348862e-01j,\n",
       "         5.95862269e-14 +4.54381191e-07j,   5.95862269e-14 -4.54381191e-07j])"
      ]
     },
     "execution_count": 34,
     "metadata": {},
     "output_type": "execute_result"
    }
   ],
   "source": [
    "G = cm.tf([1], [1, 0, 0,0])\n",
    "Gd = cm.c2d(G, h)\n",
    "Fb = cm.tf([float(sol[s0]), float(sol[s1]), float(sol[s2])], \n",
    "           [1., float(sol[r1]), float(sol[r2])], h)\n",
    "Ff = cm.tf([float(t0), 0, 0], [1., float(sol[r1]), float(sol[r2])], h)\n",
    "\n",
    "Gc = Ff * cm.feedback(Gd, Fb)\n",
    "cm.pole(Gc)"
   ]
  },
  {
   "cell_type": "code",
   "execution_count": 33,
   "metadata": {},
   "outputs": [
    {
     "name": "stdout",
     "output_type": "stream",
     "text": [
      "Poly(z**2 - 1.58555290309441*z - (-0.792776451547206 + 0.168974310731771*I)*(0.792776451547206 + 0.168974310731771*I), z, domain='EX')\n",
      "0.0714939167206446\n",
      "Poly(0.00133942860759726*z + 0.00124712240506047, z, domain='RR')\n",
      "0.00258655101265772\n"
     ]
    }
   ],
   "source": [
    "print A2p\n",
    "print A2p.evalf(subs={z:1})\n",
    "print Bp\n",
    "print Bp.evalf(subs={z:1})\n"
   ]
  },
  {
   "cell_type": "code",
   "execution_count": 4,
   "metadata": {},
   "outputs": [
    {
     "data": {
      "text/plain": [
       "0.042426406871192847"
      ]
     },
     "execution_count": 4,
     "metadata": {},
     "output_type": "execute_result"
    }
   ],
   "source": [
    "0.3/(5*np.sqrt(2))"
   ]
  },
  {
   "cell_type": "code",
   "execution_count": 6,
   "metadata": {},
   "outputs": [
    {
     "data": {
      "text/plain": [
       "0.16897431073177133"
      ]
     },
     "execution_count": 6,
     "metadata": {},
     "output_type": "execute_result"
    }
   ],
   "source": [
    "np.exp(-0.21)*np.sin(0.21)"
   ]
  },
  {
   "cell_type": "code",
   "execution_count": 7,
   "metadata": {},
   "outputs": [
    {
     "data": {
      "text/plain": [
       "0.65704681981505675"
      ]
     },
     "execution_count": 7,
     "metadata": {},
     "output_type": "execute_result"
    }
   ],
   "source": [
    "np.exp(0.03*(-14))"
   ]
  },
  {
   "cell_type": "code",
   "execution_count": null,
   "metadata": {
    "collapsed": true
   },
   "outputs": [],
   "source": []
  }
 ],
 "metadata": {
  "kernelspec": {
   "display_name": "Python 2",
   "language": "python",
   "name": "python2"
  },
  "language_info": {
   "codemirror_mode": {
    "name": "ipython",
    "version": 2
   },
   "file_extension": ".py",
   "mimetype": "text/x-python",
   "name": "python",
   "nbconvert_exporter": "python",
   "pygments_lexer": "ipython2",
   "version": "2.7.13"
  }
 },
 "nbformat": 4,
 "nbformat_minor": 1
}
