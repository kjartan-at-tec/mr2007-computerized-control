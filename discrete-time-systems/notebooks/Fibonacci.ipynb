{
 "cells": [
  {
   "cell_type": "code",
   "execution_count": 8,
   "metadata": {
    "collapsed": true
   },
   "outputs": [],
   "source": [
    "import numpy as np\n",
    "import sympy as sy\n",
    "from sympy import init_printing\n",
    "init_printing()\n",
    "import control.matlab as cm"
   ]
  },
  {
   "cell_type": "markdown",
   "metadata": {},
   "source": [
    "# The Fibonacci sequence\n",
    "\n",
    "\\begin{equation}\n",
    "y(k+2) - y(k+1) - y(k) = 0\n",
    "\\end{equation}\n",
    "\n"
   ]
  },
  {
   "cell_type": "code",
   "execution_count": 20,
   "metadata": {
    "collapsed": true
   },
   "outputs": [],
   "source": [
    "z = sy.symbols('z')\n",
    "y0, y1 = sy.symbols('y0, y1', real=True)"
   ]
  },
  {
   "cell_type": "code",
   "execution_count": 21,
   "metadata": {},
   "outputs": [
    {
     "data": {
      "image/png": "[encoded data removed]",
      "text/latex": [
       "$$z^{2} - z - 1$$"
      ],
      "text/plain": [
       " 2        \n",
       "z  - z - 1"
      ]
     },
     "execution_count": 21,
     "metadata": {},
     "output_type": "execute_result"
    }
   ],
   "source": [
    "den = z*z - z -1\n",
    "num = z*z\n",
    "Y = num/sy.factor(den)\n",
    "sy.factor(den)"
   ]
  },
  {
   "cell_type": "code",
   "execution_count": 22,
   "metadata": {},
   "outputs": [
    {
     "data": {
      "image/png": "[encoded data removed]",
      "text/latex": [
       "$$\\frac{z^{2}}{z^{2} - z - 1}$$"
      ],
      "text/plain": [
       "     2    \n",
       "    z     \n",
       "──────────\n",
       " 2        \n",
       "z  - z - 1"
      ]
     },
     "execution_count": 22,
     "metadata": {},
     "output_type": "execute_result"
    }
   ],
   "source": [
    "sy.factor(Y)"
   ]
  },
  {
   "cell_type": "code",
   "execution_count": 23,
   "metadata": {},
   "outputs": [
    {
     "data": {
      "image/png": "[encoded data removed]",
      "text/latex": [
       "$$\\frac{z + 1}{z^{2} - z - 1} + 1$$"
      ],
      "text/plain": [
       "  z + 1       \n",
       "────────── + 1\n",
       " 2            \n",
       "z  - z - 1    "
      ]
     },
     "execution_count": 23,
     "metadata": {},
     "output_type": "execute_result"
    }
   ],
   "source": [
    "sy.apart(Y)"
   ]
  },
  {
   "cell_type": "code",
   "execution_count": 24,
   "metadata": {},
   "outputs": [
    {
     "data": {
      "image/png": "[encoded data removed]",
      "text/latex": [
       "$$\\frac{z}{z^{2} - z - 1}$$"
      ],
      "text/plain": [
       "    z     \n",
       "──────────\n",
       " 2        \n",
       "z  - z - 1"
      ]
     },
     "execution_count": 24,
     "metadata": {},
     "output_type": "execute_result"
    }
   ],
   "source": [
    "sy.apart( z/den)"
   ]
  },
  {
   "cell_type": "code",
   "execution_count": 25,
   "metadata": {},
   "outputs": [
    {
     "data": {
      "image/png": "[encoded data removed]",
      "text/latex": [
       "$$z^{2} - z - 1$$"
      ],
      "text/plain": [
       " 2        \n",
       "z  - z - 1"
      ]
     },
     "execution_count": 25,
     "metadata": {},
     "output_type": "execute_result"
    }
   ],
   "source": [
    "p1 = (1 + sy.sqrt(5))/2\n",
    "p2 = (1 - sy.sqrt(5))/2\n",
    "sy.expand((z-p1)*(z-p2))"
   ]
  },
  {
   "cell_type": "code",
   "execution_count": 28,
   "metadata": {},
   "outputs": [
    {
     "data": {
      "image/png": "[encoded data removed]",
      "text/latex": [
       "$$\\frac{z}{\\left(z - \\frac{1}{2} + \\frac{\\sqrt{5}}{2}\\right) \\left(z - \\frac{\\sqrt{5}}{2} - \\frac{1}{2}\\right)}$$"
      ],
      "text/plain": [
       "            z            \n",
       "─────────────────────────\n",
       "⎛    1   √5⎞ ⎛    √5   1⎞\n",
       "⎜z - ─ + ──⎟⋅⎜z - ── - ─⎟\n",
       "⎝    2   2 ⎠ ⎝    2    2⎠"
      ]
     },
     "execution_count": 28,
     "metadata": {},
     "output_type": "execute_result"
    }
   ],
   "source": [
    "Y = z/( (z-p1)*(z-p2))\n",
    "Y"
   ]
  },
  {
   "cell_type": "code",
   "execution_count": 29,
   "metadata": {},
   "outputs": [
    {
     "data": {
      "image/png": "[encoded data removed]",
      "text/latex": [
       "$$\\frac{z}{z^{2} - z - 1}$$"
      ],
      "text/plain": [
       "    z     \n",
       "──────────\n",
       " 2        \n",
       "z  - z - 1"
      ]
     },
     "execution_count": 29,
     "metadata": {},
     "output_type": "execute_result"
    }
   ],
   "source": [
    "sy.apart(Y)"
   ]
  },
  {
   "cell_type": "code",
   "execution_count": null,
   "metadata": {
    "collapsed": true
   },
   "outputs": [],
   "source": []
  }
 ],
 "metadata": {
  "kernelspec": {
   "display_name": "Python 2",
   "language": "python",
   "name": "python2"
  },
  "language_info": {
   "codemirror_mode": {
    "name": "ipython",
    "version": 2
   },
   "file_extension": ".py",
   "mimetype": "text/x-python",
   "name": "python",
   "nbconvert_exporter": "python",
   "pygments_lexer": "ipython2",
   "version": "2.7.13"
  }
 },
 "nbformat": 4,
 "nbformat_minor": 1
}
