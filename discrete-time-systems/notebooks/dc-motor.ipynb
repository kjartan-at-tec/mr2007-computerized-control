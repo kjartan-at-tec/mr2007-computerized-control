{
 "cells": [
  {
   "cell_type": "markdown",
   "metadata": {},
   "source": [
    "# Model of DC motor with inductance\n",
    "\n",
    "See http://ctms.engin.umich.edu/CTMS/index.php?example=MotorSpeed&section=SimulinkModeling\n"
   ]
  },
  {
   "cell_type": "code",
   "execution_count": 2,
   "metadata": {
    "collapsed": true
   },
   "outputs": [],
   "source": [
    "import numpy as np\n",
    "import sympy as sy\n",
    "import control.matlab as cm\n",
    "import matplotlib.pyplot as plt\n",
    "%matplotlib inline"
   ]
  },
  {
   "cell_type": "code",
   "execution_count": 48,
   "metadata": {
    "collapsed": true
   },
   "outputs": [],
   "source": [
    "# Set parameters of the model\n",
    "I = 0.01 # kg m^2\n",
    "m = 0.01 # V/rad/s\n",
    "k = 0.01 # Nm/Amp\n",
    "R = 1.0 # Ohm\n",
    "L = 0.5 # H\n",
    "a1 = k/I\n",
    "a2 = m/L\n",
    "a3 = R/L\n",
    "b = 1.0/L"
   ]
  },
  {
   "cell_type": "code",
   "execution_count": 50,
   "metadata": {
    "collapsed": false
   },
   "outputs": [],
   "source": [
    "s,t = sy.symbols('s,t')"
   ]
  },
  {
   "cell_type": "code",
   "execution_count": 51,
   "metadata": {
    "collapsed": true
   },
   "outputs": [],
   "source": [
    "A = sy.Matrix([[0,1,0],[0,0,a1], [0,-a2,-a3]])"
   ]
  },
  {
   "cell_type": "code",
   "execution_count": 52,
   "metadata": {
    "collapsed": false
   },
   "outputs": [
    {
     "data": {
      "text/plain": [
       "Matrix([\n",
       "[s,   -1,       0],\n",
       "[0,    s,    -1.0],\n",
       "[0, 0.02, s + 2.0]])"
      ]
     },
     "execution_count": 52,
     "metadata": {},
     "output_type": "execute_result"
    }
   ],
   "source": [
    "sIA = s*sy.eye(3) - A\n",
    "sIA"
   ]
  },
  {
   "cell_type": "code",
   "execution_count": 78,
   "metadata": {
    "collapsed": false
   },
   "outputs": [
    {
     "data": {
      "text/plain": [
       "Matrix([\n",
       "[1/s, s**(-2) - 0.02/(s**3*(s + 2.0 + 0.02/s)), 1.0/(s**2*(s + 2.0 + 0.02/s))],\n",
       "[  0,     1/s - 0.02/(s**2*(s + 2.0 + 0.02/s)),    1.0/(s*(s + 2.0 + 0.02/s))],\n",
       "[  0,             -0.02/(s*(s + 2.0 + 0.02/s)),          1/(s + 2.0 + 0.02/s)]])"
      ]
     },
     "execution_count": 78,
     "metadata": {},
     "output_type": "execute_result"
    }
   ],
   "source": [
    "sIA.inv()"
   ]
  },
  {
   "cell_type": "code",
   "execution_count": 79,
   "metadata": {
    "collapsed": true
   },
   "outputs": [],
   "source": [
    "B = sy.Matrix([[0],[0],[b]])\n",
    "C = sy.Matrix([[1,0,0]])"
   ]
  },
  {
   "cell_type": "code",
   "execution_count": 80,
   "metadata": {
    "collapsed": false
   },
   "outputs": [
    {
     "name": "stdout",
     "output_type": "stream",
     "text": [
      "Matrix([[2.0/(s**2*(s + 2.0 + 0.02/s))]])\n"
     ]
    }
   ],
   "source": [
    "sIAinv = sIA.inv()\n",
    "G = C*sIAinv*B\n",
    "print G\n"
   ]
  },
  {
   "cell_type": "code",
   "execution_count": 93,
   "metadata": {
    "collapsed": false
   },
   "outputs": [
    {
     "name": "stdout",
     "output_type": "stream",
     "text": [
      "2/(s*(s + 0.01)*(s + 1.99))\n"
     ]
    }
   ],
   "source": [
    "# Hard code G because of problems with sy.factor()\n",
    "G = 2/(s*(s+1.99)*(s+0.01))\n",
    "print G"
   ]
  },
  {
   "cell_type": "code",
   "execution_count": 105,
   "metadata": {
    "collapsed": false
   },
   "outputs": [
    {
     "name": "stdout",
     "output_type": "stream",
     "text": [
      "\n",
      "          2\n",
      "--------------------\n",
      "s^3 + 2 s^2 + 0.02 s\n",
      "\n"
     ]
    },
    {
     "data": {
      "text/plain": [
       "(-10, 1)"
      ]
     },
     "execution_count": 105,
     "metadata": {},
     "output_type": "execute_result"
    },
    {
     "data": {
      "image/png": "[encoded data removed]",
      "text/plain": [
       "<matplotlib.figure.Figure at 0x7f4074395610>"
      ]
     },
     "metadata": {},
     "output_type": "display_data"
    }
   ],
   "source": [
    "Gs = cm.tf([2],[1, 2, 0.02, 0])\n",
    "print Gs\n",
    "h = 0.01\n",
    "Gd = cm.c2d(Gs, h)\n",
    "\n",
    "cm.nyquist(Gs)\n",
    "plt.ylim(-6,6)\n",
    "plt.xlim(-10,1)"
   ]
  },
  {
   "cell_type": "code",
   "execution_count": 95,
   "metadata": {
    "collapsed": false
   },
   "outputs": [
    {
     "name": "stdout",
     "output_type": "stream",
     "text": [
      "-0.00255069571500975/(0.01*s + 0.0199) + 101.010101010101/(0.01*s + 0.0001) - 10100.7550314386/s + 100.502512562814/s**2\n",
      "10000.0*((50.251256281407*t + 50.251256281407*polygamma(0, 0.01) - 50.251256281407*polygamma(0, 2.99) + 50.251256281407*polygamma(0, 1.99) - 50.251256281407*polygamma(0, 1.01))*exp(2.0*t) - 0.127534785750487*exp(0.01*t) + 5050.50505050504*exp(1.99*t))*exp(-2.0*t)*Heaviside(t)\n"
     ]
    }
   ],
   "source": [
    "# Try to sample symbolically \n",
    "\n",
    "#Y = sy.apart(G/s)\n",
    "#print Y\n",
    "#y = sy.inverse_laplace_transform(Y,s,t)\n",
    "#print y\n"
   ]
  },
  {
   "cell_type": "code",
   "execution_count": 90,
   "metadata": {
    "collapsed": false
   },
   "outputs": [
    {
     "name": "stdout",
     "output_type": "stream",
     "text": [
      "s*(s + 0.01)*(s + 1.99)\n",
      "s**3 + 2.0*s**2 + 0.0199*s\n",
      "0\n",
      "1.0*s*(0.01*s + 0.0001)*(0.01*s + 0.0199)\n",
      "s*(0.9999*s**2 + 1.9998*s + 0.01989801)\n"
     ]
    }
   ],
   "source": [
    "den = (s+1.99)*(s+0.01)*s\n",
    "print den\n",
    "den2=sy.expand(den)\n",
    "print den2\n",
    "print sy.simplify(den-den2)\n",
    "den3 = sy.factor(den2)\n",
    "print den3\n",
    "print sy.simplify(den-den3)"
   ]
  },
  {
   "cell_type": "code",
   "execution_count": 66,
   "metadata": {
    "collapsed": false
   },
   "outputs": [
    {
     "name": "stdout",
     "output_type": "stream",
     "text": [
      "2.0*((50.0000000000002*t + 50.0000000000002*polygamma(0, 0.0100505063388334) - 50.0000000000002*polygamma(0, 2.98994949366117) + 50.0000000000002*polygamma(0, 1.98994949366117) - 50.0000000000002*polygamma(0, 1.01005050633883))*exp(2.0*t) - 0.127547766721604*exp(0.0100505063388334*t) + 5000.12754776677*exp(1.98994949366117*t))*exp(-2.0*t)*Heaviside(t)\n"
     ]
    }
   ],
   "source": [
    "y = sy.inverse_laplace_transform(Y,s,t)\n",
    "print y"
   ]
  },
  {
   "cell_type": "code",
   "execution_count": 56,
   "metadata": {
    "collapsed": false
   },
   "outputs": [
    {
     "data": {
      "text/plain": [
       "s**3 + 2.0*s**2 + 0.02*s"
      ]
     },
     "execution_count": 56,
     "metadata": {},
     "output_type": "execute_result"
    }
   ],
   "source": [
    "sIA.det()"
   ]
  },
  {
   "cell_type": "code",
   "execution_count": 57,
   "metadata": {
    "collapsed": false
   },
   "outputs": [
    {
     "data": {
      "text/plain": [
       "Matrix([\n",
       "[-s*(-s - 2.0) + 0.02,       s + 2.0,   1.0],\n",
       "[                   0, -s*(-s - 2.0), 1.0*s],\n",
       "[                   0,       -0.02*s,  s**2]])"
      ]
     },
     "execution_count": 57,
     "metadata": {},
     "output_type": "execute_result"
    }
   ],
   "source": [
    "sIA.adjugate()"
   ]
  },
  {
   "cell_type": "code",
   "execution_count": 58,
   "metadata": {
    "collapsed": false
   },
   "outputs": [],
   "source": [
    "Id=sIA*sIA.adjugate()/sIA.det()"
   ]
  },
  {
   "cell_type": "code",
   "execution_count": 59,
   "metadata": {
    "collapsed": false
   },
   "outputs": [
    {
     "name": "stdout",
     "output_type": "stream",
     "text": [
      "1.00000000000000\n",
      "0\n",
      "0\n",
      "0\n",
      "1.00000000000000\n",
      "0\n",
      "0\n",
      "0\n",
      "1.00000000000000\n"
     ]
    }
   ],
   "source": [
    "for r in Id.tolist():\n",
    "    for c in r:\n",
    "        print sy.simplify(c)"
   ]
  },
  {
   "cell_type": "code",
   "execution_count": 82,
   "metadata": {
    "collapsed": false
   },
   "outputs": [
    {
     "data": {
      "text/plain": [
       "0.9797958971132712"
      ]
     },
     "execution_count": 82,
     "metadata": {},
     "output_type": "execute_result"
    }
   ],
   "source": [
    "np.sqrt(0.96)"
   ]
  },
  {
   "cell_type": "code",
   "execution_count": 68,
   "metadata": {
    "collapsed": false
   },
   "outputs": [
    {
     "data": {
      "text/plain": [
       "0.9801"
      ]
     },
     "execution_count": 68,
     "metadata": {},
     "output_type": "execute_result"
    }
   ],
   "source": [
    "0.99*0.99"
   ]
  },
  {
   "cell_type": "code",
   "execution_count": 69,
   "metadata": {
    "collapsed": false
   },
   "outputs": [
    {
     "data": {
      "text/plain": [
       "s**2 + 2.0*s + 0.0199"
      ]
     },
     "execution_count": 69,
     "metadata": {},
     "output_type": "execute_result"
    }
   ],
   "source": [
    "sy.expand((s+1.99)*(s+0.01))"
   ]
  },
  {
   "cell_type": "code",
   "execution_count": 3,
   "metadata": {
    "collapsed": false
   },
   "outputs": [
    {
     "data": {
      "text/plain": [
       "\n",
       "  0.19 z + 0.15\n",
       "-----------------\n",
       "z^2 - 1.5 z + 0.5\n",
       "\n",
       "dt = 0.69314718056"
      ]
     },
     "execution_count": 3,
     "metadata": {},
     "output_type": "execute_result"
    }
   ],
   "source": [
    "# Simpler model\n",
    "H2 = cm.tf([0.19, 0.15], [1, -1.5, 0.5], np.log(2))\n",
    "H2"
   ]
  },
  {
   "cell_type": "code",
   "execution_count": 5,
   "metadata": {
    "collapsed": false
   },
   "outputs": [
    {
     "data": {
      "text/plain": [
       "(-1.3199970599189332-679.99798333757929j)"
      ]
     },
     "execution_count": 5,
     "metadata": {},
     "output_type": "execute_result"
    }
   ],
   "source": [
    "H2(np.exp(1j*0.001))"
   ]
  },
  {
   "cell_type": "code",
   "execution_count": 6,
   "metadata": {
    "collapsed": false
   },
   "outputs": [
    {
     "data": {
      "text/plain": [
       "-0.33"
      ]
     },
     "execution_count": 6,
     "metadata": {},
     "output_type": "execute_result"
    }
   ],
   "source": [
    "-1.32*0.25"
   ]
  },
  {
   "cell_type": "code",
   "execution_count": 7,
   "metadata": {
    "collapsed": false
   },
   "outputs": [
    {
     "data": {
      "text/plain": [
       "0.24500000000000002"
      ]
     },
     "execution_count": 7,
     "metadata": {},
     "output_type": "execute_result"
    }
   ],
   "source": [
    "0.34-0.19*0.5"
   ]
  },
  {
   "cell_type": "code",
   "execution_count": 21,
   "metadata": {
    "collapsed": false
   },
   "outputs": [
    {
     "name": "stdout",
     "output_type": "stream",
     "text": [
      "(-1.31999694667-679.997870004j)\n",
      "(-1.31999477002-679.99738001j)\n",
      "(-0.979996080016-679.998040008j)\n"
     ]
    }
   ],
   "source": [
    "w=0.001\n",
    "cw = np.cos(w)\n",
    "#sw = np.sin(w)\n",
    "#cw = 1.0\n",
    "sw = w\n",
    "H21w = (0.19*(cw + 1j*sw) + 0.15) / ( (cw+1j*sw-1) * (cw+1j*sw - 0.5) ) \n",
    "print H21w\n",
    "H22w = (0.19+0.15 + 1j*0.19*w)/( (-w**2/2.0 + 1j*w)*(0.5+1j*w))\n",
    "H23w = (0.19+0.15 + 1j*0.19*w)/(1j*w*(0.5+1j*w))\n",
    "print H22w\n",
    "print ( (w+1j*0.5)*(0.34 + 1j*0.19*w) )/(-w*(w**2 + 0.25))"
   ]
  },
  {
   "cell_type": "code",
   "execution_count": 22,
   "metadata": {
    "collapsed": false
   },
   "outputs": [
    {
     "data": {
      "text/plain": [
       "1.7782794100389228"
      ]
     },
     "execution_count": 22,
     "metadata": {},
     "output_type": "execute_result"
    }
   ],
   "source": [
    "10**(0.25)"
   ]
  },
  {
   "cell_type": "code",
   "execution_count": null,
   "metadata": {
    "collapsed": true
   },
   "outputs": [],
   "source": []
  }
 ],
 "metadata": {
  "kernelspec": {
   "display_name": "Python 2",
   "language": "python",
   "name": "python2"
  },
  "language_info": {
   "codemirror_mode": {
    "name": "ipython",
    "version": 2
   },
   "file_extension": ".py",
   "mimetype": "text/x-python",
   "name": "python",
   "nbconvert_exporter": "python",
   "pygments_lexer": "ipython2",
   "version": "2.7.6"
  }
 },
 "nbformat": 4,
 "nbformat_minor": 0
}
