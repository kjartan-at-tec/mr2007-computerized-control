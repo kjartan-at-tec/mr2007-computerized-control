{
 "cells": [
  {
   "cell_type": "markdown",
   "metadata": {},
   "source": [
    "# Jury's stability criterion"
   ]
  },
  {
   "cell_type": "code",
   "execution_count": 90,
   "metadata": {
    "collapsed": false
   },
   "outputs": [],
   "source": [
    "import numpy as np\n",
    "from sympy import *\n",
    "import itertools\n",
    "init_printing()\n",
    "%matplotlib inline"
   ]
  },
  {
   "cell_type": "code",
   "execution_count": 107,
   "metadata": {
    "collapsed": true
   },
   "outputs": [],
   "source": [
    "def jury(a):\n",
    "    n = len(a)\n",
    "    tab = []\n",
    "    for i in range(n):\n",
    "        line1 = a[:n-i]\n",
    "        line2 = line1[::-1]\n",
    "        tab.append(line1)\n",
    "        tab.append(line2)\n",
    "        alpha = line1[-1]/line2[-1]\n",
    "        a[:n-i] = line1-alpha*line2\n",
    "    for line in tab:\n",
    "        print line\n",
    "\n",
    "def juryrec(a,tab):\n",
    "    n = len(a)\n",
    "    if n==1:\n",
    "        tab.append(a)\n",
    "    else:\n",
    "        line1 = a\n",
    "        line2 = line1[::-1]\n",
    "        tab.append(line1)\n",
    "        tab.append(line2)\n",
    "        alpha = line1[-1]/line2[-1]\n",
    "        aa = [el1 - alpha*el2 for (el1,el2) in itertools.izip(line1,line2)]\n",
    "        juryrec(aa[:-1],tab)\n",
    "\n",
    "        "
   ]
  },
  {
   "cell_type": "code",
   "execution_count": 67,
   "metadata": {
    "collapsed": false
   },
   "outputs": [
    {
     "name": "stdout",
     "output_type": "stream",
     "text": [
      "Coefficients\n",
      "[ 4 -4 -7  2]\n",
      "[4, -4, -7, 2]\n",
      "[2, -7, -4, 4]\n",
      "[3, -1/2, -5]\n",
      "[-5, -1/2, 3]\n",
      "[-16/3, -4/3]\n",
      "[-4/3, -16/3]\n",
      "[-5]\n",
      "Coefficients\n",
      "[ 1.  -2.   1.4 -0.1]\n",
      "[ 1.  -2.   1.4 -0.1]\n",
      "[-0.1  1.4 -2.   1. ]\n",
      "[0.98999999999999999, -1.8600000000000001, 1.2]\n",
      "[1.2, -1.8600000000000001, 0.98999999999999999]\n",
      "[-0.46454545454545459, 0.39454545454545475]\n",
      "[0.39454545454545475, -0.46454545454545459]\n",
      "[-0.12945205479452027]\n",
      "Roots\n",
      "[ 0.95986894+0.56970991j  0.95986894-0.56970991j  0.08026212+0.j        ]\n",
      "Magnitudes\n",
      "[ 1.11620687  1.11620687  0.08026212]\n"
     ]
    }
   ],
   "source": [
    "aa1 = np.array([1,-2,1.4,-0.1])\n",
    "aa2 = np.array([4,-4,-7,2])\n",
    "a2 = [Integer(4),Integer(-4),Integer(-7),Integer(2)]\n",
    "\n",
    "tab=[]\n",
    "juryrec(a2, tab)\n",
    "print \"Coefficients\"\n",
    "print aa2\n",
    "for line in tab:\n",
    "    print line\n",
    "np.roots(aa2)\n",
    "tab=[]\n",
    "juryrec(aa1, tab)\n",
    "print \"Coefficients\"\n",
    "print aa1\n",
    "for line in tab:\n",
    "    print line\n",
    "print \"Roots\"\n",
    "print np.roots(aa1)\n",
    "print \"Magnitudes\"\n",
    "print np.abs(np.roots(aa1))"
   ]
  },
  {
   "cell_type": "code",
   "execution_count": 83,
   "metadata": {
    "collapsed": false
   },
   "outputs": [
    {
     "data": {
      "text/plain": [
       "-0.12945102260495156"
      ]
     },
     "execution_count": 83,
     "metadata": {},
     "output_type": "execute_result"
    }
   ],
   "source": [
    "-0.4645+0.3945**2/0.4645"
   ]
  },
  {
   "cell_type": "markdown",
   "metadata": {},
   "source": [
    "## Proportional control of second order system (DC-motor with zero-cancellation)\n",
    "The transfer function is given by\n",
    "\\begin{equation} \n",
    "H(z) = \\frac{1}{z^2 - 1.5z + 0.5} = \\frac{B(z)}{A(z)}.\n",
    "\\end{equation}\n",
    "The closed loop pulse-transfer function becomes\n",
    "\\begin{equation} \n",
    "H_c(z) = \\frac{K H(z)}{KH(z) + 1} = \\frac{K B(z)}{A(z) + KB(z)}.\n",
    "\\end{equation}\n",
    "The characteristic equation of the closed loop system is thus\n",
    "\\begin{equation}\n",
    "z^2  -1.5z + 0.5+K \n",
    "\\end{equation}"
   ]
  },
  {
   "cell_type": "code",
   "execution_count": 98,
   "metadata": {
    "collapsed": false
   },
   "outputs": [
    {
     "name": "stdout",
     "output_type": "stream",
     "text": [
      "[1, -1.5, K + 0.5]\n",
      "[K + 0.5, -1.5, 1]\n",
      "[-(K + 0.5)**2 + 1, 1.5*K - 0.75]\n",
      "[1.5*K - 0.75, -(K + 0.5)**2 + 1]\n",
      "[-(K + 0.5)**2 - (1.5*K - 0.75)**2/(-(K + 0.5)**2 + 1) + 1]\n",
      "-(K + 0.5)**2 + 1\n",
      "[-1.50000000000000, 0.500000000000000]\n",
      "-1.0*K*(1.0*K**2 + 2.5*K - 1.5)/(1.0*K + 1.5)\n",
      "[-3.00000000000000, 0.0, 0.500000000000000]\n"
     ]
    },
    {
     "data": {
      "image/png": "[encoded data removed]",
      "text/plain": [
       "<matplotlib.figure.Figure at 0x7f1ecb4973d0>"
      ]
     },
     "metadata": {},
     "output_type": "display_data"
    },
    {
     "data": {
      "image/png": "[encoded data removed]",
      "text/plain": [
       "<matplotlib.figure.Figure at 0x7f1ecb71bb90>"
      ]
     },
     "metadata": {},
     "output_type": "display_data"
    },
    {
     "data": {
      "text/plain": [
       "<sympy.plotting.plot.Plot at 0x7f1ecb71b390>"
      ]
     },
     "execution_count": 98,
     "metadata": {},
     "output_type": "execute_result"
    }
   ],
   "source": [
    "K = symbols('K')\n",
    "a = [Integer(1), -1.5, 0.5+K]\n",
    "tab=[]\n",
    "juryrec(a,tab)\n",
    "for line in tab:\n",
    "    print line\n",
    "crit1 = simplify(tab[2][0])\n",
    "crit2 = simplify(tab[4][0])\n",
    "print crit1\n",
    "print solve(crit1, K)\n",
    "print crit2\n",
    "print solve(crit2, K)\n",
    "plot(crit2, xlim=(-1.0, 5.0), ylim=(-1,1))\n",
    "plot(crit1, xlim=(-1.0, 5.0), ylim=(-1,1))"
   ]
  },
  {
   "cell_type": "markdown",
   "metadata": {},
   "source": [
    "## Proportional control of the normalized DC-motor\n",
    "Zero-order hold sampling of the DC motor with transfer function $G(s)=\\frac{1}{s(s+1)}$ gives the discrete time system\n",
    "\\begin{equation} H(z) = \\frac{\\big(h-1+e^{-h}\\big)z + \\big(1-e^{-h}-he^{-h}\\big)}{z^2 -\\big(1+e^{-h}\\big)z + e^{-h}} \\end{equation}\n",
    "\n",
    "Let $h=\\ln 2 \\approx 0.693$. This gives the pulse-transfer function\n",
    "\\begin{equation} H(z) = \\frac{B(z)}{A(z)} = \\frac{0.19z + 0.15}{z^2 - 1.5z + 0.5} \\end{equation}\n",
    "\n",
    "Proportional control gives the closed loop system \n",
    "\\begin{equation} \n",
    "H_c(z) = \\frac{K H(z)}{KH(z) + 1} = \\frac{K B(z)}{A(z) + KB(z)}.\n",
    "\\end{equation}\n",
    "The characteristic equation of the closed loop system is\n",
    "\\begin{equation}\n",
    "z^2 + (-1.5+0.19K)z + 0.5+0.15K \n",
    "\\end{equation}\n",
    "\n"
   ]
  },
  {
   "cell_type": "code",
   "execution_count": 38,
   "metadata": {
    "collapsed": false
   },
   "outputs": [
    {
     "name": "stdout",
     "output_type": "stream",
     "text": [
      "(-h*exp(-h) + z*(h - 1 + exp(-h)) + 1 - exp(-h))/(z**2 - z*(1 + exp(-h)) + exp(-h))\n",
      "(z*(-1/2 + log(2)) - log(2)/2 + 1/2)/(z**2 - 3*z/2 + 1/2)\n",
      "(0.193147180559945*z + 0.153426409720027)/(z**2 - 1.5*z + 0.5)\n"
     ]
    }
   ],
   "source": [
    "z,h = symbols('z,h')\n",
    "eh = exp(-h)\n",
    "H = ( (h-1+eh)*z + 1-eh-h*eh ) / (z**2 -(1+eh)*z + eh )\n",
    "print H\n",
    "H1 = H.subs(h,log(2))\n",
    "print H1\n",
    "H2 = N(H1)\n",
    "print H2"
   ]
  },
  {
   "cell_type": "markdown",
   "metadata": {},
   "source": [
    "### Apply Jury's criterion"
   ]
  },
  {
   "cell_type": "code",
   "execution_count": 75,
   "metadata": {
    "collapsed": false
   },
   "outputs": [
    {
     "name": "stdout",
     "output_type": "stream",
     "text": [
      "[1, 0.19*K - 1.5, 0.15*K + 0.5]\n",
      "[0.15*K + 0.5, 0.19*K - 1.5, 1]\n",
      "[-(0.15*K + 0.5)**2 + 1, 0.19*K - (0.15*K + 0.5)*(0.19*K - 1.5) - 1.5]\n",
      "[0.19*K - (0.15*K + 0.5)*(0.19*K - 1.5) - 1.5, -(0.15*K + 0.5)**2 + 1]\n",
      "[-(0.15*K + 0.5)**2 + 1 - (0.19*K - (0.15*K + 0.5)*(0.19*K - 1.5) - 1.5)**2/(-(0.15*K + 0.5)**2 + 1)]\n"
     ]
    }
   ],
   "source": [
    "K = symbols('K')\n",
    "a = [Integer(1), -1.5+0.19*K, 0.5+0.15*K]\n",
    "tab=[]\n",
    "juryrec(a,tab)\n",
    "for line in tab:\n",
    "    print line\n"
   ]
  },
  {
   "cell_type": "code",
   "execution_count": 84,
   "metadata": {
    "collapsed": false
   },
   "outputs": [
    {
     "name": "stdout",
     "output_type": "stream",
     "text": [
      "-(0.15*K + 0.5)**2 + 1\n",
      "[-10.0000000000000, 3.33333333333333]\n",
      "[0.0, 75.0000000000000]\n",
      "0.0753230769230770\n",
      "0.0975000000000000\n"
     ]
    }
   ],
   "source": [
    "print tab[2][0]\n",
    "print solve(tab[2][0], K)\n",
    "print solve(tab[4][0], K)\n",
    "print N(tab[4][0].subs(K,3))\n",
    "print N(tab[2][0].subs(K,3))"
   ]
  },
  {
   "cell_type": "code",
   "execution_count": 77,
   "metadata": {
    "collapsed": false
   },
   "outputs": [
    {
     "data": {
      "text/plain": [
       "(-oo, -10) U (-10, 10/3) U (10/3, oo)"
      ]
     },
     "execution_count": 77,
     "metadata": {},
     "output_type": "execute_result"
    }
   ],
   "source": [
    "from sympy.solvers.inequalities import solve_rational_inequalities\n",
    "solve_rational_inequalities([[ ( (Poly(tab[2][0], K),Poly(tab[2][0], K)), '>=') ]])\n"
   ]
  },
  {
   "cell_type": "markdown",
   "metadata": {},
   "source": [
    "## Proportional control of the double integrator\n",
    "\\begin{equation}\n",
    "H(z) = \\frac{B(z)}{A(z)} = \\frac{h^2(z+1)}{2(z-1)^2} = \\frac{h^2z + h^2}{2z^2 -4z + 2}\n",
    "\\end{equation}\n",
    "\n",
    "Proportional control gives closed-loop system\n",
    "\\begin{equation}\n",
    "H_c(z) = \\frac{KH(z)}{1+KH(z)} = \\frac{KB(z)}{A(z) + KB(z)} \n",
    "\\end{equation}\n",
    "with denominator polynomial\n",
    "\\begin{equation}\n",
    "A(z) + KB(z) = 2z^2 +(-4+Kh^2)z + 2+Kh^2\n",
    "\\end{equation}\n"
   ]
  },
  {
   "cell_type": "code",
   "execution_count": 46,
   "metadata": {
    "collapsed": false
   },
   "outputs": [
    {
     "name": "stdout",
     "output_type": "stream",
     "text": [
      "[2, K*h**2 - 4, K*h**2 + 2]\n",
      "[K*h**2 + 2, K*h**2 - 4, 2]\n",
      "[-(K*h**2/2 + 1)*(K*h**2 + 2) + 2, K*h**2 - (K*h**2/2 + 1)*(K*h**2 - 4) - 4]\n",
      "[K*h**2 - (K*h**2/2 + 1)*(K*h**2 - 4) - 4, -(K*h**2/2 + 1)*(K*h**2 + 2) + 2]\n",
      "[-(K*h**2/2 + 1)*(K*h**2 + 2) + 2 - (K*h**2 - (K*h**2/2 + 1)*(K*h**2 - 4) - 4)**2/(-(K*h**2/2 + 1)*(K*h**2 + 2) + 2)]\n"
     ]
    }
   ],
   "source": [
    "a = [Integer(2), -4+h**2*K, 2+h**2*K]\n",
    "tab= []\n",
    "juryrec(a,tab)\n",
    "for line in tab:\n",
    "    print line\n"
   ]
  },
  {
   "cell_type": "code",
   "execution_count": 47,
   "metadata": {
    "collapsed": false
   },
   "outputs": [
    {
     "data": {
      "text/plain": [
       "[-(K*h**2/2 + 1)*(K*h**2 + 2) + 2 - (K*h**2 - (K*h**2/2 + 1)*(K*h**2 - 4) - 4)**2/(-(K*h**2/2 + 1)*(K*h**2 + 2) + 2)]"
      ]
     },
     "execution_count": 47,
     "metadata": {},
     "output_type": "execute_result"
    }
   ],
   "source": [
    "line"
   ]
  },
  {
   "cell_type": "code",
   "execution_count": 48,
   "metadata": {
    "collapsed": false
   },
   "outputs": [
    {
     "data": {
      "text/plain": [
       "-(K/2 + 1)*(K + 2) + 2 - (K - (K/2 + 1)*(K - 4) - 4)**2/(-(K/2 + 1)*(K + 2) + 2)"
      ]
     },
     "execution_count": 48,
     "metadata": {},
     "output_type": "execute_result"
    }
   ],
   "source": [
    "e3 = line[0].subs(h,1)\n",
    "e3"
   ]
  },
  {
   "cell_type": "code",
   "execution_count": 49,
   "metadata": {
    "collapsed": false
   },
   "outputs": [
    {
     "data": {
      "text/plain": [
       "[]"
      ]
     },
     "execution_count": 49,
     "metadata": {},
     "output_type": "execute_result"
    }
   ],
   "source": [
    "solve(e3,K)"
   ]
  },
  {
   "cell_type": "code",
   "execution_count": 50,
   "metadata": {
    "collapsed": true
   },
   "outputs": [],
   "source": [
    "e1 = tab[2][0].subs(h,1)"
   ]
  },
  {
   "cell_type": "code",
   "execution_count": 51,
   "metadata": {
    "collapsed": false
   },
   "outputs": [
    {
     "data": {
      "text/plain": [
       "[-4, 0]"
      ]
     },
     "execution_count": 51,
     "metadata": {},
     "output_type": "execute_result"
    }
   ],
   "source": [
    "solve(e1,K)"
   ]
  },
  {
   "cell_type": "code",
   "execution_count": 52,
   "metadata": {
    "collapsed": false
   },
   "outputs": [
    {
     "data": {
      "text/plain": [
       "-(K/2 + 1)*(K + 2) + 2"
      ]
     },
     "execution_count": 52,
     "metadata": {},
     "output_type": "execute_result"
    }
   ],
   "source": [
    "e1"
   ]
  },
  {
   "cell_type": "markdown",
   "metadata": {},
   "source": [
    "## PD control of the double integrator\n",
    "The pulse-transfer function for the system obtained by zero-order hold sampling of $G(s)=\\frac{1}{s^2}$: \n",
    "\\begin{equation}\n",
    "H(z) = \\frac{B(z)}{A(z)} = \\frac{h^2/2(z+1)}{(z-1)^2} = \\frac{h^2}{2}\\frac{z + 1}{z^2 -2z + 1}\n",
    "\\end{equation}\n",
    "\n",
    "PD control (simple form) can be implemented using the filter\n",
    "\\begin{equation}\n",
    "u(kh) = k_1 e(kh) + k_2 e(kh-h)\n",
    "\\end{equation}\n",
    "with z-transform\n",
    "\\begin{equation}\n",
    "R(z)U(z) = zU(z) = zk_1 E(z) + k_2 E(z) = S(z) E(z).\n",
    "\\end{equation}\n",
    "\n",
    "This gives the closed loop system\n",
    "\n",
    "\\begin{equation}\n",
    "H_c(z) = \\frac{\\frac{S(z)}{R(z)} \\frac{B(z)}{A(z)} } {1 + \\frac{S(z)}{R(z)} \\frac{B(z)}{A(z)}} = \\frac{S(z)B(z)}{R(z)A(z) + S(z)B(z)} \n",
    "\\end{equation}\n",
    "with denominator polynomial\n",
    "\\begin{equation}\n",
    "R(z)A(z) + S(z)B(z) = z(z^2 -2z + 1) + h^2/2(k_1z + k_2)(z+1) = z^3 -2z^2 + z + h^2/2\\big(k_1z^2 + (k_1+k_2)z + k_2\\big) = z^3 + (h^2/2k_1 - 2)z^2 + (1 + h^2/2(k_1+k_2)z\n",
    "\\end{equation}\n"
   ]
  },
  {
   "cell_type": "code",
   "execution_count": 97,
   "metadata": {
    "collapsed": false
   },
   "outputs": [
    {
     "data": {
      "text/plain": [
       "2.8853900817779268"
      ]
     },
     "execution_count": 97,
     "metadata": {},
     "output_type": "execute_result"
    }
   ],
   "source": [
    "2/np.log(2)"
   ]
  },
  {
   "cell_type": "code",
   "execution_count": 105,
   "metadata": {
    "collapsed": false
   },
   "outputs": [
    {
     "data": {
      "text/plain": [
       "0.72273424781341566"
      ]
     },
     "execution_count": 105,
     "metadata": {},
     "output_type": "execute_result"
    }
   ],
   "source": [
    "np.arccos(0.75)"
   ]
  },
  {
   "cell_type": "code",
   "execution_count": 106,
   "metadata": {
    "collapsed": false
   },
   "outputs": [
    {
     "data": {
      "text/plain": [
       "1.0387404294400537"
      ]
     },
     "execution_count": 106,
     "metadata": {},
     "output_type": "execute_result"
    }
   ],
   "source": [
    "0.72/np.log(2)"
   ]
  },
  {
   "cell_type": "code",
   "execution_count": 109,
   "metadata": {
    "collapsed": false
   },
   "outputs": [
    {
     "name": "stdout",
     "output_type": "stream",
     "text": [
      "Coefficients\n",
      "[  9.   -11.81   3.15]\n",
      "[  9.   -11.81   3.15]\n",
      "[  3.15 -11.81   9.  ]\n",
      "[7.8975, -7.6765000000000008]\n",
      "[-7.6765000000000008, 7.8975]\n",
      "[0.43581563786008104]\n"
     ]
    },
    {
     "data": {
      "text/plain": [
       "array([ 0.93980424,  0.37241798])"
      ]
     },
     "execution_count": 109,
     "metadata": {},
     "output_type": "execute_result"
    }
   ],
   "source": [
    "aa1 = np.array([9,-11.81,3.15])\n",
    "tab=[]\n",
    "juryrec(aa1, tab)\n",
    "print \"Coefficients\"\n",
    "print aa1\n",
    "for line in tab:\n",
    "    print line\n",
    "np.roots(aa1)\n"
   ]
  },
  {
   "cell_type": "code",
   "execution_count": 110,
   "metadata": {
    "collapsed": false
   },
   "outputs": [
    {
     "data": {
      "text/plain": [
       "-0.97201646090534988"
      ]
     },
     "execution_count": 110,
     "metadata": {},
     "output_type": "execute_result"
    }
   ],
   "source": [
    "tab[2][1]/tab[2][0]"
   ]
  },
  {
   "cell_type": "code",
   "execution_count": null,
   "metadata": {
    "collapsed": true
   },
   "outputs": [],
   "source": []
  },
  {
   "cell_type": "code",
   "execution_count": null,
   "metadata": {
    "collapsed": true
   },
   "outputs": [],
   "source": []
  }
 ],
 "metadata": {
  "kernelspec": {
   "display_name": "Python 2",
   "language": "python",
   "name": "python2"
  },
  "language_info": {
   "codemirror_mode": {
    "name": "ipython",
    "version": 2
   },
   "file_extension": ".py",
   "mimetype": "text/x-python",
   "name": "python",
   "nbconvert_exporter": "python",
   "pygments_lexer": "ipython2",
   "version": "2.7.6"
  }
 },
 "nbformat": 4,
 "nbformat_minor": 0
}
