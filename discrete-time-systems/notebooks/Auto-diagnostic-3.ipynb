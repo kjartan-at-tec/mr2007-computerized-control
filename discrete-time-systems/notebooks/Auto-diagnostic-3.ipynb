{
 "cells": [
  {
   "cell_type": "markdown",
   "metadata": {},
   "source": [
    "## Solutions to auto-diagnostic test 3\n",
    "Exercises By L.C. Félix-Herrán, Tec."
   ]
  },
  {
   "cell_type": "markdown",
   "metadata": {},
   "source": [
    "## 1)\n",
    "Zero-order-hold sampling with sampling period $h=0.1$ and process model \n",
    "$$ G(s) = \\frac{s(s+0.3}{(s-0.2)(s+0.7)}. $$\n",
    "### Solution\n",
    "#### Step-response of the system\n",
    "$$ Y(s) = \\frac{G(s)}{s} = \\frac{(s+0.3}{(s-0.2)(s+0.7)} = \\frac{0.556}{s-0.2} + \\frac{0.444}{s+0.7} $$\n",
    "$$ y(t) = \\mathcal{L}^{-1} \\{ Y(s) \\} = 0.556\\mathrm{e}^{0.2t} + 0.444 \\mathrm{e}^{-0.7t}.$$\n",
    "#### Sample and apply z-transform\n",
    "$$ Y(z) = 0.556 \\mathcal{Z}\\{(\\mathrm{e}^{0.2h})^k\\} + 0.444 \\mathcal{Z}\\{(\\mathrm{e}^{-0.7h})^k\\} = \\frac{0.556 z}{z - \\mathrm{e}^{0.2h}} + \\frac{0.444z}{z - \\mathrm{e}^{-0.7h}}. $$\n",
    "#### Divide by z-transform of step input\n",
    "\\begin{align}\n",
    "H(z) &= \\frac{Y(z)}{U(z)} = \\frac{z-1}{z} \\left(\\frac{0.556 z}{z - \\mathrm{e}^{0.2h}} + \\frac{0.444z}{z - \\mathrm{e}^{-0.7h}} \\right)\\\\\n",
    "&= (z-1) \\frac{ 0.556(z - \\mathrm{e}^{-0.7h}) + 0.444(z - \\mathrm{e}^{0.2h})}{(z - \\mathrm{e}^{0.2h})(z - \\mathrm{e}^{-0.7h})}\\\\\n",
    "&= \\frac{\\big(z-1\\big)\\big( z - \\big(0.556 \\mathrm{e}^{-0.7h} - 0.444 \\mathrm{e}^{0.2h}\\big)\\big)}{(z - \\mathrm{e}^{0.2h})(z - \\mathrm{e}^{-0.7h})}\\\\\n",
    "\\end{align}"
   ]
  },
  {
   "cell_type": "markdown",
   "metadata": {},
   "source": [
    "## 2)\n",
    "Closed-loop system with plant model $$G(s) = \\frac{27}{s(s+27)}. $$\n",
    "### a) Do ZOH-sampling\n",
    "#### Step-response of the  system\n",
    "$$Y(z) = \\frac{G(s)}{s} = \\frac{27}{s^2(s+27)} = -\\frac{1/27}{s} + \\frac{1}{s^2} + \\frac{1/27}{s+27}. $$\n",
    "$$ y(t) = \\mathcal{L}^{-1} \\{ Y(s) \\} = t - \\frac{1}{27} + \\frac{1}{27} \\mathrm{e}^{-27t}.$$\n",
    "#### Sample and apply z-transform\n",
    "$$ Y(z) = \\frac{zh}{(z-1)^2} - \\frac{1/27 z}{z-1} + \\frac{1/27 z}{ z - \\mathrm{e}^{-27h}}. $$\n",
    "#### Divide by z-transform of step input\n",
    "\\begin{align}\n",
    "H(z) &= \\frac{Y(z)}{U(z)} = \\frac{z-1}{z} \\left(\\frac{zh}{(z-1)^2} - \\frac{1/27 z}{z-1} + \\frac{1/27 z}{ z - \\mathrm{e}^{-27h}} \\right)\\\\\n",
    "&= \\frac{h}{z-1} - \\frac{1}{27} + \\frac{ 1/27(z-1)}{ z - \\mathrm{e}^{-27h}}\\\\\n",
    "&= \\frac{h(z - \\mathrm{e}^{-27h}) - \\frac{1}{27}(z-1)(z - \\mathrm{e}^{-27h}) + \\frac{1}{27}(z-1)^2}{(z-1)(z - \\mathrm{e}^{-27h})}\\\\\n",
    "&= \\frac{h (z - \\mathrm{e}^{-27h}) - \\frac{1}{27}(z^2 - (1+\\mathrm{e}^{-27h})z + \\mathrm{e}^{-27h}) + \\frac{1}{27}(z^2 - 2z +1)}{(z-1)(z - \\mathrm{e}^{-27h})}\\\\\n",
    "&= \\frac{\\big(h - \\frac{1}{27}(1-\\mathrm{e}^{-27h})\\big) z  - \\big(h\\mathrm{e}^{-27h} + \\frac{1}{27}\\mathrm{e}^{-27h} - \\frac{1}{27}\\big)}{(z-1)(z - \\mathrm{e}^{-27h})}\n",
    "\\end{align}\n"
   ]
  },
  {
   "cell_type": "code",
   "execution_count": 3,
   "metadata": {},
   "outputs": [
    {
     "name": "stdout",
     "output_type": "stream",
     "text": [
      "exp(-27h) = 0.067206, b0=0.065452, b1=0.027827\n"
     ]
    }
   ],
   "source": [
    "import numpy as np\n",
    "h = 0.1\n",
    "e27h = np.exp(-27*h)\n",
    "b0 = h - 1.0/27*(1 - e27h)\n",
    "b1 = -(h*e27h + 1.0/27*(e27h - 1))\n",
    "print(\"exp(-27h) = %f, b0=%f, b1=%f\" %(e27h, b0, b1))"
   ]
  },
  {
   "cell_type": "markdown",
   "metadata": {},
   "source": [
    "Pulse-transfer function for the process:\n",
    "$$ H(z) = \\frac{0.0065 z + 0.028}{(z-1)(z-0.067)}. $$"
   ]
  },
  {
   "cell_type": "markdown",
   "metadata": {},
   "source": [
    "### b) Find difference equation corresponding to plant model\n",
    "Using the shift operator $\\text{q}$ we have\n",
    "$$ c(k) = H(\\text{q}) u(k) = \\frac{0.0065\\text{q} + 0.028}{(\\text{q}-1)(\\text{q} - 0.067)}u(k) $$\n",
    "$$ (\\text{q}-1)(\\text{q} - 0.067) c(k) = (\\frac{0.0065\\text{q} + 0.028})u(k)$$\n",
    "$$ (\\text{q}^2 - 1.067\\text{q} + 0.067) c(k) = (\\frac{0.0065\\text{q} + 0.028})u(k) $$\n",
    "$$ c(k+2) - 1.067 c(k+1) + 0.067 c(k) = 0.0065 u(k+1) + 0.028 u(k) $$"
   ]
  },
  {
   "cell_type": "markdown",
   "metadata": {},
   "source": [
    "## 3) \n",
    "Given $$ G(s) = \\frac{3s\\mathrm{e}^{-2s}}{s+1}, $$\n",
    "Determine the discretization of the system assuming that it is preceeded by a hold and proceeded by an ideal sampler for the following cases\n",
    "\n",
    "- **a)** ZOH and sampling period $h=0.5$\n",
    "- **b)** ZOH and sampling period $h=0.3$\n",
    "- **c)** FOH and sampling  period $h=0.5$"
   ]
  },
  {
   "cell_type": "markdown",
   "metadata": {},
   "source": [
    "### Solutions\n",
    "#### b)\n",
    "The delay $\\tau$ in the process is 2, so we have $$ \\tau = 6h + mh$$ with $h=0.3$ and $ m = 2/3$. Let $y_0(t)$ be the step-response of the system without the delay, and $y_1(t)$ be the step-response of the system for a delay of $6h$. We get\n",
    "\\begin{align}\n",
    "y_0(t) &= \\mathcal{L}^{-1} \\{ \\frac{3s}{s+1} \\cdot \\frac{1}{s} \\} = 3\\mathrm{e}^{-t}u_H(t)\\\\\n",
    "y_1(t) &= y_0(t-6h)\\\\\n",
    "y(t) &= y_1(t-mh) = y_0(t-6h-mh)\n",
    "\\end{align}\n",
    "Applying the z-transform to the sampled signal $y_1(kh)$ gives\n",
    "$$ Y_1(z) = z^{-6} Y_0(z) = z^{-6} \\frac{3z}{z-\\mathrm{e}^{-h}}. $$\n",
    "In order to obtain the z-transform of the actual step-response $y(t)$ we need to use the modified z-transform (See the textbook Fernández y Ramírez, ch 4.6).\n",
    "\\begin{align}\n",
    " Y(z, m) &= \\sum_{k=0}^\\infty y_1(kh+mh)z^{-k} = \\sum_{k=0}^\\infty 3\\mathrm{e}^{-kh-mh}z^{-k}\\\\\n",
    " &= \\mathrm{e}^{-mh} \\sum_{k=0}^\\infty 3\\mathrm{e}^{-kh}z^{-k} = \\mathrm{e}^{-mh} Y_1(z)\\\\\n",
    " &= \\mathrm{e}^{-mh} \\frac{3}{z^5(z-\\mathrm{e}^{-h})}\n",
    " \\end{align}"
   ]
  },
  {
   "cell_type": "code",
   "execution_count": null,
   "metadata": {},
   "outputs": [],
   "source": []
  },
  {
   "cell_type": "code",
   "execution_count": 9,
   "metadata": {},
   "outputs": [
    {
     "name": "stdout",
     "output_type": "stream",
     "text": [
      "e^{-mh}=0.8187307530779818\n",
      "e^{-h}=0.7408182206817179\n"
     ]
    },
    {
     "data": {
      "text/plain": [
       "0.9057427080235485"
      ]
     },
     "execution_count": 9,
     "metadata": {},
     "output_type": "execute_result"
    }
   ],
   "source": [
    "import numpy as np\n",
    "h = 0.3\n",
    "m = 2.0/3.0\n",
    "emh = np.exp(-m*h)\n",
    "eh = np.exp(-h)\n",
    "print('e^{-mh}=%s' %(emh))\n",
    "print('e^{-h}=%s' %(eh))\n",
    "3*emh\n",
    "np.exp(-0.33*0.3)"
   ]
  },
  {
   "cell_type": "markdown",
   "metadata": {},
   "source": [
    "With numerical values\n",
    "$$ Y(z,m=2/3) = 0.82 \\frac{3}{z^5(z-0.74)}$$\n",
    "All that is left is to divide by the z-transform of the step signal\n",
    "\\begin{align}\n",
    "H(z) &= \\frac{Y(z)}{U(z)} = \\frac{z-1}{z}\\frac{3\\cdot 0.82}{z^5(z-0.74)}\\\\\n",
    "&= \\frac{2.46(z-1)}{z^6(z-0.74)}\n",
    "\\end{align}"
   ]
  },
  {
   "cell_type": "code",
   "execution_count": 1,
   "metadata": {},
   "outputs": [
    {
     "data": {
      "text/plain": [
       "0.9999999955550001"
      ]
     },
     "execution_count": 1,
     "metadata": {},
     "output_type": "execute_result"
    }
   ],
   "source": [
    "0.44444444 + 0.555555555555"
   ]
  },
  {
   "cell_type": "code",
   "execution_count": null,
   "metadata": {},
   "outputs": [],
   "source": []
  }
 ],
 "metadata": {
  "kernelspec": {
   "display_name": "Python 3",
   "language": "python",
   "name": "python3"
  },
  "language_info": {
   "codemirror_mode": {
    "name": "ipython",
    "version": 3
   },
   "file_extension": ".py",
   "mimetype": "text/x-python",
   "name": "python",
   "nbconvert_exporter": "python",
   "pygments_lexer": "ipython3",
   "version": "3.5.2"
  }
 },
 "nbformat": 4,
 "nbformat_minor": 2
}
