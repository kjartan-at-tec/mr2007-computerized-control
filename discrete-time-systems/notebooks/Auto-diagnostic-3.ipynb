{
 "cells": [
  {
   "cell_type": "markdown",
   "metadata": {},
   "source": [
    "## Solutions to auto-diagnostic test 3\n",
    "Exercises By L.C. Félix-Herrán, Tec."
   ]
  },
  {
   "cell_type": "markdown",
   "metadata": {},
   "source": [
    "### 3) \n",
    "Given $$ G(s) = \\frac{3s\\mathrm{e}^{-2s}}{s+1}, $$\n",
    "Determine the discretization of the system assuming that it is preceeded by a hold and proceeded by an ideal sampler for the following cases\n",
    "\n",
    "- **a)** ZOH and sampling period $h=0.5$\n",
    "- **b)** ZOH and sampling period $h=0.3$\n",
    "- **c)** FOH and sampling  period $h=0.5$"
   ]
  },
  {
   "cell_type": "markdown",
   "metadata": {},
   "source": [
    "### Solutions\n",
    "#### b)\n",
    "The delay $\\tau$ in the process is 2, so we have $$ \\tau = 6h + mh$$ with $h=0.3$ and $ m = 2/3$. Let $y_0(t)$ be the step-response of the system without the delay, and $y_1(t)$ be the step-response of the system for a delay of $6h$. We get\n",
    "\\begin{align}\n",
    "y_0(t) &= \\mathcal{L}^{-1} \\{ \\frac{3s}{s+1} \\cdot \\frac{1}{s} \\} = 3\\mathrm{e}^{-t}u_H(t)\\\\\n",
    "y_1(t) &= y_0(t-6h)\\\\\n",
    "y(t) &= y_1(t-mh) = y_0(t-6h-mh)\n",
    "\\end{align}\n",
    "Applying the z-transform to the sampled signal $y_1(kh)$ gives\n",
    "$$ Y_1(z) = z^{-6} Y_0(z) = z^{-6} \\frac{3z}{z-\\mathrm{e}^{-h}}. $$\n",
    "In order to obtain the z-transform of the actual step-response $y(t)$ we need to use the modified z-transform (See the textbook Fernández y Ramírez, ch 4.6).\n",
    "\\begin{align}\n",
    " Y(z, m) &= \\sum_{k=0}^\\infty y_1(kh+mh)z^{-k} = \\sum_{k=0}^\\infty 3\\mathrm{e}^{-kh-mh}z^{-k}\\\\\n",
    " &= \\mathrm{e}^{-mh} \\sum_{k=0}^\\infty 3\\mathrm{e}^{-kh}z^{-k} = \\mathrm{e}^{-mh} Y_1(z)\\\\\n",
    " &= \\mathrm{e}^{-mh} \\frac{3}{z^5(z-\\mathrm{e}^{-h})}\n",
    " \\end{align}"
   ]
  },
  {
   "cell_type": "code",
   "execution_count": null,
   "metadata": {},
   "outputs": [],
   "source": []
  },
  {
   "cell_type": "code",
   "execution_count": 9,
   "metadata": {},
   "outputs": [
    {
     "name": "stdout",
     "output_type": "stream",
     "text": [
      "e^{-mh}=0.8187307530779818\n",
      "e^{-h}=0.7408182206817179\n"
     ]
    },
    {
     "data": {
      "text/plain": [
       "0.9057427080235485"
      ]
     },
     "execution_count": 9,
     "metadata": {},
     "output_type": "execute_result"
    }
   ],
   "source": [
    "import numpy as np\n",
    "h = 0.3\n",
    "m = 2.0/3.0\n",
    "emh = np.exp(-m*h)\n",
    "eh = np.exp(-h)\n",
    "print('e^{-mh}=%s' %(emh))\n",
    "print('e^{-h}=%s' %(eh))\n",
    "3*emh\n",
    "np.exp(-0.33*0.3)"
   ]
  },
  {
   "cell_type": "markdown",
   "metadata": {},
   "source": [
    "With numerical values\n",
    "$$ Y(z,m=2/3) = 0.82 \\frac{3}{z^5(z-0.74)}$$\n",
    "All that is left is to divide by the z-transform of the step signal\n",
    "\\begin{align}\n",
    "H(z) &= \\frac{Y(z)}{U(z)} = \\frac{z-1}{z}\\frac{3\\cdot 0.82}{z^5(z-0.74)}\\\\\n",
    "&= \\frac{2.46(z-1)}{z^6(z-0.74)}\n",
    "\\end{align}"
   ]
  },
  {
   "cell_type": "code",
   "execution_count": null,
   "metadata": {},
   "outputs": [],
   "source": []
  }
 ],
 "metadata": {
  "kernelspec": {
   "display_name": "Python 3",
   "language": "python",
   "name": "python3"
  },
  "language_info": {
   "codemirror_mode": {
    "name": "ipython",
    "version": 3
   },
   "file_extension": ".py",
   "mimetype": "text/x-python",
   "name": "python",
   "nbconvert_exporter": "python",
   "pygments_lexer": "ipython3",
   "version": "3.5.2"
  }
 },
 "nbformat": 4,
 "nbformat_minor": 2
}
