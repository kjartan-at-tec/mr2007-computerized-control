{
 "cells": [
  {
   "cell_type": "markdown",
   "metadata": {},
   "source": [
    "# Solutions to auto-diagnostic exercises 2\n",
    "Exercises by L.C. Félix-Herrán"
   ]
  },
  {
   "cell_type": "markdown",
   "metadata": {},
   "source": [
    "### 1) \n",
    "Z-transform of a ramp\n",
    "$$ f(t) = \\begin{cases} At, & t \\ge 0\\\\ 0, & t<0 \\end{cases} $$"
   ]
  },
  {
   "cell_type": "markdown",
   "metadata": {},
   "source": [
    "Sampling gives\n",
    "$$ f(kh) = \\begin{cases} (Ah)k, & k \\ge 0\\\\ 0, & k<0 \\end{cases} $$ \n",
    "Solution by using property\n",
    "$$ \\mathcal{Z}\\{kg(k)\\} = -z\\frac{d}{dz} G(z) $$\n",
    "and the pair\n",
    "$$ g(kh) = Ah \\qquad G(z) = Ah \\frac{z}{z-1}. $$\n",
    "$$ f(kh) = k g(kh), $$\n",
    "so\n",
    "\\begin{align}\n",
    "F(z) &= -z\\frac{d}{dz} Ah \\frac{z}{z-1} = -Ahz \\left(\\frac{1}{z-1} \\frac{d}{dz} z + z \\frac{d}{dz} \\frac{1}{z-1} \\right)\\\\\n",
    "     &= -Ahz \\left( \\frac{1}{z-1} + z(-\\frac{1}{(z-1)^2}) \\right)\\\\\n",
    "     &= -Ahz \\frac{z-1 - z}{(z-1)^2} = A \\frac{hz}{(z-1)^2}\n",
    " \\end{align}"
   ]
  },
  {
   "cell_type": "markdown",
   "metadata": {},
   "source": [
    "### 2)\n"
   ]
  },
  {
   "cell_type": "markdown",
   "metadata": {},
   "source": [
    "Calculate the z-transform of the unit step advanced $5$, i.e.\n",
    "$$ f(t) = u_s(t+5h) = \\begin{cases} 1, & t \\ge -5h\\\\0 ,& t<-5h. \\end{cases} $$\n",
    "\\begin{align}\n",
    "F(z) &= \\sum_{k=0}^\\infty u_s(kh+5h) z^{-k}, \\quad \\text{change of variables}\\, k+5=l\n",
    "&= \\sum_{l=5}^\\infty z^{-l+5}  = z^5 \\sum_{l=5} z^{-l}\\\\\n",
    "&= z^5 \\left(\\sum_{l=0}^\\infty z^{-l} - \\sum_{l=0}^4 z^{-k}\\right)\\\\\n",
    "&= z^5 \\left( \\frac{z}{z-1} - 1 - \\frac{1}{z} - \\frac{1}{z^2} - \\frac{1}{z^3} - \\frac{1}{z^4}\\right)\\\\\n",
    "&= \\frac{z^5 - z^5 + z^4 - z^4 + z^3 - z^3 + z^2 - z^2 +z -1}{z^4(z-1)}\\\\\n",
    "&= \\frac{1}{z^4(z-1)}\n",
    "\\end{align}"
   ]
  },
  {
   "cell_type": "markdown",
   "metadata": {},
   "source": [
    "### 3)"
   ]
  },
  {
   "cell_type": "markdown",
   "metadata": {},
   "source": [
    "Final value theorem applied to $$ Y(z) = \\frac{z+1}{z^2 - 0.7z + 0.1}. $$\n",
    "\\begin{align}\n",
    "\\lim_{k\\to \\infty} y(k) &= \\lim_{z \\to 1} (1-z^{-1})Y(z) = \\lim_{z \\to 1} \\frac{z-1}{z} Y(z)\\\\\n",
    "&= \\lim_{z \\to 1} \\frac{z^2 - 1}{z(z^2 - 0.7z + 0.1)} = \\frac{0}{0.4} = 0. \n",
    "\\end{align}"
   ]
  },
  {
   "cell_type": "markdown",
   "metadata": {},
   "source": [
    "### 4)"
   ]
  },
  {
   "cell_type": "markdown",
   "metadata": {},
   "source": [
    "Find z-transform of $f(k) = (\\frac{1}{2})^k$.\n",
    "\\begin{align}\n",
    "F(z) &= \\sum_{k=0}^\\infty f(k) z^{-k} = \\sum_{k=0}^\\infty \\left(\\frac{1}{2z}\\right)^k\\\\\n",
    "&= \\frac{1}{1-\\frac{1}{2z}} = \\frac{z}{z-\\frac{1}{2}}, \\quad 2z>1 \\, \\text{Region of convergence}\n",
    "\\end{align}"
   ]
  },
  {
   "cell_type": "markdown",
   "metadata": {},
   "source": [
    "### 5)"
   ]
  },
  {
   "cell_type": "markdown",
   "metadata": {},
   "source": [
    "Starting value theorem applied to $$ F(z) = \\frac{z^2 + 8z + 3}{3z^2 - 9z + 2}. $$\n",
    "\\begin{align}\n",
    "f(0) &= \\lim_{z\\to \\infty} F(z) = \\lim_{z\\to \\infty} \\frac{z^2 + 8z + 3}{3z^2  - 9z + 2}\\\\\n",
    "&= \\lim_{z\\to \\infty} \\frac{1 + 8z^{-1} + 3z^{-2}}{3 - 9z^{-1} + 3z^{-2}} = \\frac{1}{3}.\n",
    "\\end{align}"
   ]
  },
  {
   "cell_type": "markdown",
   "metadata": {},
   "source": [
    "### 6)"
   ]
  },
  {
   "cell_type": "markdown",
   "metadata": {},
   "source": [
    "Find the z-transform of the sequence $$0,0.25, 0.5, 0.75, 1, 1, \\ldots$$"
   ]
  },
  {
   "cell_type": "code",
   "execution_count": 2,
   "metadata": {},
   "outputs": [
    {
     "data": {
      "image/png": "[encoded data removed]",
      "text/plain": [
       "<Figure size 864x72 with 1 Axes>"
      ]
     },
     "metadata": {},
     "output_type": "display_data"
    }
   ],
   "source": [
    "import numpy as np\n",
    "import matplotlib.pyplot as plt\n",
    "k = np.arange(0,8)\n",
    "plt.figure(figsize=(12,1))\n",
    "plt.stem(k, [0,0.25,0.5,0.75,1,1,1,1])\n",
    "plt.xticks(k)\n",
    "plt.xlabel('$k$')\n",
    "plt.ylabel('$f(k)$');"
   ]
  },
  {
   "cell_type": "markdown",
   "metadata": {},
   "source": [
    "Write the sequence as $$f(k) = u_s(k) - \\delta(k) - 0.75\\delta(k-1) - 0.5\\delta(k-2) -0.75\\delta(k-3).$$\n",
    "\\begin{align}\n",
    "F(z) &= \\frac{z}{z-1} - 1 - 0.75z^{-1} - 0.5z^{-2} - 0.25z^{-3}\\\\\n",
    "&= \\frac{z^4 - z^3(z-1) - 0.75z^2(z-1) - 0.5z(z-1) - 0.25(z-1)}{(z-1)z^3}\\\\\n",
    "&=  \\frac{0.25(z^3+z^2+z+1)}{(z-1)z^4} \\cdot \\frac{z-1}{z-1}\\\\\n",
    "&= \\frac{z^4 - z^3 + z^3 - z^2 + z^2 - z + z -1}{4z^4(z-1)^2}\\\\\n",
    "&= \\frac{z^4-1}{4z^4(z-1)^2}\n",
    "\\end{align}"
   ]
  },
  {
   "cell_type": "markdown",
   "metadata": {},
   "source": [
    "### 7)\n",
    "Find the z-transform of $f(t) = \\mathrm{e}^{-\\beta t)\\cos(4t)$. Use the complex translation theorem:\n",
    "$$ \\mathcal{Z} \\{ \\mathrm{e}^{-\\alpha k} x(k) \\} = X(z\\mathrm{e}^{\\alpha}). $$\n",
    "Proof of the theorem:\n",
    "\n",
    "\\begin{align}\n",
    "\\mathcal{Z} \\{ \\mathrm{e}^{-\\alpha k} x(k) \\} &= \\sum_{k=0}^\\infty (\\mathrm{e}^{\\alpha})^{-k} x(k) z^{-k}, \\quad \\text{change of variables}\\, y=\\mathrm{e}^{\\alpha}z\\\\\n",
    "&= \\sum_{k=0}^{\\infty} x(k) y^{-k} = X(y) = X(\\mathrm{e}^\\alpha z).\n",
    "\\end{align}\n",
    "\n",
    "Here we have $f(kh) = \\mathrm{e}^{-\\beta h k}\\cos(4kh)$, so $\\alpha = \\beta h$. Also\n",
    "$$\\mathcal{Z} \\{ \\cos(4kh) \\} = \\frac{z^2 - z\\cos(4h)}{z^2 - 2z\\cos(4h) + 1}.$$\n",
    "We get, with $z \\rightarrow z\\mathrm{e}^{\\beta h}$\n",
    "\\begin{align}\n",
    "\\mathcal{Z} \\{ f(kh) \\} &=  \\frac{(z\\mathrm{\\beta h})^2 - (z\\mathrm{\\beta h})\\cos(4h)}{(z\\mathrm{\\beta h})^2 - 2(z\\mathrm{\\beta h})\\cos(4h) + 1}\\\\\n",
    "&= \\frac{z^2 - z\\mathrm{e}^{-\\beta h}\\cos(4h)}{z^2 - 2\\mathrm{e}^{-\\beta h}\\cos(4h) z + \\mathrm{e}^{-2\\beta h}}.\n",
    "\\end{align}"
   ]
  },
  {
   "cell_type": "markdown",
   "metadata": {},
   "source": [
    "### 8)\n",
    "Find the z-transform of $f(t) = \\cos(\\omega_1 t)$, using Euler's formula.\n",
    "$$ \\cos\\omega_1 kh = \\frac{1}{2}\\mathrm{e}^{i\\omega_1 kh} + \\frac{1}{2} \\mathrm{e}^{-i\\omega_1kh}.$$\n",
    "Since \n",
    "$$ \\mathcal{Z} \\{ \\mathrm{e} ^{i\\omega_1 kh}\\} = \\sum_{k=0}^\\infty (\\mathrm{e}^{i\\omega_1 h})^kz^{-k} = \\frac{z}{z-\\mathrm{e}^{i\\omega h}}, $$\n",
    "\\begin{align}\n",
    "F(z) &= \\frac{1}{2} \\left( \\frac{z}{z-\\mathrm{e}^{i\\omega_1 h}} + \\frac{z}{z-\\mathrm{e}^{-\\omega_1 h}} \\right)\\\\\n",
    "&= \\frac{\\frac{1}{2}z( z-\\mathrm{e}^{-i\\omega_1 h} + z - \\mathrm{e}^{i\\omega_1 h})}{(z-\\mathrm{e}^{i\\omega_1h})(z - \\mathrm{e}^{-i\\omega_1 h})}\\\\\n",
    "&= \\frac{z^2 - z\\cos(\\omega_1 h)}{z^2 - 2\\cos(\\omega_1 h)z + 1}\n",
    "\\end{align}"
   ]
  },
  {
   "cell_type": "markdown",
   "metadata": {},
   "source": [
    "### 9)\n",
    "Apply the final-value theorem and the initial value theorem to $$F(z) = \\frac{z+1}{z^2 + 8z + 2}$$.\n",
    "#### Final value\n",
    "\\begin{align}\n",
    "\\lim_{k \\to\\infty} f(k) &= \\lim_{z \\to 1} (1-z^{-1})F(z) = \\lim_{z\\to 1} \\frac{(1-z^{-1})(z+1)}{z^2 + 8z + 2}\\\\\n",
    "&= \\lim_{z \\to 1} \\frac{z+1-1-z^{-1}}{z^2 + 8z + 2} = 0\n",
    "\\end{align}\n",
    "#### Initial value\n",
    "\\begin{align}\n",
    "f(0) &= \\lim_{z \\to \\infty} F(z) = \\lim_{z\\to \\infty} \\frac{z^{-1} + z^{-2}}{1 + 8z^{-1} + 2z^{-2}} = 0\n",
    "\\end{align}"
   ]
  },
  {
   "cell_type": "markdown",
   "metadata": {},
   "source": [
    "### 10)\n",
    "Find the discrete-time signal $f(k)$ corresponding to the z-transform $$F(z) = \\frac{4z+8}{(4z^2 + 8z + 4)(z+2)^2}.$$\n",
    "Use partial fraction expansion, but first note that $F(z)$ can be simplified\n",
    "$$ F(z) = \\frac{4(z+2)}{(4z^2 + 8z + 4)(z+2)^2} = \\frac{4}{4(z+1)^2(z+2)} = \\frac{1}{(z+1)^2(z+2)} = \\frac{1}{z+2} - \\frac{1}{z+1} + \\frac{1}{(z+1)^2}$$"
   ]
  },
  {
   "cell_type": "markdown",
   "metadata": {},
   "source": [
    "So, we get\n",
    "$$ F(z) = z^{-1}G(z) = z^{-1} \\left(  \\frac{1}{z+2} - \\frac{1}{z+1} + \\frac{1}{(z+1)^2} \\right), $$\n",
    "with $f(k) = g(k-1)$ and \n",
    "$$ g(k) = \\left((-2)^{k} - (-1)^{k} + k(-1)^{k+1}\\right) u_s(k) $$\n",
    "\n",
    "\\begin{align}\n",
    "f(k) &= \\left( (-2)^{k-1} - (-1)^{k-1} + (k-1)(-1)^{k} \\right) u_s(k-1)\\\\\n",
    "&= \\left( (-2)^{k}\\frac{1}{-2} - (-1)^{k}(-1) + k(-1)^{k}(-1) - (-1)^{k} \\right) u_s(k-1)\\\\\n",
    " &= \\left(-\\frac{1}{2}(-2)^{k} - k(-1)^{k}\\right) u_s(k-1)\n",
    " = \\left(\\frac{1}{2}\\delta(k) -\\frac{1}{2}(-2)^{k} - k(-1)^{k}\\right) u_s(k)\n",
    "\\end{align}"
   ]
  },
  {
   "cell_type": "markdown",
   "metadata": {},
   "source": [
    "### 11) and 12) Similar approach as 10)\n",
    "Use [Wolfram Alpha](https://www.wolframalpha.com/input/?i=inverse%20Z%20transform%20calculator) to check your calculations."
   ]
  },
  {
   "cell_type": "code",
   "execution_count": null,
   "metadata": {},
   "outputs": [],
   "source": []
  }
 ],
 "metadata": {
  "kernelspec": {
   "display_name": "Python 3",
   "language": "python",
   "name": "python3"
  },
  "language_info": {
   "codemirror_mode": {
    "name": "ipython",
    "version": 3
   },
   "file_extension": ".py",
   "mimetype": "text/x-python",
   "name": "python",
   "nbconvert_exporter": "python",
   "pygments_lexer": "ipython3",
   "version": "3.5.2"
  }
 },
 "nbformat": 4,
 "nbformat_minor": 2
}
