{
 "cells": [
  {
   "cell_type": "markdown",
   "metadata": {},
   "source": [
    "# Nyquist"
   ]
  },
  {
   "cell_type": "code",
   "execution_count": 3,
   "metadata": {
    "collapsed": false
   },
   "outputs": [],
   "source": [
    "import numpy as np\n",
    "import sympy as sy\n",
    "import itertools\n",
    "import matplotlib.pyplot as plt\n",
    "import control.matlab as cm\n",
    "init_printing()\n",
    "%matplotlib inline"
   ]
  },
  {
   "cell_type": "markdown",
   "metadata": {
    "collapsed": true
   },
   "source": [
    "## Proportional control of the normalized DC-motor\n",
    "Zero-order hold sampling of the DC motor with transfer function $G(s)=\\frac{1}{s(s+1)}$ gives the discrete time system\n",
    "\\begin{equation} H(z) = \\frac{\\big(h-1+e^{-h}\\big)z + \\big(1-e^{-h}-he^{-h}\\big)}{z^2 -\\big(1+e^{-h}\\big)z + e^{-h}} \\end{equation}\n",
    "\n",
    "Let $h=\\ln 2 \\approx 0.693$. This gives the pulse-transfer function\n",
    "\\begin{equation} H(z) = \\frac{B(z)}{A(z)} = \\frac{0.19z + 0.15}{z^2 - 1.5z + 0.5} \\end{equation}\n",
    "\n",
    "Proportional control gives the closed loop system \n",
    "\\begin{equation} \n",
    "H_c(z) = \\frac{K H(z)}{KH(z) + 1} = \\frac{K B(z)}{A(z) + KB(z)}.\n",
    "\\end{equation}\n",
    "The characteristic equation of the closed loop system is\n",
    "\\begin{equation}\n",
    "z^2 + (-1.5+0.19K)z + 0.5+0.15K \n",
    "\\end{equation}"
   ]
  },
  {
   "cell_type": "code",
   "execution_count": 4,
   "metadata": {
    "collapsed": false
   },
   "outputs": [
    {
     "name": "stdout",
     "output_type": "stream",
     "text": [
      "z**2 - z*(1 + exp(-h)) + 0.5\n"
     ]
    }
   ],
   "source": [
    "z,h = sy.symbols('z,h')\n",
    "eh = sy.exp(-h)\n",
    "H = ( (h-1+eh)*z + (1-eh-h*eh) )/( z*z - (1+eh)*z + 0.5)\n",
    "\n",
    "B,A = sy.fraction(H)\n",
    "print A"
   ]
  },
  {
   "cell_type": "code",
   "execution_count": 28,
   "metadata": {
    "collapsed": false
   },
   "outputs": [],
   "source": [
    "Hs = {}\n",
    "Hs2 = {}\n",
    "H0 = cm.tf([1.0], [1, 1, 0])\n",
    "Hs[0] = (H0,[1.0],[1.0, 1.0, 0])\n",
    "Hs2[0] = (H0,[1.0],[1.0, 1.0, 0])\n",
    "for hh in [0.01, 0.1, 0.2, 0.4, 0.8, 1]:\n",
    "    Bp = sy.Poly(B.subs(h,hh))\n",
    "    Ap = sy.Poly(A.subs(h,hh))\n",
    "    a = []\n",
    "    for el in Ap.coeffs():\n",
    "        a.append(float(sy.N(el)))\n",
    "    b = []\n",
    "    for el in Bp.coeffs():\n",
    "        b.append(float(sy.N(el)))\n",
    "    Hs[hh] = (cm.tf(b,a,hh), b,a)\n",
    "    Hs2[hh] = (cm.c2d(H0, hh), b,a)\n"
   ]
  },
  {
   "cell_type": "code",
   "execution_count": 33,
   "metadata": {
    "collapsed": false
   },
   "outputs": [
    {
     "data": {
      "text/plain": [
       "(-2, 1)"
      ]
     },
     "execution_count": 33,
     "metadata": {},
     "output_type": "execute_result"
    },
    {
     "data": {
      "image/png": "[encoded data removed]",
      "text/plain": [
       "<matplotlib.figure.Figure at 0x7f35480b8d50>"
      ]
     },
     "metadata": {},
     "output_type": "display_data"
    }
   ],
   "source": [
    "z = np.exp(1j*np.linspace(0.02,np.pi, 800))\n",
    "s = 1j*np.linspace(0.3,100,800)\n",
    "\n",
    "zz = Hs[0][0](s);\n",
    "\n",
    "\n",
    "xy = np.column_stack((np.real(zz),np.imag(zz)))\n",
    "np.savetxt('nyquistH0150908.out', xy, fmt='%10.5f')\n",
    "\n",
    "for (hh,HH) in Hs2.iteritems():\n",
    "    if hh > 0:\n",
    "        zz = HH[0](z);\n",
    "        xy = np.column_stack((np.real(zz),np.imag(zz)))\n",
    "        np.savetxt('nyquistHzz%d150908.out' % (100*hh), xy, fmt='%10.5f')\n",
    "\n",
    "\n",
    "zz = Hs2[0][0](s);\n",
    "zz2 = Hs2[0.01][0](z);\n",
    "zz3 = Hs2[0.1][0](z);\n",
    "zz4 = Hs2[0.2][0](z);\n",
    "zz5 = Hs2[0.8][0](z);\n",
    "\n",
    "plt.figure()\n",
    "plt.plot(np.real(zz), np.imag(zz))\n",
    "plt.plot(np.real(zz2), np.imag(zz2))\n",
    "plt.plot(np.real(zz3), np.imag(zz3))\n",
    "plt.plot(np.real(zz4), np.imag(zz4))\n",
    "plt.plot(np.real(zz5), np.imag(zz5))\n",
    "plt.ylim(-4,1)\n",
    "plt.xlim(-2,1)\n",
    "    \n"
   ]
  },
  {
   "cell_type": "code",
   "execution_count": 38,
   "metadata": {
    "collapsed": false
   },
   "outputs": [
    {
     "data": {
      "text/plain": [
       "\n",
       "  0.19 z + 0.15\n",
       "-----------------\n",
       "z^2 - 1.5 z + 0.5\n",
       "\n",
       "dt = 0.69314718056"
      ]
     },
     "execution_count": 38,
     "metadata": {},
     "output_type": "execute_result"
    }
   ],
   "source": [
    "Hln2 = H.subs(h, np.log(2))\n",
    "Hln2 = cm.tf([0.19, 0.15], [1, -1.5, 0.5], np.log(2))\n",
    "Hln2"
   ]
  },
  {
   "cell_type": "code",
   "execution_count": 41,
   "metadata": {
    "collapsed": false
   },
   "outputs": [
    {
     "data": {
      "text/plain": [
       "(-3, 3)"
      ]
     },
     "execution_count": 41,
     "metadata": {},
     "output_type": "execute_result"
    },
    {
     "data": {
      "image/png": "[encoded data removed]",
      "text/plain": [
       "<matplotlib.figure.Figure at 0x7f3548567a50>"
      ]
     },
     "metadata": {},
     "output_type": "display_data"
    }
   ],
   "source": [
    "cm.rlocus(Hln2)\n",
    "plt.ylim(-3,3)\n",
    "plt.xlim(-3,3)"
   ]
  },
  {
   "cell_type": "markdown",
   "metadata": {},
   "source": []
  },
  {
   "cell_type": "code",
   "execution_count": null,
   "metadata": {
    "collapsed": false
   },
   "outputs": [],
   "source": []
  },
  {
   "cell_type": "markdown",
   "metadata": {},
   "source": [
    "### Apply Jury's criterion"
   ]
  },
  {
   "cell_type": "code",
   "execution_count": null,
   "metadata": {
    "collapsed": false
   },
   "outputs": [],
   "source": []
  },
  {
   "cell_type": "code",
   "execution_count": null,
   "metadata": {
    "collapsed": false
   },
   "outputs": [],
   "source": []
  },
  {
   "cell_type": "code",
   "execution_count": null,
   "metadata": {
    "collapsed": false
   },
   "outputs": [],
   "source": [
    "\n"
   ]
  },
  {
   "cell_type": "code",
   "execution_count": null,
   "metadata": {
    "collapsed": true
   },
   "outputs": [],
   "source": []
  },
  {
   "cell_type": "code",
   "execution_count": null,
   "metadata": {
    "collapsed": true
   },
   "outputs": [],
   "source": []
  }
 ],
 "metadata": {
  "kernelspec": {
   "display_name": "Python 2",
   "language": "python",
   "name": "python2"
  },
  "language_info": {
   "codemirror_mode": {
    "name": "ipython",
    "version": 2
   },
   "file_extension": ".py",
   "mimetype": "text/x-python",
   "name": "python",
   "nbconvert_exporter": "python",
   "pygments_lexer": "ipython2",
   "version": "2.7.6"
  }
 },
 "nbformat": 4,
 "nbformat_minor": 0
}
