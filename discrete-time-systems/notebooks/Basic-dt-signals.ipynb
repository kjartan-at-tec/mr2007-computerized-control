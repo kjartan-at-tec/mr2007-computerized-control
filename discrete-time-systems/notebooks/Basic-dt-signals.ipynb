{
 "cells": [
  {
   "cell_type": "markdown",
   "metadata": {},
   "source": [
    "# Some basic discrete-time signals\n",
    "Discrete-time signals are sequences, or functions with integer-valued arguments\n",
    "$$ f:\\, \\mathbb{Z} \\rightarrow \\mathbb{N} $$\n",
    "$$ f(k) \\in \\mathbb{k}, \\; k \\in \\mathbb{Z} = \\{\\ldots, -2,-1,0,1,2,\\ldots\\}$$\n",
    "Below are some important examples"
   ]
  },
  {
   "cell_type": "code",
   "execution_count": 8,
   "metadata": {},
   "outputs": [],
   "source": [
    "import numpy as np\n",
    "import matplotlib.pyplot as plt\n",
    "%matplotlib inline"
   ]
  },
  {
   "cell_type": "markdown",
   "metadata": {},
   "source": [
    "## The impulse function\n",
    "$$ f(k) = \\delta (k) = \\begin{cases} 1 & k=0\\\\ 0 & \\text{otherwise} \\end{cases}$$"
   ]
  },
  {
   "cell_type": "code",
   "execution_count": 16,
   "metadata": {},
   "outputs": [
    {
     "data": {
      "text/plain": [
       "Text(0,0.5,'$\\\\delta(k)$')"
      ]
     },
     "execution_count": 16,
     "metadata": {},
     "output_type": "execute_result"
    },
    {
     "data": {
      "image/png": "[encoded data removed]",
      "text/plain": [
       "<Figure size 864x72 with 1 Axes>"
      ]
     },
     "metadata": {},
     "output_type": "display_data"
    }
   ],
   "source": [
    "k = np.arange(-4,5)\n",
    "plt.figure(figsize=(12,1))\n",
    "plt.stem(k, k==0)\n",
    "plt.xticks([-4,-2,0,2,4])\n",
    "plt.xlabel('$k$')\n",
    "plt.ylabel('$\\delta(k)$')"
   ]
  },
  {
   "cell_type": "markdown",
   "metadata": {},
   "source": [
    "## The unit step function\n",
    "$$ f(k) = u_s (k) = \\begin{cases} 1 & k\\ge 0\\\\ 0 & k < 0 \\end{cases}$$"
   ]
  },
  {
   "cell_type": "code",
   "execution_count": 35,
   "metadata": {},
   "outputs": [
    {
     "data": {
      "text/plain": [
       "Text(0,0.5,'$u_s(k)$')"
      ]
     },
     "execution_count": 35,
     "metadata": {},
     "output_type": "execute_result"
    },
    {
     "data": {
      "image/png": "[encoded data removed]",
      "text/plain": [
       "<Figure size 864x72 with 1 Axes>"
      ]
     },
     "metadata": {},
     "output_type": "display_data"
    }
   ],
   "source": [
    "k = np.arange(-4,5)\n",
    "plt.figure(figsize=(12,1)); \n",
    "plt.stem(k, k>=0)\n",
    "plt.xticks([-4,-2,0,2,4])\n",
    "plt.xlabel('$k$')\n",
    "plt.ylabel('$u_s(k)$')"
   ]
  },
  {
   "cell_type": "markdown",
   "metadata": {},
   "source": [
    "## Connection between the impulse and the step function\n",
    "The impulse funktion is obtained by taking the first difference of the step function\n",
    "$$ \\delta(k) = (1-\\text{q}^{-1})u_s(k) = u_s(k)-u_s(k-1). $$\n",
    "Note the *shift operator* q, whose definition is that it shifts the sequence forward (advaneces it). Consequently the inverse shift operator $\\text{q}^{-1}$ shifts the sequence backwards (delays it) one step."
   ]
  },
  {
   "cell_type": "code",
   "execution_count": 42,
   "metadata": {},
   "outputs": [
    {
     "data": {
      "text/plain": [
       "[Text(0,0.5,'$\\\\delta(k)$')]"
      ]
     },
     "execution_count": 42,
     "metadata": {},
     "output_type": "execute_result"
    },
    {
     "data": {
      "image/png": "[encoded data removed]",
      "text/plain": [
       "<Figure size 864x288 with 3 Axes>"
      ]
     },
     "metadata": {},
     "output_type": "display_data"
    }
   ],
   "source": [
    "k = np.arange(-4,5)\n",
    "us = k>=0\n",
    "us_shift1 = k>=1 # The shifted sequence is one when k-1 >=0 <=> k>= 1\n",
    "fig,axs = plt.subplots(3,1, sharex=True, figsize=(12,4))\n",
    "axs[0].stem(k, us); axs[0].set(ylabel  = '$u_s(k)$')\n",
    "axs[1].stem(k, us_shift1); axs[1].set(ylabel  = '$u_s(k-1)$')\n",
    "axs[2].stem(k, k==0) ; axs[2].set(ylabel  = '$\\delta(k)$')"
   ]
  },
  {
   "cell_type": "markdown",
   "metadata": {},
   "source": [
    "Clearly the bottom sequence is obtained by subtracting the second sequence from the first."
   ]
  },
  {
   "cell_type": "markdown",
   "metadata": {},
   "source": [
    "The unit step function can be obtained by summing over the impulse funktion\n",
    "$$ u_s(k) = \\sum_{i=-\\infty}^k \\delta(i). $$"
   ]
  },
  {
   "cell_type": "code",
   "execution_count": 54,
   "metadata": {},
   "outputs": [
    {
     "data": {
      "text/plain": [
       "Text(-4,0.5,'$k=2,\\\\;$ summing zeros and a single one')"
      ]
     },
     "execution_count": 54,
     "metadata": {},
     "output_type": "execute_result"
    },
    {
     "data": {
      "image/png": "[encoded data removed]",
      "text/plain": [
       "<Figure size 864x288 with 2 Axes>"
      ]
     },
     "metadata": {},
     "output_type": "display_data"
    }
   ],
   "source": [
    "k = np.arange(-4,5)\n",
    "dlta = k==0\n",
    "fig,axs = plt.subplots(2,1, sharex=True, figsize=(12,4))\n",
    "axs[0].stem(k, dlta); axs[0].set(ylabel  = '$k < 0$')\n",
    "axs[1].stem(k, dlta); axs[1].set(ylabel  = '$k > 1$')\n",
    "axs[0].plot([-4,-1.9], [1.01, 1.01], 'r--')\n",
    "axs[0].plot([-1.9,-1.9], [1.01, .01], 'r--')\n",
    "axs[0].text(-4,0.5, '$k=-2,\\;$ summing only zeros')\n",
    "axs[1].plot([-4, 2.1], [1.01, 1.01], 'r--')\n",
    "axs[1].plot([2.1, 2.1], [1.01, .01], 'r--')\n",
    "axs[1].text(-4,0.5, '$k=2,\\;$ summing zeros and a single one')"
   ]
  },
  {
   "cell_type": "markdown",
   "metadata": {},
   "source": [
    "## Real exponential\n",
    "The real exponential is\n",
    "$$ f(k) = a^k. $$\n",
    "Let's look at three cases \n",
    "### Exampel 1 $a=0.5$"
   ]
  },
  {
   "cell_type": "code",
   "execution_count": 64,
   "metadata": {},
   "outputs": [
    {
     "data": {
      "text/plain": [
       "Text(0,0.5,'$0.5^k$')"
      ]
     },
     "execution_count": 64,
     "metadata": {},
     "output_type": "execute_result"
    },
    {
     "data": {
      "image/png": "[encoded data removed]",
      "text/plain": [
       "<Figure size 864x360 with 1 Axes>"
      ]
     },
     "metadata": {},
     "output_type": "display_data"
    }
   ],
   "source": [
    "a = 0.5\n",
    "k = np.arange(-2,5)\n",
    "plt.figure(figsize=(12,5))\n",
    "plt.stem(k, np.power(a, k))\n",
    "plt.xticks([-2,0,2,4]); plt.yticks(np.power(a,k[:-1]))\n",
    "plt.xlabel('$k$')\n",
    "plt.ylabel('$0.5^k$')"
   ]
  },
  {
   "cell_type": "markdown",
   "metadata": {},
   "source": [
    "### Exampel 2 $a = 2$"
   ]
  },
  {
   "cell_type": "code",
   "execution_count": 70,
   "metadata": {},
   "outputs": [
    {
     "data": {
      "image/png": "[encoded data removed]",
      "text/plain": [
       "<Figure size 864x360 with 1 Axes>"
      ]
     },
     "metadata": {},
     "output_type": "display_data"
    }
   ],
   "source": [
    "a = 2.0\n",
    "k = np.arange(-2,5)\n",
    "plt.figure(figsize=(12,5))\n",
    "plt.stem(k, np.power(a, k))\n",
    "plt.xticks([-2,0,2,4]); plt.yticks(np.power(a,k[1:]))\n",
    "plt.xlabel('$k$')\n",
    "plt.ylabel('$2^k$');"
   ]
  },
  {
   "cell_type": "markdown",
   "metadata": {},
   "source": [
    "### Exampel 3 $a = -0.8$"
   ]
  },
  {
   "cell_type": "code",
   "execution_count": 69,
   "metadata": {},
   "outputs": [
    {
     "data": {
      "image/png": "[encoded data removed]",
      "text/plain": [
       "<Figure size 864x360 with 1 Axes>"
      ]
     },
     "metadata": {},
     "output_type": "display_data"
    }
   ],
   "source": [
    "a = -.8\n",
    "k = np.arange(-2,5)\n",
    "plt.figure(figsize=(12,5))\n",
    "plt.stem(k, np.power(a, k))\n",
    "plt.xticks([-2,0,2,4]); plt.yticks(np.power(a,k[:]))\n",
    "plt.xlabel('$k$')\n",
    "plt.ylabel('$(-1)^k$');"
   ]
  },
  {
   "cell_type": "markdown",
   "metadata": {},
   "source": [
    "## Sinusoid\n",
    "$$ f(k) = a\\sin(\\omega_0 k + \\phi). $$"
   ]
  },
  {
   "cell_type": "markdown",
   "metadata": {},
   "source": [
    "We'll look at one example which is periodic and one which is not. The discrete-time sinusoid is periodic when $f(k+N) = f(k)$ for some integer $N$. This requires that \n",
    "$$\\omega_0(k+N) = \\omega_0k + 2\\pi M, $$\n",
    "for some integer $M$. This gives \n",
    "$$\\omega_0N = 2\\pi M \\quad \\Leftrightarrow \\quad \\frac{\\omega_0}{2\\pi} = \\frac{M}{N},$$\n",
    "which means that the ratio of $\\omega_0$ to $2\\pi$ must be a rational number.\n",
    "### Periodic example $\\omega_0 = \\pi/8$, $\\phi=\\pi/3$"
   ]
  },
  {
   "cell_type": "code",
   "execution_count": 73,
   "metadata": {},
   "outputs": [
    {
     "data": {
      "image/png": "[encoded data removed]",
      "text/plain": [
       "<Figure size 864x360 with 1 Axes>"
      ]
     },
     "metadata": {},
     "output_type": "display_data"
    }
   ],
   "source": [
    "w0 = np.pi/8\n",
    "phi = np.pi/3\n",
    "k = np.arange(-14,15)\n",
    "plt.figure(figsize=(12,5))\n",
    "plt.stem(k, np.sin(w0*k+phi))\n",
    "plt.xticks([-2,0,2,4]); plt.yticks([-1,1])\n",
    "plt.xlabel('$k$')\n",
    "plt.ylabel('');"
   ]
  },
  {
   "cell_type": "markdown",
   "metadata": {},
   "source": [
    "## Aperiodic example $\\omega_0 = 1$, $\\phi = \\pi/3$"
   ]
  },
  {
   "cell_type": "code",
   "execution_count": 74,
   "metadata": {},
   "outputs": [
    {
     "data": {
      "image/png": "[encoded data removed]",
      "text/plain": [
       "<Figure size 864x360 with 1 Axes>"
      ]
     },
     "metadata": {},
     "output_type": "display_data"
    }
   ],
   "source": [
    "w0 = 1\n",
    "phi = np.pi/3\n",
    "k = np.arange(-14,15)\n",
    "plt.figure(figsize=(12,5))\n",
    "plt.stem(k, np.sin(w0*k+phi))\n",
    "plt.xticks([-2,0,2,4]); plt.yticks([-1,1])\n",
    "plt.xlabel('$k$')\n",
    "plt.ylabel('');"
   ]
  },
  {
   "cell_type": "code",
   "execution_count": null,
   "metadata": {},
   "outputs": [],
   "source": []
  }
 ],
 "metadata": {
  "kernelspec": {
   "display_name": "Python 3",
   "language": "python",
   "name": "python3"
  },
  "language_info": {
   "codemirror_mode": {
    "name": "ipython",
    "version": 3
   },
   "file_extension": ".py",
   "mimetype": "text/x-python",
   "name": "python",
   "nbconvert_exporter": "python",
   "pygments_lexer": "ipython3",
   "version": "3.5.2"
  }
 },
 "nbformat": 4,
 "nbformat_minor": 2
}
