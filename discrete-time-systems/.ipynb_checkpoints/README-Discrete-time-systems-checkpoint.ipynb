{
 "cells": [
  {
   "cell_type": "markdown",
   "metadata": {},
   "source": [
    "# Discrete-time systems\n",
    "This part contains introductory material for discrete-time systems and also material on important properties of discrete-times systems.\n",
    "\n",
    "## Notebooks\n",
    "1. [Introduction to discrete-time systems](notebooks/Discrete-time-systems-intro.ipynb) \n",
    "\n",
    "## Good to watch\n",
    "- [Digital Control - lectures by Peter Corke](https://www.youtube.com/watch?v=XuR3QKVtx-g&list=PL1pxneANaikB-JscZzyRUSVZC8k8e9FWG) A short, but nice series of online lectures. We will be using these during the course. \n",
    "\n",
    "## Good to read\n",
    "- [Overview of computer-controlled systems](http://www.ifac-control.org/publications/list-of-professional-briefs/pb_wittenmark_etal_final.pdf) By Åström, Wittenmark and Årzen."
   ]
  },
  {
   "cell_type": "code",
   "execution_count": null,
   "metadata": {
    "collapsed": true
   },
   "outputs": [],
   "source": []
  }
 ],
 "metadata": {
  "kernelspec": {
   "display_name": "Python 2",
   "language": "python",
   "name": "python2"
  },
  "language_info": {
   "codemirror_mode": {
    "name": "ipython",
    "version": 2
   },
   "file_extension": ".py",
   "mimetype": "text/x-python",
   "name": "python",
   "nbconvert_exporter": "python",
   "pygments_lexer": "ipython2",
   "version": "2.7.11"
  }
 },
 "nbformat": 4,
 "nbformat_minor": 0
}
