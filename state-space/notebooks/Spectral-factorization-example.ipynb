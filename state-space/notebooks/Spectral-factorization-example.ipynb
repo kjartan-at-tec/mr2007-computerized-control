{
 "cells": [
  {
   "cell_type": "markdown",
   "metadata": {},
   "source": [
    "# Computer lab 2 - Automatic control 2\n",
    "\n",
    "$ \\newcommand{\\mexp}[1]{\\mathrm{e}^{#1}} $\n",
    "$ \\newcommand{\\transp}{ ^{\\mathrm{T}} }$\n",
    "\n",
    "## Preparations\n",
    "### Exercise 1 - the spectral factorization theorem\n",
    "Determine a filter\n",
    "\\begin{equation}\n",
    "H(z) = \\frac{b}{z+a}\n",
    "\\end{equation}\n",
    "That generates a signal with spectral density\n",
    "\\begin{equation}\n",
    "\\phi(\\omega) = \\frac{0.75}{1.25 - cos\\omega}\n",
    "\\end{equation}\n",
    "\n",
    "Hint: Set up state space model and use the Lyaponov equation to find the variance.\n",
    "\n",
    "\\begin{align}\n",
    "x(k+1) &= -a x(k) + bu(k)\\\\\n",
    "y(k) &= x(k)\n",
    "\\end{align}\n",
    "\n",
    "The covariance\n",
    "\\begin{equation}\n",
    "P(k) = E\\tilde{x}(k)\\tilde{x}\\transp(k) = E \\big(x(k) - m(k)\\big)\\big(x^{\\mathrm{T}}(k) - m^{\\mathrm{T}}(k)\\big)\n",
    "\\end{equation}\n",
    "is governed by the difference equation\n",
    "\\begin{equation}\n",
    "P(k+1) = \\Phi P(k) \\Phi^{\\mathrm{T}} + b^2R_1 = a^2P(k) + b^2,\n",
    "\\end{equation}\n",
    "with initial condition\n",
    "\\begin{equation}\n",
    "P(0) = r_0.\n",
    "\\end{equation}\n",
    "The solution is\n",
    "\\begin{align}\n",
    "P(1) &= a^2r_0 + b^2\\\\\n",
    "P(2) &= a^2P(1) + b^2 = a^4r_0 + a^2b^2 + b^2\\\\\n",
    "P(3) &= a^2P(2) + b^2 = a^6r_0 + a^4b^2 + a^2b^2 + b^2 = a^6r_0 + (1 + a^2 + a^4)b^2\\\\\n",
    "    & \\vdots\\\\\n",
    "P(k) &= a^{2k}r_0 + \\big(1 + a^2 + \\cdots + a^{2(k-1)} \\big)b^2 = a^{2k}r_0 + \\frac{1-a^{2k}}{1-a^2}b^2,\n",
    "\\end{align}\n",
    "where we have made use of the properites of finite geomtric sums in the last equality.\n",
    "\n",
    "For stable system ($|a| < 1$) we get\n",
    "\\begin{equation}\n",
    "P(k) \\to \\frac{b^2}{1-a^2}\n",
    "\\end{equation}\n",
    "\n",
    "The covariance function for $x$ is\n",
    "\\begin{equation}\n",
    "r_x(k+\\tau,k) = E\\tilde{x}(k+\\tau)\\tilde{x}\\transp(k) = a^\\tau P(k),\n",
    "\\end{equation}\n",
    "hence,\n",
    "\\begin{equation}\n",
    "r_x(k+\\tau,k) \\to \\frac{b^2a^{|\\tau|}}{1-a^2}\n",
    "\\end{equation}\n",
    "Hence, the variance is \n",
    "\\begin{equation}\n",
    "\\mathrm{Var} x = r(0) = \\frac{b^2}{1-a^2}.\n",
    "\\end{equation}\n",
    "\n",
    "Identify the parameters $a$ and $b$:\n",
    "\n",
    "Note that the spectal density is \n",
    "\\begin{equation}\n",
    "\\phi(\\omega) 2\\pi = H(\\mexp{i\\omega})H(\\mexp{-i\\omega}) \\phi_u(\\omega) = \\frac{b^2}{\\big(\\mexp{i\\omega}+a\\big)\\big(\\mexp{-i\\omega}+a\\big)} = \\frac{b^2}{1 + a\\mexp{i\\omega}+a\\mexp{-i\\omega} + a^2} = \\frac{b^2}{1+a^2+2acos\\omega} = \\frac{\\frac{b^2}{-2a}}{\\frac{1+a^2}{-2a} - cos\\omega}.\n",
    "\\end{equation}\n",
    "Setting coefficients equal in this expression and the given spectral density gives \n",
    "\\begin{align}\n",
    "\\frac{b^2}{-2\\pi2a} &= \\frac{3}{4} \\quad \\Rightarrow \\quad b^2 = -3a\\pi\\\\\n",
    "\\frac{1+a^2}{-2a} &= \\frac{5}{4} \\quad \\Rightarrow \\quad a^2 + \\frac{5}{2}a + 1 = 0 \n",
    "\\end{align}\n",
    "so,\n",
    "\\begin{align}\n",
    "a &= \\begin{cases} -\\frac{5}{4} + \\frac{1}{2}\\sqrt{\\frac{25}{4}-4} = -\\frac{1}{2} & \\text{stable}\\\\\n",
    "                   -\\frac{5}{4} - \\frac{1}{2}\\sqrt{\\frac{25}{4}-4} = -2 & \\text{unstable}\\\\\n",
    "                   \\end{cases}\\\\\n",
    "                   b &= \\sqrt{\\frac{3\\pi}{2}}.\n",
    "\\end{align}\n",
    "                     \n",
    "\n"
   ]
  },
  {
   "cell_type": "code",
   "execution_count": 1,
   "metadata": {
    "collapsed": true
   },
   "outputs": [],
   "source": [
    "import numpy as np\n",
    "%matplotlib inline\n",
    "import matplotlib.pyplot as plt\n",
    "import control.matlab as cm\n",
    "import sympy as sy\n",
    "from scipy import signal"
   ]
  },
  {
   "cell_type": "code",
   "execution_count": 2,
   "metadata": {
    "collapsed": false
   },
   "outputs": [
    {
     "name": "stderr",
     "output_type": "stream",
     "text": [
      "/home/kjartan/.virtualenvs/jupyter_notebook/local/lib/python2.7/site-packages/numpy/core/numeric.py:462: ComplexWarning: Casting complex values to real discards the imaginary part\n",
      "  return array(a, dtype, copy=False, order=order)\n",
      "/home/kjartan/.virtualenvs/jupyter_notebook/local/lib/python2.7/site-packages/matplotlib/cbook.py:137: MatplotlibDeprecationWarning: The \"loc\" positional argument to legend is deprecated. Please use the \"loc\" keyword instead.\n",
      "  warnings.warn(message, mplDeprecation, stacklevel=1)\n",
      "/home/kjartan/.virtualenvs/jupyter_notebook/local/lib/python2.7/site-packages/matplotlib/legend.py:319: UserWarning: Unrecognized location \"Correct solution\". Falling back on \"best\"; valid locations are\n",
      "\tright\n",
      "\tcenter left\n",
      "\tupper right\n",
      "\tlower right\n",
      "\tbest\n",
      "\tcenter\n",
      "\tlower left\n",
      "\tcenter right\n",
      "\tupper left\n",
      "\tupper center\n",
      "\tlower center\n",
      "\n",
      "  % (loc, '\\n\\t'.join(six.iterkeys(self.codes))))\n"
     ]
    },
    {
     "data": {
      "image/png": "[encoded data removed]",
      "text/plain": [
       "<matplotlib.figure.Figure at 0x7f4b84bee110>"
      ]
     },
     "metadata": {},
     "output_type": "display_data"
    }
   ],
   "source": [
    "def d_spectrum(A, B, sigma2):\n",
    "    lgw1 = -2\n",
    "    w = np.logspace(lgw1,np.log10(np.pi), 300)\n",
    "    (wp,Hp) = signal.freqz(B,A,w)\n",
    "    wm = -w\n",
    "    (wm,Hm) = signal.freqz(B,A,wm)\n",
    "    return (w, sigma2*Hp*Hm/(2*np.pi))\n",
    "def lab2a(a,b):\n",
    "    A = [1, a]\n",
    "    B = b\n",
    "    # Compute spectrum\n",
    "    (w_ab, fi_ab)=d_spectrum(A,B,1)\n",
    "    # True spectrum\n",
    "    fi_0 = 0.75 / (1.25-np.cos(w_ab))\n",
    "    \n",
    "    # Plot spectra\n",
    "    plt.loglog(w_ab, fi_ab, 'r')\n",
    "    plt.loglog(w_ab, fi_0, '--k')\n",
    "    plt.title('Output spectrum')\n",
    "    plt.xlabel('\\omega')\n",
    "    plt.legend('Model', 'Correct solution')\n",
    "a = -0.5\n",
    "b = np.sqrt(3*np.pi/2)\n",
    "\n",
    "lab2a(a,b)"
   ]
  },
  {
   "cell_type": "markdown",
   "metadata": {},
   "source": [
    "## Preparation exercise 3\n",
    "Covariance function of MA(1) process\n",
    "\\begin{align}\n",
    "x(k+1) &= \\begin{bmatrix} 0 & 0 \\\\ c & 0 \\end{bmatrix} x(k) + \\begin{bmatrix}1\\\\1\\end{bmatrix} \\epsilon(k)\\\\\n",
    "y(k) &= \\begin{bmatrix} 0 & 1 \\end{bmatrix} x(k) = x_2(k)\n",
    "\\end{align}\n",
    "with $\\epsilon(k)$ being a sequence of white noise with unit variance and zero mean.\n",
    "\n",
    "The state covariance $r_x(k) = P(k) = \\mathrm{E}x(k)x\\transp(k)$ is governed by the equation\n",
    "\\begin{equation}\n",
    "P(k+1) = \\Phi P(k) \\Phi\\transp + R_1.\n",
    "\\end{equation}\n",
    "In steady state we have $P(k+1) = P(k)=P$, so $P$ can be found by solving the Lyaponov equation \n",
    "\\begin{equation}\n",
    "P = \\Phi P \\Phi\\transp + R_1,\n",
    "\\end{equation}\n",
    "where, in the case here\n",
    "\\begin{equation}\n",
    "R_1 = \\begin{bmatrix}1\\\\1\\end{bmatrix} \\begin{bmatrix}1 & 1\\end{bmatrix} = \\begin{bmatrix} 1 & 1\\\\1 & 1\\end{bmatrix}\n",
    "\\end{equation}\n",
    "\n",
    "According to [wikipedia on the Lyaponov equation](https://en.wikipedia.org/wiki/Lyapunov_equation), the solution can be written as an infinite sum\n",
    "\\begin{equation}\n",
    "P = \\sum_{k=0}^{\\infty} \\Phi^k R_1 \\big(A\\transp\\big)^k.\n",
    "\\end{equation}\n",
    "Here we have\n",
    "\\begin{align}\n",
    "\\Phi &= \\begin{bmatrix} 0 & 0 \\\\ c & 0 \\end{bmatrix}\\\\\n",
    "\\Phi^2 &= \\begin{bmatrix} 0 & 0 \\\\ c & 0 \\end{bmatrix}\\begin{bmatrix} 0 & 0 \\\\ c & 0 \\end{bmatrix} = \\begin{bmatrix} 0 & 0\\\\0 & 0\\end{bmatrix}\\\\\n",
    "\\Phi^3 &= 0\\\\\n",
    "&\\vdots\n",
    "\\end{align}\n",
    "This gives a very short series:\n",
    "\\begin{equation}\n",
    "P = R_1 + \\begin{bmatrix} 0 & 0 \\\\ c & 0 \\end{bmatrix}R_1\\begin{bmatrix} 0 & c \\\\ 0 & 0 \\end{bmatrix} = R_1 + \\begin{bmatrix} 0 & 0\\\\0 & c^2\\end{bmatrix}\n",
    "\\end{equation}\n",
    "See verification below\n",
    "\n"
   ]
  },
  {
   "cell_type": "code",
   "execution_count": 3,
   "metadata": {
    "collapsed": false
   },
   "outputs": [
    {
     "name": "stdout",
     "output_type": "stream",
     "text": [
      "Matrix([[0, 0], [0, 0]])\n"
     ]
    },
    {
     "data": {
      "text/plain": [
       "Matrix([\n",
       "[1,        1],\n",
       "[1, c**2 + 1]])"
      ]
     },
     "execution_count": 3,
     "metadata": {},
     "output_type": "execute_result"
    }
   ],
   "source": [
    "c = sy.symbols('c')\n",
    "Phi = sy.Matrix([[0,0],[c,0]])\n",
    "Phi2 = Phi*Phi\n",
    "print Phi2\n",
    "R1 = sy.Matrix([[1,1],[1,1]])\n",
    "P = R1 + Phi*R1*Phi.T\n",
    "P"
   ]
  },
  {
   "cell_type": "markdown",
   "metadata": {
    "collapsed": true
   },
   "source": [
    "The variance of $y$ is the variance of $x_2$, so\n",
    "\\begin{equation}\n",
    "\\mathrm{var}\\; y = 1 + c^2.\n",
    "\\end{equation}\n",
    "\n",
    "To get the covariance function, note that \n",
    "\\begin{equation}\n",
    "r_x(k+\\tau,k) = \\mathrm{E} x(k+\\tau)x\\transp = \\mathrm{E}\\big(\\Phi^\\tau x(k) + \\Gamma \\epsilon(k+\\tau) + \\Phi B \\epsilon(k+\\tau-1) + \\Phi^2B \\epsilon(k+\\tau-2) + \\cdots + \\Phi^\\tau B \\epsilon(k) \\big)x\\transp(k) = \\Phi^\\tau P(k),\n",
    "\\end{equation}\n",
    "since $x(k)$ is independent of future noise terms. \n",
    "Since $\\Phi^k = 0$ for $k>1$, we have\n",
    "\n",
    "\\begin{align}\n",
    "r_x(0) &= P = \\begin{bmatrix} 1 & 1\\\\1 & 1+c^2\\end{bmatrix}\\\\\n",
    "r_x(1) &= \\Phi P = \\begin{bmatrix} 0 & 0\\\\c & c \\end{bmatrix}\\\\\n",
    "r_x(\\tau) &= 0, \\; \\tau>1\n",
    "\\end{align}\n",
    "\n",
    "\n",
    "## Exercise 2\n",
    "Simulate ARMA(1) process\n"
   ]
  },
  {
   "cell_type": "code",
   "execution_count": 15,
   "metadata": {
    "collapsed": false
   },
   "outputs": [
    {
     "name": "stdout",
     "output_type": "stream",
     "text": [
      "22\n",
      "22\n",
      "[[ 42.16666667  42.16666667]\n",
      " [ 42.16666667  42.16666667]]\n"
     ]
    }
   ],
   "source": [
    "a = np.arange(24)\n",
    "print len(a[2:])\n",
    "print len(a[:-2])\n",
    "print np.cov(a[2:], a[:-2])"
   ]
  },
  {
   "cell_type": "code",
   "execution_count": 43,
   "metadata": {
    "collapsed": false
   },
   "outputs": [
    {
     "data": {
      "image/png": "[encoded data removed]",
      "text/plain": [
       "<matplotlib.figure.Figure at 0x7f4b844a7110>"
      ]
     },
     "metadata": {},
     "output_type": "display_data"
    }
   ],
   "source": [
    "import pdb\n",
    "def xcov(a,b,nlags):\n",
    "    \"\"\" Cross correlation function for given number of lags. Works for 1-dimensional vectors a and b\n",
    "        OBS: Unlike matlabs xcov function, this does not compute values for negative lags (assumes) symmetric\n",
    "        function.\n",
    "    \"\"\"\n",
    "    aa = a.ravel()\n",
    "    bb = b.ravel()\n",
    "    return np.array( [np.cov(aa,aa)] + [np.cov(aa[:-tau],bb[tau:]) for tau in range(1,nlags) ] )\n",
    "\n",
    "def lab2b(C,A,N=100,tau_max=50, nr=1):\n",
    "    lam = 1.0\n",
    "    a = A[1]\n",
    "    c = C[1]\n",
    "    tau = np.arange(tau_max)\n",
    "    e = np.random.normal(0,1,(N,nr))\n",
    "    sys = (C, A, 1)\n",
    "    r_e = []\n",
    "    for i in range(nr):\n",
    "        (t_out, yn) = signal.dlsim(sys, e[:,i])\n",
    "        cv = xcov(yn,yn, tau_max)\n",
    "        r_e.append(cv[:,1,0])\n",
    "    r_e = np.array(r_e)\n",
    "    NN = min(N,50)\n",
    "    \n",
    "    r_t = lam/(1-a**2) * np.hstack( (1+c**2-2*a*c, (c-a)*(1-a*c)*(-a)**(tau[1:]-1) ) )\n",
    "    \n",
    "    m = np.mean(r_e, axis=0)\n",
    "    st = np.std(r_e, axis=0)\n",
    "    \n",
    "    #1/0\n",
    "    plt.plot(tau, r_t, 'r-')\n",
    "    plt.plot(tau, r_e.T, 'b--')\n",
    "    plt.legend(['True', 'Estimated'])\n",
    "    plt.xlabel('\\tau')\n",
    "\n",
    "#lab2b([1, 0], [1, -0.4], N=400, nr=4)\n",
    "lab2b([1, 0.5], [1, 0], N=400, nr=4)\n",
    "\n",
    "        "
   ]
  },
  {
   "cell_type": "code",
   "execution_count": 31,
   "metadata": {
    "collapsed": false
   },
   "outputs": [
    {
     "name": "stdout",
     "output_type": "stream",
     "text": [
      "> <ipython-input-30-e7a3b6b244f2>(31)lab2b()\n",
      "-> 1/0\n",
      "(Pdb) r_e.shape\n",
      "(1, 50)\n",
      "(Pdb) cv.shape\n",
      "(50, 2, 2)\n",
      "(Pdb) cv[:4,:,:]\n",
      "array([[[ 5.15203502,  5.15203502],\n",
      "        [ 5.15203502,  5.15203502]],\n",
      "\n",
      "       [[ 5.15240258,  4.6261038 ],\n",
      "        [ 4.6261038 ,  5.15243297]],\n",
      "\n",
      "       [[ 5.15229716,  4.15816722],\n",
      "        [ 4.15816722,  5.15292142]],\n",
      "\n",
      "       [[ 5.15215686,  3.71376601],\n",
      "        [ 3.71376601,  5.15336661]]])\n",
      "(Pdb) q\n"
     ]
    }
   ],
   "source": [
    "pdb.pm()"
   ]
  },
  {
   "cell_type": "markdown",
   "metadata": {},
   "source": [
    "## Exercise 3\n",
    "Pole-placement for observer\n",
    "\n",
    "Discrete time system\n",
    "\\begin{align}\n",
    "x(t+1) &= Fx(t) + Gu(t) + Nv_1(t)\\\\\n",
    "y(t) &= Hx(t) + v_2(t),\n",
    "\\end{align}\n",
    "with\n",
    "\\begin{align}\n",
    "F &= \\begin{bmatrix} 0.3 & -0.5\\\\ 1 & 0\\end{bmatrix},\\\\\n",
    "G &= \\begin{bmatrix} 1\\\\0\\end{bmatrix},\\\\\n",
    "H &= \\begin{bmatrix} 0 & 1\\end{bmatrix}, \\\\\n",
    "N &= \\begin{bmatrix} 1\\\\ 1 \\end{bmatrix}\n",
    "\\end{align}\n",
    "\n",
    "Consider observer\n",
    "\\begin{equation}\n",
    " \\hat{x}(t+1) = F\\hat{x}(t) + Gu(t) + K\\big(y - H\\hat{x}(t)\\big),\n",
    "\\end{equation}\n",
    "with state estimation error $\\tilde{x}(t) = x(t) - \\hat(x)(t)$ governed by\n",
    "\\begin{equation}\n",
    " \\tilde{x}(t+1) = \\big(F-KH\\big)\\tilde{x}(t) + Nv_1(t) - Kv_2(t).\n",
    "\\end{equation}\n",
    "\n",
    "Find observer gain $K$ so that the poles of the observer are placed in \n",
    "\\begin{equation}\n",
    "p = -0.4 \\pm 0.3j\n",
    "\\end{equation}\n",
    "\n"
   ]
  },
  {
   "cell_type": "code",
   "execution_count": 46,
   "metadata": {
    "collapsed": false
   },
   "outputs": [
    {
     "name": "stdout",
     "output_type": "stream",
     "text": [
      "[[ 0.08]\n",
      " [ 1.1 ]]\n"
     ]
    },
    {
     "data": {
      "text/plain": [
       "(array([-0.4+0.3j, -0.4-0.3j]),\n",
       " array([[ 0.55689010+0.23866719j,  0.55689010-0.23866719j],\n",
       "        [ 0.79555728+0.j        ,  0.79555728-0.j        ]]))"
      ]
     },
     "execution_count": 46,
     "metadata": {},
     "output_type": "execute_result"
    }
   ],
   "source": [
    "F = np.array([[0.3, -0.5], [1, 0]])\n",
    "G = np.array([[1],[0]])\n",
    "H = np.array([[0, 1]])\n",
    "N = np.array([[1],[1]])\n",
    "K = cm.place(F.T, H.T, [-0.4+0.3*1j, -0.4-0.3*1j]).T\n",
    "print K\n",
    "np.linalg.eig(F-np.dot(K,H))"
   ]
  },
  {
   "cell_type": "markdown",
   "metadata": {},
   "source": [
    "The covariance matrix of the state estimation error is given by the solution to the Lyaponov equation\n",
    "\\begin{equation}\n",
    "P = APA\\transp + NN\\transp \\sigma_1^2 + KK\\transp \\sigma_2^2,\n",
    "\\end{equation}\n",
    "which can be written \n",
    "\\begin{equation}\n",
    "APA\\transp - P + Q = 0\n",
    "\\end{equation}\n",
    "where \n",
    "\\begin{equation}\n",
    "Q = NN\\transp \\sigma_1^2 + KK\\transp \\sigma_2^2\n",
    "\\end{equation}\n"
   ]
  },
  {
   "cell_type": "code",
   "execution_count": 48,
   "metadata": {
    "collapsed": false
   },
   "outputs": [
    {
     "name": "stdout",
     "output_type": "stream",
     "text": [
      "[[ 1.25764228  1.33617886]\n",
      " [ 1.33617886  1.80691057]]\n"
     ]
    }
   ],
   "source": [
    "sigma_1 = 1\n",
    "sigma_2 = 0.5\n",
    "\n",
    "Ao = F - np.dot(K,H)\n",
    "Qo = np.dot(N,N.T)*sigma_1**2 + np.dot(K,K.T)*sigma_2**2\n",
    "Xo = cm.dlyap(Ao, Qo)\n",
    "print Xo"
   ]
  },
  {
   "cell_type": "markdown",
   "metadata": {},
   "source": [
    "Find oserver gain for a steady-state Kalman filter instead.\n",
    "\n",
    "Note that in the Kalman filter we have the recursions\n",
    "\\begin{align}\n",
    "\\bar{P}_k &= FP_{k-1}F\\transp + Q\\\\\n",
    "P_k &= (1-K_kH)\\bar{P}_k,\n",
    "\\end{align}\n",
    "with Kalman gain\n",
    "\\begin{equation}\n",
    "K_k = \\bar{P}_kH\\transp\\big(H\\bar{P}_kH\\transp + R\\big)^{-1}.\n",
    "\\end{equation}\n",
    "Here $Q=NN\\transp \\sigma_1^2$ is the covariance matrix of the process noise.\n",
    "\n",
    "In steady state we have $\\bar{P}_{k+1}= \\bar{P}_k = \\bar{P}$, so the two recursions can be combined to yield the algebraic Riccatti equation\n",
    "\n",
    "\\begin{equation}\n",
    "\\bar{P} = F\\bar{P}F\\transp + Q - F\\bar{P}H\\transp\\big(H\\bar{P}H\\transp + R\\big)^{-1}H\\bar{P}F\\transp.\n",
    "\\end{equation}\n",
    "\n",
    "The solution to this can then be used to solve for the steady state Kalman gain\n",
    "\n",
    "Then compute Kalman gain as \n",
    "\\begin{equation}\n",
    "K = F \\bar{P}H\\transp\\big(H\\bar{P}H\\transp + R\\big)^{-1},  \n",
    "\\end{equation}\n",
    "where $R=\\sigma_2^2$ is the covariance matrix of the measurement noise.\n",
    "\n",
    "Now the Kalman update on observer form is given by\n",
    "\\begin{equation}\n",
    "\\hat{x}(t+1) = F\\hat{x}(t) + Gu(t) + K\\big(y(t) - H\\hat{x}(t)\\big)\n",
    "\\end{equation}"
   ]
  },
  {
   "cell_type": "code",
   "execution_count": 68,
   "metadata": {
    "collapsed": false
   },
   "outputs": [
    {
     "name": "stdout",
     "output_type": "stream",
     "text": [
      "[[ 0.63417447]\n",
      " [ 0.8469135 ]]\n",
      "[[-0.23320441  0.63417447]]\n",
      "[[ 0.63417447  0.8469135 ]]\n",
      "[[-0.23320441]\n",
      " [ 0.63417447]]\n",
      "(array([-0.27345675+0.89739725j, -0.27345675-0.89739725j]), array([[ 0.72899571+0.j       ,  0.72899571-0.j       ],\n",
      "       [ 0.36859189-0.5768061j,  0.36859189+0.5768061j]]))\n",
      "(array([-0.16708724+0.22051101j, -0.16708724-0.22051101j]), matrix([[ 0.88847810+0.j       ,  0.88847810-0.j       ],\n",
      "        [-0.41499678+0.1959192j, -0.41499678-0.1959192j]]))\n",
      "[-0.16708724+0.22051101j -0.16708724-0.22051101j]\n",
      "[[ 1.11076086  1.16498821]\n",
      " [ 1.16498821  1.35903982]]\n",
      "[[ 1.25764228  1.33617886]\n",
      " [ 1.33617886  1.80691057]]\n",
      "[[ 1.03984474  1.03564729]\n",
      " [ 1.03564729  1.38306366]]\n"
     ]
    }
   ],
   "source": [
    "A = F.T\n",
    "B = H.T\n",
    "(X,L,G) = cm.dare(F.T, H.T, sigma_1**2*np.dot(N,N.T), sigma_2**2)\n",
    "K = np.dot(F,G.T)\n",
    "Kk = np.dot(X, np.dot(H.T, np.linalg.inv(np.dot(H, np.dot(X, H.T)) + sigma_2**2) ))\n",
    "Gtest = np.dot( np.linalg.inv( np.dot(B.T, np.dot(X, B) ) + sigma_2**2 ), np.dot(B.T, X) )\n",
    "print Kk\n",
    "print G\n",
    "print Gtest\n",
    "print np.dot(F,Kk)\n",
    "print np.linalg.eig(F-np.dot(Kk, H))\n",
    "print np.linalg.eig(A-np.dot(B,G))\n",
    "print L\n",
    "\n",
    "Ak = F - np.dot(G.T,H)\n",
    "Qk = np.dot(N,N.T)*sigma_1**2 + np.dot(Kk,Kk.T)*sigma_2**2\n",
    "Xk = cm.dlyap(Ak, Qk)\n",
    "print Xk\n",
    "print Xo\n",
    "print X\n"
   ]
  },
  {
   "cell_type": "code",
   "execution_count": 56,
   "metadata": {
    "collapsed": false
   },
   "outputs": [
    {
     "data": {
      "text/plain": [
       "array([-0.16708724+0.22051101j, -0.16708724-0.22051101j])"
      ]
     },
     "execution_count": 56,
     "metadata": {},
     "output_type": "execute_result"
    }
   ],
   "source": [
    "L"
   ]
  },
  {
   "cell_type": "code",
   "execution_count": null,
   "metadata": {
    "collapsed": true
   },
   "outputs": [],
   "source": []
  }
 ],
 "metadata": {
  "kernelspec": {
   "display_name": "Python 2",
   "language": "python",
   "name": "python2"
  },
  "language_info": {
   "codemirror_mode": {
    "name": "ipython",
    "version": 2
   },
   "file_extension": ".py",
   "mimetype": "text/x-python",
   "name": "python",
   "nbconvert_exporter": "python",
   "pygments_lexer": "ipython2",
   "version": "2.7.6"
  }
 },
 "nbformat": 4,
 "nbformat_minor": 0
}
