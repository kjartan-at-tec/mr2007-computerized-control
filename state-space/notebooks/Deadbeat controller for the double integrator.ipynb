{
 "cells": [
  {
   "cell_type": "markdown",
   "metadata": {},
   "source": [
    "# Deadbeat controller for the double integrator\n",
    "\n",
    "Consider a mass of 1kg moving in one direction on a friction-free horizontal surface. We can apply a force to the mass (input signal $u$), and the mass is also subject to disturbance forces $v$. We are interested in controlling the position $z$ of the mass. In continuous time the dynamics are described by\n",
    "$$ \\ddot{z} = u + v. $$\n",
    "Introducing the state variables $x_1=z$ and $x_2=\\dot{z}$, the system can also be represented on state-space form with state vector $x = \\begin{bmatrix} z & \\dot{z}\\end{bmatrix}^T$ as \n",
    "\\begin{align}\n",
    "\\dot{x} &= \\underbrace{\\begin{bmatrix} 0 & 1\\\\0 & 0\\end{bmatrix}}_{A}x + \\underbrace{\\begin{bmatrix}0\\\\1\\end{bmatrix}}_{B}u + \\underbrace{\\begin{bmatrix}0\\\\1\\end{bmatrix}}_{B}v\\\\\n",
    "y &= \\underbrace{\\begin{bmatrix}1 & 0 \\end{bmatrix}}_C x\n",
    "\\end{align}"
   ]
  },
  {
   "cell_type": "markdown",
   "metadata": {},
   "source": [
    "## Discrete-time state-space model\n",
    "The discrete-time state-space model using a sampling period $h$ is\n",
    "\\begin{align}\n",
    "x(k+1) &= \\Phi(h)x(k) + \\Gamma(h)u + \\Gamma(h)v\\\\\n",
    "y(k) &= Cx(k)\n",
    "\\end{align}\n",
    "where\n",
    "$$ \\Phi(h) = \\mathrm{e}^{Ah} = \\begin{bmatrix} 1 & h\\\\0 & 1 \\end{bmatrix}$$\n",
    "and\n",
    "$$ \\Gamma(h) = \\int_0^h \\mathrm{e}^{As}B ds = \\begin{bmatrix} \\frac{h^2}{2}\\\\h \\end{bmatrix}.$$\n",
    "### Verification by symbolic computation"
   ]
  },
  {
   "cell_type": "code",
   "execution_count": 1,
   "metadata": {},
   "outputs": [
    {
     "data": {
      "text/latex": [
       "$$\\left[\\begin{matrix}1 & h\\\\0 & 1\\end{matrix}\\right]$$"
      ],
      "text/plain": [
       "⎡1  h⎤\n",
       "⎢    ⎥\n",
       "⎣0  1⎦"
      ]
     },
     "execution_count": 1,
     "metadata": {},
     "output_type": "execute_result"
    }
   ],
   "source": [
    "import numpy as np\n",
    "import sympy as sy\n",
    "sy.init_printing(use_latex='mathjax', order='lex')\n",
    "\n",
    "h = sy.symbols('h', real=True, positive=True)\n",
    "A = sy.Matrix([[0,1], [0,0]])\n",
    "B = sy.Matrix([[0],[1]])\n",
    "Phi = sy.simplify(sy.exp(A*h))\n",
    "Phi"
   ]
  },
  {
   "cell_type": "code",
   "execution_count": 2,
   "metadata": {},
   "outputs": [
    {
     "data": {
      "text/latex": [
       "$$\\left[\\begin{matrix}\\frac{h^{2}}{2}\\\\h\\end{matrix}\\right]$$"
      ],
      "text/plain": [
       "⎡ 2⎤\n",
       "⎢h ⎥\n",
       "⎢──⎥\n",
       "⎢2 ⎥\n",
       "⎢  ⎥\n",
       "⎣h ⎦"
      ]
     },
     "execution_count": 2,
     "metadata": {},
     "output_type": "execute_result"
    }
   ],
   "source": [
    "s = sy.symbols('s')\n",
    "Gamma = sy.integrate(sy.exp(A*s)*B, (s, 0, h))\n",
    "Gamma"
   ]
  },
  {
   "cell_type": "markdown",
   "metadata": {},
   "source": [
    "## Reachability \n",
    "The controllability matrix for this second order system becomes\n",
    "$$ W_c = \\begin{bmatrix} \\Gamma & \\Phi\\Gamma \\end{bmatrix} = \\begin{bmatrix} \\frac{h^2}{2} & \\frac{3h^2}{2}\\\\h & h\\end{bmatrix}, $$\n",
    "with determinant\n",
    "$$\\det W_c = \\frac{h^3}{2}(1 - 3) = -h^3,$$\n",
    "which is different from zero since $h>0$.\n",
    "It is hence possible to reach any point in the state-space from any other point in just two steps (two sampling periods).\n",
    "### Verification by symbolic computation"
   ]
  },
  {
   "cell_type": "code",
   "execution_count": 3,
   "metadata": {},
   "outputs": [
    {
     "data": {
      "text/latex": [
       "$$\\left[\\begin{matrix}\\frac{h^{2}}{2} & \\frac{3 h^{2}}{2}\\\\h & h\\end{matrix}\\right]$$"
      ],
      "text/plain": [
       "⎡ 2     2⎤\n",
       "⎢h   3⋅h ⎥\n",
       "⎢──  ────⎥\n",
       "⎢2    2  ⎥\n",
       "⎢        ⎥\n",
       "⎣h    h  ⎦"
      ]
     },
     "execution_count": 3,
     "metadata": {},
     "output_type": "execute_result"
    }
   ],
   "source": [
    "Wc = sy.BlockMatrix([[Gamma, Phi*Gamma]]).as_explicit()\n",
    "Wc"
   ]
  },
  {
   "cell_type": "code",
   "execution_count": 4,
   "metadata": {},
   "outputs": [
    {
     "data": {
      "text/latex": [
       "$$- h^{3}$$"
      ],
      "text/plain": [
       "  3\n",
       "-h "
      ]
     },
     "execution_count": 4,
     "metadata": {},
     "output_type": "execute_result"
    }
   ],
   "source": [
    "sy.det(Wc)"
   ]
  },
  {
   "cell_type": "markdown",
   "metadata": {},
   "source": [
    "## Designing an input sequence\n",
    "We now know that the system is reachable. This means that we can take the system from the origin in the state-space (position zero and velocity zero) to any other point in state-space. And it can be done in only two steps with the input sequence\n",
    "$$ u(0), \\, u(1).$$\n",
    "Let's say we want to reach the point\n",
    "$$ x_d = \\begin{bmatrix} a\\\\b \\end{bmatrix},$$\n",
    "which in words is that we want the mass to be at $z=a$ and having the velocity $\\dot{z}=b$. The general solution for an n-th order discrete-time state space system is\n",
    "\\begin{align}\n",
    "x(n) &= \\Phi^n x(0) + \\Phi^{n-1}\\Gamma u(0) + \\Phi^{n-2}\\Gamma u(1) + \\cdots + \\Gamma u(n-1)\\\\\n",
    "&= \\Phi^n x(0) + W_cU, \n",
    "\\end{align}\n",
    "where\n",
    "$$ U = \\begin{bmatrix} u(n-1)\\\\u(n-2)\\\\\\vdots\\\\u(0)\\end{bmatrix}. $$\n",
    "In the case here we have $x(0)=0$ and this leads to the equation\n",
    "$$ W_cU = x_d, \\qquad \\text{with solution}$$\n",
    "\\begin{align}\n",
    "U &= \\begin{bmatrix}u(1)\\\\u(0)\\end{bmatrix} = W_c^{-1}x_d = \\begin{bmatrix} \\frac{h^2}{2} & \\frac{3h^2}{2}\\\\h & h\\end{bmatrix}^{-1} \\begin{bmatrix} a\\\\b \\end{bmatrix}\\\\\n",
    "&= \\frac{1}{-h^3} \\begin{bmatrix} h & -\\frac{3h^2}{2}\\\\-h & \\frac{h^2}{2} \\end{bmatrix} \\begin{bmatrix} a\\\\b \\end{bmatrix}\\\\\n",
    "&= \\begin{bmatrix} -\\frac{1}{h^2} & \\frac{3}{2h}\\\\\\frac{1}{h^2} & -\\frac{1}{2h} \\end{bmatrix} \\begin{bmatrix} a\\\\b \\end{bmatrix}\\\\\n",
    "&= \\begin{bmatrix} -\\frac{a}{h^2} + \\frac{3b}{2h}\\\\ \\frac{a}{h^2} - \\frac{b}{2h} \\end{bmatrix}.\n",
    "\\end{align}\n",
    "Thus the input sequence becomes $u(0) = \\frac{a}{h^2} - \\frac{b}{2h}$, $u(1) = \\frac{-a}{h^2} + \\frac{3b}{2h}$.\n",
    "### Verification with symbolic computation"
   ]
  },
  {
   "cell_type": "code",
   "execution_count": 5,
   "metadata": {},
   "outputs": [
    {
     "data": {
      "text/latex": [
       "$$\\left[\\begin{matrix}- \\frac{a}{h^{2}} + \\frac{3 b}{2 h}\\\\\\frac{a}{h^{2}} - \\frac{b}{2 h}\\end{matrix}\\right]$$"
      ],
      "text/plain": [
       "⎡  a    3⋅b⎤\n",
       "⎢- ── + ───⎥\n",
       "⎢   2   2⋅h⎥\n",
       "⎢  h       ⎥\n",
       "⎢          ⎥\n",
       "⎢ a     b  ⎥\n",
       "⎢ ── - ─── ⎥\n",
       "⎢  2   2⋅h ⎥\n",
       "⎣ h        ⎦"
      ]
     },
     "execution_count": 5,
     "metadata": {},
     "output_type": "execute_result"
    }
   ],
   "source": [
    "# Verify\n",
    "a,b = sy.symbols('a,b')\n",
    "U = Wc.inv()*sy.Matrix([[a],[b]])\n",
    "U"
   ]
  },
  {
   "cell_type": "code",
   "execution_count": 6,
   "metadata": {},
   "outputs": [
    {
     "data": {
      "text/latex": [
       "$$\\left[\\begin{matrix}a\\\\b\\end{matrix}\\right]$$"
      ],
      "text/plain": [
       "⎡a⎤\n",
       "⎢ ⎥\n",
       "⎣b⎦"
      ]
     },
     "execution_count": 6,
     "metadata": {},
     "output_type": "execute_result"
    }
   ],
   "source": [
    "# Simulate\n",
    "u0 = U[1,0]\n",
    "u1 = U[0,0]\n",
    "x0 = sy.Matrix([[0],[0]])\n",
    "x1 = Phi*x0 + Gamma*u0\n",
    "x2 = Phi*x1 + Gamma*u1\n",
    "sy.simplify(x2)"
   ]
  },
  {
   "cell_type": "markdown",
   "metadata": {},
   "source": [
    "## State feedback\n",
    "Introducing the state-feedback control law\n",
    "$$ u = -l_1x_1 - l_2 x_2 + l_0y_{ref} = -Lx + l_0y_{ref}$$\n",
    "gives the closed-loop state-space system\n",
    "\\begin{align}\n",
    "x(k+1) &= \\Phi x(k) +\\Gamma\\big(-Lx(k) + l_0y_{ref}(k)\\big) + \\Gamma v(k) = \\left( \\Phi - \\Gamma L \\right) x(k) + l_0\\Gamma y_{ref}(k) + \\Gamma v(k)\\\\\n",
    "y(k) &= C x(k)\n",
    "\\end{align}\n",
    "with characteristic polynomial given by\n",
    "\\begin{align}\n",
    "\\det \\left( zI - (\\Phi-\\Gamma L) \\right) &= \\det \\left( \\begin{bmatrix} z & 0\\\\0 & z \\end{bmatrix} - \\begin{bmatrix} 1 & h\\\\0 & 1 \\end{bmatrix} + \\begin{bmatrix} l_1\\frac{h^2}{2} & l_2\\frac{h^2}{2}\\\\ l_1h & l_2h \\end{bmatrix} \\right)\\\\\n",
    "&= \\det \\begin{bmatrix} z-1+l_1\\frac{h^2}{2} & -h+l_2\\frac{h^2}{2}\\\\l_1h & z-1+l_2h \n",
    "\\end{bmatrix}\\\\\n",
    "&= (z-1+l_1\\frac{h^2}{2})(z-1+l_2h) - l_1h(-h + l_2\\frac{h^2}{2})\\\\\n",
    "&= z^2 + (-1+l_2h-1+l_1\\frac{h^2}{2}) z + (1-l_2h - l_1\\frac{h^2}{2} + l_1l_2\\frac{h^3}{2} +l_1h^2 -l_1l_2\\frac{h^3}{2})\\\\\n",
    "&= z^2 + (l_1\\frac{h^2}{2}+l_2h-2) z + (1 +l_1\\frac{h^2}{2} -l_2h)\n",
    "\\end{align}\n",
    "### Verification by symbolic computation "
   ]
  },
  {
   "cell_type": "code",
   "execution_count": 7,
   "metadata": {},
   "outputs": [
    {
     "data": {
      "text/latex": [
       "$$\\frac{h^{2} l_{1}}{2} - h l_{2} + z^{2} + z \\left(\\frac{h^{2} l_{1}}{2} + h l_{2} - 2\\right) + 1$$"
      ],
      "text/plain": [
       " 2                    ⎛ 2              ⎞    \n",
       "h ⋅l₁           2     ⎜h ⋅l₁           ⎟    \n",
       "───── - h⋅l₂ + z  + z⋅⎜───── + h⋅l₂ - 2⎟ + 1\n",
       "  2                   ⎝  2             ⎠    "
      ]
     },
     "execution_count": 7,
     "metadata": {},
     "output_type": "execute_result"
    }
   ],
   "source": [
    "l1, l2 = sy.symbols('l1, l2', real=True)\n",
    "z = sy.symbols('z')\n",
    "L = sy.Matrix([[l1, l2]])\n",
    "ch_poly = sy.Poly((z*sy.eye(2) - (Phi - Gamma*L)).det(), z)\n",
    "ch_poly.as_expr()"
   ]
  },
  {
   "cell_type": "markdown",
   "metadata": {},
   "source": [
    "### Desired closed-loop characteristic polynomial\n",
    "Here we are interested in designing a deadbeat controller, so the desired closed-loop poles are\n",
    "$$ p_1 = 0, \\qquad p_2=0,$$\n",
    "and the desired characteristic polynomial is \n",
    "$$ A_c(z) = (z-p_1)(z-p_2) = z^2. $$\n",
    "In the same spirit as when designing an RST controller using the polynomial approach, we set the calculated characteristic polynomial - obtained when introducing the linear state feedback- equal to the desired characteristic polynomial.\n",
    "\\begin{align}\n",
    "z^1: \\qquad l_1\\frac{h^2}{2} + l_2h -2 &= 0\\\\\n",
    "z^0: \\qquad l_1\\frac{h^2}{2} - l_2h+1 &= 0\n",
    "\\end{align}\n",
    "which can be written as the system of equations\n",
    "$$ \\underbrace{\\begin{bmatrix} \\frac{h^2}{2} & h\\\\\\frac{h^2}{2} & -h \\end{bmatrix}}_{M} \\underbrace{\\begin{bmatrix} l_1\\\\l_2\\end{bmatrix}}_{L^T} = \\underbrace{\\begin{bmatrix}2\\\\-1\\end{bmatrix}}_{b} $$\n",
    "with solution given by \n"
   ]
  },
  {
   "cell_type": "markdown",
   "metadata": {},
   "source": [
    "$$L^T = M^{-1}b = \\frac{1}{-h^3} \\begin{bmatrix} -h & -h\\\\-\\frac{h^2}{2} & \\frac{h^2}{2} \\end{bmatrix} \\begin{bmatrix} 2\\\\-1 \\end{bmatrix}$$"
   ]
  },
  {
   "cell_type": "markdown",
   "metadata": {},
   "source": [
    "$$ = -\\frac{1}{h^3} \\begin{bmatrix} -2h+h\\\\-h^2-\\frac{h^2}{2}\\end{bmatrix} = \\begin{bmatrix} \\frac{1}{h^2}\\\\\\frac{3}{2h} \\end{bmatrix} $$\n",
    "### Verification by symbolic calculation"
   ]
  },
  {
   "cell_type": "code",
   "execution_count": 8,
   "metadata": {},
   "outputs": [
    {
     "data": {
      "text/latex": [
       "$$\\left \\{ l_{1} : \\frac{1}{h^{2}}, \\quad l_{2} : \\frac{3}{2 h}\\right \\}$$"
      ],
      "text/plain": [
       "⎧    1        3 ⎫\n",
       "⎪l₁: ──, l₂: ───⎪\n",
       "⎨     2      2⋅h⎬\n",
       "⎪    h          ⎪\n",
       "⎩               ⎭"
      ]
     },
     "execution_count": 8,
     "metadata": {},
     "output_type": "execute_result"
    }
   ],
   "source": [
    "des_ch_poly = sy.Poly(z*z, z)\n",
    "dioph_eqn = ch_poly - des_ch_poly\n",
    "sol = sy.solve(dioph_eqn.coeffs(), (l1,l2))\n",
    "sol"
   ]
  },
  {
   "cell_type": "markdown",
   "metadata": {},
   "source": [
    "In the system of equations $ML^T=b$ above, note that the matrix $M$ can be written\n",
    "$$ M = \\begin{bmatrix} \\frac{h^2}{2} & h\\\\\\frac{h^2}{2} & -h \\end{bmatrix} = \\begin{bmatrix}1 & 0\\\\-2 & 1\\end{bmatrix}\\underbrace{\\begin{bmatrix} \\frac{h^2}{2} & h \\\\ \\frac{3h^2}{2} & h\\end{bmatrix}}_{W_c^T}, $$\n",
    "so $M$ will be invertible if and only if $\\det W_c^T = \\det W_c \\neq 0$."
   ]
  },
  {
   "cell_type": "markdown",
   "metadata": {},
   "source": [
    "## The resulting closed-loop system\n",
    "So, we have found the control law \n",
    "$$ u(k) = -Lx(k) + l_0y_{ref}(k) = -\\begin{bmatrix} \\frac{1}{h^2} & \\frac{3}{2h} \\end{bmatrix}x(k) + l_0 y_{ref}(k)$$\n",
    "which gives a closed-loop system with poles in the origin, i.e. deadbeat control. The closed-loop system becomes\n",
    "\\begin{align*}\n",
    " x(k+1) &= \\big( \\Phi - \\Gamma L \\big) x(k) + \\Gamma l_0 y_{ref}(k) + \\Gamma v(k)\\\\\n",
    " &= \\left( \\begin{bmatrix} 1 & h\\\\0 & 1\\end{bmatrix} - \\begin{bmatrix} \\frac{h^2}{2}\\\\h\\end{bmatrix}\\begin{bmatrix} \\frac{1}{h^2} & \\frac{3}{2h} \\end{bmatrix}  \\right) x(k) + \\Gamma l_0 y_{ref}(k) + \\Gamma v(k)\\\\\n",
    " &= \\left( \\begin{bmatrix} 1 & h\\\\0 & 1\\end{bmatrix} - \\begin{bmatrix} \\frac{1}{2} & \\frac{3h}{4}\\\\ \\frac{1}{h} & \\frac{3}{2}\\end{bmatrix}\\right) x(k) + \\Gamma l_0 y_{ref}(k) + \\Gamma v(k)\\\\\n",
    " &= \\underbrace{\\begin{bmatrix} \\frac{1}{2} & \\frac{h}{4} \\\\-\\frac{1}{h} & -\\frac{1}{2}\\end{bmatrix}}_{\\Phi_c}x(k) + \\begin{bmatrix}\\frac{h^2}{2}\\\\h\\end{bmatrix} l_0 y_{ref}(k) + \\begin{bmatrix}\\frac{h^2}{2}\\\\h\\end{bmatrix}  v(k)\\\\\n",
    " y(k) &= \\begin{bmatrix} 1 & 0 \\end{bmatrix} x(k)\n",
    " \\end{align*}\n",
    " ### Verification using symbolic computations"
   ]
  },
  {
   "cell_type": "code",
   "execution_count": 9,
   "metadata": {},
   "outputs": [
    {
     "data": {
      "text/latex": [
       "$$\\left[\\begin{matrix}\\frac{1}{2} & \\frac{h}{4}\\\\- \\frac{1}{h} & - \\frac{1}{2}\\end{matrix}\\right]$$"
      ],
      "text/plain": [
       "⎡      h  ⎤\n",
       "⎢1/2   ─  ⎥\n",
       "⎢      4  ⎥\n",
       "⎢         ⎥\n",
       "⎢-1       ⎥\n",
       "⎢───  -1/2⎥\n",
       "⎣ h       ⎦"
      ]
     },
     "execution_count": 9,
     "metadata": {},
     "output_type": "execute_result"
    }
   ],
   "source": [
    "L = sy.Matrix([[sol[l1], sol[l2]]]) \n",
    "Phic = Phi - Gamma*L\n",
    "Phic"
   ]
  },
  {
   "cell_type": "markdown",
   "metadata": {},
   "source": [
    "## Determining the reference signal gain $l_0$\n",
    "Consider the steady-state solution for a unit step in the reference signal. We set $y_{ref}=1$ and $v = 0$. This gives\n",
    "$$ x(k+1) = \\Phi_c x(k) + \\Gamma l_0. $$\n",
    "In steady-state there is no change in the state, so $x(k+1)=x(k)=x_{ss}$, which leads to\n",
    "$$ x_{ss} = \\Phi_c x_{ss} + \\Gamma l_0$$\n",
    "$$ (I - \\Phi_c)x_{ss} = \\Gamma l_0$$\n",
    "\\begin{align}\n",
    "x_{ss} &= (I - \\Phi_c)^{-1}\\Gamma l_0\\\\\n",
    "&= \\begin{bmatrix} \\frac{1}{2} &-\\frac{h}{4}\\\\ \\frac{1}{h} & \\frac{3}{2} \\end{bmatrix}^{-1} \\begin{bmatrix} \\frac{h^2}{2}\\\\h \\end{bmatrix} l_0\\\\\n",
    "&= \\begin{bmatrix}\\frac{3}{2} & \\frac{h}{4}\\\\-\\frac{1}{h} & \\frac{1}{2} \\end{bmatrix} \\begin{bmatrix} \\frac{h^2}{2}\\\\h\\end{bmatrix} l_0\\\\\n",
    "&= \\begin{bmatrix}\\frac{3h^2}{4} + \\frac{h^2}{4}\\\\-\\frac{h}{2} + \\frac{h}{2} \\end{bmatrix}l_0= \\begin{bmatrix}h^2\\\\ 0 \\end{bmatrix}l_0\\\\\n",
    "\\end{align}\n",
    "which means that the steady-state velocity $\\dot{z}(\\infty) = x_2(\\infty) = 0$. This makes sense. \n",
    "\n",
    "We can now determine $l_0$. Since  $y(k)=x_1(k)$ then $y_{ss} = h^2 l_0$ for a unit step in the reference signal. We would like the steady-state value $y_{ss}$ to be the same as the reference signal (which is equal to one, of course) so this gives\n",
    "$$ h^2l_0 = 1 \\quad \\Rightarrow \\quad l_0 = \\frac{1}{h^2}. $$"
   ]
  },
  {
   "cell_type": "markdown",
   "metadata": {},
   "source": [
    "##  Simulate step responses (symbolically)\n",
    "### Step response from the reference"
   ]
  },
  {
   "cell_type": "code",
   "execution_count": 10,
   "metadata": {},
   "outputs": [
    {
     "data": {
      "text/latex": [
       "$$\\left [ \\left[\\begin{matrix}0\\\\0\\end{matrix}\\right], \\quad \\left[\\begin{matrix}\\frac{1}{2}\\\\\\frac{1}{h}\\end{matrix}\\right], \\quad \\left[\\begin{matrix}1\\\\0\\end{matrix}\\right], \\quad \\left[\\begin{matrix}1\\\\0\\end{matrix}\\right], \\quad \\left[\\begin{matrix}1\\\\0\\end{matrix}\\right], \\quad \\left[\\begin{matrix}1\\\\0\\end{matrix}\\right], \\quad \\left[\\begin{matrix}1\\\\0\\end{matrix}\\right]\\right ]$$"
      ],
      "text/plain": [
       "⎡⎡0⎤, ⎡1/2⎤, ⎡1⎤, ⎡1⎤, ⎡1⎤, ⎡1⎤, ⎡1⎤⎤\n",
       "⎢⎢ ⎥  ⎢   ⎥  ⎢ ⎥  ⎢ ⎥  ⎢ ⎥  ⎢ ⎥  ⎢ ⎥⎥\n",
       "⎢⎣0⎦  ⎢ 1 ⎥  ⎣0⎦  ⎣0⎦  ⎣0⎦  ⎣0⎦  ⎣0⎦⎥\n",
       "⎢     ⎢ ─ ⎥                         ⎥\n",
       "⎣     ⎣ h ⎦                         ⎦"
      ]
     },
     "execution_count": 10,
     "metadata": {},
     "output_type": "execute_result"
    }
   ],
   "source": [
    "l0 = 1/(h*h)\n",
    "C = sy.Matrix([[1,0]])\n",
    "x = sy.Matrix([[0],[0]]) # Initial state\n",
    "yref = sy.Matrix([[1]])\n",
    "xs = [x] # List to hold state trajectory\n",
    "us = [[0]] # and control signal \n",
    "ys = [[0]] # and system output \n",
    "for k in range(6): # No need to simulate too long. It is deadbeat control after all\n",
    "    us.append(-L*x + l0*yref)\n",
    "    x = Phic*x + Gamma*l0*yref\n",
    "    xs.append(x)\n",
    "    ys.append(C*x)\n",
    "xs"
   ]
  },
  {
   "cell_type": "code",
   "execution_count": 11,
   "metadata": {},
   "outputs": [
    {
     "data": {
      "text/latex": [
       "$$\\left [ \\left [ 0\\right ], \\quad \\left[\\begin{matrix}\\frac{1}{h^{2}}\\end{matrix}\\right], \\quad \\left[\\begin{matrix}- \\frac{1}{h^{2}}\\end{matrix}\\right], \\quad \\left[\\begin{matrix}0\\end{matrix}\\right], \\quad \\left[\\begin{matrix}0\\end{matrix}\\right], \\quad \\left[\\begin{matrix}0\\end{matrix}\\right], \\quad \\left[\\begin{matrix}0\\end{matrix}\\right]\\right ]$$"
      ],
      "text/plain": [
       "⎡     ⎡1 ⎤  ⎡-1 ⎤                    ⎤\n",
       "⎢[0], ⎢──⎥, ⎢───⎥, [0], [0], [0], [0]⎥\n",
       "⎢     ⎢ 2⎥  ⎢  2⎥                    ⎥\n",
       "⎣     ⎣h ⎦  ⎣ h ⎦                    ⎦"
      ]
     },
     "execution_count": 11,
     "metadata": {},
     "output_type": "execute_result"
    }
   ],
   "source": [
    "us"
   ]
  },
  {
   "cell_type": "markdown",
   "metadata": {},
   "source": [
    "### Step response from the disturbance "
   ]
  },
  {
   "cell_type": "code",
   "execution_count": 12,
   "metadata": {},
   "outputs": [
    {
     "data": {
      "text/latex": [
       "$$\\left [ \\left[\\begin{matrix}0\\\\0\\end{matrix}\\right], \\quad \\left[\\begin{matrix}\\frac{h^{2}}{2}\\\\h\\end{matrix}\\right], \\quad \\left[\\begin{matrix}h^{2}\\\\0\\end{matrix}\\right], \\quad \\left[\\begin{matrix}h^{2}\\\\0\\end{matrix}\\right], \\quad \\left[\\begin{matrix}h^{2}\\\\0\\end{matrix}\\right], \\quad \\left[\\begin{matrix}h^{2}\\\\0\\end{matrix}\\right], \\quad \\left[\\begin{matrix}h^{2}\\\\0\\end{matrix}\\right]\\right ]$$"
      ],
      "text/plain": [
       "⎡     ⎡ 2⎤                              ⎤\n",
       "⎢     ⎢h ⎥  ⎡ 2⎤  ⎡ 2⎤  ⎡ 2⎤  ⎡ 2⎤  ⎡ 2⎤⎥\n",
       "⎢⎡0⎤, ⎢──⎥, ⎢h ⎥, ⎢h ⎥, ⎢h ⎥, ⎢h ⎥, ⎢h ⎥⎥\n",
       "⎢⎢ ⎥  ⎢2 ⎥  ⎢  ⎥  ⎢  ⎥  ⎢  ⎥  ⎢  ⎥  ⎢  ⎥⎥\n",
       "⎢⎣0⎦  ⎢  ⎥  ⎣0 ⎦  ⎣0 ⎦  ⎣0 ⎦  ⎣0 ⎦  ⎣0 ⎦⎥\n",
       "⎣     ⎣h ⎦                              ⎦"
      ]
     },
     "execution_count": 12,
     "metadata": {},
     "output_type": "execute_result"
    }
   ],
   "source": [
    "x = sy.Matrix([[0],[0]]) # Initial state\n",
    "yref = sy.Matrix([[0]])\n",
    "v = sy.Matrix([[1]])\n",
    "xs = [x] # List to hold state trajectory\n",
    "us = [[0]] # and control signal \n",
    "ys = [[0]] # and system output \n",
    "for k in range(6): # No need to simulate too long. It is deadbeat control after all\n",
    "    us.append(-L*x + l0*yref)\n",
    "    x = Phic*x + Gamma*l0*yref + Gamma*v\n",
    "    xs.append(x)\n",
    "    ys.append(C*x)\n",
    "xs"
   ]
  },
  {
   "cell_type": "markdown",
   "metadata": {},
   "source": [
    "## Simulate step-responses (numerically)"
   ]
  },
  {
   "cell_type": "code",
   "execution_count": 13,
   "metadata": {},
   "outputs": [],
   "source": [
    "import control as ctrl\n",
    "import matplotlib.pyplot as plt\n",
    "# Convert to from sympy matrices to numpy\n",
    "hval = .1\n",
    "Phi_np = np.array(Phi.subs({h:hval})).astype(np.float64)\n",
    "Gamma_np = np.array(Gamma.subs({h:hval})).astype(np.float64)\n",
    "L_np = np.array(L.subs({h:hval})).astype(np.float64)\n",
    "l0_np = np.array(l0.subs({h:hval})).astype(np.float64)\n",
    "Phic_np = Phi_np - Gamma_np*L_np\n",
    "C_np = np.array(C).astype(np.float64)\n",
    "D_np = np.array([[0]])\n",
    "sys_c = ctrl.ss(Phic_np, Gamma_np*l0_np, C_np, D_np, hval) # From ref signal\n",
    "sys_cv = ctrl.ss(Phic_np, Gamma_np, C_np, D_np, hval) # From disturbance signal\n"
   ]
  },
  {
   "cell_type": "code",
   "execution_count": 23,
   "metadata": {},
   "outputs": [],
   "source": [
    "tvec = np.asarray(np.arange(8))*hval\n",
    "T, yout = ctrl.step_response(sys_c, tvec)\n",
    "T, yout_v = ctrl.step_response(sys_cv, tvec)"
   ]
  },
  {
   "cell_type": "code",
   "execution_count": 26,
   "metadata": {},
   "outputs": [
    {
     "data": {
      "text/plain": [
       "[<matplotlib.lines.Line2D at 0x7f1987aaa630>]"
      ]
     },
     "execution_count": 26,
     "metadata": {},
     "output_type": "execute_result"
    },
    {
     "data": {
      "image/png": "[encoded data removed]",
      "text/plain": [
       "<Figure size 1008x216 with 1 Axes>"
      ]
     },
     "metadata": {},
     "output_type": "display_data"
    }
   ],
   "source": [
    "plt.figure(figsize=(14,3))\n",
    "plt.step(tvec, yout.flatten())"
   ]
  },
  {
   "cell_type": "code",
   "execution_count": 27,
   "metadata": {},
   "outputs": [
    {
     "data": {
      "text/plain": [
       "[<matplotlib.lines.Line2D at 0x7f1987a65128>]"
      ]
     },
     "execution_count": 27,
     "metadata": {},
     "output_type": "execute_result"
    },
    {
     "data": {
      "image/png": "[encoded data removed]",
      "text/plain": [
       "<Figure size 1008x216 with 1 Axes>"
      ]
     },
     "metadata": {},
     "output_type": "display_data"
    }
   ],
   "source": [
    "plt.figure(figsize=(14,3))\n",
    "plt.step(tvec, yout_v.flatten())"
   ]
  },
  {
   "cell_type": "markdown",
   "metadata": {},
   "source": [
    "# Exercises"
   ]
  },
  {
   "cell_type": "markdown",
   "metadata": {},
   "source": [
    "## Design a less agressive controller\n",
    "Consider to let the closed-loop poles be less fast. Choose something reasonable, for instance a double pole in $z=0.5$, or a pair of complex-conjugated poles in $z=0.6 \\pm i0.3$. Redo the design, following the example above. Find the state feedback and simulate step-responses."
   ]
  },
  {
   "cell_type": "markdown",
   "metadata": {},
   "source": [
    "## Design a deadbeat controller for the DC-motor\n",
    "From the textbook (Åström & Wittenmark) Appendix:\n",
    "![title](dcmotor.png)\n",
    "1. Use symbolic calculations to find the discrete-time state-space model for arbitrary sampling period $h$. \n",
    "2. Design a deadbeat controller for arbitrary sampling period.\n",
    "3. Assume a disturbance is acting on the input to the system, as an unknown torque on the motor shaft. This means that the disturbance enters into the system in the same way as the disturbance on the mass on frictionless surface analyzed above. Simulate step-responses for the closed-loop system."
   ]
  },
  {
   "cell_type": "code",
   "execution_count": null,
   "metadata": {},
   "outputs": [],
   "source": []
  }
 ],
 "metadata": {
  "kernelspec": {
   "display_name": "Python 3",
   "language": "python",
   "name": "python3"
  },
  "language_info": {
   "codemirror_mode": {
    "name": "ipython",
    "version": 3
   },
   "file_extension": ".py",
   "mimetype": "text/x-python",
   "name": "python",
   "nbconvert_exporter": "python",
   "pygments_lexer": "ipython3",
   "version": "3.5.2"
  }
 },
 "nbformat": 4,
 "nbformat_minor": 2
}
