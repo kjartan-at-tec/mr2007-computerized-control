{
 "cells": [
  {
   "cell_type": "code",
   "execution_count": 1,
   "metadata": {
    "collapsed": true
   },
   "outputs": [],
   "source": [
    "import numpy as np\n",
    "import sympy as sy"
   ]
  },
  {
   "cell_type": "code",
   "execution_count": 3,
   "metadata": {
    "collapsed": true
   },
   "outputs": [],
   "source": [
    "s = sy.symbols('s', real=False)\n",
    "h = sy.symbols('h')"
   ]
  },
  {
   "cell_type": "code",
   "execution_count": 4,
   "metadata": {
    "collapsed": true
   },
   "outputs": [],
   "source": [
    "Ac = sy.Matrix([[-2, -0.02, 0],[1,0,0], [0,2,0]])\n",
    "Bc = sy.Matrix([[1],[0],[0]])\n",
    "Cc = sy.Matrix([[0,0,2]])"
   ]
  },
  {
   "cell_type": "code",
   "execution_count": 11,
   "metadata": {
    "collapsed": false
   },
   "outputs": [
    {
     "name": "stdout",
     "output_type": "stream",
     "text": [
      "1.0*s**2\n",
      "-0.02*s\n",
      "0\n",
      "s\n",
      "s*(s**3 + 4*s**2 + 4.02*s + 0.04)/(s**2 + 2*s + 0.02)\n",
      "0\n",
      "2.00000000000000\n",
      "(2*s**3 + 8*s**2 + 8.04*s + 0.08)/(s**2 + 2*s + 0.02)\n",
      "s**2 + 2*s + 0.02\n"
     ]
    }
   ],
   "source": [
    "sIminAc = s*sy.Matrix.eye(3) - Ac\n",
    "charactPoly = sIminAc.det()\n",
    "sIminAcinv = sIminAc.inv()\n",
    "AA = sIminAcinv * charactPoly\n",
    "for el in AA:\n",
    "    print sy.simplify(sy.expand(el))\n",
    "    "
   ]
  },
  {
   "cell_type": "code",
   "execution_count": 12,
   "metadata": {
    "collapsed": false
   },
   "outputs": [
    {
     "data": {
      "text/plain": [
       "s**3 + 2*s**2 + 0.02*s"
      ]
     },
     "execution_count": 12,
     "metadata": {},
     "output_type": "execute_result"
    }
   ],
   "source": [
    "charactPoly"
   ]
  },
  {
   "cell_type": "code",
   "execution_count": 13,
   "metadata": {
    "collapsed": false
   },
   "outputs": [
    {
     "data": {
      "text/plain": [
       "46.2150617283951/(1.0*q - 0.82) - 45.8950617283951/(q - 1) + 10.1111111111111/(q - 1)**2"
      ]
     },
     "execution_count": 13,
     "metadata": {},
     "output_type": "execute_result"
    }
   ],
   "source": [
    "q = sy.symbols('q')\n",
    "Hq = (0.32*q**2 + 1.21*q+0.29)/(q**3 -2.82*q**2 + 2.64*q-0.82 )\n",
    "sy.apart(Hq)"
   ]
  },
  {
   "cell_type": "code",
   "execution_count": 14,
   "metadata": {
    "collapsed": false
   },
   "outputs": [
    {
     "data": {
      "text/plain": [
       "(-45.8950617283951*q + 56.0061728395062)/(q - 1)**2"
      ]
     },
     "execution_count": 14,
     "metadata": {},
     "output_type": "execute_result"
    }
   ],
   "source": [
    "sy.together(- 45.8950617283951/(q - 1) + 10.1111111111111/(q - 1)**2)"
   ]
  },
  {
   "cell_type": "code",
   "execution_count": null,
   "metadata": {
    "collapsed": true
   },
   "outputs": [],
   "source": []
  }
 ],
 "metadata": {
  "kernelspec": {
   "display_name": "Python 2",
   "language": "python",
   "name": "python2"
  },
  "language_info": {
   "codemirror_mode": {
    "name": "ipython",
    "version": 2
   },
   "file_extension": ".py",
   "mimetype": "text/x-python",
   "name": "python",
   "nbconvert_exporter": "python",
   "pygments_lexer": "ipython2",
   "version": "2.7.6"
  }
 },
 "nbformat": 4,
 "nbformat_minor": 0
}
