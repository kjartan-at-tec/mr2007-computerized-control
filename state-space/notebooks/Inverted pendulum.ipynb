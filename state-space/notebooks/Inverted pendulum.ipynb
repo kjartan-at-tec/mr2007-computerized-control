{
 "cells": [
  {
   "cell_type": "code",
   "execution_count": 3,
   "metadata": {},
   "outputs": [],
   "source": [
    "import sympy as sy\n",
    "sy.init_printing()"
   ]
  },
  {
   "cell_type": "code",
   "execution_count": 4,
   "metadata": {},
   "outputs": [],
   "source": [
    "M, m, g, l, u, w, z, theta, thetadot = sy.symbols('M,m,g,l,u,w,z,theta, thetadot')"
   ]
  },
  {
   "cell_type": "code",
   "execution_count": 5,
   "metadata": {},
   "outputs": [
    {
     "data": {
      "image/png": "[encoded data removed]",
      "text/latex": [
       "$$\\left[\\begin{matrix}M + m & - l m \\cos{\\left (\\theta \\right )}\\\\- l m \\cos{\\left (\\theta \\right )} & l^{2} m\\end{matrix}\\right]$$"
      ],
      "text/plain": [
       "⎡   M + m     -l⋅m⋅cos(θ)⎤\n",
       "⎢                        ⎥\n",
       "⎢                 2      ⎥\n",
       "⎣-l⋅m⋅cos(θ)     l ⋅m    ⎦"
      ]
     },
     "execution_count": 5,
     "metadata": {},
     "output_type": "execute_result"
    }
   ],
   "source": [
    "Mm = sy.Matrix([[M+m, -m*l*sy.cos(theta)], [-m*l*sy.cos(theta), m*l**2]])\n",
    "Mm"
   ]
  },
  {
   "cell_type": "code",
   "execution_count": 6,
   "metadata": {},
   "outputs": [
    {
     "data": {
      "image/png": "[encoded data removed]",
      "text/latex": [
       "$$\\left[\\begin{matrix}l m \\dot{\\theta}^{2} \\sin{\\left (\\theta \\right )}\\\\g l m \\sin{\\left (\\theta \\right )}\\end{matrix}\\right]$$"
      ],
      "text/plain": [
       "⎡      2       ⎤\n",
       "⎢l⋅m⋅θ̇ ⋅sin(θ)⎥\n",
       "⎢              ⎥\n",
       "⎣ g⋅l⋅m⋅sin(θ) ⎦"
      ]
     },
     "execution_count": 6,
     "metadata": {},
     "output_type": "execute_result"
    }
   ],
   "source": [
    "G = sy.Matrix([[m*l*sy.sin(theta)*thetadot**2],[m*g*l*sy.sin(theta)]])\n",
    "G"
   ]
  },
  {
   "cell_type": "code",
   "execution_count": 7,
   "metadata": {},
   "outputs": [
    {
     "data": {
      "image/png": "[encoded data removed]",
      "text/latex": [
       "$$\\left[\\begin{matrix}u + w\\\\l w\\end{matrix}\\right]$$"
      ],
      "text/plain": [
       "⎡u + w⎤\n",
       "⎢     ⎥\n",
       "⎣ l⋅w ⎦"
      ]
     },
     "execution_count": 7,
     "metadata": {},
     "output_type": "execute_result"
    }
   ],
   "source": [
    "F = sy.Matrix([[u+w],[l*w]])\n",
    "F"
   ]
  },
  {
   "cell_type": "code",
   "execution_count": 8,
   "metadata": {},
   "outputs": [
    {
     "data": {
      "image/png": "[encoded data removed]",
      "text/latex": [
       "$$\\left[\\begin{matrix}- \\frac{1}{2 M + 2 m \\sin^{2}{\\left (\\theta \\right )}} \\left(g m \\sin{\\left (2 \\theta \\right )} + 2 l m \\dot{\\theta}^{2} \\sin{\\left (\\theta \\right )} - 2 u\\right)\\\\- \\frac{1}{l \\left(M + m \\sin^{2}{\\left (\\theta \\right )}\\right)} \\left(g \\left(M + m\\right) \\sin{\\left (\\theta \\right )} + \\left(l m \\dot{\\theta}^{2} \\sin{\\left (\\theta \\right )} - u\\right) \\cos{\\left (\\theta \\right )}\\right)\\end{matrix}\\right]$$"
      ],
      "text/plain": [
       "⎡     ⎛                       2             ⎞      ⎤\n",
       "⎢    -⎝g⋅m⋅sin(2⋅θ) + 2⋅l⋅m⋅θ̇ ⋅sin(θ) - 2⋅u⎠      ⎥\n",
       "⎢    ─────────────────────────────────────────     ⎥\n",
       "⎢                             2                    ⎥\n",
       "⎢                2⋅M + 2⋅m⋅sin (θ)                 ⎥\n",
       "⎢                                                  ⎥\n",
       "⎢ ⎛                   ⎛      2           ⎞       ⎞ ⎥\n",
       "⎢-⎝g⋅(M + m)⋅sin(θ) + ⎝l⋅m⋅θ̇ ⋅sin(θ) - u⎠⋅cos(θ)⎠ ⎥\n",
       "⎢──────────────────────────────────────────────────⎥\n",
       "⎢                  ⎛         2   ⎞                 ⎥\n",
       "⎣                l⋅⎝M + m⋅sin (θ)⎠                 ⎦"
      ]
     },
     "execution_count": 8,
     "metadata": {},
     "output_type": "execute_result"
    }
   ],
   "source": [
    "acc = Mm.inv()*(F-G)\n",
    "sy.simplify(acc.subs({w:0}))"
   ]
  },
  {
   "cell_type": "code",
   "execution_count": 9,
   "metadata": {},
   "outputs": [
    {
     "data": {
      "image/png": "[encoded data removed]",
      "text/latex": [
       "$$- \\sin{\\left (\\theta \\right )}$$"
      ],
      "text/plain": [
       "-sin(θ)"
      ]
     },
     "execution_count": 9,
     "metadata": {},
     "output_type": "execute_result"
    }
   ],
   "source": [
    "sy.simplify(sy.sin(theta+sy.pi))"
   ]
  },
  {
   "cell_type": "code",
   "execution_count": 10,
   "metadata": {},
   "outputs": [
    {
     "data": {
      "image/png": "[encoded data removed]",
      "text/latex": [
       "$$- \\cos{\\left (\\theta \\right )}$$"
      ],
      "text/plain": [
       "-cos(θ)"
      ]
     },
     "execution_count": 10,
     "metadata": {},
     "output_type": "execute_result"
    }
   ],
   "source": [
    "sy.simplify(sy.cos(theta+sy.pi))"
   ]
  },
  {
   "cell_type": "code",
   "execution_count": 11,
   "metadata": {},
   "outputs": [
    {
     "data": {
      "image/png": "[encoded data removed]",
      "text/latex": [
       "$$\\cos{\\left (\\theta \\right )}$$"
      ],
      "text/plain": [
       "cos(θ)"
      ]
     },
     "execution_count": 11,
     "metadata": {},
     "output_type": "execute_result"
    }
   ],
   "source": [
    "sy.simplify(sy.cos(-theta))"
   ]
  },
  {
   "cell_type": "code",
   "execution_count": 12,
   "metadata": {},
   "outputs": [],
   "source": [
    "theta2 = -theta+sy.pi"
   ]
  },
  {
   "cell_type": "code",
   "execution_count": 13,
   "metadata": {},
   "outputs": [
    {
     "data": {
      "image/png": "[encoded data removed]",
      "text/latex": [
       "$$- \\cos{\\left (\\theta \\right )}$$"
      ],
      "text/plain": [
       "-cos(θ)"
      ]
     },
     "execution_count": 13,
     "metadata": {},
     "output_type": "execute_result"
    }
   ],
   "source": [
    "sy.simplify(sy.cos(theta2))"
   ]
  },
  {
   "cell_type": "markdown",
   "metadata": {},
   "source": [
    "## With Lagrangian mechanics"
   ]
  },
  {
   "cell_type": "code",
   "execution_count": 14,
   "metadata": {},
   "outputs": [
    {
     "data": {
      "image/png": "[encoded data removed]",
      "text/latex": [
       "$$0.5 M \\left(\\frac{d}{d t} \\operatorname{q_{1}}{\\left (t \\right )}\\right)^{2} + 0.5 l^{2} m \\left(\\frac{d}{d t} \\operatorname{q_{2}}{\\left (t \\right )}\\right)^{2} - 1.0 l m \\cos{\\left (\\operatorname{q_{2}}{\\left (t \\right )} \\right )} \\frac{d}{d t} \\operatorname{q_{1}}{\\left (t \\right )} \\frac{d}{d t} \\operatorname{q_{2}}{\\left (t \\right )} + 0.5 m \\left(\\frac{d}{d t} \\operatorname{q_{1}}{\\left (t \\right )}\\right)^{2}$$"
      ],
      "text/plain": [
       "                 2                       2                                    \n",
       "      ⎛d        ⎞         2   ⎛d        ⎞                          d         d\n",
       "0.5⋅M⋅⎜──(q₁(t))⎟  + 0.5⋅l ⋅m⋅⎜──(q₂(t))⎟  - - -1.0⋅l⋅m⋅cos(q₂(t))⋅──(q₁(t))⋅─\n",
       "      ⎝dt       ⎠             ⎝dt       ⎠                          dt        d\n",
       "\n",
       "                            2\n",
       "                 ⎛d        ⎞ \n",
       "─(q₂(t)) + 0.5⋅m⋅⎜──(q₁(t))⎟ \n",
       "t                ⎝dt       ⎠ "
      ]
     },
     "execution_count": 14,
     "metadata": {},
     "output_type": "execute_result"
    }
   ],
   "source": [
    "from sympy.physics.mechanics import *\n",
    "q1,q2 = dynamicsymbols('q1,q2')  # q1=z, q2=theta\n",
    "q1d,q2d = dynamicsymbols('q1,q2',1)\n",
    "\n",
    "zpdot = q1d -l*sy.cos(q2)*q2d\n",
    "ypdot = l*sy.sin(q2)*q2d\n",
    "\n",
    "T = 0.5*M*q1d**2 + 0.5*m*(zpdot**2 + ypdot**2)\n",
    "sy.simplify(sy.expand(T))"
   ]
  },
  {
   "cell_type": "code",
   "execution_count": 15,
   "metadata": {},
   "outputs": [
    {
     "data": {
      "image/png": "[encoded data removed]",
      "text/latex": [
       "$$0.5 M \\left(\\frac{d}{d t} \\operatorname{q_{1}}{\\left (t \\right )}\\right)^{2} + g l m \\cos{\\left (\\operatorname{q_{2}}{\\left (t \\right )} \\right )} + 0.5 m \\left(l^{2} \\sin^{2}{\\left (\\operatorname{q_{2}}{\\left (t \\right )} \\right )} \\left(\\frac{d}{d t} \\operatorname{q_{2}}{\\left (t \\right )}\\right)^{2} + \\left(- l \\cos{\\left (\\operatorname{q_{2}}{\\left (t \\right )} \\right )} \\frac{d}{d t} \\operatorname{q_{2}}{\\left (t \\right )} + \\frac{d}{d t} \\operatorname{q_{1}}{\\left (t \\right )}\\right)^{2}\\right)$$"
      ],
      "text/plain": [
       "                 2                            ⎛                          2    \n",
       "      ⎛d        ⎞                             ⎜ 2    2        ⎛d        ⎞    ⎛\n",
       "0.5⋅M⋅⎜──(q₁(t))⎟  + g⋅l⋅m⋅cos(q₂(t)) + 0.5⋅m⋅⎜l ⋅sin (q₂(t))⋅⎜──(q₂(t))⎟  + ⎜\n",
       "      ⎝dt       ⎠                             ⎝               ⎝dt       ⎠    ⎝\n",
       "\n",
       "                                     2⎞\n",
       "               d           d        ⎞ ⎟\n",
       "- l⋅cos(q₂(t))⋅──(q₂(t)) + ──(q₁(t))⎟ ⎟\n",
       "               dt          dt       ⎠ ⎠"
      ]
     },
     "execution_count": 15,
     "metadata": {},
     "output_type": "execute_result"
    }
   ],
   "source": [
    "yp = -l*sy.cos(q2)\n",
    "U = m*g*yp\n",
    "L = T-U\n",
    "L"
   ]
  },
  {
   "cell_type": "code",
   "execution_count": 16,
   "metadata": {},
   "outputs": [],
   "source": [
    "LM=LagrangesMethod(L, [q1,q2])"
   ]
  },
  {
   "cell_type": "code",
   "execution_count": 17,
   "metadata": {},
   "outputs": [
    {
     "data": {
      "image/png": "[encoded data removed]",
      "text/latex": [
       "$$\\left[\\begin{matrix}1.0 M \\frac{d^{2}}{d t^{2}}  \\operatorname{q_{1}}{\\left (t \\right )} + m \\left(l \\sin{\\left (\\operatorname{q_{2}}{\\left (t \\right )} \\right )} \\left(\\frac{d}{d t} \\operatorname{q_{2}}{\\left (t \\right )}\\right)^{2} - l \\cos{\\left (\\operatorname{q_{2}}{\\left (t \\right )} \\right )} \\frac{d^{2}}{d t^{2}}  \\operatorname{q_{2}}{\\left (t \\right )} + \\frac{d^{2}}{d t^{2}}  \\operatorname{q_{1}}{\\left (t \\right )}\\right)\\\\l m \\left(g \\sin{\\left (\\operatorname{q_{2}}{\\left (t \\right )} \\right )} + l \\frac{d^{2}}{d t^{2}}  \\operatorname{q_{2}}{\\left (t \\right )} - \\cos{\\left (\\operatorname{q_{2}}{\\left (t \\right )} \\right )} \\frac{d^{2}}{d t^{2}}  \\operatorname{q_{1}}{\\left (t \\right )}\\right)\\end{matrix}\\right]$$"
      ],
      "text/plain": [
       "⎡        2            ⎛                        2                  2           \n",
       "⎢       d             ⎜             ⎛d        ⎞                  d            \n",
       "⎢1.0⋅M⋅───(q₁(t)) + m⋅⎜l⋅sin(q₂(t))⋅⎜──(q₂(t))⎟  - l⋅cos(q₂(t))⋅───(q₂(t)) + ─\n",
       "⎢        2            ⎜             ⎝dt       ⎠                   2           \n",
       "⎢      dt             ⎝                                         dt           d\n",
       "⎢                                                                             \n",
       "⎢                   ⎛                   2                       2       ⎞     \n",
       "⎢                   ⎜                  d                       d        ⎟     \n",
       "⎢               l⋅m⋅⎜g⋅sin(q₂(t)) + l⋅───(q₂(t)) - cos(q₂(t))⋅───(q₁(t))⎟     \n",
       "⎢                   ⎜                   2                       2       ⎟     \n",
       "⎣                   ⎝                 dt                      dt        ⎠     \n",
       "\n",
       " 2       ⎞⎤\n",
       "d        ⎟⎥\n",
       "──(q₁(t))⎟⎥\n",
       " 2       ⎟⎥\n",
       "t        ⎠⎥\n",
       "          ⎥\n",
       "          ⎥\n",
       "          ⎥\n",
       "          ⎥\n",
       "          ⎥\n",
       "          ⎦"
      ]
     },
     "execution_count": 17,
     "metadata": {},
     "output_type": "execute_result"
    }
   ],
   "source": [
    "sy.simplify(LM.form_lagranges_equations())"
   ]
  },
  {
   "cell_type": "code",
   "execution_count": 18,
   "metadata": {},
   "outputs": [
    {
     "data": {
      "image/png": "[encoded data removed]",
      "text/latex": [
       "$$\\left[\\begin{matrix}1.0 M + 1.0 m & - 1.0 l m \\cos{\\left (\\operatorname{q_{2}}{\\left (t \\right )} \\right )}\\\\- 1.0 l m \\cos{\\left (\\operatorname{q_{2}}{\\left (t \\right )} \\right )} & 1.0 l^{2} m\\end{matrix}\\right]$$"
      ],
      "text/plain": [
       "⎡   1.0⋅M + 1.0⋅m     -1.0⋅l⋅m⋅cos(q₂(t))⎤\n",
       "⎢                                        ⎥\n",
       "⎢                               2        ⎥\n",
       "⎣-1.0⋅l⋅m⋅cos(q₂(t))       1.0⋅l ⋅m      ⎦"
      ]
     },
     "execution_count": 18,
     "metadata": {},
     "output_type": "execute_result"
    }
   ],
   "source": [
    "sy.simplify(LM.mass_matrix)"
   ]
  },
  {
   "cell_type": "code",
   "execution_count": 19,
   "metadata": {},
   "outputs": [
    {
     "data": {
      "image/png": "[encoded data removed]",
      "text/latex": [
       "$$\\left[\\begin{matrix}- 1.0 l m \\sin{\\left (\\operatorname{q_{2}}{\\left (t \\right )} \\right )} \\left(\\frac{d}{d t} \\operatorname{q_{2}}{\\left (t \\right )}\\right)^{2}\\\\- g l m \\sin{\\left (\\operatorname{q_{2}}{\\left (t \\right )} \\right )}\\end{matrix}\\right]$$"
      ],
      "text/plain": [
       "⎡                               2⎤\n",
       "⎢                    ⎛d        ⎞ ⎥\n",
       "⎢-1.0⋅l⋅m⋅sin(q₂(t))⋅⎜──(q₂(t))⎟ ⎥\n",
       "⎢                    ⎝dt       ⎠ ⎥\n",
       "⎢                                ⎥\n",
       "⎣       -g⋅l⋅m⋅sin(q₂(t))        ⎦"
      ]
     },
     "execution_count": 19,
     "metadata": {},
     "output_type": "execute_result"
    }
   ],
   "source": [
    "sy.simplify(LM.forcing)"
   ]
  },
  {
   "cell_type": "code",
   "execution_count": 20,
   "metadata": {},
   "outputs": [
    {
     "data": {
      "image/png": "[encoded data removed]",
      "text/latex": [
       "$$\\left[\\begin{matrix}- \\frac{1.0 m \\sin{\\left (\\operatorname{q_{2}}{\\left (t \\right )} \\right )}}{M + m \\sin^{2}{\\left (\\operatorname{q_{2}}{\\left (t \\right )} \\right )}} \\left(g \\cos{\\left (\\operatorname{q_{2}}{\\left (t \\right )} \\right )} + l \\left(\\frac{d}{d t} \\operatorname{q_{2}}{\\left (t \\right )}\\right)^{2}\\right)\\\\- \\frac{1.0 \\sin{\\left (\\operatorname{q_{2}}{\\left (t \\right )} \\right )}}{l \\left(M + m \\sin^{2}{\\left (\\operatorname{q_{2}}{\\left (t \\right )} \\right )}\\right)} \\left(g \\left(M + m\\right) + l m \\cos{\\left (\\operatorname{q_{2}}{\\left (t \\right )} \\right )} \\left(\\frac{d}{d t} \\operatorname{q_{2}}{\\left (t \\right )}\\right)^{2}\\right)\\end{matrix}\\right]$$"
      ],
      "text/plain": [
       "⎡           ⎛                            2⎞                ⎤\n",
       "⎢           ⎜                 ⎛d        ⎞ ⎟                ⎥\n",
       "⎢    -1.0⋅m⋅⎜g⋅cos(q₂(t)) + l⋅⎜──(q₂(t))⎟ ⎟⋅sin(q₂(t))     ⎥\n",
       "⎢           ⎝                 ⎝dt       ⎠ ⎠                ⎥\n",
       "⎢    ──────────────────────────────────────────────────    ⎥\n",
       "⎢                             2                            ⎥\n",
       "⎢                    M + m⋅sin (q₂(t))                     ⎥\n",
       "⎢                                                          ⎥\n",
       "⎢     ⎛                                      2⎞            ⎥\n",
       "⎢     ⎜                           ⎛d        ⎞ ⎟            ⎥\n",
       "⎢-1.0⋅⎜g⋅(M + m) + l⋅m⋅cos(q₂(t))⋅⎜──(q₂(t))⎟ ⎟⋅sin(q₂(t)) ⎥\n",
       "⎢     ⎝                           ⎝dt       ⎠ ⎠            ⎥\n",
       "⎢──────────────────────────────────────────────────────────⎥\n",
       "⎢                    ⎛         2       ⎞                   ⎥\n",
       "⎣                  l⋅⎝M + m⋅sin (q₂(t))⎠                   ⎦"
      ]
     },
     "execution_count": 20,
     "metadata": {},
     "output_type": "execute_result"
    }
   ],
   "source": [
    "sy.simplify(LM.mass_matrix.inv()*LM.forcing)\n"
   ]
  },
  {
   "cell_type": "code",
   "execution_count": null,
   "metadata": {},
   "outputs": [],
   "source": []
  }
 ],
 "metadata": {
  "kernelspec": {
   "display_name": "Python 3",
   "language": "python",
   "name": "python3"
  },
  "language_info": {
   "codemirror_mode": {
    "name": "ipython",
    "version": 3
   },
   "file_extension": ".py",
   "mimetype": "text/x-python",
   "name": "python",
   "nbconvert_exporter": "python",
   "pygments_lexer": "ipython3",
   "version": "3.5.2"
  }
 },
 "nbformat": 4,
 "nbformat_minor": 2
}
