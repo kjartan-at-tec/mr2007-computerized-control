{
 "cells": [
  {
   "cell_type": "markdown",
   "metadata": {
    "slideshow": {
     "slide_type": "slide"
    }
   },
   "source": [
    "# Output feedback control for the harmonic oscillator\n",
    "The harmonic oscillator is a useful model for systems that have a dominating resonance frequency with no, or very little damping. An example of such systems is the sideway movement of a container hanging from a gantry crane moving containers on and off ships.\n",
    "![title](gantry-crane.png)\n",
    "<font size=\"2\">by Tosaka, from Wikimedia.org</font>"
   ]
  },
  {
   "cell_type": "markdown",
   "metadata": {
    "slideshow": {
     "slide_type": "slide"
    }
   },
   "source": [
    "Consider a container of mass $m=10^4$ kg, hanging from a wire of length $l=40$ m. We can control the system by applying an acceleration $u$ of the cart on top of the crane. The ODE describing the dynamics of the container is obtained by considering a reference frame fixed in the cart \n",
    "$$ ml^2 \\ddot{\\theta} = -lmg\\sin\\theta + lm\\cos\\theta u + l\\cos\\theta w,$$\n",
    "where $\\theta$ is the angle of the wires to the vertical, and $w$ is a disturbance force from wind blowing on the container. The small-angle approximation $\\sin\\theta \\approx \\theta$ works well in this case, giving the model\n",
    "$$\\ddot{\\theta} = -\\frac{g}{l}\\theta + \\frac{1}{l}u + \\frac{1}{lm}w.$$\n",
    "Write $y=\\theta$ and the model in the s-domain becomes\n",
    "$$ Y(s) = \\frac{1}{s^2 + \\omega_0^2}\\Big(bU(s) + kW(s)\\big),$$\n",
    "where $\\omega_0^2 = \\frac{g}{l}= \\frac{9.8}{40} \\approx 0.25$ and $b=1/l= 0.025$ and $k=1/(lm) = 2.5\\times 10^{-5}$ "
   ]
  },
  {
   "cell_type": "markdown",
   "metadata": {
    "slideshow": {
     "slide_type": "slide"
    }
   },
   "source": [
    "## Discrete-time state-space model\n",
    "Zero-order-hold sampling of the continuous-time harmonic oscillator gives the pulse-transfer function\n",
    "$$ H(z) = \\frac{(1-\\beta)(z+1)b}{z^2 - 2\\beta z + 1}, \\quad \\beta=\\cos(\\omega_0 h)$$\n",
    "The system can be written on state-space form (observable canonical form) as\n",
    "\\begin{align}\n",
    "x(k+1) &= \\begin{bmatrix} 2\\beta & 1\\\\-1 & 0\\end{bmatrix}x(k) = \\begin{bmatrix} 1-\\beta\\\\1-\\beta\\end{bmatrix}b u(k) \\\\\n",
    "y(k) &= \\begin{bmatrix}1 & 0\\end{bmatrix} x(k)\n",
    "\\end{align}\n",
    "where\n",
    "### Verification by symbolic computation"
   ]
  },
  {
   "cell_type": "code",
   "execution_count": 3,
   "metadata": {
    "slideshow": {
     "slide_type": "subslide"
    }
   },
   "outputs": [
    {
     "data": {
      "text/latex": [
       "$$\\left[\\begin{matrix}\\frac{- z \\cos{\\left (h \\omega_{0} \\right )} + z - \\cos{\\left (h \\omega_{0} \\right )} + 1}{z^{2} - 2 z \\cos{\\left (h \\omega_{0} \\right )} + 1}\\end{matrix}\\right]$$"
      ],
      "text/plain": [
       "⎡-z⋅cos(h⋅ω₀) + z - cos(h⋅ω₀) + 1⎤\n",
       "⎢────────────────────────────────⎥\n",
       "⎢      2                         ⎥\n",
       "⎣     z  - 2⋅z⋅cos(h⋅ω₀) + 1     ⎦"
      ]
     },
     "execution_count": 3,
     "metadata": {},
     "output_type": "execute_result"
    }
   ],
   "source": [
    "import numpy as np\n",
    "import sympy as sy\n",
    "sy.init_printing(use_latex='mathjax', order='lex')\n",
    "\n",
    "h,omega0 = sy.symbols('h,omega0', real=True, positive=True)\n",
    "z = sy.symbols('z')\n",
    "beta = sy.cos(omega0*h)\n",
    "Phi = sy.Matrix([[2*beta, 1],[-1, 0]])\n",
    "Gamma = sy.Matrix([[1-beta],[1-beta]])\n",
    "C = sy.Matrix([[1, 0]])\n",
    "H = sy.simplify(C*(z*sy.eye(2)-Phi).inv()*Gamma)\n",
    "H"
   ]
  },
  {
   "cell_type": "markdown",
   "metadata": {
    "slideshow": {
     "slide_type": "slide"
    }
   },
   "source": [
    "### Choosing the sampling ratio $h$\n",
    "We may use the rule-of-thumb $\\omega_0 h \\approx 0.2\\, \\text{to} \\, 0.6$ for choosing the sampling period. For our specific case we have $\\omega_0^2 = 0.25$. Let's choose $\\omega_0 h = \\pi/6 \\approx 0.53$, so that $\\cos(h\\omega_0) = \\frac{\\sqrt{3}}{2} \\approx 0.866$ This gives the discrete-time system (ignoring the disturbance for now)\n",
    "\\begin{align}\n",
    "    x(k+1) &= \\begin{bmatrix} \\sqrt{3} & 1 \\\\ -1 & 0 \\end{bmatrix}x(k) + \\begin{bmatrix} 1-\\frac{\\sqrt{3}}{2}\\\\1-\\frac{\\sqrt{3}}{2}\\end{bmatrix}bu(k)\\\\\n",
    "    y(k) &= \\begin{bmatrix} 1 & 0\\end{bmatrix} x\n",
    " \\end{align}"
   ]
  },
  {
   "cell_type": "code",
   "execution_count": 5,
   "metadata": {
    "slideshow": {
     "slide_type": "subslide"
    }
   },
   "outputs": [
    {
     "data": {
      "text/plain": [
       "array([[ 1.73205081,  1.        ],\n",
       "       [-1.        ,  0.        ]])"
      ]
     },
     "execution_count": 5,
     "metadata": {},
     "output_type": "execute_result"
    }
   ],
   "source": [
    "omegaval = 0.5\n",
    "hval = np.pi/6/omegaval\n",
    "Phi_np = np.array(Phi.subs({h:hval, omega0:omegaval})).astype(np.float64)\n",
    "Phi_np"
   ]
  },
  {
   "cell_type": "code",
   "execution_count": 7,
   "metadata": {
    "slideshow": {
     "slide_type": "subslide"
    }
   },
   "outputs": [
    {
     "data": {
      "text/plain": [
       "array([[0.1339746],\n",
       "       [0.1339746]])"
      ]
     },
     "execution_count": 7,
     "metadata": {},
     "output_type": "execute_result"
    }
   ],
   "source": [
    "Gamma_np = np.array(Gamma.subs({h:hval, omega0:omegaval})).astype(np.float64)\n",
    "Gamma_np"
   ]
  },
  {
   "cell_type": "markdown",
   "metadata": {
    "slideshow": {
     "slide_type": "slide"
    }
   },
   "source": [
    "## Obervability \n",
    "The observability matrix for this second order system becomes\n",
    "$$ W_o = \\begin{bmatrix} C\\\\C\\Phi\\end{bmatrix} = \\begin{bmatrix} 1 & 0\\\\ \\sqrt{3} & 1\\end{bmatrix}, $$\n",
    "with determinant\n",
    "$$\\det W_0 =  1-0 = 1 \\neq 0.$$"
   ]
  },
  {
   "cell_type": "code",
   "execution_count": 8,
   "metadata": {
    "slideshow": {
     "slide_type": "subslide"
    }
   },
   "outputs": [
    {
     "data": {
      "text/plain": [
       "array([[1.        , 0.        ],\n",
       "       [1.73205081, 1.        ]])"
      ]
     },
     "execution_count": 8,
     "metadata": {},
     "output_type": "execute_result"
    }
   ],
   "source": [
    "C_n = np.array(C).astype(np.float64)\n",
    "Wo_n = np.vstack((C_n, np.dot(C_n,Phi_np)))\n",
    "Wo_n"
   ]
  },
  {
   "cell_type": "code",
   "execution_count": 9,
   "metadata": {
    "slideshow": {
     "slide_type": "subslide"
    }
   },
   "outputs": [
    {
     "data": {
      "text/latex": [
       "$$1.0$$"
      ],
      "text/plain": [
       "1.0"
      ]
     },
     "execution_count": 9,
     "metadata": {},
     "output_type": "execute_result"
    }
   ],
   "source": [
    "np.linalg.det(Wo_n)"
   ]
  },
  {
   "cell_type": "markdown",
   "metadata": {
    "slideshow": {
     "slide_type": "slide"
    }
   },
   "source": [
    "## Observer design\n",
    "The observer is given by\n",
    "\\begin{align}\n",
    "\\hat{x}(k+1) &= \\Phi \\hat{x}(k) +\\Gamma u(k) + K\\big(y(k) - C\\hat{x}(k)\\big)\\\\\n",
    "&= \\big(\\Phi - KC\\big)\\hat{x}(k) + \\Gamma u(k) + Ky(k)\n",
    "\\end{align}\n",
    "where\n",
    "$$ KC = \\begin{bmatrix} k_1\\\\ k_2\\end{bmatrix}\\begin{bmatrix}1 & 0\\end{bmatrix} = \\begin{bmatrix} k_1 & 0\\\\ k_2 & 0\\end{bmatrix} $$\n",
    "and\n",
    "$$ \\Phi - KC = \\begin{bmatrix} \\sqrt{3} & 1\\\\-1 & 0\\end{bmatrix}-\\begin{bmatrix} k_1 & 0\\\\ k_2 & 0\\end{bmatrix}=\\begin{bmatrix} \\sqrt{3}-k_1 & 1\\\\-1-k_2 & 0\\end{bmatrix}$$"
   ]
  },
  {
   "cell_type": "code",
   "execution_count": 10,
   "metadata": {
    "slideshow": {
     "slide_type": "skip"
    }
   },
   "outputs": [
    {
     "data": {
      "text/latex": [
       "$$\\left[\\begin{matrix}- k_{1} + 1.73205080756888 & 1\\\\- k_{2} - 1 & 0\\end{matrix}\\right]$$"
      ],
      "text/plain": [
       "⎡-k₁ + 1.73205080756888  1⎤\n",
       "⎢                         ⎥\n",
       "⎣       -k₂ - 1          0⎦"
      ]
     },
     "execution_count": 10,
     "metadata": {},
     "output_type": "execute_result"
    }
   ],
   "source": [
    "k1,k2 = sy.symbols('k1,k2')\n",
    "K = sy.Matrix([[k1], [k2]])\n",
    "Phi_o=Phi.subs({h:hval, omega0:omegaval}) - K*C\n",
    "Phi_o"
   ]
  },
  {
   "cell_type": "markdown",
   "metadata": {
    "slideshow": {
     "slide_type": "subslide"
    }
   },
   "source": [
    "The characteristic polynomial of the observer is given by\n",
    "\\begin{align}\n",
    "\\det \\left( zI - (\\Phi-KC) \\right) &= \\det \\left( \\begin{bmatrix} z & 0\\\\0 & z \\end{bmatrix} - \\begin{bmatrix} \\sqrt{3}-k_1 & 1\\\\-1-k_2\\end{bmatrix} \\right)\\\\\n",
    "&= \\det \\begin{bmatrix} z-\\sqrt{3}+k_1 & -1 \\\\ 1+k_2 & z\\end{bmatrix}\\\\\n",
    "&= z^2 + (-\\sqrt{3}+k_1) z + (1 + k_2)\n",
    "\\end{align}"
   ]
  },
  {
   "cell_type": "code",
   "execution_count": 11,
   "metadata": {
    "slideshow": {
     "slide_type": "subslide"
    }
   },
   "outputs": [
    {
     "data": {
      "text/latex": [
       "$$1.0 k_{2} + 1.0 z^{2} + z \\left(1.0 k_{1} - 1.73205080756888\\right) + 1.0$$"
      ],
      "text/plain": [
       "              2                                      \n",
       "1.0⋅k₂ + 1.0⋅z  + z⋅(1.0⋅k₁ - 1.73205080756888) + 1.0"
      ]
     },
     "execution_count": 11,
     "metadata": {},
     "output_type": "execute_result"
    }
   ],
   "source": [
    "z = sy.symbols('z')\n",
    "zIminPhio = z*sy.eye(2) - Phi_o\n",
    "ch_poly = sy.Poly(zIminPhio.det(), z)\n",
    "ch_poly.as_expr()"
   ]
  },
  {
   "cell_type": "markdown",
   "metadata": {
    "slideshow": {
     "slide_type": "subslide"
    }
   },
   "source": [
    "### Desired observer poles\n",
    "Assume we want the observer to have a double pole in $z=p_o$, which gives the following  desired characteristic polynomial for the observer\n",
    "$$ (z-p_o)^2 = z^2 - 2p_oz + p_o^2$$\n",
    "#### Determining the observer gain\n",
    "As usual, we determine the unknown parameters by setting the coefficients equal in the two characteristic polynomials above. This gives the system of linear equations\n",
    "\\begin{align}\n",
    "z^1: \\qquad k_1 - \\sqrt{3} &= -2p_o\\\\\n",
    "z^0: \\qquad 1+k_2 &= p_o^2\n",
    "\\end{align}\n",
    "which has the straight-forward solution \n",
    "\\begin{align}\n",
    "k_1 &= \\sqrt{3}-2p_o\\\\\n",
    "k_2 &= p_o^2 - 1.\n",
    "\\end{align}\n",
    "For a deadbeat observer we get\n",
    "\\begin{align}\n",
    "k_1 &= \\sqrt{3}\\\\\n",
    "k_2 &= - 1.\n",
    "\\end{align}\n",
    "\n",
    "The solution is so simple because the state-space system was written on observable canonical form. "
   ]
  },
  {
   "cell_type": "code",
   "execution_count": 13,
   "metadata": {},
   "outputs": [
    {
     "data": {
      "text/latex": [
       "$$\\left[\\begin{matrix}- 2 p_{o} + 2 \\cos{\\left (h \\omega_{0} \\right )}\\\\p_{o}^{2} - 1\\end{matrix}\\right]$$"
      ],
      "text/plain": [
       "⎡-2⋅pₒ + 2⋅cos(h⋅ω₀)⎤\n",
       "⎢                   ⎥\n",
       "⎢        2          ⎥\n",
       "⎣      pₒ  - 1      ⎦"
      ]
     },
     "execution_count": 13,
     "metadata": {},
     "output_type": "execute_result"
    }
   ],
   "source": [
    "po = sy.symbols('p_o')\n",
    "K = sy.Matrix([[Phi[0,0]-2*po],[Phi[1,0]+po**2]])\n",
    "K"
   ]
  },
  {
   "cell_type": "code",
   "execution_count": 18,
   "metadata": {},
   "outputs": [
    {
     "data": {
      "text/latex": [
       "$$\\left[\\begin{matrix}2 p_{o} & 1\\\\- p_{o}^{2} & 0\\end{matrix}\\right]$$"
      ],
      "text/plain": [
       "⎡2⋅pₒ  1⎤\n",
       "⎢       ⎥\n",
       "⎢   2   ⎥\n",
       "⎣-pₒ   0⎦"
      ]
     },
     "execution_count": 18,
     "metadata": {},
     "output_type": "execute_result"
    }
   ],
   "source": [
    "Phi_o = Phi - K*C\n",
    "Phi_o"
   ]
  },
  {
   "cell_type": "code",
   "execution_count": 19,
   "metadata": {},
   "outputs": [
    {
     "data": {
      "text/latex": [
       "$$\\left \\{ p_{o} : 2\\right \\}$$"
      ],
      "text/plain": [
       "{pₒ: 2}"
      ]
     },
     "execution_count": 19,
     "metadata": {},
     "output_type": "execute_result"
    }
   ],
   "source": [
    "Phi_o.eigenvals()"
   ]
  },
  {
   "cell_type": "markdown",
   "metadata": {
    "slideshow": {
     "slide_type": "slide"
    }
   },
   "source": [
    "## Reachability "
   ]
  },
  {
   "cell_type": "code",
   "execution_count": 33,
   "metadata": {
    "slideshow": {
     "slide_type": "subslide"
    }
   },
   "outputs": [
    {
     "data": {
      "text/latex": [
       "$$\\left[\\begin{matrix}- \\cos{\\left (h \\omega_{0} \\right )} + 1 & 2 \\left(- \\cos{\\left (h \\omega_{0} \\right )} + 1\\right) \\cos{\\left (h \\omega_{0} \\right )} - \\cos{\\left (h \\omega_{0} \\right )} + 1\\\\- \\cos{\\left (h \\omega_{0} \\right )} + 1 & \\cos{\\left (h \\omega_{0} \\right )} - 1\\end{matrix}\\right]$$"
      ],
      "text/plain": [
       "⎡-cos(h⋅ω₀) + 1  2⋅(-cos(h⋅ω₀) + 1)⋅cos(h⋅ω₀) - cos(h⋅ω₀) + 1⎤\n",
       "⎢                                                            ⎥\n",
       "⎣-cos(h⋅ω₀) + 1                 cos(h⋅ω₀) - 1                ⎦"
      ]
     },
     "execution_count": 33,
     "metadata": {},
     "output_type": "execute_result"
    }
   ],
   "source": [
    "Wc = sy.BlockMatrix([[Gamma, Phi*Gamma]]).as_explicit()\n",
    "Wc"
   ]
  },
  {
   "cell_type": "code",
   "execution_count": 37,
   "metadata": {
    "slideshow": {
     "slide_type": "subslide"
    }
   },
   "outputs": [
    {
     "data": {
      "text/latex": [
       "$$- 2 \\cos^{3}{\\left (h \\omega_{0} \\right )} + 2 \\cos^{2}{\\left (h \\omega_{0} \\right )} + 2 \\cos{\\left (h \\omega_{0} \\right )} - 2$$"
      ],
      "text/plain": [
       "       3              2                        \n",
       "- 2⋅cos (h⋅ω₀) + 2⋅cos (h⋅ω₀) + 2⋅cos(h⋅ω₀) - 2"
      ]
     },
     "execution_count": 37,
     "metadata": {},
     "output_type": "execute_result"
    }
   ],
   "source": [
    "Wc.det()"
   ]
  },
  {
   "cell_type": "code",
   "execution_count": null,
   "metadata": {},
   "outputs": [],
   "source": [
    "Wc.det().subs({h:hval, omega0:omegaval})"
   ]
  },
  {
   "cell_type": "markdown",
   "metadata": {
    "slideshow": {
     "slide_type": "slide"
    }
   },
   "source": [
    "## State feedback\n",
    "Introducing the state-feedback control law\n",
    "$$ u = -l_1x_1 - l_2 x_2 + l_0y_{ref} = -Lx + l_0y_{ref}$$\n",
    "gives the closed-loop state-space system\n",
    "\\begin{align}\n",
    "x(k+1) &= \\Phi x(k) +\\Gamma\\big(-Lx(k) + l_0y_{ref}(k)\\big) + \\Gamma v(k) = \\left( \\Phi - \\Gamma L \\right) x(k) + l_0\\Gamma y_{ref}(k) + \\Gamma v(k)\\\\\n",
    "y(k) &= C x(k),\n",
    "\\end{align}"
   ]
  },
  {
   "cell_type": "code",
   "execution_count": 41,
   "metadata": {
    "slideshow": {
     "slide_type": "skip"
    }
   },
   "outputs": [
    {
     "data": {
      "text/latex": [
       "$$\\left[\\begin{matrix}- 0.133974596215561 l_{1} + 1.73205080756888 & - 0.133974596215561 l_{2} + 1\\\\- 0.133974596215561 l_{1} - 1 & - 0.133974596215561 l_{2}\\end{matrix}\\right]$$"
      ],
      "text/plain": [
       "⎡-- -0.133974596215561⋅l₁ + 1.73205080756888  -- -0.133974596215561⋅l₂ + 1⎤\n",
       "⎢                                                                         ⎥\n",
       "⎣       -- -0.133974596215561⋅l₁ - 1             -0.133974596215561⋅l₂    ⎦"
      ]
     },
     "execution_count": 41,
     "metadata": {},
     "output_type": "execute_result"
    }
   ],
   "source": [
    "l1,l2 = sy.symbols('l1,l2')\n",
    "L = sy.Matrix([[l1, l2]])\n",
    "Phi_c=Phi.subs({h:hval, omega0:omegaval}) - Gamma.subs({h:hval, omega0:omegaval})*L\n",
    "Phi_c"
   ]
  },
  {
   "cell_type": "markdown",
   "metadata": {
    "slideshow": {
     "slide_type": "subslide"
    }
   },
   "source": [
    "The characteristic polynomial of the closed-loop system is given by\n",
    "\\begin{align}\n",
    "\\det \\left( zI - (\\Phi-\\Gamma L) \\right) \\end{align}"
   ]
  },
  {
   "cell_type": "code",
   "execution_count": 42,
   "metadata": {
    "slideshow": {
     "slide_type": "subslide"
    }
   },
   "outputs": [
    {
     "data": {
      "text/latex": [
       "$$\\left[\\begin{matrix}0.133974596215561 l_{1} + z - 1.73205080756888 & 0.133974596215561 l_{2} - 1\\\\0.133974596215561 l_{1} + 1 & 0.133974596215561 l_{2} + z\\end{matrix}\\right]$$"
      ],
      "text/plain": [
       "⎡0.133974596215561⋅l₁ + z - 1.73205080756888  0.133974596215561⋅l₂ - 1⎤\n",
       "⎢                                                                     ⎥\n",
       "⎣         0.133974596215561⋅l₁ + 1            0.133974596215561⋅l₂ + z⎦"
      ]
     },
     "execution_count": 42,
     "metadata": {},
     "output_type": "execute_result"
    }
   ],
   "source": [
    "zIminPhic = z*sy.eye(2) - Phi_c\n",
    "zIminPhic"
   ]
  },
  {
   "cell_type": "code",
   "execution_count": 43,
   "metadata": {
    "slideshow": {
     "slide_type": "subslide"
    }
   },
   "outputs": [
    {
     "data": {
      "text/latex": [
       "$$0.133974596215561 l_{1} - 0.366025403784438 l_{2} + 1.0 z^{2} + z \\left(0.133974596215561 l_{1} + 0.133974596215561 l_{2} - 1.73205080756888\\right) + 1.0$$"
      ],
      "text/plain": [
       "                                                      2                       \n",
       "0.133974596215561⋅l₁ - - -0.366025403784438⋅l₂ + 1.0⋅z  + z⋅(0.133974596215561\n",
       "\n",
       "                                                    \n",
       "⋅l₁ + 0.133974596215561⋅l₂ - 1.73205080756888) + 1.0"
      ]
     },
     "execution_count": 43,
     "metadata": {},
     "output_type": "execute_result"
    }
   ],
   "source": [
    "ch_poly = sy.Poly(zIminPhic.det(), z)\n",
    "ch_poly.as_expr()"
   ]
  },
  {
   "cell_type": "markdown",
   "metadata": {
    "slideshow": {
     "slide_type": "slide"
    }
   },
   "source": [
    "### Desired closed-loop characteristic polynomial\n",
    "Here we will aim for a pair of closed-loop poles that are critically damped, and about as fast as the plant poles. \n",
    "$$ p_1 = p_2 = \\sqrt{(1-\\cos(\\omega_0 h))^2 + \\sin(\\omega_0 h)^2} = p$$\n",
    "$$ A_c(z) = (z-p)^2 = z^2 - 2pz + p^2 $$\n",
    "In the same spirit as when designing an RST controller using the polynomial approach, we set the calculated characteristic polynomial - obtained when introducing the linear state feedback- equal to the desired characteristic polynomial."
   ]
  },
  {
   "cell_type": "code",
   "execution_count": 44,
   "metadata": {},
   "outputs": [
    {
     "data": {
      "text/latex": [
       "$$\\left \\{ l_{1} : 2.0 p^{2} - 10.9282032302755 p + 7.46410161513779, \\quad l_{2} : - 2.0 p^{2} - 4.00000000000001 p + 5.46410161513777\\right \\}$$"
      ],
      "text/plain": [
       "⎧         2                                                                 2 \n",
       "⎨l₁: 2.0⋅p  - -10.9282032302755⋅(-1)⋅p + 7.46410161513779, l₂: - -2.0⋅(-1)⋅p  \n",
       "⎩                                                                             \n",
       "\n",
       "                                             ⎫\n",
       "- -4.00000000000001⋅(-1)⋅p + 5.46410161513777⎬\n",
       "                                             ⎭"
      ]
     },
     "execution_count": 44,
     "metadata": {},
     "output_type": "execute_result"
    }
   ],
   "source": [
    "p = sy.symbols('p')\n",
    "des_ch_poly = sy.Poly((z-p)**2, z)\n",
    "dioph_eqn = ch_poly - des_ch_poly\n",
    "sol = sy.solve(dioph_eqn.coeffs(), (l1,l2))\n",
    "sol"
   ]
  },
  {
   "cell_type": "markdown",
   "metadata": {},
   "source": [
    "### Determining $l_0$\n",
    "\n",
    "State feedback does not change the numerator of the open-loop system, which is\n",
    "$$B(z) = (1-\\beta)(z+1)b$$\n",
    "The characteristic polynomial of the closed-loop system is already designed to be\n",
    "$$A_c(z) = (z-p)^2$$.\n",
    "This means that the closed-loop system has the pulse-transfer function\n",
    "$$H_c(z) = \\frac{(1-\\beta)(z+1)b}{(z-p)^2} l_0$$\n",
    "We want this pulse-transfer function to have unit DC-gain which gives\n",
    "$$ H_c(1) = \\frac{(1-\\beta)2b}{(1-p)^2}l_0$$\n",
    "$$ l_0 = \\frac{A_c(1)}{B(z)} = \\frac{(1-p)^2}{2(1-\\beta)b}.$$"
   ]
  },
  {
   "cell_type": "code",
   "execution_count": 45,
   "metadata": {},
   "outputs": [],
   "source": [
    "l0 = (1-p)**2/(2*(1-beta)) # We have assumed b=1 all along"
   ]
  }
 ],
 "metadata": {
  "celltoolbar": "Slideshow",
  "kernelspec": {
   "display_name": "Python 3",
   "language": "python",
   "name": "python3"
  },
  "language_info": {
   "codemirror_mode": {
    "name": "ipython",
    "version": 3
   },
   "file_extension": ".py",
   "mimetype": "text/x-python",
   "name": "python",
   "nbconvert_exporter": "python",
   "pygments_lexer": "ipython3",
   "version": "3.5.2"
  }
 },
 "nbformat": 4,
 "nbformat_minor": 2
}
