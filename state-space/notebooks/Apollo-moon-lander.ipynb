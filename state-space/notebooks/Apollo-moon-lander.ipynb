{
 "cells": [
  {
   "cell_type": "markdown",
   "metadata": {},
   "source": [
    "# State feedback design for the Apollo moon lander\n",
    "which has similar dynamics as a quadcopter"
   ]
  },
  {
   "cell_type": "code",
   "execution_count": 1,
   "metadata": {},
   "outputs": [],
   "source": [
    "import numpy as np\n",
    "import sympy as sy\n",
    "import matplotlib.pyplot as plt\n",
    "import control as cm\n",
    "sy.init_printing()\n",
    "%matplotlib notebook"
   ]
  },
  {
   "cell_type": "code",
   "execution_count": 13,
   "metadata": {},
   "outputs": [],
   "source": [
    "k1, k2, h = sy.symbols('k1, k2, h', real=True, positive=True)\n",
    "s = sy.symbols('s', real=True)\n",
    "z = sy.symbols('z', real=False)"
   ]
  },
  {
   "cell_type": "code",
   "execution_count": 4,
   "metadata": {},
   "outputs": [
    {
     "data": {
      "image/png": "[encoded data removed]",
      "text/latex": [
       "$$\\left[\\begin{matrix}0 & 0 & 0\\\\0 & 0 & 0\\\\k_{2} & 0 & 0\\end{matrix}\\right]$$"
      ],
      "text/plain": [
       "⎡0   0  0⎤\n",
       "⎢        ⎥\n",
       "⎢0   0  0⎥\n",
       "⎢        ⎥\n",
       "⎣k₂  0  0⎦"
      ]
     },
     "execution_count": 4,
     "metadata": {},
     "output_type": "execute_result"
    }
   ],
   "source": [
    "A = sy.Matrix([[0,0,0], [1,0,0], [0,k2,0]])\n",
    "A*A"
   ]
  },
  {
   "cell_type": "code",
   "execution_count": 5,
   "metadata": {},
   "outputs": [
    {
     "data": {
      "image/png": "[encoded data removed]",
      "text/latex": [
       "$$\\left[\\begin{matrix}0 & 0 & 0\\\\0 & 0 & 0\\\\0 & 0 & 0\\end{matrix}\\right]$$"
      ],
      "text/plain": [
       "⎡0  0  0⎤\n",
       "⎢       ⎥\n",
       "⎢0  0  0⎥\n",
       "⎢       ⎥\n",
       "⎣0  0  0⎦"
      ]
     },
     "execution_count": 5,
     "metadata": {},
     "output_type": "execute_result"
    }
   ],
   "source": [
    "A*A*A"
   ]
  },
  {
   "cell_type": "code",
   "execution_count": 14,
   "metadata": {},
   "outputs": [
    {
     "data": {
      "image/png": "[encoded data removed]",
      "text/latex": [
       "$$\\left[\\begin{matrix}1 & 0 & 0\\\\h & 1 & 0\\\\\\frac{h^{2} k_{2}}{2} & h k_{2} & 1\\end{matrix}\\right]$$"
      ],
      "text/plain": [
       "⎡  1     0    0⎤\n",
       "⎢              ⎥\n",
       "⎢  h     1    0⎥\n",
       "⎢              ⎥\n",
       "⎢ 2            ⎥\n",
       "⎢h ⋅k₂         ⎥\n",
       "⎢─────  h⋅k₂  1⎥\n",
       "⎣  2           ⎦"
      ]
     },
     "execution_count": 14,
     "metadata": {},
     "output_type": "execute_result"
    }
   ],
   "source": [
    "Phi = sy.eye(3) + A*h+ A*A*h**2/2\n",
    "Phis = sy.eye(3) + A*s+ A*A*s**2/2\n",
    "Phi"
   ]
  },
  {
   "cell_type": "code",
   "execution_count": 20,
   "metadata": {},
   "outputs": [
    {
     "data": {
      "image/png": "[encoded data removed]",
      "text/latex": [
       "$$\\left[\\begin{matrix}1 & 0 & 0\\\\h & 1 & 0\\\\\\frac{h^{2} k_{2}}{2} & h k_{2} & 1\\end{matrix}\\right]$$"
      ],
      "text/plain": [
       "⎡  1     0    0⎤\n",
       "⎢              ⎥\n",
       "⎢  h     1    0⎥\n",
       "⎢              ⎥\n",
       "⎢ 2            ⎥\n",
       "⎢h ⋅k₂         ⎥\n",
       "⎢─────  h⋅k₂  1⎥\n",
       "⎣  2           ⎦"
      ]
     },
     "execution_count": 20,
     "metadata": {},
     "output_type": "execute_result"
    }
   ],
   "source": [
    "Phim = sy.exp(A*h)\n",
    "Phim"
   ]
  },
  {
   "cell_type": "code",
   "execution_count": 8,
   "metadata": {},
   "outputs": [],
   "source": [
    "B = sy.Matrix([[k1],[0],[0]])"
   ]
  },
  {
   "cell_type": "code",
   "execution_count": 15,
   "metadata": {},
   "outputs": [
    {
     "data": {
      "image/png": "[encoded data removed]",
      "text/latex": [
       "$$\\left[\\begin{matrix}k_{1}\\\\k_{1} s\\\\\\frac{k_{1} k_{2}}{2} s^{2}\\end{matrix}\\right]$$"
      ],
      "text/plain": [
       "⎡   k₁   ⎤\n",
       "⎢        ⎥\n",
       "⎢  k₁⋅s  ⎥\n",
       "⎢        ⎥\n",
       "⎢       2⎥\n",
       "⎢k₁⋅k₂⋅s ⎥\n",
       "⎢────────⎥\n",
       "⎣   2    ⎦"
      ]
     },
     "execution_count": 15,
     "metadata": {},
     "output_type": "execute_result"
    }
   ],
   "source": [
    "Phis*B"
   ]
  },
  {
   "cell_type": "code",
   "execution_count": 11,
   "metadata": {},
   "outputs": [
    {
     "data": {
      "image/png": "[encoded data removed]",
      "text/latex": [
       "$$\\left[\\begin{matrix}k_{1}\\\\0\\\\0\\end{matrix}\\right]$$"
      ],
      "text/plain": [
       "⎡k₁⎤\n",
       "⎢  ⎥\n",
       "⎢0 ⎥\n",
       "⎢  ⎥\n",
       "⎣0 ⎦"
      ]
     },
     "execution_count": 11,
     "metadata": {},
     "output_type": "execute_result"
    }
   ],
   "source": [
    "B"
   ]
  },
  {
   "cell_type": "code",
   "execution_count": 23,
   "metadata": {},
   "outputs": [
    {
     "data": {
      "image/png": "[encoded data removed]",
      "text/latex": [
       "$$\\left[\\begin{matrix}h k_{1}\\\\\\frac{h^{2} k_{1}}{2}\\\\\\frac{k_{1} k_{2}}{6} h^{3}\\end{matrix}\\right]$$"
      ],
      "text/plain": [
       "⎡  h⋅k₁  ⎤\n",
       "⎢        ⎥\n",
       "⎢  2     ⎥\n",
       "⎢ h ⋅k₁  ⎥\n",
       "⎢ ─────  ⎥\n",
       "⎢   2    ⎥\n",
       "⎢        ⎥\n",
       "⎢ 3      ⎥\n",
       "⎢h ⋅k₁⋅k₂⎥\n",
       "⎢────────⎥\n",
       "⎣   6    ⎦"
      ]
     },
     "execution_count": 23,
     "metadata": {},
     "output_type": "execute_result"
    }
   ],
   "source": [
    "Gammas = sy.integrate(Phis*B, s)\n",
    "Gamma = Gammas.subs({s:h})\n",
    "Gamma"
   ]
  },
  {
   "cell_type": "markdown",
   "metadata": {},
   "source": [
    "## Discrete-time state space model\n",
    "\\begin{align}\n",
    "x(k+1) &= \\Phi(h) x(k) + \\Gamma(h)u(k) = \\begin{bmatrix}1 & 0 & 0\\\\h & 1 & 0\\\\\\frac{h^2k_2}{2} & hk_2 & 1 \\end{bmatrix} x(k) + k_1h\\begin{bmatrix}1\\\\\\frac{h}{2}\\\\\\frac{k_2h^2}{6} \\end{bmatrix} u(k)\\\\\n",
    "y &= C x(k) = \\begin{bmatrix} 0 & 0 & 1\\end{bmatrix} x(k)\n",
    "\\end{align}"
   ]
  },
  {
   "cell_type": "markdown",
   "metadata": {},
   "source": [
    "In the rest of the development, we will work in normalized time, that is $h=1$ and the sampling period is the unit of time. This gives the model\n",
    "\\begin{align}\n",
    "x(k+1) &= \\Phi(h) x(k) + \\Gamma(h)u(k) = \\begin{bmatrix}1 & 0 & 0\\\\1 & 1 & 0\\\\\\frac{k_2}{2} & k_2 & 1 \\end{bmatrix} x(k) + k_1\\begin{bmatrix}1\\\\\\frac{1}{2}\\\\\\frac{k_2}{6} \\end{bmatrix} u(k)\\\\\n",
    "y &= C x(k) = \\begin{bmatrix} 0 & 0 & 1\\end{bmatrix} x(k)\n",
    "\\end{align}"
   ]
  },
  {
   "cell_type": "markdown",
   "metadata": {},
   "source": [
    "## Check observability and controlability"
   ]
  },
  {
   "cell_type": "code",
   "execution_count": 35,
   "metadata": {},
   "outputs": [
    {
     "data": {
      "image/png": "[encoded data removed]",
      "text/latex": [
       "$$\\left[\\begin{matrix}h k_{1} & h k_{1} & h k_{1}\\\\\\frac{h^{2} k_{1}}{2} & \\frac{3 k_{1}}{2} h^{2} & \\frac{5 k_{1}}{2} h^{2}\\\\\\frac{k_{1} k_{2}}{6} h^{3} & \\frac{7 k_{1}}{6} h^{3} k_{2} & \\frac{19 k_{1}}{6} h^{3} k_{2}\\end{matrix}\\right]$$"
      ],
      "text/plain": [
       "⎡  h⋅k₁       h⋅k₁        h⋅k₁    ⎤\n",
       "⎢                                 ⎥\n",
       "⎢  2           2            2     ⎥\n",
       "⎢ h ⋅k₁     3⋅h ⋅k₁      5⋅h ⋅k₁  ⎥\n",
       "⎢ ─────     ───────      ───────  ⎥\n",
       "⎢   2          2            2     ⎥\n",
       "⎢                                 ⎥\n",
       "⎢ 3           3            3      ⎥\n",
       "⎢h ⋅k₁⋅k₂  7⋅h ⋅k₁⋅k₂  19⋅h ⋅k₁⋅k₂⎥\n",
       "⎢────────  ──────────  ───────────⎥\n",
       "⎣   6          6            6     ⎦"
      ]
     },
     "execution_count": 35,
     "metadata": {},
     "output_type": "execute_result"
    }
   ],
   "source": [
    "Wc = sy.Matrix(sy.BlockMatrix([[Gamma, Phi*Gamma, Phi*Phi*Gamma]]))\n",
    "Wc"
   ]
  },
  {
   "cell_type": "code",
   "execution_count": 37,
   "metadata": {},
   "outputs": [
    {
     "data": {
      "image/png": "[encoded data removed]",
      "text/latex": [
       "$$h^{6} k_{1}^{3} k_{2}$$"
      ],
      "text/plain": [
       " 6   3   \n",
       "h ⋅k₁ ⋅k₂"
      ]
     },
     "execution_count": 37,
     "metadata": {},
     "output_type": "execute_result"
    }
   ],
   "source": [
    "sy.det(Wc)"
   ]
  },
  {
   "cell_type": "code",
   "execution_count": 39,
   "metadata": {},
   "outputs": [
    {
     "data": {
      "image/png": "[encoded data removed]",
      "text/latex": [
       "$$\\left[\\begin{matrix}0 & 0 & 1\\\\\\frac{h^{2} k_{2}}{2} & h k_{2} & 1\\\\2 h^{2} k_{2} & 2 h k_{2} & 1\\end{matrix}\\right]$$"
      ],
      "text/plain": [
       "⎡   0       0     1⎤\n",
       "⎢                  ⎥\n",
       "⎢  2               ⎥\n",
       "⎢ h ⋅k₂            ⎥\n",
       "⎢ ─────    h⋅k₂   1⎥\n",
       "⎢   2              ⎥\n",
       "⎢                  ⎥\n",
       "⎢   2              ⎥\n",
       "⎣2⋅h ⋅k₂  2⋅h⋅k₂  1⎦"
      ]
     },
     "execution_count": 39,
     "metadata": {},
     "output_type": "execute_result"
    }
   ],
   "source": [
    "C = sy.Matrix([[0,0,1]])\n",
    "Wo = sy.Matrix(sy.BlockMatrix([[C], [C*Phi], [C*Phi*Phi]]))\n",
    "Wo"
   ]
  },
  {
   "cell_type": "code",
   "execution_count": 40,
   "metadata": {},
   "outputs": [
    {
     "data": {
      "image/png": "[encoded data removed]",
      "text/latex": [
       "$$- h^{3} k_{2}^{2}$$"
      ],
      "text/plain": [
       "  3   2\n",
       "-h ⋅k₂ "
      ]
     },
     "execution_count": 40,
     "metadata": {},
     "output_type": "execute_result"
    }
   ],
   "source": [
    "sy.det(Wo)"
   ]
  },
  {
   "cell_type": "markdown",
   "metadata": {},
   "source": [
    "## Feedback design\n",
    "Desired poles (3) in z=0.7, z=0.7+0.1i, z = 0.7-0.1i \n",
    "\n",
    "\n"
   ]
  },
  {
   "cell_type": "code",
   "execution_count": 55,
   "metadata": {},
   "outputs": [
    {
     "ename": "AttributeError",
     "evalue": "'numpy.ndarray' object has no attribute 'asarray'",
     "output_type": "error",
     "traceback": [
      "\u001b[0;31m---------------------------------------------------------------------------\u001b[0m",
      "\u001b[0;31mAttributeError\u001b[0m                            Traceback (most recent call last)",
      "\u001b[0;32m<ipython-input-55-3143783b5016>\u001b[0m in \u001b[0;36m<module>\u001b[0;34m()\u001b[0m\n\u001b[1;32m      1\u001b[0m \u001b[0mpd\u001b[0m \u001b[0;34m=\u001b[0m \u001b[0mnp\u001b[0m\u001b[0;34m.\u001b[0m\u001b[0marray\u001b[0m\u001b[0;34m(\u001b[0m\u001b[0;34m[\u001b[0m\u001b[0;34m]\u001b[0m\u001b[0;34m)\u001b[0m\u001b[0;34m\u001b[0m\u001b[0m\n\u001b[0;32m----> 2\u001b[0;31m \u001b[0mPhi_n\u001b[0m \u001b[0;34m=\u001b[0m \u001b[0mnp\u001b[0m\u001b[0;34m.\u001b[0m\u001b[0marray\u001b[0m\u001b[0;34m(\u001b[0m\u001b[0mPhi\u001b[0m\u001b[0;34m.\u001b[0m\u001b[0msubs\u001b[0m\u001b[0;34m(\u001b[0m\u001b[0;34m{\u001b[0m\u001b[0mh\u001b[0m\u001b[0;34m:\u001b[0m\u001b[0;36m1.0\u001b[0m\u001b[0;34m,\u001b[0m \u001b[0mk1\u001b[0m\u001b[0;34m:\u001b[0m\u001b[0;36m1.0\u001b[0m\u001b[0;34m,\u001b[0m \u001b[0mk2\u001b[0m\u001b[0;34m:\u001b[0m\u001b[0;36m1.0\u001b[0m\u001b[0;34m}\u001b[0m\u001b[0;34m)\u001b[0m\u001b[0;34m)\u001b[0m\u001b[0;34m.\u001b[0m\u001b[0masarray\u001b[0m\u001b[0;34m(\u001b[0m\u001b[0mfloat\u001b[0m\u001b[0;34m)\u001b[0m\u001b[0;34m\u001b[0m\u001b[0m\n\u001b[0m\u001b[1;32m      3\u001b[0m \u001b[0mGamma_n\u001b[0m \u001b[0;34m=\u001b[0m \u001b[0mnp\u001b[0m\u001b[0;34m.\u001b[0m\u001b[0marray\u001b[0m\u001b[0;34m(\u001b[0m\u001b[0mGamma\u001b[0m\u001b[0;34m.\u001b[0m\u001b[0msubs\u001b[0m\u001b[0;34m(\u001b[0m\u001b[0;34m{\u001b[0m\u001b[0mh\u001b[0m\u001b[0;34m:\u001b[0m\u001b[0;36m1.0\u001b[0m\u001b[0;34m,\u001b[0m \u001b[0mk1\u001b[0m\u001b[0;34m:\u001b[0m\u001b[0;36m1.0\u001b[0m\u001b[0;34m,\u001b[0m \u001b[0mk2\u001b[0m\u001b[0;34m:\u001b[0m\u001b[0;36m1.0\u001b[0m\u001b[0;34m}\u001b[0m\u001b[0;34m)\u001b[0m\u001b[0;34m)\u001b[0m\u001b[0;34m\u001b[0m\u001b[0m\n\u001b[1;32m      4\u001b[0m \u001b[0ml1\u001b[0m\u001b[0;34m,\u001b[0m\u001b[0ml2\u001b[0m\u001b[0;34m,\u001b[0m\u001b[0ml3\u001b[0m \u001b[0;34m=\u001b[0m \u001b[0msy\u001b[0m\u001b[0;34m.\u001b[0m\u001b[0msymbols\u001b[0m\u001b[0;34m(\u001b[0m\u001b[0;34m'l1,l2,l3'\u001b[0m\u001b[0;34m)\u001b[0m\u001b[0;34m\u001b[0m\u001b[0m\n\u001b[1;32m      5\u001b[0m \u001b[0mL\u001b[0m \u001b[0;34m=\u001b[0m \u001b[0msy\u001b[0m\u001b[0;34m.\u001b[0m\u001b[0mMatrix\u001b[0m\u001b[0;34m(\u001b[0m\u001b[0;34m[\u001b[0m\u001b[0;34m[\u001b[0m\u001b[0ml1\u001b[0m\u001b[0;34m,\u001b[0m \u001b[0ml2\u001b[0m\u001b[0;34m,\u001b[0m \u001b[0ml3\u001b[0m\u001b[0;34m]\u001b[0m\u001b[0;34m]\u001b[0m\u001b[0;34m)\u001b[0m\u001b[0;34m\u001b[0m\u001b[0m\n",
      "\u001b[0;31mAttributeError\u001b[0m: 'numpy.ndarray' object has no attribute 'asarray'"
     ]
    }
   ],
   "source": [
    "pd = np.array([])\n",
    "Phi_n = np.array(Phi.subs({h:1.0, k1:1.0, k2:1.0})).asarray(float)\n",
    "Gamma_n = np.array(Gamma.subs({h:1.0, k1:1.0, k2:1.0}))\n",
    "l1,l2,l3 = sy.symbols('l1,l2,l3')\n",
    "L = sy.Matrix([[l1, l2, l3]])\n",
    "Phi_min_GL = Phi_n - Gamma_n*L\n",
    "Phi_min_GL"
   ]
  },
  {
   "cell_type": "code",
   "execution_count": 53,
   "metadata": {},
   "outputs": [
    {
     "data": {
      "text/plain": [
       "array([1., 1., 1.])"
      ]
     },
     "execution_count": 53,
     "metadata": {},
     "output_type": "execute_result"
    }
   ],
   "source": [
    "np.asarray([1,1,1], dtype=float)"
   ]
  },
  {
   "cell_type": "code",
   "execution_count": null,
   "metadata": {},
   "outputs": [],
   "source": []
  }
 ],
 "metadata": {
  "kernelspec": {
   "display_name": "Python 3",
   "language": "python",
   "name": "python3"
  },
  "language_info": {
   "codemirror_mode": {
    "name": "ipython",
    "version": 3
   },
   "file_extension": ".py",
   "mimetype": "text/x-python",
   "name": "python",
   "nbconvert_exporter": "python",
   "pygments_lexer": "ipython3",
   "version": "3.5.2"
  }
 },
 "nbformat": 4,
 "nbformat_minor": 2
}
