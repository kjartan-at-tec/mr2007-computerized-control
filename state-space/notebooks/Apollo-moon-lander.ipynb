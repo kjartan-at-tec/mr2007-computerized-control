{
 "cells": [
  {
   "cell_type": "markdown",
   "metadata": {},
   "source": [
    "# State feedback design for the Apollo moon lander\n",
    "which has similar dynamics as a quadcopter"
   ]
  },
  {
   "cell_type": "code",
   "execution_count": 1,
   "metadata": {},
   "outputs": [],
   "source": [
    "import numpy as np\n",
    "import sympy as sy\n",
    "import matplotlib.pyplot as plt\n",
    "import control as cm\n",
    "sy.init_printing()\n",
    "%matplotlib notebook"
   ]
  },
  {
   "cell_type": "code",
   "execution_count": 13,
   "metadata": {},
   "outputs": [],
   "source": [
    "k1, k2, h = sy.symbols('k1, k2, h', real=True, positive=True)\n",
    "s = sy.symbols('s', real=True)\n",
    "z = sy.symbols('z', real=False)"
   ]
  },
  {
   "cell_type": "code",
   "execution_count": 4,
   "metadata": {},
   "outputs": [
    {
     "data": {
      "image/png": "[encoded data removed]",
      "text/latex": [
       "$$\\left[\\begin{matrix}0 & 0 & 0\\\\0 & 0 & 0\\\\k_{2} & 0 & 0\\end{matrix}\\right]$$"
      ],
      "text/plain": [
       "⎡0   0  0⎤\n",
       "⎢        ⎥\n",
       "⎢0   0  0⎥\n",
       "⎢        ⎥\n",
       "⎣k₂  0  0⎦"
      ]
     },
     "execution_count": 4,
     "metadata": {},
     "output_type": "execute_result"
    }
   ],
   "source": [
    "A = sy.Matrix([[0,0,0], [1,0,0], [0,k2,0]])\n",
    "A*A"
   ]
  },
  {
   "cell_type": "code",
   "execution_count": 5,
   "metadata": {},
   "outputs": [
    {
     "data": {
      "image/png": "[encoded data removed]",
      "text/latex": [
       "$$\\left[\\begin{matrix}0 & 0 & 0\\\\0 & 0 & 0\\\\0 & 0 & 0\\end{matrix}\\right]$$"
      ],
      "text/plain": [
       "⎡0  0  0⎤\n",
       "⎢       ⎥\n",
       "⎢0  0  0⎥\n",
       "⎢       ⎥\n",
       "⎣0  0  0⎦"
      ]
     },
     "execution_count": 5,
     "metadata": {},
     "output_type": "execute_result"
    }
   ],
   "source": [
    "A*A*A"
   ]
  },
  {
   "cell_type": "code",
   "execution_count": 14,
   "metadata": {},
   "outputs": [
    {
     "data": {
      "image/png": "[encoded data removed]",
      "text/latex": [
       "$$\\left[\\begin{matrix}1 & 0 & 0\\\\h & 1 & 0\\\\\\frac{h^{2} k_{2}}{2} & h k_{2} & 1\\end{matrix}\\right]$$"
      ],
      "text/plain": [
       "⎡  1     0    0⎤\n",
       "⎢              ⎥\n",
       "⎢  h     1    0⎥\n",
       "⎢              ⎥\n",
       "⎢ 2            ⎥\n",
       "⎢h ⋅k₂         ⎥\n",
       "⎢─────  h⋅k₂  1⎥\n",
       "⎣  2           ⎦"
      ]
     },
     "execution_count": 14,
     "metadata": {},
     "output_type": "execute_result"
    }
   ],
   "source": [
    "Phi = sy.eye(3) + A*h+ A*A*h**2/2\n",
    "Phis = sy.eye(3) + A*s+ A*A*s**2/2\n",
    "Phi"
   ]
  },
  {
   "cell_type": "code",
   "execution_count": 8,
   "metadata": {},
   "outputs": [],
   "source": [
    "B = sy.Matrix([[k1],[0],[0]])"
   ]
  },
  {
   "cell_type": "code",
   "execution_count": 15,
   "metadata": {},
   "outputs": [
    {
     "data": {
      "image/png": "[encoded data removed]",
      "text/latex": [
       "$$\\left[\\begin{matrix}k_{1}\\\\k_{1} s\\\\\\frac{k_{1} k_{2}}{2} s^{2}\\end{matrix}\\right]$$"
      ],
      "text/plain": [
       "⎡   k₁   ⎤\n",
       "⎢        ⎥\n",
       "⎢  k₁⋅s  ⎥\n",
       "⎢        ⎥\n",
       "⎢       2⎥\n",
       "⎢k₁⋅k₂⋅s ⎥\n",
       "⎢────────⎥\n",
       "⎣   2    ⎦"
      ]
     },
     "execution_count": 15,
     "metadata": {},
     "output_type": "execute_result"
    }
   ],
   "source": [
    "Phis*B"
   ]
  },
  {
   "cell_type": "code",
   "execution_count": 11,
   "metadata": {},
   "outputs": [
    {
     "data": {
      "image/png": "[encoded data removed]",
      "text/latex": [
       "$$\\left[\\begin{matrix}k_{1}\\\\0\\\\0\\end{matrix}\\right]$$"
      ],
      "text/plain": [
       "⎡k₁⎤\n",
       "⎢  ⎥\n",
       "⎢0 ⎥\n",
       "⎢  ⎥\n",
       "⎣0 ⎦"
      ]
     },
     "execution_count": 11,
     "metadata": {},
     "output_type": "execute_result"
    }
   ],
   "source": [
    "B"
   ]
  },
  {
   "cell_type": "code",
   "execution_count": 17,
   "metadata": {},
   "outputs": [
    {
     "data": {
      "image/png": "[encoded data removed]",
      "text/latex": [
       "$$\\left[\\begin{matrix}k_{1} s\\\\\\frac{k_{1} s^{2}}{2}\\\\\\frac{k_{1} k_{2}}{6} s^{3}\\end{matrix}\\right]$$"
      ],
      "text/plain": [
       "⎡  k₁⋅s  ⎤\n",
       "⎢        ⎥\n",
       "⎢     2  ⎥\n",
       "⎢ k₁⋅s   ⎥\n",
       "⎢ ─────  ⎥\n",
       "⎢   2    ⎥\n",
       "⎢        ⎥\n",
       "⎢       3⎥\n",
       "⎢k₁⋅k₂⋅s ⎥\n",
       "⎢────────⎥\n",
       "⎣   6    ⎦"
      ]
     },
     "execution_count": 17,
     "metadata": {},
     "output_type": "execute_result"
    }
   ],
   "source": [
    "sy.integrate(Phis*B, s)"
   ]
  },
  {
   "cell_type": "code",
   "execution_count": null,
   "metadata": {},
   "outputs": [],
   "source": []
  }
 ],
 "metadata": {
  "kernelspec": {
   "display_name": "Python 3",
   "language": "python",
   "name": "python3"
  },
  "language_info": {
   "codemirror_mode": {
    "name": "ipython",
    "version": 3
   },
   "file_extension": ".py",
   "mimetype": "text/x-python",
   "name": "python",
   "nbconvert_exporter": "python",
   "pygments_lexer": "ipython3",
   "version": "3.5.2"
  }
 },
 "nbformat": 4,
 "nbformat_minor": 2
}
