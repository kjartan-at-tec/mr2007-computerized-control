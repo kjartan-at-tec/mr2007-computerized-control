{
 "cells": [
  {
   "cell_type": "markdown",
   "metadata": {},
   "source": [
    "# Sending emails with students' results"
   ]
  },
  {
   "cell_type": "code",
   "execution_count": 1,
   "metadata": {},
   "outputs": [],
   "source": [
    "import smtplib\n",
    "import base64\n",
    "from email.mime.text import MIMEText\n",
    "from email.mime.multipart import MIMEMultipart"
   ]
  },
  {
   "cell_type": "code",
   "execution_count": 2,
   "metadata": {},
   "outputs": [],
   "source": [
    "def send_mail(address, subject, msg='test', msgHTML = '<p>test</p>'):\n",
    "\n",
    "    user = 'kjartan@tec.mx'\n",
    "    passwd = base64.b64decode(b'VEUxcjFrLmEuMC5oLmM=')\n",
    "    pwd = \"\".join( chr(x) for x in passwd)\n",
    "\n",
    "    message = MIMEMultipart(\"alternative\")\n",
    "    message[\"Subject\"] = subject\n",
    "    message[\"From\"] = user\n",
    "    message[\"To\"] = address\n",
    "\n",
    "    # Turn these into plain/html MIMEText objects\n",
    "    part1 = MIMEText(msg, \"plain\")\n",
    "    part2 = MIMEText(msgHTML, \"html\")\n",
    "\n",
    "    # Add HTML/plain-text parts to MIMEMultipart message\n",
    "    # The email client will try to render the last part first\n",
    "    message.attach(part1)\n",
    "    message.attach(part2)\n",
    "\n",
    "    mailserver = smtplib.SMTP('smtp.office365.com',587)\n",
    "    mailserver.ehlo()\n",
    "    mailserver.starttls()\n",
    "    mailserver.login(user, pwd)\n",
    "    header = 'To:' + address + '\\n' \n",
    "    header += 'From: ' + user + '\\n' \n",
    "    header += 'Subject:' + subject +'\\n'\n",
    "    print(header)\n",
    "    msgbody = header + '\\n' + msg + '\\n\\n'\n",
    "    mailserver.sendmail(user, address, message.as_string())\n",
    "    mailserver.quit()"
   ]
  },
  {
   "cell_type": "code",
   "execution_count": null,
   "metadata": {},
   "outputs": [],
   "source": [
    "send_mail('kjartan.halvorsen@gmail.com', 'Test igjen', 'Hej')"
   ]
  },
  {
   "cell_type": "markdown",
   "metadata": {},
   "source": [
    "## Load excel file extract relevant rows and send in email"
   ]
  },
  {
   "cell_type": "code",
   "execution_count": 3,
   "metadata": {},
   "outputs": [],
   "source": [
    "import pandas as pd\n",
    "from pandas import ExcelWriter\n",
    "from pandas import ExcelFile"
   ]
  },
  {
   "cell_type": "code",
   "execution_count": 4,
   "metadata": {},
   "outputs": [],
   "source": [
    "fname = '/home/kjartan/Dropbox/undervisning/tec/MR2007/HT2019/MR2007-grades.xlsx'\n",
    "fname = '/home/kjartan/tec/mr3028/ht2019/MR3028-grades.xls'\n",
    "fname = '/home/kjartan/Dropbox/undervisning/tec/TE3045/HT2019/TE3045-grades.xls'\n",
    "subject = 'Final grade for Robotics Project'"
   ]
  },
  {
   "cell_type": "code",
   "execution_count": 12,
   "metadata": {},
   "outputs": [
    {
     "name": "stdout",
     "output_type": "stream",
     "text": [
      "Column headings:\n",
      "Index(['Indice', 'Programa Académico', 'Matrícula', 'Nombre', 'T1', 'T2',\n",
      "       'Lab journal', 'Quiz 1', 'Quiz 2', 'Proj rep 1', '1P', 'T3', 'Quiz 3',\n",
      "       'Proj journal', 'Lab journal.1', '2P', 'Proj rep 2', 'T4', 'Quiz 4',\n",
      "       'Proj Journal', 'Proj eval', 'Proj rep', 'Ind Qs', 'Course grade',\n",
      "       'Semana I', 'Final grade'],\n",
      "      dtype='object')\n"
     ]
    }
   ],
   "source": [
    "df = pd.read_excel(fname, sheet_name='Sheet1')\n",
    "\n",
    "print(\"Column headings:\")\n",
    "print(df.columns)"
   ]
  },
  {
   "cell_type": "code",
   "execution_count": 13,
   "metadata": {},
   "outputs": [
    {
     "data": {
      "text/plain": [
       "0       Weight\n",
       "1    A01371577\n",
       "2    A01376209\n",
       "3    A01376890\n",
       "4    A01376891\n",
       "5    A01377411\n",
       "6          NaN\n",
       "Name: Matrícula, dtype: object"
      ]
     },
     "execution_count": 13,
     "metadata": {},
     "output_type": "execute_result"
    }
   ],
   "source": [
    "df['Matrícula']"
   ]
  },
  {
   "cell_type": "code",
   "execution_count": 14,
   "metadata": {},
   "outputs": [
    {
     "data": {
      "text/html": [
       "<div>\n",
       "<style scoped>\n",
       "    .dataframe tbody tr th:only-of-type {\n",
       "        vertical-align: middle;\n",
       "    }\n",
       "\n",
       "    .dataframe tbody tr th {\n",
       "        vertical-align: top;\n",
       "    }\n",
       "\n",
       "    .dataframe thead th {\n",
       "        text-align: right;\n",
       "    }\n",
       "</style>\n",
       "<table border=\"1\" class=\"dataframe\">\n",
       "  <thead>\n",
       "    <tr style=\"text-align: right;\">\n",
       "      <th></th>\n",
       "      <th>Indice</th>\n",
       "      <th>Programa Académico</th>\n",
       "      <th>Matrícula</th>\n",
       "      <th>Nombre</th>\n",
       "      <th>T1</th>\n",
       "      <th>T2</th>\n",
       "      <th>Lab journal</th>\n",
       "      <th>Quiz 1</th>\n",
       "      <th>Quiz 2</th>\n",
       "      <th>Proj rep 1</th>\n",
       "      <th>...</th>\n",
       "      <th>Proj rep 2</th>\n",
       "      <th>T4</th>\n",
       "      <th>Quiz 4</th>\n",
       "      <th>Proj Journal</th>\n",
       "      <th>Proj eval</th>\n",
       "      <th>Proj rep</th>\n",
       "      <th>Ind Qs</th>\n",
       "      <th>Course grade</th>\n",
       "      <th>Semana I</th>\n",
       "      <th>Final grade</th>\n",
       "    </tr>\n",
       "  </thead>\n",
       "  <tbody>\n",
       "    <tr>\n",
       "      <th>0</th>\n",
       "      <td>NaN</td>\n",
       "      <td>NaN</td>\n",
       "      <td>Weight</td>\n",
       "      <td>NaN</td>\n",
       "      <td>0.06</td>\n",
       "      <td>0.07</td>\n",
       "      <td>0.02</td>\n",
       "      <td>0.02</td>\n",
       "      <td>0.02</td>\n",
       "      <td>0.05</td>\n",
       "      <td>...</td>\n",
       "      <td>0.1</td>\n",
       "      <td>0.07</td>\n",
       "      <td>0.02</td>\n",
       "      <td>0.05</td>\n",
       "      <td>0.23</td>\n",
       "      <td>0.15</td>\n",
       "      <td>0.02</td>\n",
       "      <td>1.00</td>\n",
       "      <td>NaN</td>\n",
       "      <td>NaN</td>\n",
       "    </tr>\n",
       "    <tr>\n",
       "      <th>4</th>\n",
       "      <td>4.0</td>\n",
       "      <td>IME11</td>\n",
       "      <td>A01376891</td>\n",
       "      <td>Rodrigo Gabriel Ramos Hernández</td>\n",
       "      <td>98.00</td>\n",
       "      <td>95.00</td>\n",
       "      <td>0.00</td>\n",
       "      <td>100.00</td>\n",
       "      <td>90.00</td>\n",
       "      <td>80.00</td>\n",
       "      <td>...</td>\n",
       "      <td>83.0</td>\n",
       "      <td>100.00</td>\n",
       "      <td>50.00</td>\n",
       "      <td>80.00</td>\n",
       "      <td>86.00</td>\n",
       "      <td>90.00</td>\n",
       "      <td>72.00</td>\n",
       "      <td>84.15</td>\n",
       "      <td>5.0</td>\n",
       "      <td>84.9425</td>\n",
       "    </tr>\n",
       "  </tbody>\n",
       "</table>\n",
       "<p>2 rows × 26 columns</p>\n",
       "</div>"
      ],
      "text/plain": [
       "   Indice Programa Académico  Matrícula                           Nombre  \\\n",
       "0     NaN                NaN     Weight                              NaN   \n",
       "4     4.0              IME11  A01376891  Rodrigo Gabriel Ramos Hernández   \n",
       "\n",
       "      T1     T2  Lab journal  Quiz 1  Quiz 2  Proj rep 1  ...  Proj rep 2  \\\n",
       "0   0.06   0.07         0.02    0.02    0.02        0.05  ...         0.1   \n",
       "4  98.00  95.00         0.00  100.00   90.00       80.00  ...        83.0   \n",
       "\n",
       "       T4  Quiz 4  Proj Journal  Proj eval  Proj rep  Ind Qs  Course grade  \\\n",
       "0    0.07    0.02          0.05       0.23      0.15    0.02          1.00   \n",
       "4  100.00   50.00         80.00      86.00     90.00   72.00         84.15   \n",
       "\n",
       "   Semana I  Final grade  \n",
       "0       NaN          NaN  \n",
       "4       5.0      84.9425  \n",
       "\n",
       "[2 rows x 26 columns]"
      ]
     },
     "execution_count": 14,
     "metadata": {},
     "output_type": "execute_result"
    }
   ],
   "source": [
    "df.loc[(df.Matrícula == \"A01376891\") | (df.Matrícula == \"Weight\")]"
   ]
  },
  {
   "cell_type": "code",
   "execution_count": 15,
   "metadata": {},
   "outputs": [
    {
     "name": "stdout",
     "output_type": "stream",
     "text": [
      "To:A01371577@itesm.mx\n",
      "From: kjartan@tec.mx\n",
      "Subject:Final grade for Control Laboratory\n",
      "\n",
      "To:A01376209@itesm.mx\n",
      "From: kjartan@tec.mx\n",
      "Subject:Final grade for Control Laboratory\n",
      "\n",
      "To:A01376890@itesm.mx\n",
      "From: kjartan@tec.mx\n",
      "Subject:Final grade for Control Laboratory\n",
      "\n",
      "To:A01376891@itesm.mx\n",
      "From: kjartan@tec.mx\n",
      "Subject:Final grade for Control Laboratory\n",
      "\n",
      "To:A01377411@itesm.mx\n",
      "From: kjartan@tec.mx\n",
      "Subject:Final grade for Control Laboratory\n",
      "\n"
     ]
    },
    {
     "ename": "TypeError",
     "evalue": "'float' object is not subscriptable",
     "output_type": "error",
     "traceback": [
      "\u001b[0;31m---------------------------------------------------------------------------\u001b[0m",
      "\u001b[0;31mTypeError\u001b[0m                                 Traceback (most recent call last)",
      "\u001b[0;32m<ipython-input-15-b85772da983f>\u001b[0m in \u001b[0;36m<module>\u001b[0;34m()\u001b[0m\n\u001b[1;32m      1\u001b[0m \u001b[0;32mfor\u001b[0m \u001b[0mindex\u001b[0m\u001b[0;34m,\u001b[0m \u001b[0mrow\u001b[0m \u001b[0;32min\u001b[0m \u001b[0mdf\u001b[0m\u001b[0;34m.\u001b[0m\u001b[0miterrows\u001b[0m\u001b[0;34m(\u001b[0m\u001b[0;34m)\u001b[0m\u001b[0;34m:\u001b[0m\u001b[0;34m\u001b[0m\u001b[0m\n\u001b[1;32m      2\u001b[0m     \u001b[0mm\u001b[0m \u001b[0;34m=\u001b[0m \u001b[0mrow\u001b[0m\u001b[0;34m[\u001b[0m\u001b[0;34m'Matrícula'\u001b[0m\u001b[0;34m]\u001b[0m\u001b[0;34m\u001b[0m\u001b[0m\n\u001b[0;32m----> 3\u001b[0;31m     \u001b[0;32mif\u001b[0m \u001b[0mm\u001b[0m\u001b[0;34m[\u001b[0m\u001b[0;36m0\u001b[0m\u001b[0;34m]\u001b[0m \u001b[0;34m==\u001b[0m \u001b[0;34m'A'\u001b[0m\u001b[0;34m:\u001b[0m\u001b[0;34m\u001b[0m\u001b[0m\n\u001b[0m\u001b[1;32m      4\u001b[0m         \u001b[0maddress\u001b[0m \u001b[0;34m=\u001b[0m \u001b[0mm\u001b[0m \u001b[0;34m+\u001b[0m \u001b[0;34m'@itesm.mx'\u001b[0m\u001b[0;34m\u001b[0m\u001b[0m\n\u001b[1;32m      5\u001b[0m         \u001b[0;31m#print(address)\u001b[0m\u001b[0;34m\u001b[0m\u001b[0;34m\u001b[0m\u001b[0m\n",
      "\u001b[0;31mTypeError\u001b[0m: 'float' object is not subscriptable"
     ]
    }
   ],
   "source": [
    "for index, row in df.iterrows():\n",
    "    m = row['Matrícula']\n",
    "    if m[0] == 'A':\n",
    "        address = m + '@itesm.mx'\n",
    "        #print(address)\n",
    "        \n",
    "        html = \"<p>Hi,</p> \"\n",
    "        html += \"<p> OBS: Correction to weighting of Semana-i. Disregard previous messages. </p>\"\n",
    "        html += \"<p>Thanks a lot for your effort during the course this semester!</p>\"\n",
    "        html += \"<p>If you want to discuss the grade, please come to the \"\n",
    "        html += \"Edificio de Profesores at 12:30 today Tuesday Dec 3. Or drop me a mail.</p>\"\n",
    "        html += \"<p> Take care! Best regards, Kjartan</p><p></p>\"\n",
    "        html += \"<p>These are your results. The grading of the final presentation \"\n",
    "        html += \"consists of the grade in 'Proj eval' and 'Ind Qs' (individual questions). \"\n",
    "        html += \" The weight of each grade is given, and the final grade is in the last column</p>\"\n",
    "        html += df.loc[(df.Matrícula == m) | (df.Matrícula == \"Weight\")].to_html()\n",
    "        alt = 'Your results'\n",
    "        send_mail(address, subjectt, alt, html)\n"
   ]
  },
  {
   "cell_type": "code",
   "execution_count": null,
   "metadata": {},
   "outputs": [],
   "source": []
  },
  {
   "cell_type": "code",
   "execution_count": 22,
   "metadata": {},
   "outputs": [
    {
     "name": "stdout",
     "output_type": "stream",
     "text": [
      "To:kjartan.halvorsen@gmail.com\n",
      "From: kjartan@tec.mx\n",
      "Subject:Final grade\n",
      "\n"
     ]
    }
   ],
   "source": [
    "html = \"<p>Hi,</p> <p>Thanks a lot for your effort in the course this semester!</p>\"\n",
    "html += \"<p>These are your results</p>\"\n",
    "html += df.loc[(df.Matrícula == \"A01372526\") | (df.Matrícula == \"Weight\")].to_html()\n",
    "alt = 'Your results'\n",
    "send_mail('kjartan.halvorsen@gmail.com', 'Final grade', alt, html)"
   ]
  }
 ],
 "metadata": {
  "kernelspec": {
   "display_name": "Python 3",
   "language": "python",
   "name": "python3"
  },
  "language_info": {
   "codemirror_mode": {
    "name": "ipython",
    "version": 3
   },
   "file_extension": ".py",
   "mimetype": "text/x-python",
   "name": "python",
   "nbconvert_exporter": "python",
   "pygments_lexer": "ipython3",
   "version": "3.5.2"
  }
 },
 "nbformat": 4,
 "nbformat_minor": 2
}
