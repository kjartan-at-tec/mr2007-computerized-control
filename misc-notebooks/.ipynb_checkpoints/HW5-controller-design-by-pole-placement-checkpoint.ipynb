{
 "cells": [
  {
   "cell_type": "code",
   "execution_count": 1,
   "metadata": {
    "collapsed": true
   },
   "outputs": [],
   "source": [
    "import numpy as np\n",
    "import sympy as sy\n",
    "import control.matlab as cm"
   ]
  },
  {
   "cell_type": "code",
   "execution_count": 2,
   "metadata": {},
   "outputs": [],
   "source": [
    "z = sy.symbols('z', real=False)\n",
    "hh,a,r1,s0,s1 = sy.symbols('h,a,r1,s0,s1')\n",
    "tau = 0.262\n",
    "pc1 = -5-1j*5\n",
    "pc2 = np.conjugate(pc1)\n",
    "h = 0.04\n",
    "hpt = h/tau\n",
    "Km = 0.746*41.8\n",
    "A2p = sy.poly((z-np.exp(h*pc1))*(z-np.exp(h*pc2)), z)\n",
    "Acp = sy.poly((z-np.exp(h*pc1))*(z-np.exp(h*pc2))*(z - sy.exp(h*a)), z)\n",
    "Ap = sy.poly((z-1)*(z-np.exp(-hpt)), z)\n",
    "Bp = sy.poly(Km*tau*(hpt-1+np.exp(-hpt))*z + Km*tau*(1-np.exp(-hpt)-hpt*np.exp(-hpt)), z)\n",
    "Rp = sy.poly(z+r1, z)\n",
    "Sp = sy.poly(s0*z + s1, z)\n",
    "dioph=(Ap*Rp+Bp*Sp-Acp).all_coeffs()"
   ]
  },
  {
   "cell_type": "code",
   "execution_count": 3,
   "metadata": {},
   "outputs": [
    {
     "name": "stdout",
     "output_type": "stream",
     "text": [
      "-0.878368264722988*exp(0.04*a) + 0.115597706410771\n",
      "-1.34327624390048*exp(0.04*a) + 1.52396058689998\n",
      "0.972399357505391*exp(0.04*a) - 1.15308370050492\n",
      "0.370876886395060\n"
     ]
    }
   ],
   "source": [
    "sol=sy.solve(dioph, (r1,s0,s1))\n",
    "print sol[r1]\n",
    "print sol[s0]\n",
    "print sol[s1]\n",
    "\n",
    "t0 = A2p.evalf(subs={z:1})/Bp.evalf(subs={z:1,})\n",
    "print t0"
   ]
  },
  {
   "cell_type": "code",
   "execution_count": 15,
   "metadata": {},
   "outputs": [
    {
     "name": "stdout",
     "output_type": "stream",
     "text": [
      "\n",
      " 0.001339 z + 0.001247\n",
      "----------------------\n",
      "z^2 - 1.807 z + 0.8071\n",
      "\n",
      "dt = 0.03\n",
      "\n",
      "\n",
      " 0.001339 z + 0.001247\n",
      "----------------------\n",
      "z^2 - 1.807 z + 0.8071\n",
      "\n",
      "dt = 0.03\n",
      "\n"
     ]
    }
   ],
   "source": [
    "\n",
    "G = Km * cm.tf([1], [tau, 1, 0])\n",
    "Gd = Km * cm.tf([tau*(hpt-1+np.exp(-hpt)), tau*(1-(1+hpt)*np.exp(-hpt))], [1, -(1+np.exp(-hpt)), np.exp(-hpt)], h)\n",
    "Gd2 = cm.c2d(G, h)\n",
    "print Gd\n",
    "print Gd2"
   ]
  },
  {
   "cell_type": "code",
   "execution_count": 33,
   "metadata": {},
   "outputs": [
    {
     "name": "stdout",
     "output_type": "stream",
     "text": [
      "Poly(z**2 - 1.58555290309441*z - (-0.792776451547206 + 0.168974310731771*I)*(0.792776451547206 + 0.168974310731771*I), z, domain='EX')\n",
      "0.0714939167206446\n",
      "Poly(0.00133942860759726*z + 0.00124712240506047, z, domain='RR')\n",
      "0.00258655101265772\n"
     ]
    }
   ],
   "source": [
    "print A2p\n",
    "print A2p.evalf(subs={z:1})\n",
    "print Bp\n",
    "print Bp.evalf(subs={z:1})\n"
   ]
  },
  {
   "cell_type": "code",
   "execution_count": 4,
   "metadata": {},
   "outputs": [
    {
     "data": {
      "text/plain": [
       "0.042426406871192847"
      ]
     },
     "execution_count": 4,
     "metadata": {},
     "output_type": "execute_result"
    }
   ],
   "source": [
    "0.3/(5*np.sqrt(2))"
   ]
  },
  {
   "cell_type": "code",
   "execution_count": 6,
   "metadata": {},
   "outputs": [
    {
     "data": {
      "text/plain": [
       "0.16897431073177133"
      ]
     },
     "execution_count": 6,
     "metadata": {},
     "output_type": "execute_result"
    }
   ],
   "source": [
    "np.exp(-0.21)*np.sin(0.21)"
   ]
  },
  {
   "cell_type": "code",
   "execution_count": 7,
   "metadata": {},
   "outputs": [
    {
     "data": {
      "text/plain": [
       "0.65704681981505675"
      ]
     },
     "execution_count": 7,
     "metadata": {},
     "output_type": "execute_result"
    }
   ],
   "source": [
    "np.exp(0.03*(-14))"
   ]
  },
  {
   "cell_type": "code",
   "execution_count": null,
   "metadata": {
    "collapsed": true
   },
   "outputs": [],
   "source": []
  }
 ],
 "metadata": {
  "kernelspec": {
   "display_name": "Python 2",
   "language": "python",
   "name": "python2"
  },
  "language_info": {
   "codemirror_mode": {
    "name": "ipython",
    "version": 2
   },
   "file_extension": ".py",
   "mimetype": "text/x-python",
   "name": "python",
   "nbconvert_exporter": "python",
   "pygments_lexer": "ipython2",
   "version": "2.7.13"
  }
 },
 "nbformat": 4,
 "nbformat_minor": 1
}
