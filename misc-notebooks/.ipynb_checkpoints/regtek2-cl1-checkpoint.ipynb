{
 "cells": [
  {
   "cell_type": "code",
   "execution_count": 144,
   "metadata": {
    "collapsed": true
   },
   "outputs": [],
   "source": [
    "import numpy as np\n",
    "%matplotlib inline\n",
    "import matplotlib.pyplot as plt\n",
    "import control.matlab as cm\n",
    "import sympy as sy"
   ]
  },
  {
   "cell_type": "markdown",
   "metadata": {},
   "source": [
    "# Preparations\n",
    "Continuous time state space system \n",
    "\\begin{align}\n",
    "\\dot{x} &= Ax + Bu\\\\\n",
    "y &= Cx,\n",
    "\\end{align}\n",
    "with\n",
    "\\begin{align}\n",
    "A &= \\begin{bmatrix} 2 & -2\\\\ 1 & 0 \\end{bmatrix}\\\\\n",
    "B &= \\begin{bmatrix} 1\\\\0\\end{bmatrix}\\\\\n",
    "C &= \\begin{bmatrix} 0 & 1\\end{bmatrix}\n",
    "\\end{align}\n",
    "Want closed loop system with poles in $p_{1,2} = -2 \\pm j$\n",
    "using statefeedback $u = Lx + mr$.\n",
    "\n",
    "The sampling time is $h=0.1 s$. \n",
    "## Preparation exercise 1\n",
    "Determine $L$ so that eigenvalues of $A+BL$ as specified\n",
    "\n",
    "Note that the system is on controllable form. It thus have the characteristic equation\n",
    "\\begin{equation}\n",
    "s^2 -2s + 2.\n",
    "\\end{equation}\n",
    "With state feedback, the system is still on controllable form:\n",
    "\\begin{equation}\n",
    "A+BL = \\begin{bmatrix} 2+l_1 & -2+l_2\\\\1 & 0 \\end{bmatrix}\n",
    "\\end{equation}\n",
    "with characteristic equation\n",
    "\\begin{equation}\n",
    "s^2 + (-2-l_1)s + (2-l_2).\n",
    "\\end{equation}\n",
    "The desired characteristic equation is \n",
    "\\begin{equation}\n",
    "(s+2+i)(s+2-i) = s^2 + 4s + 5.\n",
    "\\end{equation}\n",
    "Identifying the coefficients gives \n",
    "\\begin{align}\n",
    "l_1 &= -6\\\\\n",
    "l_2 &= -3\n",
    "\\end{align}"
   ]
  },
  {
   "cell_type": "code",
   "execution_count": 145,
   "metadata": {
    "collapsed": false
   },
   "outputs": [],
   "source": [
    "A = np.array([[2, -2], [1, 0]])\n",
    "B = np.array([[1],[0]])\n",
    "C = np.array([[0,1]])\n",
    "D = np.array([[0]])"
   ]
  },
  {
   "cell_type": "code",
   "execution_count": 146,
   "metadata": {
    "collapsed": false
   },
   "outputs": [
    {
     "data": {
      "text/plain": [
       "{l1/2 - sqrt(l1**2 + 4*l1 + 4*l2 - 4)/2 + 1: 1,\n",
       " l1/2 + sqrt(l1**2 + 4*l1 + 4*l2 - 4)/2 + 1: 1}"
      ]
     },
     "execution_count": 146,
     "metadata": {},
     "output_type": "execute_result"
    }
   ],
   "source": [
    "As = sy.Matrix(A)\n",
    "Bs = sy.Matrix(B)\n",
    "Cs = sy.Matrix(C)\n",
    "l1,l2 = sy.symbols(\"l1 l2\")\n",
    "L = sy.Matrix([[l1, l2]])\n",
    "Ac = A+B*L\n",
    "pc = Ac.eigenvals()\n",
    "pc"
   ]
  },
  {
   "cell_type": "code",
   "execution_count": 147,
   "metadata": {
    "collapsed": false
   },
   "outputs": [
    {
     "data": {
      "text/plain": [
       "array([-6., -3.])"
      ]
     },
     "execution_count": 147,
     "metadata": {},
     "output_type": "execute_result"
    }
   ],
   "source": [
    "l1l2 = sy.solve([l1/2+1+2, l1**2+4*l1+4*l2-4 + 4], (l1,l2)) \n",
    "L = np.array([float(l) for l in l1l2[0]])\n",
    "L"
   ]
  },
  {
   "cell_type": "code",
   "execution_count": 148,
   "metadata": {
    "collapsed": false
   },
   "outputs": [
    {
     "data": {
      "text/plain": [
       "{-2 - I: 1, -2 + I: 1}"
      ]
     },
     "execution_count": 148,
     "metadata": {},
     "output_type": "execute_result"
    }
   ],
   "source": [
    "Ac2 = Ac.subs(l1,-6).subs(l2,-3)\n",
    "Ac2.eigenvals()"
   ]
  },
  {
   "cell_type": "markdown",
   "metadata": {
    "collapsed": false
   },
   "source": [
    "## Preparations exercise 2\n",
    "Derive a discrete time representation with sampling time $h=0.1$\n",
    "Solution to the continuous time system starting from a known state $x(0)$ at time $t=0$ is given by \n",
    "\\begin{equation}\n",
    "x(t) = \\mathrm{e}^{At}x(0) + \\int_0^{t}\\mathrm{e}^{A(t-\\tau)}Bu(\\tau)d\\tau.\n",
    "\\end{equation}\n",
    "Without loss of generality, we can assume $t$ to denote the (continous) time elapsed since the last sampling instant $k$. Assuming that $u$ is constant between sampling instants  $u(t)=u(0)$ for $t<h$, we get the solution at time $t=h$\n",
    "\\begin{equation}\n",
    "x(h) = \\mathrm{e}^{Ah}x(0) + \\Big(\\int_0^{h}\\mathrm{e}^{A(h-\\tau)}Bd\\tau\\Big) u(0) = \\Phi(h)x(0) + \\Gamma(h)u(0).\n",
    "\\end{equation}\n",
    "See Åstrom & Wittenmark 3.2.\n",
    "We can for instance compute by series expansion\n",
    "\\begin{equation}\n",
    "\\Psi = \\int_0^h\\mathrm{e}^{A\\tau}d\\tau = Ih + \\frac{Ah^2}{2!} + \\frac{A^2h^3}{3!} + \\cdots\n",
    "\\end{equation}\n",
    "\\begin{align}\n",
    "\\Phi &= I + A\\Psi\\\\\n",
    "\\Gamma &= \\Psi B\n",
    "\\end{align}"
   ]
  },
  {
   "cell_type": "code",
   "execution_count": 149,
   "metadata": {
    "collapsed": false
   },
   "outputs": [
    {
     "name": "stdout",
     "output_type": "stream",
     "text": [
      "9.0\n",
      "[[ 1.20998266 -0.22066598]\n",
      " [ 0.11033299  0.98931668]]\n",
      "[[ 0.11033299]\n",
      " [ 0.00534166]]\n"
     ]
    }
   ],
   "source": [
    "tol = 1e-12\n",
    "h = 0.1\n",
    "hp = h\n",
    "term = np.identity(2)*h\n",
    "Psi = term\n",
    "k=1.0\n",
    "while np.linalg.norm(term) > tol:\n",
    "    k += 1.0\n",
    "    term = np.dot(A,term)*h/k\n",
    "    Psi += term\n",
    "    hp *= h\n",
    "\n",
    "print k\n",
    "Phi = np.identity(2) + np.dot(A,Psi)\n",
    "Gamma = np.dot(Psi, B)\n",
    "\n",
    "print Phi\n",
    "print Gamma"
   ]
  },
  {
   "cell_type": "markdown",
   "metadata": {},
   "source": [
    "## Preparation exercise 3\n",
    "Determine discrete time poles that correspond to the continuous time ones. \n",
    "\n",
    "The mapping from continuous to discrete time poles is given by (3.54) in Å&W section 3.6\n",
    "\\begin{equation}\n",
    "\\lambda_i(\\Phi) = \\mathrm{e}^{\\lambda_i(A)h}\n",
    "\\end{equation}\n"
   ]
  },
  {
   "cell_type": "code",
   "execution_count": 150,
   "metadata": {
    "collapsed": false
   },
   "outputs": [
    {
     "name": "stdout",
     "output_type": "stream",
     "text": [
      "(0.814640509554-0.0817366883936j)\n",
      "(0.814640509554+0.0817366883936j)\n"
     ]
    }
   ],
   "source": [
    "z1 = np.exp((-2-1j)*h)\n",
    "z2 = np.exp((-2+1j)*h)\n",
    "print z1\n",
    "print z2"
   ]
  },
  {
   "cell_type": "markdown",
   "metadata": {},
   "source": [
    "Find the control law $L$ for the discrete time case using Ackermans formula\n",
    "\\begin{equation}\n",
    "L = \\begin{bmatrix} 0  & \\cdots & 0 & 1\\end{bmatrix} W_c^{-1}P(\\Phi),\n",
    "\\end{equation}\n",
    "where $W_c$ is the controllability matrix for the system, i.e.\n",
    "\\begin{equation}\n",
    "W_c = \\begin{bmatrix} \\Gamma & \\Phi\\Gamma & \\cdots & \\Phi^{n-1}\\Gamma \\end{bmatrix},\n",
    "\\end{equation}\n",
    "and $P(\\Phi)$ is the characteristic equation of the closed loop system with $\\Phi$ as argument. That is,\n",
    "\\begin{equation}\n",
    "P(\\Phi) = \\Phi^n + p_1\\Phi^{n-1} + \\cdots + p_nI,\n",
    "\\end{equation}\n",
    "with\n",
    "\\begin{equation}\n",
    "P(z) = z^n + p_1z^{n-1} + \\cdots + p_n = 0\n",
    "\\end{equation}\n",
    "giving the desired poles of the closed loop system."
   ]
  },
  {
   "cell_type": "code",
   "execution_count": 151,
   "metadata": {
    "collapsed": false
   },
   "outputs": [
    {
     "name": "stdout",
     "output_type": "stream",
     "text": [
      "[[-5.08339449 -1.71336368]]\n"
     ]
    },
    {
     "data": {
      "text/plain": [
       "(array([ 0.81464051+0.08173669j,  0.81464051-0.08173669j]),\n",
       " array([[ 0.91172384+0.j        ,  0.91172384-0.j        ],\n",
       "        [-0.36834206-0.18188944j, -0.36834206+0.18188944j]]))"
      ]
     },
     "execution_count": 151,
     "metadata": {},
     "output_type": "execute_result"
    }
   ],
   "source": [
    "p1 = -z1-z2\n",
    "p2 = z1*z2\n",
    "Wc = np.hstack((Gamma, np.dot(Phi,Gamma)))\n",
    "P = np.dot(Phi, Phi) + p1*Phi + p2*np.identity(2)\n",
    "WinvP = np.dot(np.linalg.inv(Wc), P)\n",
    "Ld = -np.real(WinvP[-1,:])\n",
    "Ld.shape = (1,2)\n",
    "print Ld\n",
    "\n",
    "Phic = Phi + np.dot(Gamma, Ld)\n",
    "np.linalg.eig(Phic)"
   ]
  },
  {
   "cell_type": "markdown",
   "metadata": {},
   "source": [
    "# Computer experiments\n",
    "## Computer exercise 1\n",
    "Controller design for the continuous time system"
   ]
  },
  {
   "cell_type": "code",
   "execution_count": 152,
   "metadata": {
    "collapsed": false
   },
   "outputs": [
    {
     "name": "stdout",
     "output_type": "stream",
     "text": [
      "[[ -1.77635684e-15   1.77635684e-15]]\n",
      "[-6. -3.]\n",
      "[[-6. -3.]]\n",
      "(array([-2.+1.j, -2.-1.j]), array([[ 0.91287093+0.j        ,  0.91287093-0.j        ],\n",
      "       [-0.36514837-0.18257419j, -0.36514837+0.18257419j]]))\n"
     ]
    }
   ],
   "source": [
    "sys_c = cm.ss(A,B,C,D)\n",
    "sys_d = cm.ss(Phi, Gamma, C, D, h)\n",
    "Lc = -cm.place(A, B, [-2+1j, -2-1j])\n",
    "print (L-Lc)\n",
    "print L\n",
    "print Lc\n",
    "print np.linalg.eig(A+np.dot(B,Lc))"
   ]
  },
  {
   "cell_type": "markdown",
   "metadata": {
    "collapsed": false
   },
   "source": [
    "## Computer exercise 2\n",
    "Controller design for the discrete time system"
   ]
  },
  {
   "cell_type": "code",
   "execution_count": 153,
   "metadata": {
    "collapsed": false
   },
   "outputs": [
    {
     "name": "stdout",
     "output_type": "stream",
     "text": [
      "A = [[ 1.20998266 -0.22066598]\n",
      " [ 0.11033299  0.98931668]]\n",
      "\n",
      "B = [[ 0.11033299]\n",
      " [ 0.00534166]]\n",
      "\n",
      "C = [[0 1]]\n",
      "\n",
      "D = [[0]]\n",
      "\n",
      "dt = 0.1\n",
      "\n",
      "A = [[ 1.20998266 -0.22066598]\n",
      " [ 0.11033299  0.98931668]]\n",
      "\n",
      "B = [[ 0.11033299]\n",
      " [ 0.00534166]]\n",
      "\n",
      "C = [[0 1]]\n",
      "\n",
      "D = [[0]]\n",
      "\n",
      "dt = 0.1\n",
      "\n",
      "[[ -8.88178420e-16  -3.10862447e-15]]\n",
      "[[-5.08339449 -1.71336368]]\n",
      "[[-5.08339449 -1.71336368]]\n",
      "(array([ 0.81464051+0.08173669j,  0.81464051-0.08173669j]), array([[ 0.91172384+0.j        ,  0.91172384-0.j        ],\n",
      "       [-0.36834206-0.18188944j, -0.36834206+0.18188944j]]))\n",
      "(0.814640509554-0.0817366883936j)\n"
     ]
    }
   ],
   "source": [
    "sys_d2 = cm.c2d(sys_c, h)\n",
    "print sys_d\n",
    "print sys_d2\n",
    "Ld2 = -cm.place(Phi,Gamma,[z1,z2])\n",
    "print (Ld-Ld2)\n",
    "print Ld\n",
    "print Ld2\n",
    "print np.linalg.eig(Phi+np.dot(Gamma,Ld2))\n",
    "print z1"
   ]
  },
  {
   "cell_type": "markdown",
   "metadata": {},
   "source": [
    "## Computer exercise 3 Simulation\n",
    "Create closed loop continuous time system with unit dc gain"
   ]
  },
  {
   "cell_type": "code",
   "execution_count": 154,
   "metadata": {
    "collapsed": false
   },
   "outputs": [
    {
     "name": "stdout",
     "output_type": "stream",
     "text": [
      "[[ 1.]]\n"
     ]
    }
   ],
   "source": [
    "Ac = A + np.dot(B,Lc)\n",
    "sys_cl = cm.ss(Ac, B, C, D)\n",
    "dcg = cm.dcgain(sys_cl)\n",
    "m = 1.0/dcg[0,0]\n",
    "sys_cl = sys_cl*m\n",
    "print cm.dcgain(sys_cl)\n"
   ]
  },
  {
   "cell_type": "markdown",
   "metadata": {},
   "source": [
    "Discrete system with same feedback gain as continuous time system, and with correct feedback gain "
   ]
  },
  {
   "cell_type": "code",
   "execution_count": 155,
   "metadata": {
    "collapsed": false
   },
   "outputs": [],
   "source": [
    "sys_cl_d1 = cm.ss(Phi+np.dot(Gamma,Lc), Gamma*m, C, D, h )\n",
    "sys_cl_d2 = cm.ss(Phi+np.dot(Gamma,Ld), Gamma, C, D, h )\n",
    "dcg_d = np.dot(np.dot(C, np.linalg.inv(np.identity(2)-sys_cl_d2.A)), sys_cl_d2.B)\n",
    "md = 1.0/dcg_d[0,0]\n",
    "sys_cl_d2 = md * sys_cl_d2\n"
   ]
  },
  {
   "cell_type": "markdown",
   "metadata": {},
   "source": [
    "Simulate the three systems"
   ]
  },
  {
   "cell_type": "code",
   "execution_count": 156,
   "metadata": {
    "collapsed": false
   },
   "outputs": [
    {
     "data": {
      "text/plain": [
       "<matplotlib.legend.Legend at 0x7fd1d51ea0d0>"
      ]
     },
     "execution_count": 156,
     "metadata": {},
     "output_type": "execute_result"
    },
    {
     "data": {
      "image/png": "[encoded data removed]",
      "text/plain": [
       "<matplotlib.figure.Figure at 0x7fd1d554f890>"
      ]
     },
     "metadata": {},
     "output_type": "display_data"
    }
   ],
   "source": [
    "Tc = np.linspace(0,10,100)\n",
    "Td = h*np.arange(100)\n",
    "(yc, tc) = cm.step(sys_cl, Tc)\n",
    "(yd1, td1) = cm.step(sys_cl_d1, Td)\n",
    "(yd2, td2) = cm.step(sys_cl_d2, Td)\n",
    "yy1 = np.ravel(yd1)\n",
    "yy2 = np.ravel(yd2)\n",
    "\n",
    "plt.plot(tc,yc)\n",
    "plt.plot(td1,np.ravel(yd1)/1)\n",
    "plt.plot(td2,np.ravel(yd2)/yy2[-1])\n",
    "plt.xlim([0, 4])\n",
    "plt.legend([\"cont\", \"discrete w cont param\", \"discrete w discr param\"], loc=\"lower right\")\n"
   ]
  },
  {
   "cell_type": "code",
   "execution_count": 157,
   "metadata": {
    "collapsed": false
   },
   "outputs": [
    {
     "data": {
      "text/plain": [
       "<matplotlib.legend.Legend at 0x7fd1d4f84650>"
      ]
     },
     "execution_count": 157,
     "metadata": {},
     "output_type": "execute_result"
    },
    {
     "data": {
      "image/png": "[encoded data removed]",
      "text/plain": [
       "<matplotlib.figure.Figure at 0x7fd1d59cbad0>"
      ]
     },
     "metadata": {},
     "output_type": "display_data"
    }
   ],
   "source": [
    "Tc = np.linspace(0,10,100)\n",
    "Td = h*np.arange(100)\n",
    "(yc, tc) = cm.impulse(sys_cl, Tc)\n",
    "(yd1, td1) = cm.impulse(sys_cl_d1, Td)\n",
    "(yd2, td2) = cm.impulse(sys_cl_d2, Td)\n",
    "\n",
    "plt.plot(tc,yc)\n",
    "plt.plot(td1,np.ravel(yd1))\n",
    "plt.plot(td2,np.ravel(yd2))\n",
    "plt.legend([\"cont\", \"discrete w cont param\", \"discrete w discr param\"], loc=\"upper right\")\n"
   ]
  },
  {
   "cell_type": "markdown",
   "metadata": {},
   "source": [
    "# Effect of sampling interval\n",
    "Try different values of sampling time"
   ]
  },
  {
   "cell_type": "code",
   "execution_count": 158,
   "metadata": {
    "collapsed": false
   },
   "outputs": [
    {
     "name": "stdout",
     "output_type": "stream",
     "text": [
      "[[-5.89648182 -2.85234898]]\n",
      "4.85234897505\n",
      "[[ 0.00025591]]\n",
      "[[-5.08339449 -1.71336368]]\n",
      "3.71336368494\n",
      "[[ 0.0316319]]\n",
      "[[-4.37906119 -0.77164543]]\n",
      "2.7716454345\n",
      "[[ 0.16072844]]\n",
      "[[-3.3826708   0.43249366]]\n",
      "1.56750633762\n",
      "[[ 1.05020656]]\n",
      "[[-2.24690972  1.46742321]]\n",
      "0.532576792926\n",
      "[[ 11.79796189]]\n",
      "[[-1.12537829  1.92223294]]\n",
      "0.0777670580072\n",
      "[[ 461.63059112]]\n"
     ]
    },
    {
     "data": {
      "image/png": "[encoded data removed]",
      "text/plain": [
       "<matplotlib.figure.Figure at 0x7fd1d4d4bad0>"
      ]
     },
     "metadata": {},
     "output_type": "display_data"
    }
   ],
   "source": [
    "(yc, tc) = cm.step(sys_cl, Tc)\n",
    "plt.plot(tc,yc)\n",
    "for hh in [0.01, 0.1, 0.2, 0.4, 0.8, 1.6]:\n",
    "    sys_d2 = cm.c2d(sys_c, hh)\n",
    "    z1 = np.exp((-2-1j)*hh)\n",
    "    z2 = np.exp((-2+1j)*hh)\n",
    "    F = sys_d2.A\n",
    "    G = sys_d2.B\n",
    "    \n",
    "    Ld2 = -cm.place(F,G,[z1,z2])\n",
    "    print Ld2\n",
    "    sys_cl_d = cm.ss(F+np.dot(G,Ld2), G, C, D, hh )\n",
    "    # Find dc gain of the discrete time system (See below)\n",
    "    dcg_d = np.dot(np.dot(C, np.linalg.inv(np.identity(2)-sys_cl_d.A)), sys_cl_d.B)\n",
    "    md = 1.0/dcg_d[0,0]\n",
    "    sys_cl_d = md * sys_cl_d\n",
    "    print md\n",
    "    print cm.dcgain(sys_cl_d)\n",
    "    Td = np.arange(1000)*hh\n",
    "    (yd1, td1) = cm.step(sys_cl_d, Td)\n",
    "    yy = np.ravel(yd1)\n",
    "    #plt.plot(td1,yy/yy[-1])\n",
    "    plt.plot(td1,yy)\n",
    "    plt.xlim([0, 10])"
   ]
  },
  {
   "cell_type": "markdown",
   "metadata": {},
   "source": [
    "# DC gain for discrete system\n",
    "In steady state with step input we have $x(k+1) = x(k)$\n",
    "\\begin{equation}\n",
    "x(k) = \\Phi x(k) + m\\Gamma\n",
    "\\end{equation}\n",
    "Hence,\n",
    "\\begin{equation}\n",
    "x(\\infty) = m(1-\\Phi)^{-1}\\Gamma,\n",
    "\\end{equation}\n",
    "and so\n",
    "\\begin{equation}\n",
    "y(\\infty) = mC(1-\\Phi)^{-1}\\Gamma.\n",
    "\\end{equation}\n",
    "For this to be equal to 1, we must have\n",
    "\\begin{equation}\n",
    "m = \\frac{1}{C(1-\\Phi)^{-1}\\Gamma}.\n",
    "\\end{equation}\n"
   ]
  },
  {
   "cell_type": "code",
   "execution_count": null,
   "metadata": {
    "collapsed": true
   },
   "outputs": [],
   "source": []
  }
 ],
 "metadata": {
  "kernelspec": {
   "display_name": "Python 2",
   "language": "python",
   "name": "python2"
  },
  "language_info": {
   "codemirror_mode": {
    "name": "ipython",
    "version": 2
   },
   "file_extension": ".py",
   "mimetype": "text/x-python",
   "name": "python",
   "nbconvert_exporter": "python",
   "pygments_lexer": "ipython2",
   "version": "2.7.12"
  }
 },
 "nbformat": 4,
 "nbformat_minor": 0
}
