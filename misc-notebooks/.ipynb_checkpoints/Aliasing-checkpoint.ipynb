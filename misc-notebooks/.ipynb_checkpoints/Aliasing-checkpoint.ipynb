{
 "cells": [
  {
   "cell_type": "markdown",
   "metadata": {},
   "source": [
    "## Examples of the aliasing effect when sampling signals\n",
    "### Example 1 - Two sinusoids giving the same sampled signal"
   ]
  },
  {
   "cell_type": "code",
   "execution_count": null,
   "metadata": {
    "collapsed": false
   },
   "outputs": [],
   "source": [
    "%matplotlib inline\n",
    "import numpy as np\n",
    "import matplotlib.pyplot as plt\n",
    "from IPython.display import Math"
   ]
  },
  {
   "cell_type": "code",
   "execution_count": null,
   "metadata": {
    "collapsed": false
   },
   "outputs": [],
   "source": [
    "h = 0.001 # Sampling time\n",
    "ws = 2*np.pi/h\n",
    "wN = ws/2\n",
    "w1 = 1800*np.pi\n",
    "w1Alias = np.abs( (w1+wN) % ws - wN)  # 200*np.pi\n",
    "print w1Alias\n",
    "\n",
    "T = 2*np.pi/w1 # Period of sinusoid\n",
    "\n",
    "t = np.linspace(0,7.6*T, 600)\n",
    "y1 = np.sin(w1*t)\n",
    "ya = -np.sin(w1Alias*t)\n",
    "\n",
    "ts = np.arange(9)*h\n",
    "y1Sampled = np.sin(w1*ts)\n",
    "yaSampled = -np.sin(w1Alias*ts)\n",
    "\n",
    "plt.figure(figsize=(14,6))\n",
    "plt.plot(t, y1, linewidth=2)\n",
    "plt.plot(t, ya)\n",
    "plt.plot(ts, y1Sampled, 'bo', markersize=10)\n",
    "plt.stem(ts, yaSampled, linefmt='r--', markerfmt='ro', basefmt = 'r-')\n",
    "plt.xlabel('t [seconds]')\n",
    "\n",
    "plt.show()"
   ]
  },
  {
   "cell_type": "markdown",
   "metadata": {},
   "source": [
    "### Example 2 - The alias of a high frequency signal cancels a low frequency signal"
   ]
  },
  {
   "cell_type": "code",
   "execution_count": null,
   "metadata": {
    "collapsed": false
   },
   "outputs": [],
   "source": [
    "y3 = np.sin(w1*t) + np.sin(w1Alias*t)\n",
    "y3Sampled = np.sin(w1*ts) + np.sin(w1Alias*ts)\n",
    "\n",
    "plt.figure(figsize=(14,6))\n",
    "plt.plot(t, y3, linewidth=2)\n",
    "plt.stem(ts, y3Sampled, linefmt='r--', markerfmt='ro', basefmt = 'r-')\n",
    "plt.xlabel('t [seconds]')\n"
   ]
  },
  {
   "cell_type": "code",
   "execution_count": null,
   "metadata": {
    "collapsed": true
   },
   "outputs": [],
   "source": []
  }
 ],
 "metadata": {
  "kernelspec": {
   "display_name": "Python 2",
   "language": "python",
   "name": "python2"
  },
  "language_info": {
   "codemirror_mode": {
    "name": "ipython",
    "version": 2
   },
   "file_extension": ".py",
   "mimetype": "text/x-python",
   "name": "python",
   "nbconvert_exporter": "python",
   "pygments_lexer": "ipython2",
   "version": "2.7.11"
  }
 },
 "nbformat": 4,
 "nbformat_minor": 0
}
