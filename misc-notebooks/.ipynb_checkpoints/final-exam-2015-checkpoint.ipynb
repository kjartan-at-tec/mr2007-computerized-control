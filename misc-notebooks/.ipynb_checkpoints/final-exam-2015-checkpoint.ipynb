{
 "cells": [
  {
   "cell_type": "code",
   "execution_count": 1,
   "metadata": {
    "collapsed": true
   },
   "outputs": [],
   "source": [
    "import numpy as np\n",
    "import sympy as sy"
   ]
  },
  {
   "cell_type": "code",
   "execution_count": 3,
   "metadata": {
    "collapsed": true
   },
   "outputs": [],
   "source": [
    "s,z = sy.symbols('s,z', real=False)\n",
    "Td,N,h = sy.symbols('Td, N,  h')"
   ]
  },
  {
   "cell_type": "code",
   "execution_count": 31,
   "metadata": {},
   "outputs": [
    {
     "name": "stdout",
     "output_type": "stream",
     "text": [
      "Poly((5.25*Td + 1.0)*z - 5.25*Td, z, domain='RR[Td]')\n",
      "Poly(1.0*z - 0.8, z, domain='RR')\n",
      "[5.25*Td + 1.0, -5.25*Td]\n"
     ]
    }
   ],
   "source": [
    "Fpd = 1 + Td*s/(1+Td*s/N)\n",
    "Fpdd = Fpd.subs(s, (z-1)/(z*h)).subs(N,20).subs(h,0.2)\n",
    "(Fnum, Fden) = sy.fraction(sy.together(Fpdd))\n",
    "Bf = sy.poly(sy.expand(Fnum), z)\n",
    "print Bf\n",
    "Bd = sy.poly(z-0.8, z)\n",
    "print Bd\n",
    "coeffs = Bf.all_coeffs()\n",
    "print coeffs"
   ]
  },
  {
   "cell_type": "code",
   "execution_count": 33,
   "metadata": {},
   "outputs": [
    {
     "name": "stdout",
     "output_type": "stream",
     "text": [
      "-5.25*Td/(5.25*Td + 1.0) + 0.8\n",
      "[0.761904761904762]\n"
     ]
    }
   ],
   "source": [
    "eq = coeffs[1]/coeffs[0] + 0.8\n",
    "print eq\n",
    "sol = sy.solve(eq, Td)\n",
    "print sol"
   ]
  },
  {
   "cell_type": "code",
   "execution_count": 35,
   "metadata": {},
   "outputs": [
    {
     "data": {
      "text/plain": [
       "0.800000000000000"
      ]
     },
     "execution_count": 35,
     "metadata": {},
     "output_type": "execute_result"
    }
   ],
   "source": [
    "Tdn = sy.N(sol[0])\n",
    "5.25*Tdn/(5.25*Tdn+1)"
   ]
  },
  {
   "cell_type": "code",
   "execution_count": null,
   "metadata": {
    "collapsed": true
   },
   "outputs": [],
   "source": []
  }
 ],
 "metadata": {
  "kernelspec": {
   "display_name": "Python 2",
   "language": "python",
   "name": "python2"
  },
  "language_info": {
   "codemirror_mode": {
    "name": "ipython",
    "version": 2
   },
   "file_extension": ".py",
   "mimetype": "text/x-python",
   "name": "python",
   "nbconvert_exporter": "python",
   "pygments_lexer": "ipython2",
   "version": "2.7.14"
  }
 },
 "nbformat": 4,
 "nbformat_minor": 1
}
