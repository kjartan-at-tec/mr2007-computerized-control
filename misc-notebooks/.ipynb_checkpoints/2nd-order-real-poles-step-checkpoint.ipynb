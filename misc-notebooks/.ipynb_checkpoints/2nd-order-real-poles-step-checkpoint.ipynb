{
 "cells": [
  {
   "cell_type": "code",
   "execution_count": 2,
   "metadata": {},
   "outputs": [],
   "source": [
    "import numpy as np\n",
    "import sympy as sy\n",
    "sy.init_printing()"
   ]
  },
  {
   "cell_type": "code",
   "execution_count": 3,
   "metadata": {},
   "outputs": [],
   "source": [
    "s = sy.symbols('s', real=False)\n",
    "T,t = sy.symbols('T,t', real=True, positive=True)\n",
    "T1,T2 = sy.symbols('T1,T2', real=True, positive=True)"
   ]
  },
  {
   "cell_type": "code",
   "execution_count": 5,
   "metadata": {},
   "outputs": [
    {
     "data": {
      "image/png": "[encoded data removed]",
      "text/latex": [
       "$$\\frac{1}{\\left(T s + 1\\right)^{2}}$$"
      ],
      "text/plain": [
       "    1     \n",
       "──────────\n",
       "         2\n",
       "(T⋅s + 1) "
      ]
     },
     "execution_count": 5,
     "metadata": {},
     "output_type": "execute_result"
    }
   ],
   "source": [
    "G = 1/(s*T+1)**2\n",
    "G"
   ]
  },
  {
   "cell_type": "code",
   "execution_count": 6,
   "metadata": {},
   "outputs": [
    {
     "data": {
      "image/png": "[encoded data removed]",
      "text/latex": [
       "$$- \\frac{T}{T s + 1} - \\frac{T}{\\left(T s + 1\\right)^{2}} + \\frac{1}{s}$$"
      ],
      "text/plain": [
       "     T          T        1\n",
       "- ─────── - ────────── + ─\n",
       "  T⋅s + 1            2   s\n",
       "            (T⋅s + 1)     "
      ]
     },
     "execution_count": 6,
     "metadata": {},
     "output_type": "execute_result"
    }
   ],
   "source": [
    "Y = sy.apart(G*1/s, s)\n",
    "Y"
   ]
  },
  {
   "cell_type": "code",
   "execution_count": 7,
   "metadata": {},
   "outputs": [
    {
     "data": {
      "image/png": "[encoded data removed]",
      "text/latex": [
       "$$\\frac{1}{T e^{\\frac{t}{T}}} \\left(T e^{\\frac{t}{T}} - T - t\\right)$$"
      ],
      "text/plain": [
       "⎛   t        ⎞  -t \n",
       "⎜   ─        ⎟  ───\n",
       "⎜   T        ⎟   T \n",
       "⎝T⋅ℯ  - T - t⎠⋅ℯ   \n",
       "───────────────────\n",
       "         T         "
      ]
     },
     "execution_count": 7,
     "metadata": {},
     "output_type": "execute_result"
    }
   ],
   "source": [
    "y = sy.inverse_laplace_transform(Y,s,t)\n",
    "y"
   ]
  },
  {
   "cell_type": "code",
   "execution_count": 8,
   "metadata": {},
   "outputs": [
    {
     "data": {
      "image/png": "[encoded data removed]",
      "text/latex": [
       "$$\\frac{1}{\\left(T_{1} s + 1\\right) \\left(T_{2} s + 1\\right)}$$"
      ],
      "text/plain": [
       "          1          \n",
       "─────────────────────\n",
       "(T₁⋅s + 1)⋅(T₂⋅s + 1)"
      ]
     },
     "execution_count": 8,
     "metadata": {},
     "output_type": "execute_result"
    }
   ],
   "source": [
    "G2 = 1/((s*T1+1)*(s*T2+1))\n",
    "G2"
   ]
  },
  {
   "cell_type": "code",
   "execution_count": 9,
   "metadata": {},
   "outputs": [
    {
     "data": {
      "image/png": "[encoded data removed]",
      "text/latex": [
       "$$- \\frac{T_{1}^{2}}{\\left(T_{1} - T_{2}\\right) \\left(T_{1} s + 1\\right)} + \\frac{T_{2}^{2}}{\\left(T_{1} - T_{2}\\right) \\left(T_{2} s + 1\\right)} + \\frac{1}{s}$$"
      ],
      "text/plain": [
       "            2                      2             \n",
       "          T₁                     T₂             1\n",
       "- ──────────────────── + ──────────────────── + ─\n",
       "  (T₁ - T₂)⋅(T₁⋅s + 1)   (T₁ - T₂)⋅(T₂⋅s + 1)   s"
      ]
     },
     "execution_count": 9,
     "metadata": {},
     "output_type": "execute_result"
    }
   ],
   "source": [
    "Y2 = sy.apart(G2*1/s, s)\n",
    "Y2"
   ]
  },
  {
   "cell_type": "code",
   "execution_count": 10,
   "metadata": {},
   "outputs": [
    {
     "data": {
      "image/png": "[encoded data removed]",
      "text/latex": [
       "$$\\frac{1}{\\left(T_{1} - T_{2}\\right) e^{\\frac{t}{T_{2}} + \\frac{t}{T_{1}}}} \\left(- T_{1} e^{\\frac{t}{T_{2}}} + T_{1} e^{\\frac{t}{T_{2}} + \\frac{t}{T_{1}}} + T_{2} e^{\\frac{t}{T_{1}}} - T_{2} e^{\\frac{t}{T_{2}} + \\frac{t}{T_{1}}}\\right)$$"
      ],
      "text/plain": [
       "⎛      t        t    t        t        t    t ⎞    t    t \n",
       "⎜      ──       ── + ──       ──       ── + ──⎟  - ── - ──\n",
       "⎜      T₂       T₂   T₁       T₁       T₂   T₁⎟    T₂   T₁\n",
       "⎝- T₁⋅ℯ   + T₁⋅ℯ        + T₂⋅ℯ   - T₂⋅ℯ       ⎠⋅ℯ         \n",
       "──────────────────────────────────────────────────────────\n",
       "                         T₁ - T₂                          "
      ]
     },
     "execution_count": 10,
     "metadata": {},
     "output_type": "execute_result"
    }
   ],
   "source": [
    "y2 = sy.inverse_laplace_transform(Y2,s,t)\n",
    "y2"
   ]
  },
  {
   "cell_type": "code",
   "execution_count": 11,
   "metadata": {},
   "outputs": [
    {
     "data": {
      "image/png": "[encoded data removed]",
      "text/latex": [
       "$$\\frac{1}{\\left(T_{1} - T_{2}\\right) e^{\\frac{t}{T_{2}} + \\frac{t}{T_{1}}}} \\left(- T_{1} e^{\\frac{t}{T_{2}}} + T_{1} e^{\\frac{t \\left(T_{1} + T_{2}\\right)}{T_{1} T_{2}}} + T_{2} e^{\\frac{t}{T_{1}}} - T_{2} e^{\\frac{t \\left(T_{1} + T_{2}\\right)}{T_{1} T_{2}}}\\right)$$"
      ],
      "text/plain": [
       "⎛      t        t⋅(T₁ + T₂)       t        t⋅(T₁ + T₂)⎞    t    t \n",
       "⎜      ──       ───────────       ──       ───────────⎟  - ── - ──\n",
       "⎜      T₂          T₁⋅T₂          T₁          T₁⋅T₂   ⎟    T₂   T₁\n",
       "⎝- T₁⋅ℯ   + T₁⋅ℯ            + T₂⋅ℯ   - T₂⋅ℯ           ⎠⋅ℯ         \n",
       "──────────────────────────────────────────────────────────────────\n",
       "                             T₁ - T₂                              "
      ]
     },
     "execution_count": 11,
     "metadata": {},
     "output_type": "execute_result"
    }
   ],
   "source": [
    "sy.simplify(sy.expand(y2))"
   ]
  }
 ],
 "metadata": {
  "kernelspec": {
   "display_name": "Python 3",
   "language": "python",
   "name": "python3"
  },
  "language_info": {
   "codemirror_mode": {
    "name": "ipython",
    "version": 3
   },
   "file_extension": ".py",
   "mimetype": "text/x-python",
   "name": "python",
   "nbconvert_exporter": "python",
   "pygments_lexer": "ipython3",
   "version": "3.5.2"
  }
 },
 "nbformat": 4,
 "nbformat_minor": 1
}
