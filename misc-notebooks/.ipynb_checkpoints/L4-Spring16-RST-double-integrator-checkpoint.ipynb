{
 "cells": [
  {
   "cell_type": "code",
   "execution_count": 2,
   "metadata": {
    "collapsed": true
   },
   "outputs": [],
   "source": [
    "import numpy as np\n",
    "import sympy as sy\n",
    "import control.matlab as cm"
   ]
  },
  {
   "cell_type": "code",
   "execution_count": 21,
   "metadata": {
    "collapsed": false
   },
   "outputs": [
    {
     "name": "stdout",
     "output_type": "stream",
     "text": [
      "Poly(1.0*z**2 - 1.69131784560334*z + 0.732713875869332, z, domain='RR')\n",
      "Poly(1.0*z**3 - 2.33535426668648*z**2 + 1.82198416806576*z - 0.471894422292842, z, domain='RR')\n",
      "[1.0*r1 + 0.005*s0 + 0.335354266686485, -2.0*r1 + 0.005*s0 + 0.005*s1 - 0.821984168065758, 1.0*r1 + 0.005*s1 + 0.471894422292842]\n"
     ]
    }
   ],
   "source": [
    "z = sy.symbols('z', real=False)\n",
    "hh,r1,s0,s1, aa = sy.symbols('h,r1,s0,s1, a')\n",
    "pc1 = -1.555-1j*1.555\n",
    "pc2 = np.conjugate(pc1)\n",
    "Tr = 1\n",
    "omega0 = 2.2/Tr\n",
    "#h = 0.2/omega0\n",
    "h = Tr/10.0\n",
    "a = -2*omega0\n",
    "ad = sy.exp(h*a)\n",
    "#ad = sy.symbols('a_d')\n",
    "A2p = sy.simplify(sy.expand(sy.poly((z-np.exp(h*pc1))*(z-np.exp(h*pc2)), z))) # Desired closed loop poles\n",
    "Acp = sy.simplify(sy.expand(sy.poly((z-np.exp(h*pc1))*(z-np.exp(h*pc2))*(z - ad), z))) # Desired charact polynomial \n",
    "Ap = sy.poly((z-1)**2, z) # Plant denominator, double integrator\n",
    "Bp = sy.poly(h**2/2*(z+1), z)\n",
    "Rp = sy.poly(z+r1, z)\n",
    "Sp = sy.poly(s0*z + s1, z)\n",
    "dioph=(Ap*Rp+Bp*Sp-Acp).all_coeffs()\n",
    "print A2p\n",
    "print Acp\n",
    "print dioph"
   ]
  },
  {
   "cell_type": "code",
   "execution_count": 22,
   "metadata": {
    "collapsed": false
   },
   "outputs": [
    {
     "name": "stdout",
     "output_type": "stream",
     "text": [
      "-0.132570215943283\n",
      "z - 0.644036421083141\n",
      "z - 0.845658922801672 + 0.132570215943283*I\n"
     ]
    }
   ],
   "source": [
    "print sy.im(sy.exp(h*pc1))\n",
    "print z-sy.exp(h*a)\n",
    "print z-np.exp(h*pc1)"
   ]
  },
  {
   "cell_type": "code",
   "execution_count": 13,
   "metadata": {
    "collapsed": false
   },
   "outputs": [
    {
     "name": "stdout",
     "output_type": "stream",
     "text": [
      "-0.856007930368168*a_d + 0.143992069631831\n",
      "-28.7984139263664*a_d + 32.9380169529651\n",
      "24.6588108997672*a_d - 28.7984139263663\n",
      "4.13960302659890\n"
     ]
    }
   ],
   "source": [
    "sol=sy.solve(dioph, (r1,s0,s1))\n",
    "print sol[r1]\n",
    "print sol[s0]\n",
    "print sol[s1]\n",
    "\n",
    "t0 = A2p.evalf(subs={z:1})/Bp.evalf(subs={z:1,})\n",
    "print t0"
   ]
  },
  {
   "cell_type": "code",
   "execution_count": 19,
   "metadata": {
    "collapsed": false
   },
   "outputs": [
    {
     "name": "stdout",
     "output_type": "stream",
     "text": [
      "Poly(1.0*z**2 - 1.69131784560334*z + 0.732713875869332, z, domain='RR')\n"
     ]
    },
    {
     "data": {
      "text/plain": [
       "0.04700000000000004"
      ]
     },
     "execution_count": 19,
     "metadata": {},
     "output_type": "execute_result"
    }
   ],
   "source": [
    "print A2p\n",
    "1-1.69+0.737"
   ]
  },
  {
   "cell_type": "code",
   "execution_count": 15,
   "metadata": {
    "collapsed": false
   },
   "outputs": [
    {
     "name": "stdout",
     "output_type": "stream",
     "text": [
      "\n",
      " 0.001339 z + 0.001247\n",
      "----------------------\n",
      "z^2 - 1.807 z + 0.8071\n",
      "\n",
      "dt = 0.03\n",
      "\n",
      "\n",
      " 0.001339 z + 0.001247\n",
      "----------------------\n",
      "z^2 - 1.807 z + 0.8071\n",
      "\n",
      "dt = 0.03\n",
      "\n"
     ]
    }
   ],
   "source": [
    "\n",
    "G = Km * cm.tf([1], [tau, 1, 0])\n",
    "Gd = Km * cm.tf([tau*(hpt-1+np.exp(-hpt)), tau*(1-(1+hpt)*np.exp(-hpt))], [1, -(1+np.exp(-hpt)), np.exp(-hpt)], h)\n",
    "Gd2 = cm.c2d(G, h)\n",
    "print Gd\n",
    "print Gd2"
   ]
  },
  {
   "cell_type": "code",
   "execution_count": 33,
   "metadata": {
    "collapsed": false
   },
   "outputs": [
    {
     "name": "stdout",
     "output_type": "stream",
     "text": [
      "Poly(z**2 - 1.58555290309441*z - (-0.792776451547206 + 0.168974310731771*I)*(0.792776451547206 + 0.168974310731771*I), z, domain='EX')\n",
      "0.0714939167206446\n",
      "Poly(0.00133942860759726*z + 0.00124712240506047, z, domain='RR')\n",
      "0.00258655101265772\n"
     ]
    }
   ],
   "source": [
    "print A2p\n",
    "print A2p.evalf(subs={z:1})\n",
    "print Bp\n",
    "print Bp.evalf(subs={z:1})\n"
   ]
  },
  {
   "cell_type": "code",
   "execution_count": 4,
   "metadata": {
    "collapsed": false
   },
   "outputs": [
    {
     "data": {
      "text/plain": [
       "0.042426406871192847"
      ]
     },
     "execution_count": 4,
     "metadata": {},
     "output_type": "execute_result"
    }
   ],
   "source": [
    "0.3/(5*np.sqrt(2))"
   ]
  },
  {
   "cell_type": "code",
   "execution_count": 6,
   "metadata": {
    "collapsed": false
   },
   "outputs": [
    {
     "data": {
      "text/plain": [
       "0.16897431073177133"
      ]
     },
     "execution_count": 6,
     "metadata": {},
     "output_type": "execute_result"
    }
   ],
   "source": [
    "np.exp(-0.21)*np.sin(0.21)"
   ]
  },
  {
   "cell_type": "code",
   "execution_count": 7,
   "metadata": {
    "collapsed": false
   },
   "outputs": [
    {
     "data": {
      "text/plain": [
       "0.65704681981505675"
      ]
     },
     "execution_count": 7,
     "metadata": {},
     "output_type": "execute_result"
    }
   ],
   "source": [
    "np.exp(0.03*(-14))"
   ]
  },
  {
   "cell_type": "code",
   "execution_count": null,
   "metadata": {
    "collapsed": true
   },
   "outputs": [],
   "source": []
  }
 ],
 "metadata": {
  "kernelspec": {
   "display_name": "Python 2",
   "language": "python",
   "name": "python2"
  },
  "language_info": {
   "codemirror_mode": {
    "name": "ipython",
    "version": 2
   },
   "file_extension": ".py",
   "mimetype": "text/x-python",
   "name": "python",
   "nbconvert_exporter": "python",
   "pygments_lexer": "ipython2",
   "version": "2.7.12"
  }
 },
 "nbformat": 4,
 "nbformat_minor": 0
}
