{
 "cells": [
  {
   "cell_type": "code",
   "execution_count": 11,
   "metadata": {
    "collapsed": true
   },
   "outputs": [],
   "source": [
    "import numpy as np\n",
    "import sympy as sy\n",
    "import control.matlab as cm"
   ]
  },
  {
   "cell_type": "markdown",
   "metadata": {},
   "source": [
    "# Zero order hold sampling of a first order system\n",
    "\n",
    "\\begin{equation}\n",
    "G(s) = \\frac{1}{s-\\lambda}\n",
    "\\end{equation}\n",
    "\n"
   ]
  },
  {
   "cell_type": "code",
   "execution_count": 4,
   "metadata": {},
   "outputs": [],
   "source": [
    "h, lam = sy.symbols('h, lambda', real=True)\n",
    "s, z = sy.symbols('s, z', real=False)"
   ]
  },
  {
   "cell_type": "code",
   "execution_count": 6,
   "metadata": {},
   "outputs": [
    {
     "data": {
      "text/plain": [
       "1/(lambda*(-lambda + s)) - 1/(lambda*s)"
      ]
     },
     "execution_count": 6,
     "metadata": {},
     "output_type": "execute_result"
    }
   ],
   "source": [
    "G = 1/(s-lam)\n",
    "Y = G/s\n",
    "Yp = sy.apart(Y, s)\n",
    "Yp"
   ]
  },
  {
   "cell_type": "code",
   "execution_count": 8,
   "metadata": {
    "collapsed": true
   },
   "outputs": [],
   "source": [
    "from sympy.integrals.transforms import inverse_laplace_transform\n",
    "from sympy.abc import t"
   ]
  },
  {
   "cell_type": "code",
   "execution_count": 9,
   "metadata": {},
   "outputs": [
    {
     "data": {
      "text/plain": [
       "(exp(lambda*t) - 1)*Heaviside(t)/lambda"
      ]
     },
     "execution_count": 9,
     "metadata": {},
     "output_type": "execute_result"
    }
   ],
   "source": [
    "inverse_laplace_transform(Yp, s, t)"
   ]
  },
  {
   "cell_type": "markdown",
   "metadata": {},
   "source": [
    "## Sampling and taking the z-transform of the step-response\n",
    "\\begin{equation}\n",
    "Y(z) = \\frac{1}{\\lambda} \\left( \\frac{z}{z-\\mathrm{e}^{\\lambda h}} - \\frac{z}{z-1} \\right).\n",
    "\\end{equation}\n",
    "\n",
    "## Dividing by the z-transform of the input signal \n",
    "\\begin{equation}\n",
    "H(z) = \\frac{z-1}{z}Y(z) = \\frac{1}{\\lambda} \\left( \\frac{ \\mathrm{e}^{\\lambda h} - 1 }{ z - \\mathrm{e}^{\\lambda h} } \\right)\n",
    "\\end{equation}\n"
   ]
  },
  {
   "cell_type": "markdown",
   "metadata": {},
   "source": [
    "## Verifying for specific value of lambda"
   ]
  },
  {
   "cell_type": "code",
   "execution_count": 17,
   "metadata": {},
   "outputs": [],
   "source": [
    "lam = -0.5\n",
    "h = 0.1\n",
    "G = cm.tf([1], [1, -lam])\n",
    "Gd = cm.c2d(G, h)\n",
    "Hd = 1/lam * cm.tf([np.exp(lam*h)-1],[1, np.exp(lam*h)])"
   ]
  },
  {
   "cell_type": "code",
   "execution_count": 18,
   "metadata": {},
   "outputs": [
    {
     "name": "stdout",
     "output_type": "stream",
     "text": [
      "\n",
      "  0.09754\n",
      "----------\n",
      "z - 0.9512\n",
      "\n",
      "dt = 0.1\n",
      "\n",
      "\n",
      "  0.09754\n",
      "----------\n",
      "s + 0.9512\n",
      "\n"
     ]
    }
   ],
   "source": [
    "print Gd\n",
    "print Hd"
   ]
  },
  {
   "cell_type": "code",
   "execution_count": null,
   "metadata": {
    "collapsed": true
   },
   "outputs": [],
   "source": []
  }
 ],
 "metadata": {
  "kernelspec": {
   "display_name": "Python 2",
   "language": "python",
   "name": "python2"
  },
  "language_info": {
   "codemirror_mode": {
    "name": "ipython",
    "version": 2
   },
   "file_extension": ".py",
   "mimetype": "text/x-python",
   "name": "python",
   "nbconvert_exporter": "python",
   "pygments_lexer": "ipython2",
   "version": "2.7.13"
  }
 },
 "nbformat": 4,
 "nbformat_minor": 1
}
