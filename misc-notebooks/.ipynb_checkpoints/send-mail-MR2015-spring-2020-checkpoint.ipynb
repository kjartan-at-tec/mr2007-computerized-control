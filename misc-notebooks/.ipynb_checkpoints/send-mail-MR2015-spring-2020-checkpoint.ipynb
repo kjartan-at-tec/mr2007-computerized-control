{
 "cells": [
  {
   "cell_type": "markdown",
   "metadata": {},
   "source": [
    "# Sending emails with students' results"
   ]
  },
  {
   "cell_type": "code",
   "execution_count": 1,
   "metadata": {},
   "outputs": [],
   "source": [
    "import smtplib\n",
    "import base64\n",
    "from email.mime.text import MIMEText\n",
    "from email.mime.multipart import MIMEMultipart"
   ]
  },
  {
   "cell_type": "code",
   "execution_count": 2,
   "metadata": {},
   "outputs": [],
   "source": [
    "def send_mail(address, subject, msg='test', msgHTML = '<p>test</p>'):\n",
    "\n",
    "    user = 'kjartan@tec.mx'\n",
    "    passwd = base64.b64decode(b'VEUxcjFrLmEuMC5oLmM=')\n",
    "    pwd = \"\".join( chr(x) for x in passwd)\n",
    "\n",
    "    message = MIMEMultipart(\"alternative\")\n",
    "    message[\"Subject\"] = subject\n",
    "    message[\"From\"] = user\n",
    "    message[\"To\"] = address\n",
    "\n",
    "    # Turn these into plain/html MIMEText objects\n",
    "    part1 = MIMEText(msg, \"plain\")\n",
    "    part2 = MIMEText(msgHTML, \"html\")\n",
    "\n",
    "    # Add HTML/plain-text parts to MIMEMultipart message\n",
    "    # The email client will try to render the last part first\n",
    "    message.attach(part1)\n",
    "    message.attach(part2)\n",
    "\n",
    "    mailserver = smtplib.SMTP('smtp.office365.com',587)\n",
    "    mailserver.ehlo()\n",
    "    mailserver.starttls()\n",
    "    mailserver.login(user, pwd)\n",
    "    header = 'To:' + address + '\\n' \n",
    "    header += 'From: ' + user + '\\n' \n",
    "    header += 'Subject:' + subject +'\\n'\n",
    "    print(header)\n",
    "    msgbody = header + '\\n' + msg + '\\n\\n'\n",
    "    mailserver.sendmail(user, address, message.as_string())\n",
    "    mailserver.quit()"
   ]
  },
  {
   "cell_type": "code",
   "execution_count": 3,
   "metadata": {},
   "outputs": [
    {
     "name": "stdout",
     "output_type": "stream",
     "text": [
      "To:kjartan.halvorsen@gmail.com\n",
      "From: kjartan@tec.mx\n",
      "Subject:Test igjen\n",
      "\n"
     ]
    }
   ],
   "source": [
    "send_mail('kjartan.halvorsen@gmail.com', 'Test igjen', 'Hej')"
   ]
  },
  {
   "cell_type": "markdown",
   "metadata": {},
   "source": [
    "## Load excel file extract relevant rows and send in email"
   ]
  },
  {
   "cell_type": "code",
   "execution_count": 5,
   "metadata": {},
   "outputs": [],
   "source": [
    "import pandas as pd\n",
    "from pandas import ExcelWriter\n",
    "from pandas import ExcelFile"
   ]
  },
  {
   "cell_type": "code",
   "execution_count": 22,
   "metadata": {},
   "outputs": [],
   "source": [
    "fname = '/home/kjartan/Dropbox/undervisning/tec/MR2007/HT2019/MR2007-grades.xlsx'\n",
    "fname = '/home/kjartan/tec/mr3028/ht2019/MR3028-grades.xls'\n",
    "fname = '/home/kjartan/Dropbox/undervisning/tec/TE3045/HT2019/TE3045-grades.xls'\n",
    "fname = '/home/kjartan/Dropbox/undervisning/tec/MR2015/spring2020/MR2015-2-grades.xls'\n",
    "fname = '/home/kjartan/Dropbox/undervisning/tec/MR2015/spring2020/MR2015-1-grades.xls'\n",
    "subject = 'Final grade for Process Automation Laboratory'"
   ]
  },
  {
   "cell_type": "code",
   "execution_count": 27,
   "metadata": {},
   "outputs": [
    {
     "name": "stdout",
     "output_type": "stream",
     "text": [
      "Column headings:\n",
      "Index(['Indice', 'Programa Académico', 'Matrícula', 'Nombre', 'T1', 'T2',\n",
      "       'Proj report', 'Exam Quiz', 'Exam Vid', '1P', 'T3', 'T4', 'T5',\n",
      "       'Proj report.1', 'Exam Quiz.1', 'Exam Vid.1', '2P', 'T6', 'T7',\n",
      "       'Proj presentation', 'Proj report.2', 'Total'],\n",
      "      dtype='object')\n"
     ]
    }
   ],
   "source": [
    "df = pd.read_excel(fname, sheet_name='Sheet1')\n",
    "\n",
    "print(\"Column headings:\")\n",
    "print(df.columns)"
   ]
  },
  {
   "cell_type": "code",
   "execution_count": 28,
   "metadata": {},
   "outputs": [
    {
     "data": {
      "text/plain": [
       "0        Weight\n",
       "1     A01169869\n",
       "2     A01371506\n",
       "3     A01371540\n",
       "4     A01372654\n",
       "5     A01373192\n",
       "6     A01373330\n",
       "7     A01373724\n",
       "8     A01374284\n",
       "9     A01376127\n",
       "10    A01377497\n",
       "11    A01377998\n",
       "12    A01378509\n",
       "Name: Matrícula, dtype: object"
      ]
     },
     "execution_count": 28,
     "metadata": {},
     "output_type": "execute_result"
    }
   ],
   "source": [
    "df['Matrícula']"
   ]
  },
  {
   "cell_type": "code",
   "execution_count": 29,
   "metadata": {},
   "outputs": [
    {
     "data": {
      "text/html": [
       "<div>\n",
       "<style scoped>\n",
       "    .dataframe tbody tr th:only-of-type {\n",
       "        vertical-align: middle;\n",
       "    }\n",
       "\n",
       "    .dataframe tbody tr th {\n",
       "        vertical-align: top;\n",
       "    }\n",
       "\n",
       "    .dataframe thead th {\n",
       "        text-align: right;\n",
       "    }\n",
       "</style>\n",
       "<table border=\"1\" class=\"dataframe\">\n",
       "  <thead>\n",
       "    <tr style=\"text-align: right;\">\n",
       "      <th></th>\n",
       "      <th>Indice</th>\n",
       "      <th>Programa Académico</th>\n",
       "      <th>Matrícula</th>\n",
       "      <th>Nombre</th>\n",
       "      <th>T1</th>\n",
       "      <th>T2</th>\n",
       "      <th>Proj report</th>\n",
       "      <th>Exam Quiz</th>\n",
       "      <th>Exam Vid</th>\n",
       "      <th>1P</th>\n",
       "      <th>...</th>\n",
       "      <th>T5</th>\n",
       "      <th>Proj report.1</th>\n",
       "      <th>Exam Quiz.1</th>\n",
       "      <th>Exam Vid.1</th>\n",
       "      <th>2P</th>\n",
       "      <th>T6</th>\n",
       "      <th>T7</th>\n",
       "      <th>Proj presentation</th>\n",
       "      <th>Proj report.2</th>\n",
       "      <th>Total</th>\n",
       "    </tr>\n",
       "  </thead>\n",
       "  <tbody>\n",
       "    <tr>\n",
       "      <th>0</th>\n",
       "      <td>NaN</td>\n",
       "      <td>NaN</td>\n",
       "      <td>Weight</td>\n",
       "      <td>NaN</td>\n",
       "      <td>0.05</td>\n",
       "      <td>0.08</td>\n",
       "      <td>0.06</td>\n",
       "      <td>0.04</td>\n",
       "      <td>0.04</td>\n",
       "      <td>NaN</td>\n",
       "      <td>...</td>\n",
       "      <td>0.05</td>\n",
       "      <td>0.06</td>\n",
       "      <td>0.04</td>\n",
       "      <td>0.04</td>\n",
       "      <td>NaN</td>\n",
       "      <td>0.06</td>\n",
       "      <td>0.05</td>\n",
       "      <td>0.15</td>\n",
       "      <td>0.15</td>\n",
       "      <td>1.0</td>\n",
       "    </tr>\n",
       "  </tbody>\n",
       "</table>\n",
       "<p>1 rows × 22 columns</p>\n",
       "</div>"
      ],
      "text/plain": [
       "   Indice Programa Académico Matrícula Nombre    T1    T2  Proj report  \\\n",
       "0     NaN                NaN    Weight    NaN  0.05  0.08         0.06   \n",
       "\n",
       "   Exam Quiz  Exam Vid  1P  ...    T5  Proj report.1  Exam Quiz.1  Exam Vid.1  \\\n",
       "0       0.04      0.04 NaN  ...  0.05           0.06         0.04        0.04   \n",
       "\n",
       "   2P    T6    T7  Proj presentation  Proj report.2  Total  \n",
       "0 NaN  0.06  0.05               0.15           0.15    1.0  \n",
       "\n",
       "[1 rows x 22 columns]"
      ]
     },
     "execution_count": 29,
     "metadata": {},
     "output_type": "execute_result"
    }
   ],
   "source": [
    "df.loc[(df.Matrícula == \"A01376209\") | (df.Matrícula == \"Weight\")]"
   ]
  },
  {
   "cell_type": "code",
   "execution_count": 30,
   "metadata": {},
   "outputs": [
    {
     "data": {
      "text/html": [
       "<pd><table><tr><td>T1</td><td>Report intro-lab</td></tr><tr><td>T2</td><td>Report lab 2 and 3, circuits and dynamics</td></tr><tr><td>T3</td><td>Report lab 4 and 5, PID control</td></tr><tr><td>T4</td><td>Report lab 6, digital logic</td></tr><tr><td>T5</td><td>Report lab 7, pneumatics</td></tr><tr><td>T6</td><td>Report lab 8, ladder diagrams electro-pneumatics</td></tr><tr><td>T7</td><td>PI & D video assignment</td></tr></table></pd>"
      ],
      "text/plain": [
       "<IPython.core.display.HTML object>"
      ]
     },
     "metadata": {},
     "output_type": "display_data"
    }
   ],
   "source": [
    "from IPython.display import HTML\n",
    "tabellinfo = '<pd><table>'\n",
    "for key, desc in [('T1', 'Report intro-lab'),\n",
    "                  ('T2', 'Report lab 2 and 3, circuits and dynamics'),\n",
    "                  ('T3', 'Report lab 4 and 5, PID control'),\n",
    "                  ('T4', 'Report lab 6, digital logic'),\n",
    "                  ('T5', 'Report lab 7, pneumatics'),\n",
    "                  ('T6', 'Report lab 8, ladder diagrams electro-pneumatics'),\n",
    "                  ('T7', 'PI & D video assignment')]:\n",
    "    tabellinfo += '<tr><td>' + key + '</td>' + '<td>' + desc + '</td></tr>'\n",
    "tabellinfo += '</table></pd>'\n",
    "display(HTML(tabellinfo))"
   ]
  },
  {
   "cell_type": "code",
   "execution_count": 31,
   "metadata": {},
   "outputs": [
    {
     "name": "stdout",
     "output_type": "stream",
     "text": [
      "To:A01169869@itesm.mx\n",
      "From: kjartan@tec.mx\n",
      "Subject:Final grade for Process Automation Laboratory\n",
      "\n",
      "To:A01371506@itesm.mx\n",
      "From: kjartan@tec.mx\n",
      "Subject:Final grade for Process Automation Laboratory\n",
      "\n",
      "To:A01371540@itesm.mx\n",
      "From: kjartan@tec.mx\n",
      "Subject:Final grade for Process Automation Laboratory\n",
      "\n",
      "To:A01372654@itesm.mx\n",
      "From: kjartan@tec.mx\n",
      "Subject:Final grade for Process Automation Laboratory\n",
      "\n",
      "To:A01373192@itesm.mx\n",
      "From: kjartan@tec.mx\n",
      "Subject:Final grade for Process Automation Laboratory\n",
      "\n",
      "To:A01373330@itesm.mx\n",
      "From: kjartan@tec.mx\n",
      "Subject:Final grade for Process Automation Laboratory\n",
      "\n",
      "To:A01373724@itesm.mx\n",
      "From: kjartan@tec.mx\n",
      "Subject:Final grade for Process Automation Laboratory\n",
      "\n",
      "To:A01374284@itesm.mx\n",
      "From: kjartan@tec.mx\n",
      "Subject:Final grade for Process Automation Laboratory\n",
      "\n",
      "To:A01376127@itesm.mx\n",
      "From: kjartan@tec.mx\n",
      "Subject:Final grade for Process Automation Laboratory\n",
      "\n",
      "To:A01377497@itesm.mx\n",
      "From: kjartan@tec.mx\n",
      "Subject:Final grade for Process Automation Laboratory\n",
      "\n",
      "To:A01377998@itesm.mx\n",
      "From: kjartan@tec.mx\n",
      "Subject:Final grade for Process Automation Laboratory\n",
      "\n",
      "To:A01378509@itesm.mx\n",
      "From: kjartan@tec.mx\n",
      "Subject:Final grade for Process Automation Laboratory\n",
      "\n"
     ]
    }
   ],
   "source": [
    "for index, row in df.iterrows():\n",
    "    m = row['Matrícula']\n",
    "    name = row['Nombre']\n",
    "    if m[0] == 'A':\n",
    "        address = m + '@itesm.mx'\n",
    "        #print(address)\n",
    "        #address = 'kjartan.halvorsen@gmail.com'\n",
    "        html = \"<p>Hi,</p> \"\n",
    "        #html += \"<p>Sorry for spamming. There was a mistake in the calculation of the final grade. See updated table below.</p>\"\n",
    "        html += \"<p>Thanks a lot for your effort during the course this semester!</p>\"\n",
    "        html += \"<p>If you want to discuss the grade, please contact me using Remind or email. </p>\"\n",
    "        html += \"<p> Take care! Best regards, Kjartan</p><p></p>\"\n",
    "        html += \"<p>These are your results. The first row shows the weighting. The final grade is in the second row, last column</p>\"\n",
    "        html += df.loc[(df.Matrícula == m) | (df.Matrícula == \"Weight\")].to_html()\n",
    "        html += tabellinfo\n",
    "        alt = 'Your results'\n",
    "        send_mail(address, subject, alt, html)"
   ]
  },
  {
   "cell_type": "markdown",
   "metadata": {},
   "source": [
    "## Test"
   ]
  },
  {
   "cell_type": "code",
   "execution_count": 22,
   "metadata": {},
   "outputs": [
    {
     "name": "stdout",
     "output_type": "stream",
     "text": [
      "To:kjartan.halvorsen@gmail.com\n",
      "From: kjartan@tec.mx\n",
      "Subject:Final grade\n",
      "\n"
     ]
    }
   ],
   "source": [
    "html = \"<p>Hi,</p> <p>Thanks a lot for your effort in the course this semester!</p>\"\n",
    "html += \"<p>These are your results</p>\"\n",
    "html += df.loc[(df.Matrícula == \"A01372526\") | (df.Matrícula == \"Weight\")].to_html()\n",
    "alt = 'Your results'\n",
    "send_mail('kjartan.halvorsen@gmail.com', 'Final grade', alt, html)"
   ]
  }
 ],
 "metadata": {
  "kernelspec": {
   "display_name": "Python 3",
   "language": "python",
   "name": "python3"
  },
  "language_info": {
   "codemirror_mode": {
    "name": "ipython",
    "version": 3
   },
   "file_extension": ".py",
   "mimetype": "text/x-python",
   "name": "python",
   "nbconvert_exporter": "python",
   "pygments_lexer": "ipython3",
   "version": "3.5.2"
  }
 },
 "nbformat": 4,
 "nbformat_minor": 2
}
