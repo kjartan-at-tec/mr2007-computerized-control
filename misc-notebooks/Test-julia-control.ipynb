{
 "cells": [
  {
   "cell_type": "code",
   "execution_count": 8,
   "metadata": {
    "collapsed": false
   },
   "outputs": [
    {
     "name": "stderr",
     "output_type": "stream",
     "text": [
      "INFO: Updating METADATA...\n",
      "INFO: Updating Plotly...\n",
      "INFO: Updating Control...\n",
      "INFO: Computing changes...\n",
      "INFO: No packages to install, update or remove\n",
      "INFO: Nothing to be done\n",
      "INFO: Cloning cache of ArrayViews from git://github.com/JuliaLang/ArrayViews.jl.git\n",
      "INFO: Cloning cache of Calculus from git://github.com/johnmyleswhite/Calculus.jl.git\n",
      "INFO: Cloning cache of Compose from git://github.com/dcjones/Compose.jl.git\n",
      "INFO: Cloning cache of Contour from git://github.com/tlycken/Contour.jl.git\n",
      "INFO: Cloning cache of DataArrays from git://github.com/JuliaStats/DataArrays.jl.git\n",
      "INFO: Cloning cache of DataFrames from git://github.com/JuliaStats/DataFrames.jl.git\n",
      "INFO: Cloning cache of DataStructures from git://github.com/JuliaLang/DataStructures.jl.git\n",
      "INFO: Cloning cache of Distances from git://github.com/JuliaStats/Distances.jl.git\n",
      "INFO: Cloning cache of Distributions from git://github.com/JuliaStats/Distributions.jl.git\n",
      "INFO: Cloning cache of Docile from git://github.com/MichaelHatherly/Docile.jl.git\n",
      "INFO: Cloning cache of DualNumbers from git://github.com/JuliaDiff/DualNumbers.jl.git\n",
      "INFO: Cloning cache of GZip from git://github.com/JuliaLang/GZip.jl.git\n",
      "INFO: Cloning cache of Gadfly from git://github.com/dcjones/Gadfly.jl.git\n",
      "INFO: Cloning cache of Grid from git://github.com/timholy/Grid.jl.git\n",
      "INFO: Cloning cache of Hexagons from git://github.com/dcjones/Hexagons.jl.git\n",
      "INFO: Cloning cache of Iterators from git://github.com/JuliaLang/Iterators.jl.git\n",
      "INFO: Cloning cache of KernelDensity from git://github.com/JuliaStats/KernelDensity.jl.git\n",
      "INFO: Cloning cache of Loess from git://github.com/dcjones/Loess.jl.git\n",
      "INFO: Cloning cache of Measures from git://github.com/dcjones/Measures.jl.git\n",
      "INFO: Cloning cache of NaNMath from git://github.com/mlubin/NaNMath.jl.git\n",
      "INFO: Cloning cache of Optim from git://github.com/JuliaOpt/Optim.jl.git\n",
      "INFO: Cloning cache of PDMats from git://github.com/JuliaStats/PDMats.jl.git\n",
      "INFO: Cloning cache of PositiveFactorizations from git://github.com/timholy/PositiveFactorizations.jl.git\n",
      "INFO: Cloning cache of Showoff from git://github.com/JuliaGraphics/Showoff.jl.git\n",
      "INFO: Cloning cache of SortingAlgorithms from git://github.com/JuliaLang/SortingAlgorithms.jl.git\n",
      "INFO: Cloning cache of StatsBase from git://github.com/JuliaStats/StatsBase.jl.git\n",
      "INFO: Cloning cache of StatsFuns from git://github.com/JuliaStats/StatsFuns.jl.git\n",
      "INFO: Cloning cache of WoodburyMatrices from git://github.com/timholy/WoodburyMatrices.jl.git\n",
      "INFO: Installing ArrayViews v0.6.4\n",
      "INFO: Installing Calculus v0.1.14\n",
      "INFO: Installing Compose v0.4.2\n",
      "INFO: Installing Contour v0.1.0\n",
      "INFO: Installing DataArrays v0.3.0\n",
      "INFO: Installing DataFrames v0.7.1\n",
      "INFO: Installing DataStructures v0.4.4\n",
      "INFO: Installing Dates v0.4.4\n",
      "INFO: Installing Distances v0.3.1\n",
      "INFO: Installing Distributions v0.8.10\n",
      "INFO: Installing Docile v0.5.23\n",
      "INFO: Installing DualNumbers v0.2.2\n",
      "INFO: Installing GZip v0.2.18\n",
      "INFO: Installing Gadfly v0.4.2\n",
      "INFO: Installing Grid v0.4.0\n",
      "INFO: Installing Hexagons v0.0.4\n",
      "INFO: Installing Iterators v0.1.9\n",
      "INFO: Installing KernelDensity v0.1.2\n",
      "INFO: Installing Loess v0.0.6\n",
      "INFO: Installing Measures v0.0.2\n",
      "INFO: Installing NaNMath v0.2.1\n",
      "INFO: Installing Optim v0.4.5\n",
      "INFO: Installing PDMats v0.4.1\n",
      "INFO: Installing PositiveFactorizations v0.0.1\n",
      "INFO: Installing Showoff v0.0.7\n",
      "INFO: Installing SortingAlgorithms v0.0.6\n",
      "INFO: Installing StatsBase v0.8.1\n",
      "INFO: Installing StatsFuns v0.2.1\n",
      "INFO: Installing WoodburyMatrices v0.1.5\n",
      "INFO: Package database updated\n",
      "INFO: Nothing to be done\n"
     ]
    }
   ],
   "source": [
    "Pkg.update()\n",
    "Pkg.add(\"PyPlot\")\n",
    "Pkg.add(\"Gadfly\")\n",
    "Pkg.add(\"IJulia\")"
   ]
  },
  {
   "cell_type": "code",
   "execution_count": 1,
   "metadata": {
    "collapsed": false
   },
   "outputs": [
    {
     "name": "stderr",
     "output_type": "stream",
     "text": [
      "INFO: Nothing to be done\n",
      "INFO: METADATA is out-of-date — you may not have the latest version of ControlSystems\n",
      "INFO: Use `Pkg.update()` to get the latest versions of your packages\n"
     ]
    }
   ],
   "source": [
    "Pkg.add(\"ControlSystems\")\n"
   ]
  },
  {
   "cell_type": "code",
   "execution_count": 9,
   "metadata": {
    "collapsed": false
   },
   "outputs": [
    {
     "name": "stderr",
     "output_type": "stream",
     "text": [
      "INFO: Nothing to be done\n"
     ]
    }
   ],
   "source": [
    "\n",
    "Pkg.add(\"IJulia\")"
   ]
  },
  {
   "cell_type": "code",
   "execution_count": 2,
   "metadata": {
    "collapsed": false
   },
   "outputs": [
    {
     "name": "stderr",
     "output_type": "stream",
     "text": [
      "INFO: Recompiling stale cache file /home/kjartan/.julia/lib/v0.4/PyCall.ji for module PyCall.\n",
      "INFO: Recompiling stale cache file /home/kjartan/.julia/lib/v0.4/PyPlot.ji for module PyPlot.\n"
     ]
    },
    {
     "data": {
      "text/plain": [
       "true"
      ]
     },
     "execution_count": 2,
     "metadata": {},
     "output_type": "execute_result"
    }
   ],
   "source": [
    "using PyPlot\n",
    "PyPlot.svg(true)"
   ]
  },
  {
   "cell_type": "code",
   "execution_count": 3,
   "metadata": {
    "collapsed": false
   },
   "outputs": [],
   "source": [
    "using ControlSystems"
   ]
  },
  {
   "cell_type": "code",
   "execution_count": 4,
   "metadata": {
    "collapsed": false
   },
   "outputs": [
    {
     "data": {
      "text/plain": [
       "TransferFunction:\n",
       "      3.0\n",
       "----------------\n",
       "s^2 + 3.0s + 3.0\n",
       "\n",
       "Continuous-time transfer function model"
      ]
     },
     "execution_count": 4,
     "metadata": {},
     "output_type": "execute_result"
    }
   ],
   "source": [
    "G = tf([3], [1, 3, 3])"
   ]
  },
  {
   "cell_type": "code",
   "execution_count": 9,
   "metadata": {
    "collapsed": false
   },
   "outputs": [
    {
     "name": "stderr",
     "output_type": "stream",
     "text": [
      "INFO: Precompiling module Gadfly...\n",
      "INFO: Recompiling stale cache file /home/kjartan/.julia/lib/v0.4/Codecs.ji for module Codecs.\n"
     ]
    },
    {
     "ename": "PyCall.PyError",
     "evalue": "PyError (:PyObject_Call) <type 'exceptions.IOError'>\nIOError('Julia exception: MethodError(flush,(IOBuffer(data=UInt8[...], readable=true, writable=true, seekable=true, append=false, size=41085, maxsize=Inf, ptr=41086, mark=-1),))',)\n  File \"/home/kjartan/anaconda2/lib/python2.7/site-packages/matplotlib/backends/backend_qt5agg.py\", line 196, in print_figure\n    FigureCanvasAgg.print_figure(self, *args, **kwargs)\n  File \"/home/kjartan/anaconda2/lib/python2.7/site-packages/matplotlib/backend_bases.py\", line 2232, in print_figure\n    **kwargs)\n  File \"/home/kjartan/anaconda2/lib/python2.7/site-packages/matplotlib/backends/backend_svg.py\", line 1206, in print_svg\n    return self._print_svg(filename, svgwriter, fh_to_close, **kwargs)\n  File \"/home/kjartan/anaconda2/lib/python2.7/site-packages/matplotlib/backends/backend_svg.py\", line 1235, in _print_svg\n    renderer.finalize()\n  File \"/home/kjartan/anaconda2/lib/python2.7/site-packages/matplotlib/backends/backend_svg.py\", line 295, in finalize\n    self.writer.flush()\n  File \"PyCall.jl\", line 1, in <lambda>\n",
     "output_type": "error",
     "traceback": [
      "PyError (:PyObject_Call) <type 'exceptions.IOError'>\nIOError('Julia exception: MethodError(flush,(IOBuffer(data=UInt8[...], readable=true, writable=true, seekable=true, append=false, size=41085, maxsize=Inf, ptr=41086, mark=-1),))',)\n  File \"/home/kjartan/anaconda2/lib/python2.7/site-packages/matplotlib/backends/backend_qt5agg.py\", line 196, in print_figure\n    FigureCanvasAgg.print_figure(self, *args, **kwargs)\n  File \"/home/kjartan/anaconda2/lib/python2.7/site-packages/matplotlib/backend_bases.py\", line 2232, in print_figure\n    **kwargs)\n  File \"/home/kjartan/anaconda2/lib/python2.7/site-packages/matplotlib/backends/backend_svg.py\", line 1206, in print_svg\n    return self._print_svg(filename, svgwriter, fh_to_close, **kwargs)\n  File \"/home/kjartan/anaconda2/lib/python2.7/site-packages/matplotlib/backends/backend_svg.py\", line 1235, in _print_svg\n    renderer.finalize()\n  File \"/home/kjartan/anaconda2/lib/python2.7/site-packages/matplotlib/backends/backend_svg.py\", line 295, in finalize\n    self.writer.flush()\n  File \"PyCall.jl\", line 1, in <lambda>\n",
      ""
     ]
    }
   ],
   "source": [
    "using Gadfly\n",
    "stepplot(G);\n",
    "#PyPlot.show()"
   ]
  },
  {
   "cell_type": "code",
   "execution_count": 7,
   "metadata": {
    "collapsed": false
   },
   "outputs": [
    {
     "ename": "LoadError",
     "evalue": "LoadError: MethodError: `convert` has no method matching convert(::Type{ControlSystems.TransferFunction{S<:ControlSystems.SisoTf}}, ::Array{ControlSystems.TransferFunction{ControlSystems.SisoRational},1})\nThis may have arisen from a call to the constructor ControlSystems.TransferFunction{S<:ControlSystems.SisoTf}(...),\nsince type constructors fall back to convert methods.\nClosest candidates are:\n  call{T}(::Type{T}, ::Any)\n  convert{T<:Real}(::Type{ControlSystems.TransferFunction{S<:ControlSystems.SisoTf}}, !Matched::Union{Array{T<:Real,1},Array{T<:Real,2}})\n  convert{T}(::Type{T}, !Matched::T)\n  ...\nwhile loading In[7], in expression starting on line 1",
     "output_type": "error",
     "traceback": [
      "LoadError: MethodError: `convert` has no method matching convert(::Type{ControlSystems.TransferFunction{S<:ControlSystems.SisoTf}}, ::Array{ControlSystems.TransferFunction{ControlSystems.SisoRational},1})\nThis may have arisen from a call to the constructor ControlSystems.TransferFunction{S<:ControlSystems.SisoTf}(...),\nsince type constructors fall back to convert methods.\nClosest candidates are:\n  call{T}(::Type{T}, ::Any)\n  convert{T<:Real}(::Type{ControlSystems.TransferFunction{S<:ControlSystems.SisoTf}}, !Matched::Union{Array{T<:Real,1},Array{T<:Real,2}})\n  convert{T}(::Type{T}, !Matched::T)\n  ...\nwhile loading In[7], in expression starting on line 1",
      ""
     ]
    }
   ],
   "source": [
    "mag, ph, w = bode(TransferFunction([G]), (0.001, 10));"
   ]
  },
  {
   "cell_type": "code",
   "execution_count": 27,
   "metadata": {
    "collapsed": false
   },
   "outputs": [
    {
     "data": {
      "image/png": "[encoded data removed]",
      "text/plain": [
       "PyPlot.Figure(PyObject <matplotlib.figure.Figure object at 0x7fc25725a690>)"
      ]
     },
     "metadata": {},
     "output_type": "display_data"
    },
    {
     "data": {
      "text/plain": [
       "1-element Array{Any,1}:\n",
       " PyObject <matplotlib.lines.Line2D object at 0x7fc254282d90>"
      ]
     },
     "execution_count": 27,
     "metadata": {},
     "output_type": "execute_result"
    }
   ],
   "source": [
    "semilogx(w, ph[:])"
   ]
  },
  {
   "cell_type": "code",
   "execution_count": 46,
   "metadata": {
    "collapsed": false
   },
   "outputs": [
    {
     "ename": "LoadError",
     "evalue": "LoadError: syntax: invalid character literal\nwhile loading In[46], in expression starting on line 3",
     "output_type": "error",
     "traceback": [
      "LoadError: syntax: invalid character literal\nwhile loading In[46], in expression starting on line 3",
      ""
     ]
    }
   ],
   "source": [
    "pw = cat(2, ph[:], w);\n",
    "for i=1:size(pw,1)\n",
    "    @printf \"%f, %f\\n\"  pw[i,1] pw[i,2]\n",
    "    #print( pw[i,1] ) \n",
    "    #print('\\t')\n",
    "    #println( pw[i,2])\n",
    "end\n"
   ]
  },
  {
   "cell_type": "code",
   "execution_count": 6,
   "metadata": {
    "collapsed": false
   },
   "outputs": [
    {
     "ename": "LoadError",
     "evalue": "LoadError: UndefVarError: magic not defined\nwhile loading In[6], in expression starting on line 1",
     "output_type": "error",
     "traceback": [
      "LoadError: UndefVarError: magic not defined\nwhile loading In[6], in expression starting on line 1",
      ""
     ]
    }
   ],
   "source": [
    "magic"
   ]
  },
  {
   "cell_type": "code",
   "execution_count": null,
   "metadata": {
    "collapsed": true
   },
   "outputs": [],
   "source": []
  }
 ],
 "metadata": {
  "kernelspec": {
   "display_name": "Julia 0.4.5",
   "language": "julia",
   "name": "julia-0.4"
  },
  "language_info": {
   "file_extension": ".jl",
   "mimetype": "application/julia",
   "name": "julia",
   "version": "0.4.5"
  }
 },
 "nbformat": 4,
 "nbformat_minor": 0
}
