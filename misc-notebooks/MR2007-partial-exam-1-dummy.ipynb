{
 "cells": [
  {
   "cell_type": "code",
   "execution_count": 72,
   "metadata": {
    "collapsed": false
   },
   "outputs": [],
   "source": [
    "import numpy as np\n",
    "import sympy as sy\n",
    "import control.matlab as cm\n",
    "import matplotlib.pyplot as plt\n",
    "%matplotlib inline"
   ]
  },
  {
   "cell_type": "code",
   "execution_count": 20,
   "metadata": {
    "collapsed": false
   },
   "outputs": [],
   "source": [
    "s,z,h = sy.symbols('s, z, h')"
   ]
  },
  {
   "cell_type": "code",
   "execution_count": 6,
   "metadata": {
    "collapsed": false
   },
   "outputs": [
    {
     "data": {
      "text/plain": [
       "-2/(9*(s + 3)) + 2/(9*s) + 1/(3*s**2)"
      ]
     },
     "execution_count": 6,
     "metadata": {},
     "output_type": "execute_result"
    }
   ],
   "source": [
    "Y = (s+1)/(s*s*(s+3))\n",
    "sy.apart(Y)"
   ]
  },
  {
   "cell_type": "code",
   "execution_count": 24,
   "metadata": {
    "collapsed": false
   },
   "outputs": [
    {
     "name": "stdout",
     "output_type": "stream",
     "text": [
      "h/(3*z - 3) - (2*z - 2)/(9*z - 9*exp(-3*h)) + 2/9\n"
     ]
    }
   ],
   "source": [
    "H = sy.Integer(2)/sy.Integer(9) + h/(3*(z-1)) - 2*(z-1)/(9*(z-sy.exp(-3*h)))\n",
    "print H"
   ]
  },
  {
   "cell_type": "code",
   "execution_count": 25,
   "metadata": {
    "collapsed": false
   },
   "outputs": [
    {
     "name": "stdout",
     "output_type": "stream",
     "text": [
      "(3*h*(z*exp(3*h) - 1) - 2*(z - 1)**2*exp(3*h) + 2*(z - 1)*(z*exp(3*h) - 1))/(9*(z - 1)*(z*exp(3*h) - 1))\n"
     ]
    }
   ],
   "source": [
    "H = sy.together(H)\n",
    "print H"
   ]
  },
  {
   "cell_type": "code",
   "execution_count": 26,
   "metadata": {
    "collapsed": false
   },
   "outputs": [
    {
     "name": "stdout",
     "output_type": "stream",
     "text": [
      "3*h*(z*exp(3*h) - 1) - 2*(z - 1)**2*exp(3*h) + 2*(z - 1)*(z*exp(3*h) - 1)\n"
     ]
    }
   ],
   "source": [
    "(B,A) = sy.fraction(H)\n",
    "print B"
   ]
  },
  {
   "cell_type": "code",
   "execution_count": 27,
   "metadata": {
    "collapsed": false
   },
   "outputs": [
    {
     "data": {
      "text/plain": [
       "0"
      ]
     },
     "execution_count": 27,
     "metadata": {},
     "output_type": "execute_result"
    }
   ],
   "source": [
    "sy.simplify(B - sy.exp(3*h)*(2*(z-1)*(z-sy.exp(-3*h)) + 3*h*(z-sy.exp(-3*h)) - 2*(z-1)**2))"
   ]
  },
  {
   "cell_type": "code",
   "execution_count": 29,
   "metadata": {
    "collapsed": false
   },
   "outputs": [
    {
     "data": {
      "text/plain": [
       "0.23104906018664842"
      ]
     },
     "execution_count": 29,
     "metadata": {},
     "output_type": "execute_result"
    }
   ],
   "source": [
    "np.log(2)/3"
   ]
  },
  {
   "cell_type": "code",
   "execution_count": 33,
   "metadata": {
    "collapsed": false
   },
   "outputs": [
    {
     "name": "stdout",
     "output_type": "stream",
     "text": [
      "(3*h*(z*exp(3*h) - 1) - 2*(z - 1)**2*exp(3*h) + 2*(z - 1)*(z*exp(3*h) - 1))/(3*h*(z*exp(3*h) - 1) - 2*(z - 1)**2*exp(3*h) + 11*(z - 1)*(z*exp(3*h) - 1))\n"
     ]
    }
   ],
   "source": [
    "Hc = sy.simplify(H/(H+1))\n",
    "print Hc"
   ]
  },
  {
   "cell_type": "code",
   "execution_count": 39,
   "metadata": {
    "collapsed": false
   },
   "outputs": [
    {
     "name": "stdout",
     "output_type": "stream",
     "text": [
      "18*z**2 + z*(-25 + 2*log(2)) - log(2) + 7\n"
     ]
    }
   ],
   "source": [
    "Hc1 = Hc.subs(h, sy.log(2)/3)\n",
    "(Bc,Ac) = sy.fraction(Hc1)\n",
    "print sy.collect(sy.expand(Ac), z)"
   ]
  },
  {
   "cell_type": "code",
   "execution_count": 43,
   "metadata": {
    "collapsed": false
   },
   "outputs": [
    {
     "data": {
      "text/plain": [
       "9*z**2 - 12.5*z + z*log(2) - 0.5*log(2) + 3.5"
      ]
     },
     "execution_count": 43,
     "metadata": {},
     "output_type": "execute_result"
    }
   ],
   "source": [
    "sy.simplify(sy.expand( (11*z-11 +sy.log(2))*(z-0.5)-2*(z-1)**2) )"
   ]
  },
  {
   "cell_type": "code",
   "execution_count": 42,
   "metadata": {
    "collapsed": false
   },
   "outputs": [
    {
     "data": {
      "text/plain": [
       "18*z**2 - 25*z + 2*z*log(2) - log(2) + 7"
      ]
     },
     "execution_count": 42,
     "metadata": {},
     "output_type": "execute_result"
    }
   ],
   "source": [
    "sy.simplify(sy.expand( A + B)).subs(h, sy.log(2)/3)"
   ]
  },
  {
   "cell_type": "code",
   "execution_count": 44,
   "metadata": {
    "collapsed": false
   },
   "outputs": [
    {
     "data": {
      "text/plain": [
       "11.806852819440055"
      ]
     },
     "execution_count": 44,
     "metadata": {},
     "output_type": "execute_result"
    }
   ],
   "source": [
    "12.5-np.log(2)"
   ]
  },
  {
   "cell_type": "code",
   "execution_count": 45,
   "metadata": {
    "collapsed": false
   },
   "outputs": [
    {
     "data": {
      "text/plain": [
       "3.1534264097200273"
      ]
     },
     "execution_count": 45,
     "metadata": {},
     "output_type": "execute_result"
    }
   ],
   "source": [
    "3.5-np.log(2)/2"
   ]
  },
  {
   "cell_type": "code",
   "execution_count": 76,
   "metadata": {
    "collapsed": false
   },
   "outputs": [
    {
     "name": "stdout",
     "output_type": "stream",
     "text": [
      "Poly((2*log(2) + 2)*z - 2 - log(2), z, domain='EX')\n",
      "[2*log(2) + 2, -2 - log(2)]\n",
      "Poly(18*z**2 + (-25 + 2*log(2))*z - log(2) + 7, z, domain='EX')\n",
      "[18, -25 + 2*log(2), -log(2) + 7]\n",
      "[18.0, -23.61370563888011, 6.306852819440055]\n",
      "[3.386294361119891, -2.6931471805599454]\n",
      "\n",
      "     3.386 z - 2.693\n",
      "------------------------\n",
      "18 z^2 - 23.61 z + 6.307\n",
      "\n",
      "dt = 0.231049060187\n",
      "\n"
     ]
    },
    {
     "data": {
      "image/png": "[encoded data removed]",
      "text/plain": [
       "<matplotlib.figure.Figure at 0x7f9f87eaa910>"
      ]
     },
     "metadata": {},
     "output_type": "display_data"
    }
   ],
   "source": [
    "Bcp = sy.Poly(Bc, z)\n",
    "Acp = sy.Poly(Ac,z)\n",
    "a = []\n",
    "for el in Acp.coeffs():\n",
    "    a.append(float(sy.N(el)))\n",
    "print a\n",
    "b = []\n",
    "for el in Bcp.coeffs():\n",
    "    b.append(float(sy.N(el)))\n",
    "print b\n",
    "\n",
    "sys = cm.tf(b,a,np.log(2)/3.0)\n",
    "print sys\n",
    "Td = np.log(2)/3*np.arange(80)\n",
    "(yd,td) = cm.step(sys, Td)\n",
    "plt.plot(td,yd[0], '*')\n",
    "plt.xlim([0,20])\n",
    "plt.savefig(\"stepresponse.pdf\")"
   ]
  },
  {
   "cell_type": "code",
   "execution_count": 85,
   "metadata": {
    "collapsed": false
   },
   "outputs": [
    {
     "name": "stdout",
     "output_type": "stream",
     "text": [
      "[18.0, -27.0, 9.0]\n",
      "[2.0, 2.0, -1.0, -2.0]\n"
     ]
    },
    {
     "data": {
      "text/plain": [
       "(-1, 1)"
      ]
     },
     "execution_count": 85,
     "metadata": {},
     "output_type": "execute_result"
    },
    {
     "data": {
      "image/png": "[encoded data removed]",
      "text/plain": [
       "<matplotlib.figure.Figure at 0x7f9f87a00f90>"
      ]
     },
     "metadata": {},
     "output_type": "display_data"
    }
   ],
   "source": [
    "Bp = sy.Poly(B.subs(h, sy.log(2)/3))\n",
    "Ap = sy.Poly(A.subs(h, sy.log(2)/3))\n",
    "a = []\n",
    "for el in Ap.coeffs():\n",
    "    a.append(float(sy.N(el)))\n",
    "print a\n",
    "b = []\n",
    "for el in Bp.coeffs():\n",
    "    b.append(float(sy.N(el)))\n",
    "print b\n",
    "\n",
    "sys_o = cm.tf(b,a,np.log(2)/3.0)\n",
    "cm.nyquist(sys_o, np.linspace(0,2*np.pi, 800))\n",
    "plt.ylim(-2,2)\n",
    "plt.xlim(-1,1)"
   ]
  },
  {
   "cell_type": "code",
   "execution_count": 108,
   "metadata": {
    "collapsed": false
   },
   "outputs": [],
   "source": [
    "H1 = cm.tf([1],[1, -2.2, 1.4, -0.2], 0.5)\n",
    "H2 = cm.tf([1, 0],[1, -1.2, .2], 0.5)\n",
    "H3 = cm.tf([4, 1],[1, 1, .16], 1)\n",
    "H4 = cm.tf([0.25], [1, -1.5, 0.5])"
   ]
  },
  {
   "cell_type": "code",
   "execution_count": 99,
   "metadata": {
    "collapsed": false
   },
   "outputs": [
    {
     "data": {
      "text/plain": [
       "(-2, 2)"
      ]
     },
     "execution_count": 99,
     "metadata": {},
     "output_type": "execute_result"
    },
    {
     "data": {
      "image/png": "[encoded data removed]",
      "text/plain": [
       "<matplotlib.figure.Figure at 0x7f9f87734910>"
      ]
     },
     "metadata": {},
     "output_type": "display_data"
    }
   ],
   "source": [
    "cm.nyquist(H4, np.linspace(0,2*np.pi, 800))\n",
    "plt.ylim(-5,5)\n",
    "plt.xlim(-2,2)"
   ]
  },
  {
   "cell_type": "code",
   "execution_count": 112,
   "metadata": {
    "collapsed": false
   },
   "outputs": [
    {
     "data": {
      "image/png": "[encoded data removed]",
      "text/plain": [
       "<matplotlib.figure.Figure at 0x7f9f87869e90>"
      ]
     },
     "metadata": {},
     "output_type": "display_data"
    }
   ],
   "source": [
    "import khcontrol as khc\n",
    "\n",
    "z = np.exp(1j*np.linspace(0,np.pi, 800))\n",
    "zz = H4(z)\n",
    "(zr,zi) = khc.nyq(H4, 800)\n",
    "\n",
    "#nq = []\n",
    "#for w in np.linspace(0,2*np.pi, 200):\n",
    "#    #nq.append(H4(np.exp(1j*w)))\n",
    "#    nq.append(H4(1j*w))\n",
    "plt.figure()\n",
    "plt.plot(np.real(zz), np.imag(zz))\n",
    "plt.ylim(-5,2)\n",
    "plt.xlim(-2,1)\n",
    "xy = np.column_stack((np.real(zz),np.imag(zz)))\n",
    "np.savetxt('nyquist150907.out', xy)\n"
   ]
  },
  {
   "cell_type": "code",
   "execution_count": 104,
   "metadata": {
    "collapsed": false
   },
   "outputs": [
    {
     "data": {
      "text/plain": [
       "array([ 0.,  0.,  0.])"
      ]
     },
     "execution_count": 104,
     "metadata": {},
     "output_type": "execute_result"
    }
   ],
   "source": [
    "np.zeros(3)"
   ]
  },
  {
   "cell_type": "code",
   "execution_count": 114,
   "metadata": {
    "collapsed": false
   },
   "outputs": [
    {
     "data": {
      "text/plain": [
       "533.3333333333334"
      ]
     },
     "execution_count": 114,
     "metadata": {},
     "output_type": "execute_result"
    }
   ],
   "source": [
    "1600.0/3"
   ]
  },
  {
   "cell_type": "code",
   "execution_count": null,
   "metadata": {
    "collapsed": true
   },
   "outputs": [],
   "source": []
  }
 ],
 "metadata": {
  "kernelspec": {
   "display_name": "Python 2",
   "language": "python",
   "name": "python2"
  },
  "language_info": {
   "codemirror_mode": {
    "name": "ipython",
    "version": 2
   },
   "file_extension": ".py",
   "mimetype": "text/x-python",
   "name": "python",
   "nbconvert_exporter": "python",
   "pygments_lexer": "ipython2",
   "version": "2.7.6"
  }
 },
 "nbformat": 4,
 "nbformat_minor": 0
}
