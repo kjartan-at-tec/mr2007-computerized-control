{
 "cells": [
  {
   "cell_type": "code",
   "execution_count": 1,
   "metadata": {
    "collapsed": true
   },
   "outputs": [],
   "source": [
    "import numpy as np\n",
    "import sympy as sy\n",
    "import matplotlib.pyplot as plt\n",
    "import control.matlab as cm\n",
    "%matplotlib inline"
   ]
  },
  {
   "cell_type": "code",
   "execution_count": 2,
   "metadata": {
    "collapsed": false
   },
   "outputs": [
    {
     "data": {
      "text/plain": [
       "0.34657359027997264"
      ]
     },
     "execution_count": 2,
     "metadata": {},
     "output_type": "execute_result"
    }
   ],
   "source": [
    "np.log(2)/2.0"
   ]
  },
  {
   "cell_type": "code",
   "execution_count": 10,
   "metadata": {
    "collapsed": false
   },
   "outputs": [
    {
     "data": {
      "text/plain": [
       "\n",
       "1\n",
       "-\n",
       "z\n",
       "\n",
       "dt = 0.34657359028"
      ]
     },
     "execution_count": 10,
     "metadata": {},
     "output_type": "execute_result"
    }
   ],
   "source": [
    "Hc = cm.tf([1],[1, 0], np.log(2)/2.0)\n",
    "Hc"
   ]
  },
  {
   "cell_type": "code",
   "execution_count": 9,
   "metadata": {
    "collapsed": false
   },
   "outputs": [
    {
     "data": {
      "image/png": "[encoded data removed]",
      "text/plain": [
       "<matplotlib.figure.Figure at 0x7fe62d9b26d0>"
      ]
     },
     "metadata": {},
     "output_type": "display_data"
    }
   ],
   "source": [
    "Td = np.log(2)/2*np.arange(20)\n",
    "(yd,td) = cm.step(Hc, Td)\n",
    "plt.plot(td,yd[0], '*')\n",
    "plt.xlim([0,8])\n",
    "plt.ylim([0,1.4])\n",
    "plt.savefig(\"step-dead-beat.pdf\")"
   ]
  },
  {
   "cell_type": "code",
   "execution_count": 13,
   "metadata": {
    "collapsed": false
   },
   "outputs": [
    {
     "data": {
      "image/png": "[encoded data removed]",
      "text/plain": [
       "<matplotlib.figure.Figure at 0x7fe62d9aaad0>"
      ]
     },
     "metadata": {},
     "output_type": "display_data"
    }
   ],
   "source": [
    "b = (2-np.sqrt(2))/2.0\n",
    "a1 = -(3*np.sqrt(2)-2)/2.0\n",
    "a2 = (2*np.sqrt(2)-2)/2.0\n",
    "Hc2 = cm.tf([2*b, -b], [1, a1, a2], np.log(2)/4.0)\n",
    "Td2 = np.log(2)/4*np.arange(40)\n",
    "(yd2,td2) = cm.step(Hc2, Td2)\n",
    "plt.plot(td,yd[0], '*')\n",
    "plt.plot(td2,yd2[0], 'r*')\n",
    "plt.xlim([-0.2,8])\n",
    "plt.ylim([-0.2,1.4])\n",
    "plt.savefig(\"step-half-sampling-time.pdf\")"
   ]
  },
  {
   "cell_type": "code",
   "execution_count": 19,
   "metadata": {
    "collapsed": true
   },
   "outputs": [],
   "source": [
    "cm.feedback?"
   ]
  },
  {
   "cell_type": "code",
   "execution_count": 41,
   "metadata": {
    "collapsed": false
   },
   "outputs": [
    {
     "name": "stdout",
     "output_type": "stream",
     "text": [
      "\n",
      "   1.05 z - 0.525\n",
      "--------------------\n",
      "z^2 - 0.45 z - 0.025\n",
      "\n",
      "dt = 0.34657359028\n",
      "\n",
      "\n",
      "2.1 z^2 - 2.1 z + 0.525\n",
      "-----------------------\n",
      "  z^2 - 0.45 z - 0.025\n",
      "\n",
      "dt = 0.34657359028\n",
      "\n"
     ]
    }
   ],
   "source": [
    "H = cm.tf([0.5],[1, -0.5], np.log(2)/2.0)\n",
    "F = 1.05*cm.tf([2, -1],[1, -1], np.log(2)/2.0)\n",
    "FH = F*H\n",
    "Hcl = cm.feedback(FH)\n",
    "print Hcl\n",
    "Hcu = cm.feedback(F, H)\n",
    "print Hcu"
   ]
  },
  {
   "cell_type": "code",
   "execution_count": 42,
   "metadata": {
    "collapsed": false
   },
   "outputs": [
    {
     "data": {
      "image/png": "[encoded data removed]",
      "text/plain": [
       "<matplotlib.figure.Figure at 0x7fe62b413fd0>"
      ]
     },
     "metadata": {},
     "output_type": "display_data"
    }
   ],
   "source": [
    "Td = np.log(2)/2*np.arange(20)\n",
    "(yd,td) = cm.step(Hcl, Td)\n",
    "(ud,td) = cm.step(Hcu, Td)\n",
    "plt.plot(td,yd[0], '*')\n",
    "plt.plot(td,ud[0], 'r*')\n",
    "plt.xlim([-0.2,8])\n",
    "plt.ylim([-0.2,3.1])\n",
    "plt.savefig(\"step-dead-beat.pdf\")"
   ]
  },
  {
   "cell_type": "code",
   "execution_count": 22,
   "metadata": {
    "collapsed": false
   },
   "outputs": [
    {
     "data": {
      "text/plain": [
       "array([[ 2.,  1.,  1.,  1.,  1.,  1.,  1.,  1.,  1.,  1.,  1.,  1.,  1.,\n",
       "         1.,  1.,  1.,  1.,  1.,  1.,  1.]])"
      ]
     },
     "execution_count": 22,
     "metadata": {},
     "output_type": "execute_result"
    }
   ],
   "source": [
    "ud"
   ]
  },
  {
   "cell_type": "code",
   "execution_count": null,
   "metadata": {
    "collapsed": true
   },
   "outputs": [],
   "source": []
  }
 ],
 "metadata": {
  "kernelspec": {
   "display_name": "Python 2",
   "language": "python",
   "name": "python2"
  },
  "language_info": {
   "codemirror_mode": {
    "name": "ipython",
    "version": 2
   },
   "file_extension": ".py",
   "mimetype": "text/x-python",
   "name": "python",
   "nbconvert_exporter": "python",
   "pygments_lexer": "ipython2",
   "version": "2.7.6"
  }
 },
 "nbformat": 4,
 "nbformat_minor": 0
}
