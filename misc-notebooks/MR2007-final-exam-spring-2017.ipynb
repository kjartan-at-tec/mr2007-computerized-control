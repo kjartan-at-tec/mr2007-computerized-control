{
 "cells": [
  {
   "cell_type": "code",
   "execution_count": 2,
   "metadata": {
    "collapsed": true
   },
   "outputs": [],
   "source": [
    "import sympy as sy\n",
    "import numpy as np\n",
    "sy.init_printing(use_latex=True)"
   ]
  },
  {
   "cell_type": "markdown",
   "metadata": {},
   "source": [
    "## Problem 1\n",
    "### (a)\n",
    "Zero-order-hold sampling "
   ]
  },
  {
   "cell_type": "code",
   "execution_count": 6,
   "metadata": {
    "collapsed": false
   },
   "outputs": [
    {
     "data": {
      "image/png": "[encoded data removed]",
      "text/latex": [
       "$$\\frac{1}{2 s + 2} + \\frac{1}{2 s - 2} - \\frac{1}{s}$$"
      ],
      "text/plain": [
       "    1           1       1\n",
       "───────── + ───────── - ─\n",
       "2⋅(s + 1)   2⋅(s - 1)   s"
      ]
     },
     "execution_count": 6,
     "metadata": {},
     "output_type": "execute_result"
    }
   ],
   "source": [
    "s,z,h = sy.symbols('s,z,h')\n",
    "sy.apart(1/(s*(s+1)*(s-1)))\n",
    "\n",
    "\n"
   ]
  },
  {
   "cell_type": "code",
   "execution_count": 14,
   "metadata": {
    "collapsed": false
   },
   "outputs": [
    {
     "name": "stdout",
     "output_type": "stream",
     "text": [
      "(z + 1)*(0.5*exp(h) - 1 + 0.5*exp(-h))\n"
     ]
    }
   ],
   "source": [
    "\n",
    "num = (0.5 * (sy.exp(h) + sy.exp(-h)) - 1)*(z+1)\n",
    "den = (z**2 - (sy.exp(h) + sy.exp(-h))*z + 1)\n",
    "H = num/den\n",
    "print num"
   ]
  },
  {
   "cell_type": "code",
   "execution_count": 15,
   "metadata": {
    "collapsed": false
   },
   "outputs": [
    {
     "data": {
      "image/png": "[encoded data removed]",
      "text/latex": [
       "$$\\frac{0.00500416805580362 z + 0.00500416805580362}{z^{2} - 2.01000833611161 z + 1}$$"
      ],
      "text/plain": [
       "0.00500416805580362⋅(z + 1)\n",
       "───────────────────────────\n",
       " 2                         \n",
       "z  - 2.01000833611161⋅z + 1"
      ]
     },
     "execution_count": 15,
     "metadata": {},
     "output_type": "execute_result"
    }
   ],
   "source": [
    "H.subs(h, 0.1)"
   ]
  },
  {
   "cell_type": "markdown",
   "metadata": {},
   "source": [
    "### (b)\n",
    "Backward difference approximation of given continuous-time controller"
   ]
  },
  {
   "cell_type": "code",
   "execution_count": 36,
   "metadata": {
    "collapsed": false
   },
   "outputs": [
    {
     "name": "stdout",
     "output_type": "stream",
     "text": [
      "(h*z + 16*z - 16)/(h*z + 100*z - 100)\n"
     ]
    }
   ],
   "source": [
    "s,z = sy.symbols('s, z')\n",
    "h = sy.symbols('h', positive=True)\n",
    "F = (16*s+1)/(100*s+1)\n",
    "H = sy.simplify(F.subs(s, (z-1)/(z*h)))\n",
    "print H"
   ]
  },
  {
   "cell_type": "code",
   "execution_count": null,
   "metadata": {
    "collapsed": true
   },
   "outputs": [],
   "source": []
  },
  {
   "cell_type": "code",
   "execution_count": 6,
   "metadata": {
    "collapsed": false
   },
   "outputs": [],
   "source": [
    "p1,p2,p3,p4 = sy.symbols('p1, p2, p3, p4') \n",
    "\n",
    "sy.expand((z-0.7+sy.I*0.1)*(z-0.7-sy.I*0.1))\n"
   ]
  },
  {
   "cell_type": "markdown",
   "metadata": {},
   "source": [
    "## Problem 2\n",
    "Calculate the pulse transfer function from the disturbance d to the output y\n"
   ]
  },
  {
   "cell_type": "code",
   "execution_count": 10,
   "metadata": {
    "collapsed": false
   },
   "outputs": [
    {
     "data": {
      "image/png": "[encoded data removed]",
      "text/latex": [
       "$$\\frac{R \\left(0.6 z + 0.5\\right)}{R z \\left(z^{2} - 1.9 z + 0.9\\right) + S \\left(0.6 z + 0.5\\right)}$$"
      ],
      "text/plain": [
       "               R⋅(0.6⋅z + 0.5)                \n",
       "──────────────────────────────────────────────\n",
       "    ⎛ 2                    ⎞                  \n",
       "R⋅z⋅⎝z  - -1.9⋅(-1)⋅z + 0.9⎠ + S⋅(0.6⋅z + 0.5)"
      ]
     },
     "execution_count": 10,
     "metadata": {},
     "output_type": "execute_result"
    }
   ],
   "source": [
    "B = 0.6*z + 0.5\n",
    "A = z*(z**2 - 1.9*z + 0.9)\n",
    "S, R = sy.symbols('S, R')\n",
    "\n",
    "H_dy = (B/A) / (1 + (B/A)*(S/R))\n",
    "sy.simplify(H_dy)"
   ]
  },
  {
   "cell_type": "code",
   "execution_count": 13,
   "metadata": {
    "collapsed": false
   },
   "outputs": [
    {
     "name": "stdout",
     "output_type": "stream",
     "text": [
      "\\frac{R \\left(0.6 z + 0.5\\right)}{R z \\left(z^{2} - 1.9 z + 0.9\\right) + S \\left(0.6 z + 0.5\\right)}\n"
     ]
    }
   ],
   "source": [
    "H_dys = sy.simplify(H_dy)\n",
    "s=sy.latex(H_dys)\n",
    "print s"
   ]
  },
  {
   "cell_type": "markdown",
   "metadata": {},
   "source": [
    "## Problem 3\n",
    "Find the diagonal form of the system in problem 2, but without the time delay"
   ]
  },
  {
   "cell_type": "code",
   "execution_count": 18,
   "metadata": {
    "collapsed": false
   },
   "outputs": [
    {
     "data": {
      "image/png": "[encoded data removed]",
      "text/latex": [
       "$$- \\frac{10.4}{1.0 z - 0.9} + \\frac{11.0}{z - 1}$$"
      ],
      "text/plain": [
       "   -10.4⋅(-1)    11.0\n",
       "- ─────────── + ─────\n",
       "  1.0⋅z - 0.9   z - 1"
      ]
     },
     "execution_count": 18,
     "metadata": {},
     "output_type": "execute_result"
    }
   ],
   "source": [
    "H = sy.simplify(z*B/A)\n",
    "sy.apart(H)"
   ]
  },
  {
   "cell_type": "markdown",
   "metadata": {},
   "source": [
    "Set up the state-space model. Make sure it is correct."
   ]
  },
  {
   "cell_type": "code",
   "execution_count": 20,
   "metadata": {
    "collapsed": false
   },
   "outputs": [
    {
     "data": {
      "image/png": "[encoded data removed]",
      "text/latex": [
       "$$\\left[\\begin{matrix}- \\frac{10.4}{z - 0.9} + \\frac{11.0}{z - 1}\\end{matrix}\\right]$$"
      ],
      "text/plain": [
       "⎡  -10.4⋅(-1)    11.0⎤\n",
       "⎢- ────────── + ─────⎥\n",
       "⎣   z - 0.9     z - 1⎦"
      ]
     },
     "execution_count": 20,
     "metadata": {},
     "output_type": "execute_result"
    }
   ],
   "source": [
    "Phi = sy.Matrix([[0.9, 0], [0, 1]])\n",
    "Gamma = sy.Matrix([[1],[1]])\n",
    "Cm = sy.Matrix([[-10.4, 11.0]])\n",
    "\n",
    "Htest = Cm*(z*sy.eye(2)-Phi).inv()*Gamma\n",
    "Htest\n",
    "                "
   ]
  },
  {
   "cell_type": "code",
   "execution_count": 21,
   "metadata": {
    "collapsed": false
   },
   "outputs": [
    {
     "data": {
      "image/png": "[encoded data removed]",
      "text/latex": [
       "$$\\frac{0.6 z + 0.5}{z^{2} - 1.9 z + 0.9}$$"
      ],
      "text/plain": [
       "     0.6⋅z + 0.5      \n",
       "──────────────────────\n",
       " 2                    \n",
       "z  - -1.9⋅(-1)⋅z + 0.9"
      ]
     },
     "execution_count": 21,
     "metadata": {},
     "output_type": "execute_result"
    }
   ],
   "source": [
    "H"
   ]
  },
  {
   "cell_type": "markdown",
   "metadata": {},
   "source": [
    "### (c) Finding the feedback gain"
   ]
  },
  {
   "cell_type": "code",
   "execution_count": 26,
   "metadata": {
    "collapsed": false
   },
   "outputs": [
    {
     "data": {
      "image/png": "[encoded data removed]",
      "text/latex": [
       "$$1.0 \\left(- 1.0 l_{1} - 0.9 l_{2} + 1.0 z^{2} + z \\left(1.0 l_{1} + 1.0 l_{2} - 1.9\\right) + 0.9\\right)$$"
      ],
      "text/plain": [
       "    ⎛                              2                                  ⎞\n",
       "1.0⋅⎝-- -1.0⋅l₁ - - -0.9⋅l₂ + 1.0⋅z  + z⋅(1.0⋅l₁ + 1.0⋅l₂ - 1.9) + 0.9⎠"
      ]
     },
     "execution_count": 26,
     "metadata": {},
     "output_type": "execute_result"
    }
   ],
   "source": [
    "l1, l2 = sy.symbols('l1, l2')\n",
    "L = sy.Matrix([[l1, l2]])\n",
    "sy.factor((z*sy.eye(2) - (Phi - Gamma*L)).det(), z)"
   ]
  },
  {
   "cell_type": "code",
   "execution_count": 38,
   "metadata": {
    "collapsed": false
   },
   "outputs": [
    {
     "data": {
      "image/png": "[encoded data removed]",
      "text/latex": [
       "$$z^{2} - 1.2 z + 0.45$$"
      ],
      "text/plain": [
       " 2                     \n",
       "z  - -1.2⋅(-1)⋅z + 0.45"
      ]
     },
     "execution_count": 38,
     "metadata": {},
     "output_type": "execute_result"
    }
   ],
   "source": [
    "sy.simplify(sy.expand((z-0.6+sy.I*0.3)*(z-0.6-sy.I*0.3)))"
   ]
  },
  {
   "cell_type": "markdown",
   "metadata": {
    "collapsed": true
   },
   "source": [
    "# Check with matlab"
   ]
  },
  {
   "cell_type": "code",
   "execution_count": 1,
   "metadata": {
    "collapsed": false
   },
   "outputs": [
    {
     "name": "stdout",
     "output_type": "stream",
     "text": [
      "Starting MATLAB on ZMQ socket ipc:///tmp/pymatbridge-4d29d37c-5632-4ec9-913b-670fa8e16c20\n",
      "Send 'exit' command to kill the server\n",
      ".....MATLAB started and connected!\n"
     ]
    },
    {
     "name": "stderr",
     "output_type": "stream",
     "text": [
      "/home/kjartan/anaconda2/lib/python2.7/site-packages/IPython/nbformat.py:13: ShimWarning: The `IPython.nbformat` package has been deprecated. You should import from nbformat instead.\n",
      "  \"You should import from nbformat instead.\", ShimWarning)\n"
     ]
    }
   ],
   "source": [
    "%load_ext pymatbridge"
   ]
  },
  {
   "cell_type": "code",
   "execution_count": 23,
   "metadata": {
    "collapsed": false
   },
   "outputs": [
    {
     "data": {
      "image/png": "[encoded data removed]"
     },
     "metadata": {},
     "output_type": "display_data"
    }
   ],
   "source": [
    "%%matlab  --size 800,400\n",
    "\n",
    "%Mean arteriar pressure, automatic anasthesia model\n",
    "% Plant\n",
    "G = tf([1], [120 1 0]);\n",
    "\n",
    "a = 1/100;\n",
    "b = 1/160;\n",
    "F0 = zpk([-b], [-a], a/b);\n",
    "\n",
    "K = 1e-2;\n",
    "F = K*F0;\n",
    "\n",
    "Gc = feedback(G*F, 1);\n",
    "step(Gc, 1000)"
   ]
  },
  {
   "cell_type": "code",
   "execution_count": 30,
   "metadata": {
    "collapsed": false,
    "scrolled": false
   },
   "outputs": [],
   "source": [
    "%%matlab --size 800,400 -o L,y,t\n",
    "h = 40.0;\n",
    "Phi = [0.9 0; 0 1]; \n",
    "Gamma = [1;1]; \n",
    "C = [-10.4  11.0]; \n",
    "D = 0;\n",
    "sys = ss(Phi, Gamma, C, D, h);\n",
    "L = place(Phi, Gamma, [0.6+i*0.3 0.6-i*0.3]);\n",
    "sys_cl = ss(Phi-Gamma*L, Gamma, C, D, h);\n",
    "[y, t] = step(sys_cl);"
   ]
  },
  {
   "cell_type": "code",
   "execution_count": 34,
   "metadata": {
    "collapsed": false
   },
   "outputs": [
    {
     "data": {
      "text/plain": [
       "[<matplotlib.lines.Line2D at 0x7fcfdf6fe250>]"
      ]
     },
     "execution_count": 34,
     "metadata": {},
     "output_type": "execute_result"
    },
    {
     "data": {
      "image/png": "[encoded data removed]",
      "text/plain": [
       "<matplotlib.figure.Figure at 0x7fcfdf785810>"
      ]
     },
     "metadata": {},
     "output_type": "display_data"
    }
   ],
   "source": [
    "import matplotlib.pyplot as plt\n",
    "%matplotlib inline\n",
    "plt.figure()\n",
    "plt.plot(t, y)"
   ]
  },
  {
   "cell_type": "code",
   "execution_count": null,
   "metadata": {
    "collapsed": true
   },
   "outputs": [],
   "source": []
  },
  {
   "cell_type": "code",
   "execution_count": null,
   "metadata": {
    "collapsed": true
   },
   "outputs": [],
   "source": []
  }
 ],
 "metadata": {
  "kernelspec": {
   "display_name": "Python 2",
   "language": "python",
   "name": "python2"
  },
  "language_info": {
   "codemirror_mode": {
    "name": "ipython",
    "version": 2
   },
   "file_extension": ".py",
   "mimetype": "text/x-python",
   "name": "python",
   "nbconvert_exporter": "python",
   "pygments_lexer": "ipython2",
   "version": "2.7.13"
  }
 },
 "nbformat": 4,
 "nbformat_minor": 0
}
