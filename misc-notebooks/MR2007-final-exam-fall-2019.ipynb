{
 "cells": [
  {
   "cell_type": "markdown",
   "metadata": {},
   "source": [
    "## Final exam fall 2019\n",
    "Inverted pendulum\n"
   ]
  },
  {
   "cell_type": "code",
   "execution_count": 1,
   "metadata": {},
   "outputs": [],
   "source": [
    "import numpy as np\n",
    "import sympy as sy\n",
    "import control.matlab as cm\n",
    "sy.init_printing(use_latex='mathjax', order='lex')"
   ]
  },
  {
   "cell_type": "code",
   "execution_count": 2,
   "metadata": {},
   "outputs": [],
   "source": [
    "h,w0 = sy.symbols('h,omega0', real=True, positive=True)\n",
    "s,z = sy.symbols('s,z')\n",
    "t = sy.symbols('t', real=True)"
   ]
  },
  {
   "cell_type": "code",
   "execution_count": 3,
   "metadata": {},
   "outputs": [
    {
     "data": {
      "text/latex": [
       "$$\\frac{\\theta\\left(t\\right)}{2} e^{\\omega_{0} t} - \\theta\\left(t\\right) + \\frac{\\theta\\left(t\\right)}{2} e^{- \\omega_{0} t}$$"
      ],
      "text/plain": [
       " ω₀⋅t                                -ω₀⋅t             \n",
       "ℯ    ⋅Heaviside(t)                  ℯ     ⋅Heaviside(t)\n",
       "────────────────── - Heaviside(t) + ───────────────────\n",
       "        2                                    2         "
      ]
     },
     "execution_count": 3,
     "metadata": {},
     "output_type": "execute_result"
    }
   ],
   "source": [
    "# Zero-order hold sampling\n",
    "G = w0**2/(s**2 - w0**2)\n",
    "ystep = sy.inverse_laplace_transform(G/s, s, t)\n",
    "sy.expand(ystep)"
   ]
  },
  {
   "cell_type": "code",
   "execution_count": 4,
   "metadata": {},
   "outputs": [
    {
     "data": {
      "text/latex": [
       "$$\\frac{z e^{2 h \\omega_{0}} - 2 z e^{h \\omega_{0}} + z + e^{2 h \\omega_{0}} - 2 e^{h \\omega_{0}} + 1}{2 z^{2} e^{h \\omega_{0}} - 2 z e^{2 h \\omega_{0}} - 2 z + 2 e^{h \\omega_{0}}}$$"
      ],
      "text/plain": [
       "   2⋅h⋅ω₀        h⋅ω₀        2⋅h⋅ω₀      h⋅ω₀    \n",
       "z⋅ℯ       - 2⋅z⋅ℯ     + z + ℯ       - 2⋅ℯ     + 1\n",
       "─────────────────────────────────────────────────\n",
       "        2  h⋅ω₀        2⋅h⋅ω₀            h⋅ω₀    \n",
       "     2⋅z ⋅ℯ     - 2⋅z⋅ℯ       - 2⋅z + 2⋅ℯ        "
      ]
     },
     "execution_count": 4,
     "metadata": {},
     "output_type": "execute_result"
    }
   ],
   "source": [
    "Yz = w0**2/(2*w0**2) * ( z/(z-sy.exp(w0*h)) - 2*z/(z-1) + z/(z-sy.exp(-w0*h)))\n",
    "Uz = z/(z-1)\n",
    "H = sy.simplify(Yz/Uz)\n",
    "sy.cancel(H)"
   ]
  },
  {
   "cell_type": "code",
   "execution_count": 5,
   "metadata": {},
   "outputs": [
    {
     "data": {
      "text/latex": [
       "$$2 z^{2} e^{h \\omega_{0}} - 2 z e^{2 h \\omega_{0}} - 2 z + 2 e^{h \\omega_{0}}$$"
      ],
      "text/plain": [
       "   2  h⋅ω₀        2⋅h⋅ω₀            h⋅ω₀\n",
       "2⋅z ⋅ℯ     - 2⋅z⋅ℯ       - 2⋅z + 2⋅ℯ    "
      ]
     },
     "execution_count": 5,
     "metadata": {},
     "output_type": "execute_result"
    }
   ],
   "source": [
    "num, den = sy.fraction(sy.cancel(H))\n",
    "den"
   ]
  },
  {
   "cell_type": "code",
   "execution_count": 6,
   "metadata": {},
   "outputs": [
    {
     "data": {
      "text/latex": [
       "$$\\left ( z^{2} - z e^{h \\omega_{0}} - \\frac{z}{e^{h \\omega_{0}}} + 1, \\quad \\frac{z}{2} e^{h \\omega_{0}} - z + \\frac{z}{2 e^{h \\omega_{0}}} + \\frac{e^{h \\omega_{0}}}{2} - 1 + \\frac{1}{2 e^{h \\omega_{0}}}\\right )$$"
      ],
      "text/plain": [
       "⎛                                h⋅ω₀          -h⋅ω₀    h⋅ω₀        -h⋅ω₀⎞\n",
       "⎜ 2      h⋅ω₀      -h⋅ω₀      z⋅ℯ           z⋅ℯ        ℯ           ℯ     ⎟\n",
       "⎜z  - z⋅ℯ     - z⋅ℯ      + 1, ─────── - z + ──────── + ───── - 1 + ──────⎟\n",
       "⎝                                2             2         2           2   ⎠"
      ]
     },
     "execution_count": 6,
     "metadata": {},
     "output_type": "execute_result"
    }
   ],
   "source": [
    "num = sy.simplify(num/(2*sy.exp(h*w0)))\n",
    "den = sy.simplify(den/(2*sy.exp(h*w0)))\n",
    "den, num"
   ]
  },
  {
   "cell_type": "code",
   "execution_count": 7,
   "metadata": {},
   "outputs": [
    {
     "data": {
      "text/latex": [
       "$$\\left ( \\left [ 1, \\quad \\frac{1}{e^{h \\omega_{0}}} \\left(- e^{2 h \\omega_{0}} - 1\\right), \\quad 1\\right ], \\quad \\left [ \\frac{1}{2 e^{h \\omega_{0}}} \\left(e^{2 h \\omega_{0}} - 2 e^{h \\omega_{0}} + 1\\right), \\quad \\frac{1}{2 e^{h \\omega_{0}}} \\left(e^{2 h \\omega_{0}} - 2 e^{h \\omega_{0}} + 1\\right)\\right ]\\right )$$"
      ],
      "text/plain": [
       "⎛                                ⎡⎛ 2⋅h⋅ω₀      h⋅ω₀    ⎞  -h⋅ω₀  ⎛ 2⋅h⋅ω₀    \n",
       "⎜⎡   ⎛   2⋅h⋅ω₀    ⎞  -h⋅ω₀   ⎤  ⎢⎝ℯ       - 2⋅ℯ     + 1⎠⋅ℯ       ⎝ℯ       - 2\n",
       "⎜⎣1, ⎝- ℯ       - 1⎠⋅ℯ     , 1⎦, ⎢──────────────────────────────, ────────────\n",
       "⎝                                ⎣              2                             \n",
       "\n",
       "  h⋅ω₀    ⎞  -h⋅ω₀⎤⎞\n",
       "⋅ℯ     + 1⎠⋅ℯ     ⎥⎟\n",
       "──────────────────⎥⎟\n",
       "  2               ⎦⎠"
      ]
     },
     "execution_count": 7,
     "metadata": {},
     "output_type": "execute_result"
    }
   ],
   "source": [
    "# Coefficients\n",
    "dencoeffs = sy.Poly(den, z).all_coeffs()\n",
    "numcoeffs = sy.Poly(num, z).all_coeffs()\n",
    "dencoeffs, numcoeffs"
   ]
  },
  {
   "cell_type": "code",
   "execution_count": 8,
   "metadata": {},
   "outputs": [
    {
     "data": {
      "text/latex": [
       "$$\\left ( \\frac{z e^{2 h \\omega_{0}} - 2 z e^{h \\omega_{0}} + z + e^{2 h \\omega_{0}} - 2 e^{h \\omega_{0}} + 1}{2 z^{2} e^{h \\omega_{0}} - 2 z e^{2 h \\omega_{0}} - 2 z + 2 e^{h \\omega_{0}}}, \\quad \\frac{z e^{2 h \\omega_{0}} - 2 z e^{h \\omega_{0}} + z + e^{2 h \\omega_{0}} - 2 e^{h \\omega_{0}} + 1}{2 \\left(z^{2} - 2 z \\cosh{\\left (h \\omega_{0} \\right )} + 1\\right) e^{h \\omega_{0}}}\\right )$$"
      ],
      "text/plain": [
       "⎛   2⋅h⋅ω₀        h⋅ω₀        2⋅h⋅ω₀      h⋅ω₀      ⎛   2⋅h⋅ω₀        h⋅ω₀    \n",
       "⎜z⋅ℯ       - 2⋅z⋅ℯ     + z + ℯ       - 2⋅ℯ     + 1  ⎝z⋅ℯ       - 2⋅z⋅ℯ     + z\n",
       "⎜─────────────────────────────────────────────────, ──────────────────────────\n",
       "⎜        2  h⋅ω₀        2⋅h⋅ω₀            h⋅ω₀                       ⎛ 2      \n",
       "⎝     2⋅z ⋅ℯ     - 2⋅z⋅ℯ       - 2⋅z + 2⋅ℯ                         2⋅⎝z  - 2⋅z\n",
       "\n",
       "    2⋅h⋅ω₀      h⋅ω₀    ⎞  -h⋅ω₀⎞\n",
       " + ℯ       - 2⋅ℯ     + 1⎠⋅ℯ     ⎟\n",
       "────────────────────────────────⎟\n",
       "               ⎞                ⎟\n",
       "⋅cosh(h⋅ω₀) + 1⎠                ⎠"
      ]
     },
     "execution_count": 8,
     "metadata": {},
     "output_type": "execute_result"
    }
   ],
   "source": [
    "# Observable canonical form\n",
    "Phi = sy.simplify(sy.Matrix([[-dencoeffs[1], 1],[-dencoeffs[2], 0]]))\n",
    "Gamma2 = sy.trigsimp(sy.cancel(sy.Matrix([[numcoeffs[0]],[numcoeffs[1]]])))\n",
    "C = sy.Matrix([[1, 0]])\n",
    "Htest = sy.simplify(C*(z*sy.eye(2)-Phi).inv()*Gamma2)\n",
    "sy.cancel(H), Htest[0]"
   ]
  },
  {
   "cell_type": "code",
   "execution_count": 9,
   "metadata": {},
   "outputs": [
    {
     "data": {
      "text/latex": [
       "$$\\left ( \\left[\\begin{matrix}2 \\cosh{\\left (h \\omega_{0} \\right )} & 1\\\\-1 & 0\\end{matrix}\\right], \\quad \\left[\\begin{matrix}\\frac{1}{2 e^{h \\omega_{0}}} \\left(e^{2 h \\omega_{0}} - 2 e^{h \\omega_{0}} + 1\\right)\\\\\\frac{1}{2 e^{h \\omega_{0}}} \\left(e^{2 h \\omega_{0}} - 2 e^{h \\omega_{0}} + 1\\right)\\end{matrix}\\right]\\right )$$"
      ],
      "text/plain": [
       "⎛                   ⎡⎛ 2⋅h⋅ω₀      h⋅ω₀    ⎞  -h⋅ω₀⎤⎞\n",
       "⎜                   ⎢⎝ℯ       - 2⋅ℯ     + 1⎠⋅ℯ     ⎥⎟\n",
       "⎜⎡2⋅cosh(h⋅ω₀)  1⎤, ⎢──────────────────────────────⎥⎟\n",
       "⎜⎢               ⎥  ⎢              2               ⎥⎟\n",
       "⎜⎣     -1       0⎦  ⎢                              ⎥⎟\n",
       "⎜                   ⎢⎛ 2⋅h⋅ω₀      h⋅ω₀    ⎞  -h⋅ω₀⎥⎟\n",
       "⎜                   ⎢⎝ℯ       - 2⋅ℯ     + 1⎠⋅ℯ     ⎥⎟\n",
       "⎜                   ⎢──────────────────────────────⎥⎟\n",
       "⎝                   ⎣              2               ⎦⎠"
      ]
     },
     "execution_count": 9,
     "metadata": {},
     "output_type": "execute_result"
    }
   ],
   "source": [
    "Phi, Gamma2"
   ]
  },
  {
   "cell_type": "code",
   "execution_count": 10,
   "metadata": {},
   "outputs": [
    {
     "data": {
      "text/latex": [
       "$$\\left[\\begin{matrix}0\\\\0\\end{matrix}\\right]$$"
      ],
      "text/plain": [
       "⎡0⎤\n",
       "⎢ ⎥\n",
       "⎣0⎦"
      ]
     },
     "execution_count": 10,
     "metadata": {},
     "output_type": "execute_result"
    }
   ],
   "source": [
    "Gamma = sy.Matrix([[sy.cosh(h*w0)-1],[sy.cosh(h*w0)-1]])\n",
    "sy.simplify(Gamma2-Gamma)"
   ]
  },
  {
   "cell_type": "code",
   "execution_count": 11,
   "metadata": {},
   "outputs": [
    {
     "data": {
      "text/latex": [
       "$$\\left ( \\left[\\begin{matrix}2 \\cosh{\\left (h \\omega_{0} \\right )} & 1\\\\-1 & 0\\end{matrix}\\right], \\quad \\left[\\begin{matrix}\\cosh{\\left (h \\omega_{0} \\right )} - 1\\\\\\cosh{\\left (h \\omega_{0} \\right )} - 1\\end{matrix}\\right]\\right )$$"
      ],
      "text/plain": [
       "⎛⎡2⋅cosh(h⋅ω₀)  1⎤, ⎡cosh(h⋅ω₀) - 1⎤⎞\n",
       "⎜⎢               ⎥  ⎢              ⎥⎟\n",
       "⎝⎣     -1       0⎦  ⎣cosh(h⋅ω₀) - 1⎦⎠"
      ]
     },
     "execution_count": 11,
     "metadata": {},
     "output_type": "execute_result"
    }
   ],
   "source": [
    "Phi,Gamma"
   ]
  },
  {
   "cell_type": "code",
   "execution_count": 12,
   "metadata": {},
   "outputs": [
    {
     "data": {
      "text/plain": [
       "(array([[ 2.04013351,  1.        ],\n",
       "        [-1.        ,  0.        ]]), array([[0.02006676],\n",
       "        [0.02006676]]))"
      ]
     },
     "execution_count": 12,
     "metadata": {},
     "output_type": "execute_result"
    }
   ],
   "source": [
    "# Some numerical values\n",
    "w0n = 1.0\n",
    "hn = 0.2/w0n\n",
    "Phi_n = np.asarray(Phi.subs({w0:w0n, h:hn})).astype(np.float64)\n",
    "Gamma_n = np.asarray(Gamma.subs({w0:w0n, h:hn})).astype(np.float64)\n",
    "Phi_n, Gamma_n"
   ]
  },
  {
   "cell_type": "code",
   "execution_count": 13,
   "metadata": {},
   "outputs": [
    {
     "data": {
      "text/plain": [
       "array([1.22140276, 0.81873075])"
      ]
     },
     "execution_count": 13,
     "metadata": {},
     "output_type": "execute_result"
    }
   ],
   "source": [
    "C = np.array([1., 0])\n",
    "D = np.array([[0]])\n",
    "sys = cm.ss(Phi_n, Gamma_n, C, D, hn)\n",
    "cm.pole(sys)"
   ]
  },
  {
   "cell_type": "code",
   "execution_count": 14,
   "metadata": {},
   "outputs": [
    {
     "data": {
      "text/plain": [
       "matrix([[19.43797021, 15.42035131]])"
      ]
     },
     "execution_count": 14,
     "metadata": {},
     "output_type": "execute_result"
    }
   ],
   "source": [
    "# Desired poles: double pole in -2w0 (continuous time)\n",
    "pd = np.exp(-2*w0n*hn)\n",
    "L = cm.acker(A=Phi_n, B=Gamma_n,poles = [pd,pd])\n",
    "L"
   ]
  },
  {
   "cell_type": "code",
   "execution_count": 15,
   "metadata": {},
   "outputs": [
    {
     "data": {
      "text/plain": [
       "(array([0.67893191+0.07235727j, 0.67893191-0.07235727j]),\n",
       " array([[-0.57809328-0.04268582j, -0.57809328+0.04268582j],\n",
       "        [ 0.81485341+0.j        ,  0.81485341-0.j        ]]))"
      ]
     },
     "execution_count": 15,
     "metadata": {},
     "output_type": "execute_result"
    }
   ],
   "source": [
    "L2 = np.array([[19,15]])\n",
    "np.linalg.eig(Phi_n - np.dot(Gamma_n, L2))"
   ]
  },
  {
   "cell_type": "code",
   "execution_count": 16,
   "metadata": {},
   "outputs": [
    {
     "data": {
      "text/plain": [
       "array(0.37050778)"
      ]
     },
     "execution_count": 16,
     "metadata": {},
     "output_type": "execute_result"
    }
   ],
   "source": [
    "# Closed-loop system\n",
    "Phic = Phi_n - np.dot(Gamma_n, L2)\n",
    "sys_c = cm.ss(Phic, Gamma_n, C, D, hn)\n",
    "# Steady-state solution\n",
    "cm.dcgain(sys_c)"
   ]
  },
  {
   "cell_type": "code",
   "execution_count": 17,
   "metadata": {},
   "outputs": [],
   "source": [
    "l0=1/0.3705"
   ]
  },
  {
   "cell_type": "code",
   "execution_count": 18,
   "metadata": {},
   "outputs": [
    {
     "data": {
      "text/plain": [
       "[<matplotlib.lines.Line2D at 0x7feee2787ac8>]"
      ]
     },
     "execution_count": 18,
     "metadata": {},
     "output_type": "execute_result"
    },
    {
     "data": {
      "image/png": "[encoded data removed]",
      "text/plain": [
       "<Figure size 936x288 with 1 Axes>"
      ]
     },
     "metadata": {},
     "output_type": "display_data"
    }
   ],
   "source": [
    "import matplotlib.pyplot as plt\n",
    "tvec = np.arange(0,40)*hn\n",
    "yout, tout =  cm.step(sys_c*2.7, tvec)\n",
    "plt.figure(figsize=(13,4))\n",
    "plt.plot(tout, yout)"
   ]
  },
  {
   "cell_type": "code",
   "execution_count": 19,
   "metadata": {},
   "outputs": [
    {
     "data": {
      "text/plain": [
       "\n",
       "  0.05418 z + 0.05418\n",
       "----------------------\n",
       "z^2 - 1.358 z + 0.4662\n",
       "\n",
       "dt = 0.2"
      ]
     },
     "execution_count": 19,
     "metadata": {},
     "output_type": "execute_result"
    }
   ],
   "source": [
    "cm.tf(sys_c*2.7)"
   ]
  },
  {
   "cell_type": "code",
   "execution_count": 20,
   "metadata": {},
   "outputs": [
    {
     "data": {
      "text/plain": [
       "array([0.67893191+0.07235727j, 0.67893191-0.07235727j])"
      ]
     },
     "execution_count": 20,
     "metadata": {},
     "output_type": "execute_result"
    }
   ],
   "source": [
    "cm.pole(sys_c)"
   ]
  },
  {
   "cell_type": "code",
   "execution_count": 21,
   "metadata": {},
   "outputs": [
    {
     "data": {
      "text/plain": [
       "matrix([[ 2.04013351],\n",
       "        [-1.        ]])"
      ]
     },
     "execution_count": 21,
     "metadata": {},
     "output_type": "execute_result"
    }
   ],
   "source": [
    "# Finding the deadbeat observer\n",
    "CT = C.copy()\n",
    "CT.shape = (2,1)\n",
    "KT = cm.acker(Phi_n.T, CT, [0,0])\n",
    "K = KT.T\n",
    "K"
   ]
  },
  {
   "cell_type": "code",
   "execution_count": 22,
   "metadata": {},
   "outputs": [
    {
     "data": {
      "text/plain": [
       "array([0., 0.])"
      ]
     },
     "execution_count": 22,
     "metadata": {},
     "output_type": "execute_result"
    }
   ],
   "source": [
    "# Verify\n",
    "sys_o = cm.ss(Phi_n - np.dot(K, CT.T), Gamma_n, C, D, hn)\n",
    "cm.pole(sys_o)"
   ]
  },
  {
   "cell_type": "markdown",
   "metadata": {},
   "source": [
    "### From output feedback with observer to 2dof controller"
   ]
  },
  {
   "cell_type": "code",
   "execution_count": 23,
   "metadata": {},
   "outputs": [],
   "source": [
    "D_o = np.array([[l0, 0]])\n",
    "sys_o = cm.ss(Phi_n - np.dot(K, CT.T)-np.dot(L2, Gamma_n), \n",
    "              np.hstack((l0*Gamma_n,K)), -L, D_o, hn)"
   ]
  },
  {
   "cell_type": "code",
   "execution_count": 24,
   "metadata": {},
   "outputs": [
    {
     "data": {
      "text/plain": [
       "\n",
       "Input 1 to output 1:\n",
       "2.699 z^2 + 1.795 z + 0.7887\n",
       "----------------------------\n",
       "   z^2 + 1.365 z + 0.6823\n",
       "\n",
       "Input 2 to output 1:\n",
       "    -24.24 z + 11.1\n",
       "----------------------\n",
       "z^2 + 1.365 z + 0.6823\n",
       "\n",
       "dt = 0.2"
      ]
     },
     "execution_count": 24,
     "metadata": {},
     "output_type": "execute_result"
    }
   ],
   "source": [
    "cm.tf(sys_o)"
   ]
  },
  {
   "cell_type": "code",
   "execution_count": 25,
   "metadata": {},
   "outputs": [
    {
     "data": {
      "text/plain": [
       "matrix([[ 2.04013351],\n",
       "        [-1.        ]])"
      ]
     },
     "execution_count": 25,
     "metadata": {},
     "output_type": "execute_result"
    }
   ],
   "source": [
    "K"
   ]
  },
  {
   "cell_type": "code",
   "execution_count": 26,
   "metadata": {},
   "outputs": [
    {
     "data": {
      "text/plain": [
       "matrix([[ 0.05416128,  2.04013351],\n",
       "        [ 0.05416128, -1.        ]])"
      ]
     },
     "execution_count": 26,
     "metadata": {},
     "output_type": "execute_result"
    }
   ],
   "source": [
    "np.hstack((l0*Gamma_n, K))"
   ]
  },
  {
   "cell_type": "code",
   "execution_count": null,
   "metadata": {},
   "outputs": [],
   "source": []
  }
 ],
 "metadata": {
  "kernelspec": {
   "display_name": "Python 3",
   "language": "python",
   "name": "python3"
  },
  "language_info": {
   "codemirror_mode": {
    "name": "ipython",
    "version": 3
   },
   "file_extension": ".py",
   "mimetype": "text/x-python",
   "name": "python",
   "nbconvert_exporter": "python",
   "pygments_lexer": "ipython3",
   "version": "3.5.2"
  }
 },
 "nbformat": 4,
 "nbformat_minor": 2
}
