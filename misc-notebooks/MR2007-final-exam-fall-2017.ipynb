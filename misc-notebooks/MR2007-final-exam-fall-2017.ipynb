{
 "cells": [
  {
   "cell_type": "code",
   "execution_count": 1,
   "metadata": {
    "collapsed": true
   },
   "outputs": [],
   "source": [
    "import numpy as np\n",
    "import sympy as sy"
   ]
  },
  {
   "cell_type": "code",
   "execution_count": 2,
   "metadata": {
    "collapsed": true
   },
   "outputs": [],
   "source": [
    "s,z = sy.symbols('s,z', real=False)\n",
    "l_1, l_2 = sy.symbols('l1, l2')"
   ]
  },
  {
   "cell_type": "code",
   "execution_count": 3,
   "metadata": {},
   "outputs": [
    {
     "data": {
      "text/plain": [
       "Matrix([\n",
       "[0.13*l1 + z - 1.13,     0.13*l2 - 0.52],\n",
       "[    0.52*l1 - 0.52, 0.52*l2 + z - 1.13]])"
      ]
     },
     "execution_count": 3,
     "metadata": {},
     "output_type": "execute_result"
    }
   ],
   "source": [
    "Phi = sy.Matrix([[1.13, 0.52], [0.52, 1.13]])\n",
    "Gamma = sy.Matrix([[0.13],[0.52]])\n",
    "L = sy.Matrix([[l_1, l_2]])\n",
    "\n",
    "M = z*sy.Matrix.eye(2) - (Phi - Gamma*L)\n",
    "M"
   ]
  },
  {
   "cell_type": "code",
   "execution_count": 6,
   "metadata": {},
   "outputs": [
    {
     "data": {
      "text/plain": [
       "Poly(1.0*z**2 + (0.13*l1 + 0.52*l2 - 2.26)*z + 0.1235*l1 - 0.52*l2 + 1.0065, z, domain='RR[l1,l2]')"
      ]
     },
     "execution_count": 6,
     "metadata": {},
     "output_type": "execute_result"
    }
   ],
   "source": [
    "chPoly = sy.poly(M.det(), z)\n",
    "chPoly"
   ]
  },
  {
   "cell_type": "code",
   "execution_count": 9,
   "metadata": {},
   "outputs": [],
   "source": [
    "chDesired = sy.simplify(sy.expand((z-np.exp(-0.5))**2))\n",
    "\n",
    "sol = sy.solve((chPoly - chDesired).coeffs(), [l_1, l_2])"
   ]
  },
  {
   "cell_type": "code",
   "execution_count": 10,
   "metadata": {},
   "outputs": [
    {
     "data": {
      "text/plain": [
       "{l1: 1.61072237375216, l2: 1.61066302305182}"
      ]
     },
     "execution_count": 10,
     "metadata": {},
     "output_type": "execute_result"
    }
   ],
   "source": [
    "sol"
   ]
  },
  {
   "cell_type": "code",
   "execution_count": null,
   "metadata": {
    "collapsed": true
   },
   "outputs": [],
   "source": []
  }
 ],
 "metadata": {
  "kernelspec": {
   "display_name": "Python 2",
   "language": "python",
   "name": "python2"
  },
  "language_info": {
   "codemirror_mode": {
    "name": "ipython",
    "version": 2
   },
   "file_extension": ".py",
   "mimetype": "text/x-python",
   "name": "python",
   "nbconvert_exporter": "python",
   "pygments_lexer": "ipython2",
   "version": "2.7.14"
  }
 },
 "nbformat": 4,
 "nbformat_minor": 1
}
