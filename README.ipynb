{
 "cells": [
  {
   "cell_type": "markdown",
   "metadata": {},
   "source": [
    "# Computerized control MR2007\n",
    "Welcome to the interactive learning material for the computerized control course!\n",
    "\n",
    "The material is divided into topics corresponding to the topics discussed in class. For each topic there are notebooks explaining concepts and providing examples that you can try out for your self.\n",
    "\n",
    "## Modules\n",
    "1. [Introduction](introduction/README-Introduction.ipynb) to computer-controlled systems. With a [refresher on continuous-time control](introduction/README-Background.ipynb) and other relevant concepts you have seen in earlier courses.\n",
    "2. [Discrete-time systems](discrete-time-systems/README-Discrete-time-systems.ipynb) How to obtain a discrete-time model. Analysis of discrete-time systems.\n",
    "3. [Polynomial design](rst-design/README-RST-design.ipynb) Polynomial approach to pole-placement.\n",
    "4. [Discrete PID control](discrete-pid/README-Discrete-PID.ipynb) Discretization of continuous-time PID (and other) controllers.\n",
    "5. [State-space design](state-space-design/README-State-space.ipynb) Pole-placement based on state-space models\n",
    "6. [System identification](./notebooks/README-System-identification.ipynb)\n",
    "7. [Implementation](implementation/README-Implementation.ipynb) Practical aspects of implementing a computer-controlled system.\n",
    "\n",
    "## Text books\n",
    "\n",
    "## Good to watch\n",
    "- [Introduction to Jupyter](https://www.youtube.com/watch?v=Rc4JQWowG5I) If you are new to the Jupyter notebook.\n",
    "- [Intro to Python](https://www.youtube.com/watch?v=husPzLE6sZc&list=PLJR1V_NHIKrCkswPMULzQFHpYa57ZFGbs&index=1) Khan Academy videos.\n",
    "- [Introduction to Numpy](https://www.youtube.com/watch?v=1zmV8lZsHF4) Python with the numpy module can do (almost) all that matlab can do.\n",
    "\n",
    "## Good to read\n",
    "- [Installing Jupyter notebook](http://jupyter.readthedocs.io/en/latest/install.html) If you want to run things locally.\n"
   ]
  },
  {
   "cell_type": "code",
   "execution_count": null,
   "metadata": {
    "collapsed": true
   },
   "outputs": [],
   "source": []
  }
 ],
 "metadata": {
  "kernelspec": {
   "display_name": "Python 2",
   "language": "python",
   "name": "python2"
  },
  "language_info": {
   "codemirror_mode": {
    "name": "ipython",
    "version": 2
   },
   "file_extension": ".py",
   "mimetype": "text/x-python",
   "name": "python",
   "nbconvert_exporter": "python",
   "pygments_lexer": "ipython2",
   "version": "2.7.12"
  }
 },
 "nbformat": 4,
 "nbformat_minor": 1
}
